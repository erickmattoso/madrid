{
 "cells": [
  {
   "cell_type": "code",
   "execution_count": 1,
   "id": "f2a9f0c1",
   "metadata": {},
   "outputs": [],
   "source": [
    "#!/usr/bin/env python\n",
    "# coding: utf-8\n",
    "import plotly.offline as offline\n",
    "import plotly.graph_objects as go\n",
    "import pandas as pd\n",
    "import osmnx as ox\n",
    "import os\n",
    "import numpy as np\n",
    "import networkx as nx\n",
    "import math\n",
    "import glob\n",
    "import geopandas as gpd\n",
    "import geocoder\n",
    "import folium\n",
    "import csv\n",
    "import argparse\n",
    "from webdriver_manager.chrome import ChromeDriverManager\n",
    "from time import sleep\n",
    "from selenium import webdriver\n",
    "from plotly.graph_objs import *\n",
    "from ortools.constraint_solver import routing_enums_pb2\n",
    "from ortools.constraint_solver import pywrapcp\n",
    "from bs4 import BeautifulSoup"
   ]
  },
  {
   "cell_type": "code",
   "execution_count": 2,
   "id": "0493e17c",
   "metadata": {},
   "outputs": [],
   "source": [
    "# functions\n",
    "def parseCSV(filename):\n",
    "    places = list(csv.DictReader(open(filename, newline=\"\")))\n",
    "    return places\n",
    "\n",
    "\n",
    "def extractCoords(input):\n",
    "    coords = []\n",
    "    for item in input:\n",
    "        coords.append((float(item[\"lat\"]), float(item[\"lng\"])))\n",
    "    return coords\n",
    "\n",
    "\n",
    "def compute_euclidean_distance_matrix(locations):\n",
    "    size = len(locations)\n",
    "    distances = [[0 for x in range(size)] for y in range(size)]\n",
    "    scalar = 10000\n",
    "    for from_counter, from_node in enumerate(locations):\n",
    "        for to_counter, to_node in enumerate(locations):\n",
    "            if from_counter == to_counter:\n",
    "                distances[from_counter][to_counter] = 0\n",
    "            else:\n",
    "                x_d = (from_node[0] - to_node[0])*scalar\n",
    "                y_d = (from_node[1] - to_node[1])*scalar\n",
    "                distances[from_counter][to_counter] = int(math.hypot(x_d, y_d))\n",
    "    return distances\n",
    "\n",
    "\n",
    "def create_data_model(csvfile):\n",
    "    places = parseCSV(csvfile)\n",
    "    coords = extractCoords(places)\n",
    "    distancem = compute_euclidean_distance_matrix(coords)\n",
    "    data = {}\n",
    "    data[\"places\"] = places\n",
    "    data[\"distance_matrix\"] = distancem\n",
    "    data[\"num_vehicles\"] = 1\n",
    "    data[\"depot\"] = 0\n",
    "    return data\n",
    "\n",
    "\n",
    "def print_solution_gmaps(manager, routing, assignment, data, val=[]):\n",
    "    index = routing.Start(0)\n",
    "    while not routing.IsEnd(index):\n",
    "        previous_index = index\n",
    "        index = assignment.Value(routing.NextVar(index))\n",
    "        list_lat = data[\"places\"][manager.IndexToNode(index)][\"lat\"]\n",
    "        list_long = data[\"places\"][manager.IndexToNode(index)][\"lng\"]\n",
    "        list_title = data[\"places\"][manager.IndexToNode(index)][\"title\"]\n",
    "#         list_price = data[\"places\"][manager.IndexToNode(index)][\"price\"]\n",
    "        val.append([list_lat, list_long, list_title])\n",
    "    return val\n",
    "\n",
    "\n",
    "def distance_callback(from_index, to_index):\n",
    "    from_node = manager.IndexToNode(from_index)\n",
    "    to_node = manager.IndexToNode(to_index)\n",
    "    return data_model[\"distance_matrix\"][from_node][to_node]"
   ]
  },
  {
   "cell_type": "code",
   "execution_count": 3,
   "id": "0d83c610",
   "metadata": {},
   "outputs": [],
   "source": [
    "# reading files\n",
    "df = pd.read_csv(r'Book1.csv',sep=\";\")\n",
    "df.columns =\"title\",\"lat\",\"lng\"\n",
    "\n",
    "# resume\n",
    "df[\"lat\"] = df[\"lat\"].astype(float)\n",
    "df[\"lng\"] = df[\"lng\"].astype(float)"
   ]
  },
  {
   "cell_type": "markdown",
   "id": "b697cd9f",
   "metadata": {},
   "source": [
    "# ajhgsjhagS"
   ]
  },
  {
   "cell_type": "code",
   "execution_count": 4,
   "id": "9399e4ed",
   "metadata": {},
   "outputs": [],
   "source": [
    "df = df.append(dict(zip(df.columns,['History Museum of Madrid, Calle de Fuencarral, 78, 28004 Madrid', 40.4137222,-3.7160586])), ignore_index=True)\n",
    "df = df.append(dict(zip(df.columns,['Hotel', 40.3961208,-3.670566])), ignore_index=True)\n"
   ]
  },
  {
   "cell_type": "code",
   "execution_count": 5,
   "id": "49d1ad05",
   "metadata": {},
   "outputs": [],
   "source": [
    "# saving files\n",
    "df.to_csv('temp.csv')\n",
    "\n",
    "# # algorithm\n",
    "data_model = create_data_model('temp.csv')\n",
    "\n",
    "os.remove('temp.csv')"
   ]
  },
  {
   "cell_type": "code",
   "execution_count": 6,
   "id": "691c4230",
   "metadata": {},
   "outputs": [],
   "source": [
    "manager = pywrapcp.RoutingIndexManager(len(data_model[\"distance_matrix\"]), data_model[\"num_vehicles\"], data_model[\"depot\"])\n",
    "routing = pywrapcp.RoutingModel(manager)\n",
    "transit_callback_index = routing.RegisterTransitCallback(distance_callback)\n",
    "routing.SetArcCostEvaluatorOfAllVehicles(transit_callback_index)\n",
    "search_parameters = pywrapcp.DefaultRoutingSearchParameters()\n",
    "search_parameters.local_search_metaheuristic = (routing_enums_pb2.LocalSearchMetaheuristic.GUIDED_LOCAL_SEARCH)\n",
    "search_parameters.time_limit.seconds = 30\n",
    "assignment = routing.SolveWithParameters(search_parameters)\n",
    "val = print_solution_gmaps(manager, routing, assignment, data_model)\n",
    "val.append(val[0])\n",
    "csv_csv = pd.DataFrame(val)"
   ]
  },
  {
   "cell_type": "code",
   "execution_count": 7,
   "id": "47bc98b5",
   "metadata": {},
   "outputs": [],
   "source": [
    "csv_csv = csv_csv.drop_duplicates().reset_index(drop=True)"
   ]
  },
  {
   "cell_type": "code",
   "execution_count": 8,
   "id": "1fd42b78",
   "metadata": {},
   "outputs": [
    {
     "data": {
      "text/html": [
       "<div>\n",
       "<style scoped>\n",
       "    .dataframe tbody tr th:only-of-type {\n",
       "        vertical-align: middle;\n",
       "    }\n",
       "\n",
       "    .dataframe tbody tr th {\n",
       "        vertical-align: top;\n",
       "    }\n",
       "\n",
       "    .dataframe thead th {\n",
       "        text-align: right;\n",
       "    }\n",
       "</style>\n",
       "<table border=\"1\" class=\"dataframe\">\n",
       "  <thead>\n",
       "    <tr style=\"text-align: right;\">\n",
       "      <th></th>\n",
       "      <th>lat</th>\n",
       "      <th>lng</th>\n",
       "      <th>title</th>\n",
       "    </tr>\n",
       "  </thead>\n",
       "  <tbody>\n",
       "    <tr>\n",
       "      <th>14</th>\n",
       "      <td>40.414543</td>\n",
       "      <td>-3.683596</td>\n",
       "      <td>Parque del Retiro, Espanha</td>\n",
       "    </tr>\n",
       "  </tbody>\n",
       "</table>\n",
       "</div>"
      ],
      "text/plain": [
       "          lat       lng                       title\n",
       "14  40.414543 -3.683596  Parque del Retiro, Espanha"
      ]
     },
     "execution_count": 8,
     "metadata": {},
     "output_type": "execute_result"
    }
   ],
   "source": [
    "csv_csv.columns =\"lat\",\"lng\",\"title\"\n",
    "csv_csv[\"lat\"] = csv_csv[\"lat\"].astype(float)\n",
    "csv_csv[\"lng\"] = csv_csv[\"lng\"].astype(float)\n",
    "csv_csv.sample()"
   ]
  },
  {
   "cell_type": "code",
   "execution_count": 19,
   "id": "b7c19304",
   "metadata": {},
   "outputs": [],
   "source": [
    "csv_csv[\"status\"] = \"ToDo\""
   ]
  },
  {
   "cell_type": "code",
   "execution_count": 20,
   "id": "c99d7355",
   "metadata": {},
   "outputs": [],
   "source": [
    "csv_csv.loc[(csv_csv[\"title\"] == \"Palacio De Cristal, Espanha\"), \"status\"] = \"Done\"\n",
    "csv_csv.loc[(csv_csv[\"title\"] == \"Parque del Retiro, Espanha\"), \"status\"] = \"Done\"\n",
    "csv_csv.loc[(csv_csv[\"title\"] == \"Malasana, Espanha\"), \"status\"] = \"Done\"\n",
    "csv_csv.loc[(csv_csv[\"title\"] == \"Mercado de San Antón, Espanha\"), \"status\"] = \"Done\"\n",
    "csv_csv.loc[(csv_csv[\"title\"] == \"Museu Sorolla, Espanha\"), \"status\"] = \"Done\"\n",
    "csv_csv.loc[(csv_csv[\"title\"] == \"Gran Via, Espanha\"), \"status\"] = \"Done\""
   ]
  },
  {
   "cell_type": "code",
   "execution_count": 21,
   "id": "805838d7",
   "metadata": {},
   "outputs": [],
   "source": [
    "def plot_figure(my_df):\n",
    "    fig = go.Figure(go.Scattermapbox(\n",
    "        mode=\"markers\",\n",
    "        hovertext=[\"Hotel\"], #,\"Museu Sorolla, Espanha\",\"Museo Cerralbo, Espanha\"],\n",
    "        hoverinfo='text',\n",
    "        lon=[-3.670566], #,-3.692508,-3.71459],\n",
    "        lat=[40.3961208], #,40.435505,40.42377],\n",
    "        marker={\"size\": 25}))\n",
    "    \n",
    "    fig.add_trace(go.Scattermapbox(\n",
    "        mode=\"markers+lines\",\n",
    "        hovertext=list(my_df.title),\n",
    "        hoverinfo='text',\n",
    "        lon=my_df.lng,\n",
    "        lat=my_df.lat,\n",
    "        marker={\n",
    "            'color': 'green',\n",
    "            'size': 15,\n",
    "            'opacity': 0.9\n",
    "        }))\n",
    "    \n",
    "    done = csv_csv[csv_csv[\"status\"]==\"Done\"]\n",
    "    fig.add_trace(go.Scattermapbox(\n",
    "        mode=\"markers\",\n",
    "        hovertext=list(done.title),\n",
    "        hoverinfo='text',\n",
    "        lon=done.lng,\n",
    "        lat=done.lat,\n",
    "        marker={\n",
    "            'color': 'red',\n",
    "            'size': 15,\n",
    "            'opacity': 0.9\n",
    "        }))\n",
    "\n",
    "\n",
    "#     try:\n",
    "#         fig.add_trace(go.Scattermapbox(\n",
    "#             lon=[result.get(\"GET_LOCATION\")[\"lon\"]],\n",
    "#             lat=[result.get(\"GET_LOCATION\")[\"lat\"]],\n",
    "#             marker={\"size\": 15})\n",
    "#         )\n",
    "#     except:\n",
    "#         pass\n",
    "\n",
    "    fig.update_layout(\n",
    "        showlegend=False,\n",
    "        margin={\"l\": 0, \"t\": 0, \"b\": 0, \"r\": 0},\n",
    "        mapbox={\n",
    "            \"center\": {\"lon\": my_df[\"lng\"].mean(), \"lat\": my_df[\"lat\"].mean()},\n",
    "            \"style\": \"stamen-terrain\",\n",
    "            \"zoom\": 11.8})\n",
    "    return fig\n"
   ]
  },
  {
   "cell_type": "code",
   "execution_count": 22,
   "id": "681487cc",
   "metadata": {},
   "outputs": [
    {
     "data": {
      "application/vnd.plotly.v1+json": {
       "config": {
        "plotlyServerURL": "https://plot.ly"
       },
       "data": [
        {
         "hoverinfo": "text",
         "hovertext": [
          "Hotel"
         ],
         "lat": [
          40.3961208
         ],
         "lon": [
          -3.670566
         ],
         "marker": {
          "size": 25
         },
         "mode": "markers",
         "type": "scattermapbox"
        },
        {
         "hoverinfo": "text",
         "hovertext": [
          "Plaza de Oriente, Espanha",
          "La Latina, Espanha",
          "Plaza Mayor, Espanha",
          "Puerta del Sol, Espanha",
          "Plaza de Santa Ana, Espanha",
          "Barrio de Las Letras, Espanha",
          "Museu Nacional Centro de Arte Reina Sofia, Espanha",
          "Estacion de Atocha, Espanha",
          "Museu do Prado, Espanha",
          "Museu Thyssen-Bornemisza, Espanha",
          "Paseo del Prado, Espanha",
          "Palacio de Cibeles, Espanha",
          "Plaza de Cibeles, Espanha",
          "Museo Arqueologico Nacional, Espanha",
          "Parque del Retiro, Espanha",
          "Palacio De Cristal, Espanha",
          "Hotel",
          "Parque de El Capricho, Espanha",
          "Plaza de Toros de Las Ventas, Espanha",
          "Barrio de Salamanca, Espanha",
          "Museo Lazaro Galdiano, Espanha",
          "Museu Sorolla, Espanha",
          "Malasana, Espanha",
          "Mercado de San Antón, Espanha",
          "Iglesia de San Antonio de Los Alemanes, Espanha",
          "Gran Via, Espanha",
          "Museo Cerralbo, Espanha",
          "Templo de Debod, Espanha",
          "Casa de Campo, Espanha",
          "Parque Madrid R\\u00EDo, Espanha",
          "Real Basilica de San Francisco el Grande, Espanha",
          "History Museum of Madrid, Calle de Fuencarral, 78, 28004 Madrid",
          "Catedral de Sta Maria la Real de la Almudena, Espanha",
          "Palácio Real de Madrid, Espanha"
         ],
         "lat": [
          40.418873,
          40.412186,
          40.415512,
          40.41702,
          40.41465,
          40.41354,
          40.40853,
          40.407173,
          40.413822,
          40.41616,
          40.41797,
          40.41901,
          40.4203,
          40.42333,
          40.414543,
          40.41354,
          40.3961208,
          40.45446,
          40.43152,
          40.429058,
          40.43703,
          40.435505,
          40.4288,
          40.42208,
          40.422382,
          40.42176,
          40.42377,
          40.424004,
          40.419743,
          40.39961,
          40.41084,
          40.4137222,
          40.41554,
          40.417755
         ],
         "lon": [
          -3.711986,
          -3.708109,
          -3.707401,
          -3.703547,
          -3.70134,
          -3.69822,
          -3.693914,
          -3.692255,
          -3.692235,
          -3.6948,
          -3.69266,
          -3.69218,
          -3.69141,
          -3.688706,
          -3.683596,
          -3.68226,
          -3.670566,
          -3.60007,
          -3.66284,
          -3.67425,
          -3.685992,
          -3.692508,
          -3.70455,
          -3.69758,
          -3.703806,
          -3.70835,
          -3.71459,
          -3.71776,
          -3.74884,
          -3.712749,
          -3.71448,
          -3.7160586,
          -3.71367,
          -3.714083
         ],
         "marker": {
          "color": "green",
          "opacity": 0.9,
          "size": 15
         },
         "mode": "markers+lines",
         "type": "scattermapbox"
        },
        {
         "hoverinfo": "text",
         "hovertext": [
          "Parque del Retiro, Espanha",
          "Palacio De Cristal, Espanha",
          "Museu Sorolla, Espanha",
          "Malasana, Espanha",
          "Mercado de San Antón, Espanha",
          "Gran Via, Espanha"
         ],
         "lat": [
          40.414543,
          40.41354,
          40.435505,
          40.4288,
          40.42208,
          40.42176
         ],
         "lon": [
          -3.683596,
          -3.68226,
          -3.692508,
          -3.70455,
          -3.69758,
          -3.70835
         ],
         "marker": {
          "color": "red",
          "opacity": 0.9,
          "size": 15
         },
         "mode": "markers",
         "type": "scattermapbox"
        }
       ],
       "layout": {
        "mapbox": {
         "center": {
          "lat": 40.419113499999995,
          "lon": -3.6966871058823525
         },
         "style": "stamen-terrain",
         "zoom": 11.8
        },
        "margin": {
         "b": 0,
         "l": 0,
         "r": 0,
         "t": 0
        },
        "showlegend": false,
        "template": {
         "data": {
          "bar": [
           {
            "error_x": {
             "color": "#2a3f5f"
            },
            "error_y": {
             "color": "#2a3f5f"
            },
            "marker": {
             "line": {
              "color": "#E5ECF6",
              "width": 0.5
             },
             "pattern": {
              "fillmode": "overlay",
              "size": 10,
              "solidity": 0.2
             }
            },
            "type": "bar"
           }
          ],
          "barpolar": [
           {
            "marker": {
             "line": {
              "color": "#E5ECF6",
              "width": 0.5
             },
             "pattern": {
              "fillmode": "overlay",
              "size": 10,
              "solidity": 0.2
             }
            },
            "type": "barpolar"
           }
          ],
          "carpet": [
           {
            "aaxis": {
             "endlinecolor": "#2a3f5f",
             "gridcolor": "white",
             "linecolor": "white",
             "minorgridcolor": "white",
             "startlinecolor": "#2a3f5f"
            },
            "baxis": {
             "endlinecolor": "#2a3f5f",
             "gridcolor": "white",
             "linecolor": "white",
             "minorgridcolor": "white",
             "startlinecolor": "#2a3f5f"
            },
            "type": "carpet"
           }
          ],
          "choropleth": [
           {
            "colorbar": {
             "outlinewidth": 0,
             "ticks": ""
            },
            "type": "choropleth"
           }
          ],
          "contour": [
           {
            "colorbar": {
             "outlinewidth": 0,
             "ticks": ""
            },
            "colorscale": [
             [
              0,
              "#0d0887"
             ],
             [
              0.1111111111111111,
              "#46039f"
             ],
             [
              0.2222222222222222,
              "#7201a8"
             ],
             [
              0.3333333333333333,
              "#9c179e"
             ],
             [
              0.4444444444444444,
              "#bd3786"
             ],
             [
              0.5555555555555556,
              "#d8576b"
             ],
             [
              0.6666666666666666,
              "#ed7953"
             ],
             [
              0.7777777777777778,
              "#fb9f3a"
             ],
             [
              0.8888888888888888,
              "#fdca26"
             ],
             [
              1,
              "#f0f921"
             ]
            ],
            "type": "contour"
           }
          ],
          "contourcarpet": [
           {
            "colorbar": {
             "outlinewidth": 0,
             "ticks": ""
            },
            "type": "contourcarpet"
           }
          ],
          "heatmap": [
           {
            "colorbar": {
             "outlinewidth": 0,
             "ticks": ""
            },
            "colorscale": [
             [
              0,
              "#0d0887"
             ],
             [
              0.1111111111111111,
              "#46039f"
             ],
             [
              0.2222222222222222,
              "#7201a8"
             ],
             [
              0.3333333333333333,
              "#9c179e"
             ],
             [
              0.4444444444444444,
              "#bd3786"
             ],
             [
              0.5555555555555556,
              "#d8576b"
             ],
             [
              0.6666666666666666,
              "#ed7953"
             ],
             [
              0.7777777777777778,
              "#fb9f3a"
             ],
             [
              0.8888888888888888,
              "#fdca26"
             ],
             [
              1,
              "#f0f921"
             ]
            ],
            "type": "heatmap"
           }
          ],
          "heatmapgl": [
           {
            "colorbar": {
             "outlinewidth": 0,
             "ticks": ""
            },
            "colorscale": [
             [
              0,
              "#0d0887"
             ],
             [
              0.1111111111111111,
              "#46039f"
             ],
             [
              0.2222222222222222,
              "#7201a8"
             ],
             [
              0.3333333333333333,
              "#9c179e"
             ],
             [
              0.4444444444444444,
              "#bd3786"
             ],
             [
              0.5555555555555556,
              "#d8576b"
             ],
             [
              0.6666666666666666,
              "#ed7953"
             ],
             [
              0.7777777777777778,
              "#fb9f3a"
             ],
             [
              0.8888888888888888,
              "#fdca26"
             ],
             [
              1,
              "#f0f921"
             ]
            ],
            "type": "heatmapgl"
           }
          ],
          "histogram": [
           {
            "marker": {
             "pattern": {
              "fillmode": "overlay",
              "size": 10,
              "solidity": 0.2
             }
            },
            "type": "histogram"
           }
          ],
          "histogram2d": [
           {
            "colorbar": {
             "outlinewidth": 0,
             "ticks": ""
            },
            "colorscale": [
             [
              0,
              "#0d0887"
             ],
             [
              0.1111111111111111,
              "#46039f"
             ],
             [
              0.2222222222222222,
              "#7201a8"
             ],
             [
              0.3333333333333333,
              "#9c179e"
             ],
             [
              0.4444444444444444,
              "#bd3786"
             ],
             [
              0.5555555555555556,
              "#d8576b"
             ],
             [
              0.6666666666666666,
              "#ed7953"
             ],
             [
              0.7777777777777778,
              "#fb9f3a"
             ],
             [
              0.8888888888888888,
              "#fdca26"
             ],
             [
              1,
              "#f0f921"
             ]
            ],
            "type": "histogram2d"
           }
          ],
          "histogram2dcontour": [
           {
            "colorbar": {
             "outlinewidth": 0,
             "ticks": ""
            },
            "colorscale": [
             [
              0,
              "#0d0887"
             ],
             [
              0.1111111111111111,
              "#46039f"
             ],
             [
              0.2222222222222222,
              "#7201a8"
             ],
             [
              0.3333333333333333,
              "#9c179e"
             ],
             [
              0.4444444444444444,
              "#bd3786"
             ],
             [
              0.5555555555555556,
              "#d8576b"
             ],
             [
              0.6666666666666666,
              "#ed7953"
             ],
             [
              0.7777777777777778,
              "#fb9f3a"
             ],
             [
              0.8888888888888888,
              "#fdca26"
             ],
             [
              1,
              "#f0f921"
             ]
            ],
            "type": "histogram2dcontour"
           }
          ],
          "mesh3d": [
           {
            "colorbar": {
             "outlinewidth": 0,
             "ticks": ""
            },
            "type": "mesh3d"
           }
          ],
          "parcoords": [
           {
            "line": {
             "colorbar": {
              "outlinewidth": 0,
              "ticks": ""
             }
            },
            "type": "parcoords"
           }
          ],
          "pie": [
           {
            "automargin": true,
            "type": "pie"
           }
          ],
          "scatter": [
           {
            "marker": {
             "colorbar": {
              "outlinewidth": 0,
              "ticks": ""
             }
            },
            "type": "scatter"
           }
          ],
          "scatter3d": [
           {
            "line": {
             "colorbar": {
              "outlinewidth": 0,
              "ticks": ""
             }
            },
            "marker": {
             "colorbar": {
              "outlinewidth": 0,
              "ticks": ""
             }
            },
            "type": "scatter3d"
           }
          ],
          "scattercarpet": [
           {
            "marker": {
             "colorbar": {
              "outlinewidth": 0,
              "ticks": ""
             }
            },
            "type": "scattercarpet"
           }
          ],
          "scattergeo": [
           {
            "marker": {
             "colorbar": {
              "outlinewidth": 0,
              "ticks": ""
             }
            },
            "type": "scattergeo"
           }
          ],
          "scattergl": [
           {
            "marker": {
             "colorbar": {
              "outlinewidth": 0,
              "ticks": ""
             }
            },
            "type": "scattergl"
           }
          ],
          "scattermapbox": [
           {
            "marker": {
             "colorbar": {
              "outlinewidth": 0,
              "ticks": ""
             }
            },
            "type": "scattermapbox"
           }
          ],
          "scatterpolar": [
           {
            "marker": {
             "colorbar": {
              "outlinewidth": 0,
              "ticks": ""
             }
            },
            "type": "scatterpolar"
           }
          ],
          "scatterpolargl": [
           {
            "marker": {
             "colorbar": {
              "outlinewidth": 0,
              "ticks": ""
             }
            },
            "type": "scatterpolargl"
           }
          ],
          "scatterternary": [
           {
            "marker": {
             "colorbar": {
              "outlinewidth": 0,
              "ticks": ""
             }
            },
            "type": "scatterternary"
           }
          ],
          "surface": [
           {
            "colorbar": {
             "outlinewidth": 0,
             "ticks": ""
            },
            "colorscale": [
             [
              0,
              "#0d0887"
             ],
             [
              0.1111111111111111,
              "#46039f"
             ],
             [
              0.2222222222222222,
              "#7201a8"
             ],
             [
              0.3333333333333333,
              "#9c179e"
             ],
             [
              0.4444444444444444,
              "#bd3786"
             ],
             [
              0.5555555555555556,
              "#d8576b"
             ],
             [
              0.6666666666666666,
              "#ed7953"
             ],
             [
              0.7777777777777778,
              "#fb9f3a"
             ],
             [
              0.8888888888888888,
              "#fdca26"
             ],
             [
              1,
              "#f0f921"
             ]
            ],
            "type": "surface"
           }
          ],
          "table": [
           {
            "cells": {
             "fill": {
              "color": "#EBF0F8"
             },
             "line": {
              "color": "white"
             }
            },
            "header": {
             "fill": {
              "color": "#C8D4E3"
             },
             "line": {
              "color": "white"
             }
            },
            "type": "table"
           }
          ]
         },
         "layout": {
          "annotationdefaults": {
           "arrowcolor": "#2a3f5f",
           "arrowhead": 0,
           "arrowwidth": 1
          },
          "autotypenumbers": "strict",
          "coloraxis": {
           "colorbar": {
            "outlinewidth": 0,
            "ticks": ""
           }
          },
          "colorscale": {
           "diverging": [
            [
             0,
             "#8e0152"
            ],
            [
             0.1,
             "#c51b7d"
            ],
            [
             0.2,
             "#de77ae"
            ],
            [
             0.3,
             "#f1b6da"
            ],
            [
             0.4,
             "#fde0ef"
            ],
            [
             0.5,
             "#f7f7f7"
            ],
            [
             0.6,
             "#e6f5d0"
            ],
            [
             0.7,
             "#b8e186"
            ],
            [
             0.8,
             "#7fbc41"
            ],
            [
             0.9,
             "#4d9221"
            ],
            [
             1,
             "#276419"
            ]
           ],
           "sequential": [
            [
             0,
             "#0d0887"
            ],
            [
             0.1111111111111111,
             "#46039f"
            ],
            [
             0.2222222222222222,
             "#7201a8"
            ],
            [
             0.3333333333333333,
             "#9c179e"
            ],
            [
             0.4444444444444444,
             "#bd3786"
            ],
            [
             0.5555555555555556,
             "#d8576b"
            ],
            [
             0.6666666666666666,
             "#ed7953"
            ],
            [
             0.7777777777777778,
             "#fb9f3a"
            ],
            [
             0.8888888888888888,
             "#fdca26"
            ],
            [
             1,
             "#f0f921"
            ]
           ],
           "sequentialminus": [
            [
             0,
             "#0d0887"
            ],
            [
             0.1111111111111111,
             "#46039f"
            ],
            [
             0.2222222222222222,
             "#7201a8"
            ],
            [
             0.3333333333333333,
             "#9c179e"
            ],
            [
             0.4444444444444444,
             "#bd3786"
            ],
            [
             0.5555555555555556,
             "#d8576b"
            ],
            [
             0.6666666666666666,
             "#ed7953"
            ],
            [
             0.7777777777777778,
             "#fb9f3a"
            ],
            [
             0.8888888888888888,
             "#fdca26"
            ],
            [
             1,
             "#f0f921"
            ]
           ]
          },
          "colorway": [
           "#636efa",
           "#EF553B",
           "#00cc96",
           "#ab63fa",
           "#FFA15A",
           "#19d3f3",
           "#FF6692",
           "#B6E880",
           "#FF97FF",
           "#FECB52"
          ],
          "font": {
           "color": "#2a3f5f"
          },
          "geo": {
           "bgcolor": "white",
           "lakecolor": "white",
           "landcolor": "#E5ECF6",
           "showlakes": true,
           "showland": true,
           "subunitcolor": "white"
          },
          "hoverlabel": {
           "align": "left"
          },
          "hovermode": "closest",
          "mapbox": {
           "style": "light"
          },
          "paper_bgcolor": "white",
          "plot_bgcolor": "#E5ECF6",
          "polar": {
           "angularaxis": {
            "gridcolor": "white",
            "linecolor": "white",
            "ticks": ""
           },
           "bgcolor": "#E5ECF6",
           "radialaxis": {
            "gridcolor": "white",
            "linecolor": "white",
            "ticks": ""
           }
          },
          "scene": {
           "xaxis": {
            "backgroundcolor": "#E5ECF6",
            "gridcolor": "white",
            "gridwidth": 2,
            "linecolor": "white",
            "showbackground": true,
            "ticks": "",
            "zerolinecolor": "white"
           },
           "yaxis": {
            "backgroundcolor": "#E5ECF6",
            "gridcolor": "white",
            "gridwidth": 2,
            "linecolor": "white",
            "showbackground": true,
            "ticks": "",
            "zerolinecolor": "white"
           },
           "zaxis": {
            "backgroundcolor": "#E5ECF6",
            "gridcolor": "white",
            "gridwidth": 2,
            "linecolor": "white",
            "showbackground": true,
            "ticks": "",
            "zerolinecolor": "white"
           }
          },
          "shapedefaults": {
           "line": {
            "color": "#2a3f5f"
           }
          },
          "ternary": {
           "aaxis": {
            "gridcolor": "white",
            "linecolor": "white",
            "ticks": ""
           },
           "baxis": {
            "gridcolor": "white",
            "linecolor": "white",
            "ticks": ""
           },
           "bgcolor": "#E5ECF6",
           "caxis": {
            "gridcolor": "white",
            "linecolor": "white",
            "ticks": ""
           }
          },
          "title": {
           "x": 0.05
          },
          "xaxis": {
           "automargin": true,
           "gridcolor": "white",
           "linecolor": "white",
           "ticks": "",
           "title": {
            "standoff": 15
           },
           "zerolinecolor": "white",
           "zerolinewidth": 2
          },
          "yaxis": {
           "automargin": true,
           "gridcolor": "white",
           "linecolor": "white",
           "ticks": "",
           "title": {
            "standoff": 15
           },
           "zerolinecolor": "white",
           "zerolinewidth": 2
          }
         }
        }
       }
      },
      "text/html": [
       "<div>                            <div id=\"713b4e61-88de-4566-8394-682f16af1fc3\" class=\"plotly-graph-div\" style=\"height:525px; width:100%;\"></div>            <script type=\"text/javascript\">                require([\"plotly\"], function(Plotly) {                    window.PLOTLYENV=window.PLOTLYENV || {};                                    if (document.getElementById(\"713b4e61-88de-4566-8394-682f16af1fc3\")) {                    Plotly.newPlot(                        \"713b4e61-88de-4566-8394-682f16af1fc3\",                        [{\"hoverinfo\":\"text\",\"hovertext\":[\"Hotel\"],\"lat\":[40.3961208],\"lon\":[-3.670566],\"marker\":{\"size\":25},\"mode\":\"markers\",\"type\":\"scattermapbox\"},{\"hoverinfo\":\"text\",\"hovertext\":[\"Plaza de Oriente, Espanha\",\"La Latina, Espanha\",\"Plaza Mayor, Espanha\",\"Puerta del Sol, Espanha\",\"Plaza de Santa Ana, Espanha\",\"Barrio de Las Letras, Espanha\",\"Museu Nacional Centro de Arte Reina Sofia, Espanha\",\"Estacion de Atocha, Espanha\",\"Museu do Prado, Espanha\",\"Museu Thyssen-Bornemisza, Espanha\",\"Paseo del Prado, Espanha\",\"Palacio de Cibeles, Espanha\",\"Plaza de Cibeles, Espanha\",\"Museo Arqueologico Nacional, Espanha\",\"Parque del Retiro, Espanha\",\"Palacio De Cristal, Espanha\",\"Hotel\",\"Parque de El Capricho, Espanha\",\"Plaza de Toros de Las Ventas, Espanha\",\"Barrio de Salamanca, Espanha\",\"Museo Lazaro Galdiano, Espanha\",\"Museu Sorolla, Espanha\",\"Malasana, Espanha\",\"Mercado de San Ant\\u00f3n, Espanha\",\"Iglesia de San Antonio de Los Alemanes, Espanha\",\"Gran Via, Espanha\",\"Museo Cerralbo, Espanha\",\"Templo de Debod, Espanha\",\"Casa de Campo, Espanha\",\"Parque Madrid R\\\\u00EDo, Espanha\",\"Real Basilica de San Francisco el Grande, Espanha\",\"History Museum of Madrid, Calle de Fuencarral, 78, 28004 Madrid\",\"Catedral de Sta Maria la Real de la Almudena, Espanha\",\"Pal\\u00e1cio Real de Madrid, Espanha\"],\"lat\":[40.418873,40.412186,40.415512,40.41702,40.41465,40.41354,40.40853,40.407173,40.413822,40.41616,40.41797,40.41901,40.4203,40.42333,40.414543,40.41354,40.3961208,40.45446,40.43152,40.429058,40.43703,40.435505,40.4288,40.42208,40.422382,40.42176,40.42377,40.424004,40.419743,40.39961,40.41084,40.4137222,40.41554,40.417755],\"lon\":[-3.711986,-3.708109,-3.707401,-3.703547,-3.70134,-3.69822,-3.693914,-3.692255,-3.692235,-3.6948,-3.69266,-3.69218,-3.69141,-3.688706,-3.683596,-3.68226,-3.670566,-3.60007,-3.66284,-3.67425,-3.685992,-3.692508,-3.70455,-3.69758,-3.703806,-3.70835,-3.71459,-3.71776,-3.74884,-3.712749,-3.71448,-3.7160586,-3.71367,-3.714083],\"marker\":{\"color\":\"green\",\"opacity\":0.9,\"size\":15},\"mode\":\"markers+lines\",\"type\":\"scattermapbox\"},{\"hoverinfo\":\"text\",\"hovertext\":[\"Parque del Retiro, Espanha\",\"Palacio De Cristal, Espanha\",\"Museu Sorolla, Espanha\",\"Malasana, Espanha\",\"Mercado de San Ant\\u00f3n, Espanha\",\"Gran Via, Espanha\"],\"lat\":[40.414543,40.41354,40.435505,40.4288,40.42208,40.42176],\"lon\":[-3.683596,-3.68226,-3.692508,-3.70455,-3.69758,-3.70835],\"marker\":{\"color\":\"red\",\"opacity\":0.9,\"size\":15},\"mode\":\"markers\",\"type\":\"scattermapbox\"}],                        {\"template\":{\"data\":{\"bar\":[{\"error_x\":{\"color\":\"#2a3f5f\"},\"error_y\":{\"color\":\"#2a3f5f\"},\"marker\":{\"line\":{\"color\":\"#E5ECF6\",\"width\":0.5},\"pattern\":{\"fillmode\":\"overlay\",\"size\":10,\"solidity\":0.2}},\"type\":\"bar\"}],\"barpolar\":[{\"marker\":{\"line\":{\"color\":\"#E5ECF6\",\"width\":0.5},\"pattern\":{\"fillmode\":\"overlay\",\"size\":10,\"solidity\":0.2}},\"type\":\"barpolar\"}],\"carpet\":[{\"aaxis\":{\"endlinecolor\":\"#2a3f5f\",\"gridcolor\":\"white\",\"linecolor\":\"white\",\"minorgridcolor\":\"white\",\"startlinecolor\":\"#2a3f5f\"},\"baxis\":{\"endlinecolor\":\"#2a3f5f\",\"gridcolor\":\"white\",\"linecolor\":\"white\",\"minorgridcolor\":\"white\",\"startlinecolor\":\"#2a3f5f\"},\"type\":\"carpet\"}],\"choropleth\":[{\"colorbar\":{\"outlinewidth\":0,\"ticks\":\"\"},\"type\":\"choropleth\"}],\"contour\":[{\"colorbar\":{\"outlinewidth\":0,\"ticks\":\"\"},\"colorscale\":[[0.0,\"#0d0887\"],[0.1111111111111111,\"#46039f\"],[0.2222222222222222,\"#7201a8\"],[0.3333333333333333,\"#9c179e\"],[0.4444444444444444,\"#bd3786\"],[0.5555555555555556,\"#d8576b\"],[0.6666666666666666,\"#ed7953\"],[0.7777777777777778,\"#fb9f3a\"],[0.8888888888888888,\"#fdca26\"],[1.0,\"#f0f921\"]],\"type\":\"contour\"}],\"contourcarpet\":[{\"colorbar\":{\"outlinewidth\":0,\"ticks\":\"\"},\"type\":\"contourcarpet\"}],\"heatmap\":[{\"colorbar\":{\"outlinewidth\":0,\"ticks\":\"\"},\"colorscale\":[[0.0,\"#0d0887\"],[0.1111111111111111,\"#46039f\"],[0.2222222222222222,\"#7201a8\"],[0.3333333333333333,\"#9c179e\"],[0.4444444444444444,\"#bd3786\"],[0.5555555555555556,\"#d8576b\"],[0.6666666666666666,\"#ed7953\"],[0.7777777777777778,\"#fb9f3a\"],[0.8888888888888888,\"#fdca26\"],[1.0,\"#f0f921\"]],\"type\":\"heatmap\"}],\"heatmapgl\":[{\"colorbar\":{\"outlinewidth\":0,\"ticks\":\"\"},\"colorscale\":[[0.0,\"#0d0887\"],[0.1111111111111111,\"#46039f\"],[0.2222222222222222,\"#7201a8\"],[0.3333333333333333,\"#9c179e\"],[0.4444444444444444,\"#bd3786\"],[0.5555555555555556,\"#d8576b\"],[0.6666666666666666,\"#ed7953\"],[0.7777777777777778,\"#fb9f3a\"],[0.8888888888888888,\"#fdca26\"],[1.0,\"#f0f921\"]],\"type\":\"heatmapgl\"}],\"histogram\":[{\"marker\":{\"pattern\":{\"fillmode\":\"overlay\",\"size\":10,\"solidity\":0.2}},\"type\":\"histogram\"}],\"histogram2d\":[{\"colorbar\":{\"outlinewidth\":0,\"ticks\":\"\"},\"colorscale\":[[0.0,\"#0d0887\"],[0.1111111111111111,\"#46039f\"],[0.2222222222222222,\"#7201a8\"],[0.3333333333333333,\"#9c179e\"],[0.4444444444444444,\"#bd3786\"],[0.5555555555555556,\"#d8576b\"],[0.6666666666666666,\"#ed7953\"],[0.7777777777777778,\"#fb9f3a\"],[0.8888888888888888,\"#fdca26\"],[1.0,\"#f0f921\"]],\"type\":\"histogram2d\"}],\"histogram2dcontour\":[{\"colorbar\":{\"outlinewidth\":0,\"ticks\":\"\"},\"colorscale\":[[0.0,\"#0d0887\"],[0.1111111111111111,\"#46039f\"],[0.2222222222222222,\"#7201a8\"],[0.3333333333333333,\"#9c179e\"],[0.4444444444444444,\"#bd3786\"],[0.5555555555555556,\"#d8576b\"],[0.6666666666666666,\"#ed7953\"],[0.7777777777777778,\"#fb9f3a\"],[0.8888888888888888,\"#fdca26\"],[1.0,\"#f0f921\"]],\"type\":\"histogram2dcontour\"}],\"mesh3d\":[{\"colorbar\":{\"outlinewidth\":0,\"ticks\":\"\"},\"type\":\"mesh3d\"}],\"parcoords\":[{\"line\":{\"colorbar\":{\"outlinewidth\":0,\"ticks\":\"\"}},\"type\":\"parcoords\"}],\"pie\":[{\"automargin\":true,\"type\":\"pie\"}],\"scatter\":[{\"marker\":{\"colorbar\":{\"outlinewidth\":0,\"ticks\":\"\"}},\"type\":\"scatter\"}],\"scatter3d\":[{\"line\":{\"colorbar\":{\"outlinewidth\":0,\"ticks\":\"\"}},\"marker\":{\"colorbar\":{\"outlinewidth\":0,\"ticks\":\"\"}},\"type\":\"scatter3d\"}],\"scattercarpet\":[{\"marker\":{\"colorbar\":{\"outlinewidth\":0,\"ticks\":\"\"}},\"type\":\"scattercarpet\"}],\"scattergeo\":[{\"marker\":{\"colorbar\":{\"outlinewidth\":0,\"ticks\":\"\"}},\"type\":\"scattergeo\"}],\"scattergl\":[{\"marker\":{\"colorbar\":{\"outlinewidth\":0,\"ticks\":\"\"}},\"type\":\"scattergl\"}],\"scattermapbox\":[{\"marker\":{\"colorbar\":{\"outlinewidth\":0,\"ticks\":\"\"}},\"type\":\"scattermapbox\"}],\"scatterpolar\":[{\"marker\":{\"colorbar\":{\"outlinewidth\":0,\"ticks\":\"\"}},\"type\":\"scatterpolar\"}],\"scatterpolargl\":[{\"marker\":{\"colorbar\":{\"outlinewidth\":0,\"ticks\":\"\"}},\"type\":\"scatterpolargl\"}],\"scatterternary\":[{\"marker\":{\"colorbar\":{\"outlinewidth\":0,\"ticks\":\"\"}},\"type\":\"scatterternary\"}],\"surface\":[{\"colorbar\":{\"outlinewidth\":0,\"ticks\":\"\"},\"colorscale\":[[0.0,\"#0d0887\"],[0.1111111111111111,\"#46039f\"],[0.2222222222222222,\"#7201a8\"],[0.3333333333333333,\"#9c179e\"],[0.4444444444444444,\"#bd3786\"],[0.5555555555555556,\"#d8576b\"],[0.6666666666666666,\"#ed7953\"],[0.7777777777777778,\"#fb9f3a\"],[0.8888888888888888,\"#fdca26\"],[1.0,\"#f0f921\"]],\"type\":\"surface\"}],\"table\":[{\"cells\":{\"fill\":{\"color\":\"#EBF0F8\"},\"line\":{\"color\":\"white\"}},\"header\":{\"fill\":{\"color\":\"#C8D4E3\"},\"line\":{\"color\":\"white\"}},\"type\":\"table\"}]},\"layout\":{\"annotationdefaults\":{\"arrowcolor\":\"#2a3f5f\",\"arrowhead\":0,\"arrowwidth\":1},\"autotypenumbers\":\"strict\",\"coloraxis\":{\"colorbar\":{\"outlinewidth\":0,\"ticks\":\"\"}},\"colorscale\":{\"diverging\":[[0,\"#8e0152\"],[0.1,\"#c51b7d\"],[0.2,\"#de77ae\"],[0.3,\"#f1b6da\"],[0.4,\"#fde0ef\"],[0.5,\"#f7f7f7\"],[0.6,\"#e6f5d0\"],[0.7,\"#b8e186\"],[0.8,\"#7fbc41\"],[0.9,\"#4d9221\"],[1,\"#276419\"]],\"sequential\":[[0.0,\"#0d0887\"],[0.1111111111111111,\"#46039f\"],[0.2222222222222222,\"#7201a8\"],[0.3333333333333333,\"#9c179e\"],[0.4444444444444444,\"#bd3786\"],[0.5555555555555556,\"#d8576b\"],[0.6666666666666666,\"#ed7953\"],[0.7777777777777778,\"#fb9f3a\"],[0.8888888888888888,\"#fdca26\"],[1.0,\"#f0f921\"]],\"sequentialminus\":[[0.0,\"#0d0887\"],[0.1111111111111111,\"#46039f\"],[0.2222222222222222,\"#7201a8\"],[0.3333333333333333,\"#9c179e\"],[0.4444444444444444,\"#bd3786\"],[0.5555555555555556,\"#d8576b\"],[0.6666666666666666,\"#ed7953\"],[0.7777777777777778,\"#fb9f3a\"],[0.8888888888888888,\"#fdca26\"],[1.0,\"#f0f921\"]]},\"colorway\":[\"#636efa\",\"#EF553B\",\"#00cc96\",\"#ab63fa\",\"#FFA15A\",\"#19d3f3\",\"#FF6692\",\"#B6E880\",\"#FF97FF\",\"#FECB52\"],\"font\":{\"color\":\"#2a3f5f\"},\"geo\":{\"bgcolor\":\"white\",\"lakecolor\":\"white\",\"landcolor\":\"#E5ECF6\",\"showlakes\":true,\"showland\":true,\"subunitcolor\":\"white\"},\"hoverlabel\":{\"align\":\"left\"},\"hovermode\":\"closest\",\"mapbox\":{\"style\":\"light\"},\"paper_bgcolor\":\"white\",\"plot_bgcolor\":\"#E5ECF6\",\"polar\":{\"angularaxis\":{\"gridcolor\":\"white\",\"linecolor\":\"white\",\"ticks\":\"\"},\"bgcolor\":\"#E5ECF6\",\"radialaxis\":{\"gridcolor\":\"white\",\"linecolor\":\"white\",\"ticks\":\"\"}},\"scene\":{\"xaxis\":{\"backgroundcolor\":\"#E5ECF6\",\"gridcolor\":\"white\",\"gridwidth\":2,\"linecolor\":\"white\",\"showbackground\":true,\"ticks\":\"\",\"zerolinecolor\":\"white\"},\"yaxis\":{\"backgroundcolor\":\"#E5ECF6\",\"gridcolor\":\"white\",\"gridwidth\":2,\"linecolor\":\"white\",\"showbackground\":true,\"ticks\":\"\",\"zerolinecolor\":\"white\"},\"zaxis\":{\"backgroundcolor\":\"#E5ECF6\",\"gridcolor\":\"white\",\"gridwidth\":2,\"linecolor\":\"white\",\"showbackground\":true,\"ticks\":\"\",\"zerolinecolor\":\"white\"}},\"shapedefaults\":{\"line\":{\"color\":\"#2a3f5f\"}},\"ternary\":{\"aaxis\":{\"gridcolor\":\"white\",\"linecolor\":\"white\",\"ticks\":\"\"},\"baxis\":{\"gridcolor\":\"white\",\"linecolor\":\"white\",\"ticks\":\"\"},\"bgcolor\":\"#E5ECF6\",\"caxis\":{\"gridcolor\":\"white\",\"linecolor\":\"white\",\"ticks\":\"\"}},\"title\":{\"x\":0.05},\"xaxis\":{\"automargin\":true,\"gridcolor\":\"white\",\"linecolor\":\"white\",\"ticks\":\"\",\"title\":{\"standoff\":15},\"zerolinecolor\":\"white\",\"zerolinewidth\":2},\"yaxis\":{\"automargin\":true,\"gridcolor\":\"white\",\"linecolor\":\"white\",\"ticks\":\"\",\"title\":{\"standoff\":15},\"zerolinecolor\":\"white\",\"zerolinewidth\":2}}},\"margin\":{\"l\":0,\"t\":0,\"b\":0,\"r\":0},\"mapbox\":{\"center\":{\"lon\":-3.6966871058823525,\"lat\":40.419113499999995},\"style\":\"stamen-terrain\",\"zoom\":11.8},\"showlegend\":false},                        {\"responsive\": true}                    ).then(function(){\n",
       "                            \n",
       "var gd = document.getElementById('713b4e61-88de-4566-8394-682f16af1fc3');\n",
       "var x = new MutationObserver(function (mutations, observer) {{\n",
       "        var display = window.getComputedStyle(gd).display;\n",
       "        if (!display || display === 'none') {{\n",
       "            console.log([gd, 'removed!']);\n",
       "            Plotly.purge(gd);\n",
       "            observer.disconnect();\n",
       "        }}\n",
       "}});\n",
       "\n",
       "// Listen for the removal of the full notebook cells\n",
       "var notebookContainer = gd.closest('#notebook-container');\n",
       "if (notebookContainer) {{\n",
       "    x.observe(notebookContainer, {childList: true});\n",
       "}}\n",
       "\n",
       "// Listen for the clearing of the current output cell\n",
       "var outputEl = gd.closest('.output');\n",
       "if (outputEl) {{\n",
       "    x.observe(outputEl, {childList: true});\n",
       "}}\n",
       "\n",
       "                        })                };                });            </script>        </div>"
      ]
     },
     "metadata": {},
     "output_type": "display_data"
    }
   ],
   "source": [
    "fig = plot_figure(csv_csv)\n",
    "fig"
   ]
  },
  {
   "cell_type": "code",
   "execution_count": 23,
   "id": "8f27bf03",
   "metadata": {},
   "outputs": [],
   "source": [
    "fig.write_html(\"file.html\")"
   ]
  },
  {
   "cell_type": "code",
   "execution_count": 24,
   "id": "da44e7ad",
   "metadata": {},
   "outputs": [],
   "source": [
    "csv_csv.to_csv(\"csv_csv.csv\")"
   ]
  },
  {
   "cell_type": "code",
   "execution_count": 45,
   "id": "75698344",
   "metadata": {},
   "outputs": [
    {
     "data": {
      "text/html": [
       "<div>\n",
       "<style scoped>\n",
       "    .dataframe tbody tr th:only-of-type {\n",
       "        vertical-align: middle;\n",
       "    }\n",
       "\n",
       "    .dataframe tbody tr th {\n",
       "        vertical-align: top;\n",
       "    }\n",
       "\n",
       "    .dataframe thead th {\n",
       "        text-align: right;\n",
       "    }\n",
       "</style>\n",
       "<table border=\"1\" class=\"dataframe\">\n",
       "  <thead>\n",
       "    <tr style=\"text-align: right;\">\n",
       "      <th></th>\n",
       "      <th>lat</th>\n",
       "      <th>lng</th>\n",
       "      <th>title</th>\n",
       "      <th>status</th>\n",
       "    </tr>\n",
       "  </thead>\n",
       "  <tbody>\n",
       "    <tr>\n",
       "      <th>0</th>\n",
       "      <td>40.418873</td>\n",
       "      <td>-3.711986</td>\n",
       "      <td>Plaza de Oriente, Espanha</td>\n",
       "      <td>Done</td>\n",
       "    </tr>\n",
       "    <tr>\n",
       "      <th>1</th>\n",
       "      <td>40.412186</td>\n",
       "      <td>-3.708109</td>\n",
       "      <td>La Latina, Espanha</td>\n",
       "      <td>ToDo</td>\n",
       "    </tr>\n",
       "    <tr>\n",
       "      <th>2</th>\n",
       "      <td>40.415512</td>\n",
       "      <td>-3.707401</td>\n",
       "      <td>Plaza Mayor, Espanha</td>\n",
       "      <td>ToDo</td>\n",
       "    </tr>\n",
       "    <tr>\n",
       "      <th>3</th>\n",
       "      <td>40.417020</td>\n",
       "      <td>-3.703547</td>\n",
       "      <td>Puerta del Sol, Espanha</td>\n",
       "      <td>ToDo</td>\n",
       "    </tr>\n",
       "    <tr>\n",
       "      <th>4</th>\n",
       "      <td>40.414650</td>\n",
       "      <td>-3.701340</td>\n",
       "      <td>Plaza de Santa Ana, Espanha</td>\n",
       "      <td>ToDo</td>\n",
       "    </tr>\n",
       "    <tr>\n",
       "      <th>5</th>\n",
       "      <td>40.413540</td>\n",
       "      <td>-3.698220</td>\n",
       "      <td>Barrio de Las Letras, Espanha</td>\n",
       "      <td>ToDo</td>\n",
       "    </tr>\n",
       "    <tr>\n",
       "      <th>6</th>\n",
       "      <td>40.408530</td>\n",
       "      <td>-3.693914</td>\n",
       "      <td>Museu Nacional Centro de Arte Reina Sofia, Esp...</td>\n",
       "      <td>ToDo</td>\n",
       "    </tr>\n",
       "    <tr>\n",
       "      <th>7</th>\n",
       "      <td>40.407173</td>\n",
       "      <td>-3.692255</td>\n",
       "      <td>Estacion de Atocha, Espanha</td>\n",
       "      <td>ToDo</td>\n",
       "    </tr>\n",
       "    <tr>\n",
       "      <th>8</th>\n",
       "      <td>40.413822</td>\n",
       "      <td>-3.692235</td>\n",
       "      <td>Museu do Prado, Espanha</td>\n",
       "      <td>ToDo</td>\n",
       "    </tr>\n",
       "    <tr>\n",
       "      <th>9</th>\n",
       "      <td>40.416160</td>\n",
       "      <td>-3.694800</td>\n",
       "      <td>Museu Thyssen-Bornemisza, Espanha</td>\n",
       "      <td>ToDo</td>\n",
       "    </tr>\n",
       "    <tr>\n",
       "      <th>10</th>\n",
       "      <td>40.417970</td>\n",
       "      <td>-3.692660</td>\n",
       "      <td>Paseo del Prado, Espanha</td>\n",
       "      <td>ToDo</td>\n",
       "    </tr>\n",
       "    <tr>\n",
       "      <th>11</th>\n",
       "      <td>40.419010</td>\n",
       "      <td>-3.692180</td>\n",
       "      <td>Palacio de Cibeles, Espanha</td>\n",
       "      <td>ToDo</td>\n",
       "    </tr>\n",
       "    <tr>\n",
       "      <th>12</th>\n",
       "      <td>40.420300</td>\n",
       "      <td>-3.691410</td>\n",
       "      <td>Plaza de Cibeles, Espanha</td>\n",
       "      <td>ToDo</td>\n",
       "    </tr>\n",
       "    <tr>\n",
       "      <th>13</th>\n",
       "      <td>40.423330</td>\n",
       "      <td>-3.688706</td>\n",
       "      <td>Museo Arqueologico Nacional, Espanha</td>\n",
       "      <td>ToDo</td>\n",
       "    </tr>\n",
       "    <tr>\n",
       "      <th>14</th>\n",
       "      <td>40.414543</td>\n",
       "      <td>-3.683596</td>\n",
       "      <td>Parque del Retiro, Espanha</td>\n",
       "      <td>Done</td>\n",
       "    </tr>\n",
       "    <tr>\n",
       "      <th>15</th>\n",
       "      <td>40.413540</td>\n",
       "      <td>-3.682260</td>\n",
       "      <td>Palacio De Cristal, Espanha</td>\n",
       "      <td>Done</td>\n",
       "    </tr>\n",
       "    <tr>\n",
       "      <th>16</th>\n",
       "      <td>40.396121</td>\n",
       "      <td>-3.670566</td>\n",
       "      <td>Hotel</td>\n",
       "      <td>ToDo</td>\n",
       "    </tr>\n",
       "    <tr>\n",
       "      <th>17</th>\n",
       "      <td>40.454460</td>\n",
       "      <td>-3.600070</td>\n",
       "      <td>Parque de El Capricho, Espanha</td>\n",
       "      <td>ToDo</td>\n",
       "    </tr>\n",
       "    <tr>\n",
       "      <th>18</th>\n",
       "      <td>40.431520</td>\n",
       "      <td>-3.662840</td>\n",
       "      <td>Plaza de Toros de Las Ventas, Espanha</td>\n",
       "      <td>ToDo</td>\n",
       "    </tr>\n",
       "    <tr>\n",
       "      <th>19</th>\n",
       "      <td>40.429058</td>\n",
       "      <td>-3.674250</td>\n",
       "      <td>Barrio de Salamanca, Espanha</td>\n",
       "      <td>ToDo</td>\n",
       "    </tr>\n",
       "    <tr>\n",
       "      <th>20</th>\n",
       "      <td>40.437030</td>\n",
       "      <td>-3.685992</td>\n",
       "      <td>Museo Lazaro Galdiano, Espanha</td>\n",
       "      <td>ToDo</td>\n",
       "    </tr>\n",
       "    <tr>\n",
       "      <th>21</th>\n",
       "      <td>40.435505</td>\n",
       "      <td>-3.692508</td>\n",
       "      <td>Museu Sorolla, Espanha</td>\n",
       "      <td>Done</td>\n",
       "    </tr>\n",
       "    <tr>\n",
       "      <th>22</th>\n",
       "      <td>40.428800</td>\n",
       "      <td>-3.704550</td>\n",
       "      <td>Malasana, Espanha</td>\n",
       "      <td>Done</td>\n",
       "    </tr>\n",
       "    <tr>\n",
       "      <th>23</th>\n",
       "      <td>40.422080</td>\n",
       "      <td>-3.697580</td>\n",
       "      <td>Mercado de San Antón, Espanha</td>\n",
       "      <td>Done</td>\n",
       "    </tr>\n",
       "    <tr>\n",
       "      <th>24</th>\n",
       "      <td>40.422382</td>\n",
       "      <td>-3.703806</td>\n",
       "      <td>Iglesia de San Antonio de Los Alemanes, Espanha</td>\n",
       "      <td>ToDo</td>\n",
       "    </tr>\n",
       "    <tr>\n",
       "      <th>25</th>\n",
       "      <td>40.421760</td>\n",
       "      <td>-3.708350</td>\n",
       "      <td>Gran Via, Espanha</td>\n",
       "      <td>Done</td>\n",
       "    </tr>\n",
       "    <tr>\n",
       "      <th>26</th>\n",
       "      <td>40.423770</td>\n",
       "      <td>-3.714590</td>\n",
       "      <td>Museo Cerralbo, Espanha</td>\n",
       "      <td>ToDo</td>\n",
       "    </tr>\n",
       "    <tr>\n",
       "      <th>27</th>\n",
       "      <td>40.424004</td>\n",
       "      <td>-3.717760</td>\n",
       "      <td>Templo de Debod, Espanha</td>\n",
       "      <td>ToDo</td>\n",
       "    </tr>\n",
       "    <tr>\n",
       "      <th>28</th>\n",
       "      <td>40.419743</td>\n",
       "      <td>-3.748840</td>\n",
       "      <td>Casa de Campo, Espanha</td>\n",
       "      <td>ToDo</td>\n",
       "    </tr>\n",
       "    <tr>\n",
       "      <th>29</th>\n",
       "      <td>40.399610</td>\n",
       "      <td>-3.712749</td>\n",
       "      <td>Parque Madrid R\\u00EDo, Espanha</td>\n",
       "      <td>ToDo</td>\n",
       "    </tr>\n",
       "    <tr>\n",
       "      <th>30</th>\n",
       "      <td>40.410840</td>\n",
       "      <td>-3.714480</td>\n",
       "      <td>Real Basilica de San Francisco el Grande, Espanha</td>\n",
       "      <td>ToDo</td>\n",
       "    </tr>\n",
       "    <tr>\n",
       "      <th>31</th>\n",
       "      <td>40.413722</td>\n",
       "      <td>-3.716059</td>\n",
       "      <td>History Museum of Madrid, Calle de Fuencarral,...</td>\n",
       "      <td>ToDo</td>\n",
       "    </tr>\n",
       "    <tr>\n",
       "      <th>32</th>\n",
       "      <td>40.415540</td>\n",
       "      <td>-3.713670</td>\n",
       "      <td>Catedral de Sta Maria la Real de la Almudena, ...</td>\n",
       "      <td>ToDo</td>\n",
       "    </tr>\n",
       "    <tr>\n",
       "      <th>33</th>\n",
       "      <td>40.417755</td>\n",
       "      <td>-3.714083</td>\n",
       "      <td>Palácio Real de Madrid, Espanha</td>\n",
       "      <td>ToDo</td>\n",
       "    </tr>\n",
       "  </tbody>\n",
       "</table>\n",
       "</div>"
      ],
      "text/plain": [
       "          lat       lng                                              title  \\\n",
       "0   40.418873 -3.711986                          Plaza de Oriente, Espanha   \n",
       "1   40.412186 -3.708109                                 La Latina, Espanha   \n",
       "2   40.415512 -3.707401                               Plaza Mayor, Espanha   \n",
       "3   40.417020 -3.703547                            Puerta del Sol, Espanha   \n",
       "4   40.414650 -3.701340                        Plaza de Santa Ana, Espanha   \n",
       "5   40.413540 -3.698220                      Barrio de Las Letras, Espanha   \n",
       "6   40.408530 -3.693914  Museu Nacional Centro de Arte Reina Sofia, Esp...   \n",
       "7   40.407173 -3.692255                        Estacion de Atocha, Espanha   \n",
       "8   40.413822 -3.692235                            Museu do Prado, Espanha   \n",
       "9   40.416160 -3.694800                  Museu Thyssen-Bornemisza, Espanha   \n",
       "10  40.417970 -3.692660                           Paseo del Prado, Espanha   \n",
       "11  40.419010 -3.692180                        Palacio de Cibeles, Espanha   \n",
       "12  40.420300 -3.691410                          Plaza de Cibeles, Espanha   \n",
       "13  40.423330 -3.688706               Museo Arqueologico Nacional, Espanha   \n",
       "14  40.414543 -3.683596                         Parque del Retiro, Espanha   \n",
       "15  40.413540 -3.682260                        Palacio De Cristal, Espanha   \n",
       "16  40.396121 -3.670566                                              Hotel   \n",
       "17  40.454460 -3.600070                     Parque de El Capricho, Espanha   \n",
       "18  40.431520 -3.662840              Plaza de Toros de Las Ventas, Espanha   \n",
       "19  40.429058 -3.674250                       Barrio de Salamanca, Espanha   \n",
       "20  40.437030 -3.685992                     Museo Lazaro Galdiano, Espanha   \n",
       "21  40.435505 -3.692508                             Museu Sorolla, Espanha   \n",
       "22  40.428800 -3.704550                                  Malasana, Espanha   \n",
       "23  40.422080 -3.697580                      Mercado de San Antón, Espanha   \n",
       "24  40.422382 -3.703806    Iglesia de San Antonio de Los Alemanes, Espanha   \n",
       "25  40.421760 -3.708350                                  Gran Via, Espanha   \n",
       "26  40.423770 -3.714590                            Museo Cerralbo, Espanha   \n",
       "27  40.424004 -3.717760                           Templo de Debod, Espanha   \n",
       "28  40.419743 -3.748840                             Casa de Campo, Espanha   \n",
       "29  40.399610 -3.712749                    Parque Madrid R\\u00EDo, Espanha   \n",
       "30  40.410840 -3.714480  Real Basilica de San Francisco el Grande, Espanha   \n",
       "31  40.413722 -3.716059  History Museum of Madrid, Calle de Fuencarral,...   \n",
       "32  40.415540 -3.713670  Catedral de Sta Maria la Real de la Almudena, ...   \n",
       "33  40.417755 -3.714083                    Palácio Real de Madrid, Espanha   \n",
       "\n",
       "   status  \n",
       "0    Done  \n",
       "1    ToDo  \n",
       "2    ToDo  \n",
       "3    ToDo  \n",
       "4    ToDo  \n",
       "5    ToDo  \n",
       "6    ToDo  \n",
       "7    ToDo  \n",
       "8    ToDo  \n",
       "9    ToDo  \n",
       "10   ToDo  \n",
       "11   ToDo  \n",
       "12   ToDo  \n",
       "13   ToDo  \n",
       "14   Done  \n",
       "15   Done  \n",
       "16   ToDo  \n",
       "17   ToDo  \n",
       "18   ToDo  \n",
       "19   ToDo  \n",
       "20   ToDo  \n",
       "21   Done  \n",
       "22   Done  \n",
       "23   Done  \n",
       "24   ToDo  \n",
       "25   Done  \n",
       "26   ToDo  \n",
       "27   ToDo  \n",
       "28   ToDo  \n",
       "29   ToDo  \n",
       "30   ToDo  \n",
       "31   ToDo  \n",
       "32   ToDo  \n",
       "33   ToDo  "
      ]
     },
     "execution_count": 45,
     "metadata": {},
     "output_type": "execute_result"
    }
   ],
   "source": [
    "place = \"Plaza de Oriente, Espanha (ToDo)\"\n"
   ]
  },
  {
   "cell_type": "code",
   "execution_count": null,
   "id": "8df1b088",
   "metadata": {},
   "outputs": [],
   "source": []
  }
 ],
 "metadata": {
  "kernelspec": {
   "display_name": "Python 3 (ipykernel)",
   "language": "python",
   "name": "python3"
  },
  "language_info": {
   "codemirror_mode": {
    "name": "ipython",
    "version": 3
   },
   "file_extension": ".py",
   "mimetype": "text/x-python",
   "name": "python",
   "nbconvert_exporter": "python",
   "pygments_lexer": "ipython3",
   "version": "3.9.7"
  }
 },
 "nbformat": 4,
 "nbformat_minor": 5
}
