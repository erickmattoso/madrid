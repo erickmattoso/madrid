{
 "cells": [
  {
   "cell_type": "code",
   "execution_count": null,
   "id": "8d148935",
   "metadata": {},
   "outputs": [],
   "source": [
    "# libs\n",
    "import pandas as pd\n",
    "import math\n",
    "from itertools import combinations\n",
    "import gurobipy as gp\n",
    "from gurobipy import GRB\n",
    "\n",
    "# read data\n",
    "df_original = pd.read_csv('barcelona.csv', index_col=[0])\n",
    "\n",
    "# coordinates\n",
    "coordinates = df_original.set_index(\n",
    "    'title')[['lat', 'lng']].apply(tuple, axis=1).to_dict()\n",
    "\n",
    "# capitals\n",
    "capitals = list(df_original['title'])\n",
    "\n",
    "# Compute pairwise distance matrix\n",
    "\n",
    "\n",
    "def distance(city1, city2):\n",
    "    c1 = coordinates[city1]\n",
    "    c2 = coordinates[city2]\n",
    "    diff = (c1[0]-c2[0], c1[1]-c2[1])\n",
    "    return math.sqrt(diff[0]*diff[0]+diff[1]*diff[1])\n",
    "\n",
    "\n",
    "dist = {(c1, c2): distance(c1, c2) for c1, c2 in combinations(capitals, 2)}\n",
    "\n",
    "# tested with Python 3.7 & Gurobi 9.0.0\n",
    "m = gp.Model()\n",
    "\n",
    "# Variables: is city 'i' adjacent to city 'j' on the tour?\n",
    "vars = m.addVars(dist.keys(), obj=dist, vtype=GRB.BINARY, name='x')\n",
    "\n",
    "# Symmetric direction: Copy the object\n",
    "for i, j in vars.keys():\n",
    "    vars[j, i] = vars[i, j]  # edge in opposite direction\n",
    "\n",
    "# Constraints: two edges incident to each city\n",
    "cons = m.addConstrs(vars.sum(c, '*') == 2 for c in capitals)\n",
    "\n",
    "# Callback - use lazy constraints to eliminate sub-tours\n",
    "\n",
    "\n",
    "def subtourelim(model, where):\n",
    "    if where == GRB.Callback.MIPSOL:\n",
    "        # make a list of edges selected in the solution\n",
    "        vals = model.cbGetSolution(model._vars)\n",
    "        selected = gp.tuplelist((i, j) for i, j in model._vars.keys()\n",
    "                                if vals[i, j] > 0.5)\n",
    "        # find the shortest cycle in the selected edge list\n",
    "        tour = subtour(selected)\n",
    "        if len(tour) < len(capitals):\n",
    "            # add subtour elimination constr. for every pair of cities in subtour\n",
    "            model.cbLazy(gp.quicksum(model._vars[i, j] for i, j in combinations(tour, 2))\n",
    "                         <= len(tour)-1)\n",
    "\n",
    "# Given a tuplelist of edges, find the shortest subtour\n",
    "\n",
    "\n",
    "def subtour(edges):\n",
    "    unvisited = capitals[:]\n",
    "    cycle = capitals[:]  # Dummy - guaranteed to be replaced\n",
    "    while unvisited:  # true if list is non-empty\n",
    "        thiscycle = []\n",
    "        neighbors = unvisited\n",
    "        while neighbors:\n",
    "            current = neighbors[0]\n",
    "            thiscycle.append(current)\n",
    "            unvisited.remove(current)\n",
    "            neighbors = [j for i, j in edges.select(current, '*')\n",
    "                         if j in unvisited]\n",
    "        if len(thiscycle) <= len(cycle):\n",
    "            cycle = thiscycle  # New shortest subtour\n",
    "    return cycle\n",
    "\n",
    "\n",
    "m._vars = vars\n",
    "m.Params.lazyConstraints = 1\n",
    "m.optimize(subtourelim)\n",
    "\n",
    "vals = m.getAttr('x', vars)\n",
    "selected = gp.tuplelist((i, j) for i, j in vals.keys() if vals[i, j] > 0.5)\n",
    "tour = subtour(selected)\n",
    "assert len(tour) == len(capitals)\n"
   ]
  },
  {
   "cell_type": "code",
   "execution_count": null,
   "id": "97957b0c",
   "metadata": {},
   "outputs": [],
   "source": [
    "import folium"
   ]
  },
  {
   "cell_type": "code",
   "execution_count": null,
   "id": "72b78c31",
   "metadata": {},
   "outputs": [],
   "source": [
    "points = []\n",
    "for city in tour:\n",
    "    points.append(coordinates[city])\n",
    "points.append(points[0])\n",
    "\n",
    "\n",
    "map = folium.Map(location=[41.364548, 2.17611], zoom_start=12.5)\n",
    "\n",
    "folium.PolyLine(points).add_to(map)\n",
    "\n",
    "for lats, lons in [list(tup) for tup in points]:\n",
    "    map.add_child(folium.CircleMarker(\n",
    "        location=[lats, lons],\n",
    "        radius=4,\n",
    "        color=\"green\",\n",
    "        fill=True,\n",
    "        fill_opacity=1))\n"
   ]
  },
  {
   "cell_type": "markdown",
   "id": "a9722b60",
   "metadata": {},
   "source": [
    "---\n",
    "# sqlalchemy"
   ]
  },
  {
   "cell_type": "markdown",
   "id": "7b142c60",
   "metadata": {},
   "source": [
    "# ORM PLACES"
   ]
  },
  {
   "cell_type": "code",
   "execution_count": null,
   "id": "3b3e2a62",
   "metadata": {},
   "outputs": [],
   "source": [
    "from models import Base, User, Routes, Places\n",
    "from database import session"
   ]
  },
  {
   "cell_type": "code",
   "execution_count": null,
   "id": "fa3a4b07",
   "metadata": {},
   "outputs": [],
   "source": [
    "# country = ['spain','spain','spain','spain','spain']\n",
    "# state = [None,None,None,None,None] \n",
    "# city = ['barcelona','barcelona','barcelona','barcelona','barcelona']\n",
    "# placename = ['1. Basílica de la Sagrada Familia', '2. Gothic Quarter (Barri Gotic)', '3. Casa Batlló', '4. Palace of Catalan Music', '5. Casa Milà - La Pedrera']\n",
    "# lat = [41.403423, 41.3827, 41.391712, 41.387573, 41.395325]\n",
    "# lng = [2.174611, 2.177113, 2.164824, 2.175302, 2.161925]"
   ]
  },
  {
   "cell_type": "code",
   "execution_count": null,
   "id": "120715ff",
   "metadata": {},
   "outputs": [],
   "source": [
    "# import pandas as pd\n",
    "# dd = pd.read_csv('barcelona.csv')\n",
    "# country = 'spain'\n",
    "# state = None\n",
    "# city = 'barcelona'\n",
    "# placename = list(dd['title'])\n",
    "# lat = list(dd['lat'])\n",
    "# lng = list(dd['lng'])"
   ]
  },
  {
   "cell_type": "code",
   "execution_count": null,
   "id": "d601d034",
   "metadata": {},
   "outputs": [],
   "source": [
    "from sqlalchemy.sql import select, func\n",
    "import pandas as pd\n",
    "from models import Base, User, Routes, Places\n",
    "from database import session\n",
    "usersid=1\n",
    "\n",
    "places = Base.metadata.tables['places']\n",
    "comments = Base.metadata.tables['comments']\n",
    "\n",
    "# Create SQL\n",
    "sql_query = session.query(\n",
    "    places.c.id,\n",
    "    places.c.placename,\n",
    "    places.c.lat,\n",
    "    places.c.lng,\n",
    "    func.coalesce(comments.c.routestatus, 'ToDo'),\n",
    ").join(comments, comments.c.placesid == places.c.id and comments.c.usersid=={1} , isouter=True)\n",
    "\n",
    "# Apply SQL\n",
    "places_comments = sql_query.all()\n",
    "\n",
    "# Define Tables\n",
    "routes = Base.metadata.tables['routes']\n",
    "\n",
    "# Create SQL\n",
    "sql_query = session.query(\n",
    "    routes.c.routename,\n",
    "    routes.c.usersid,\n",
    "    routes.c.placesid\n",
    ").filter_by(usersid=usersid)\n",
    "\n",
    "# Apply SQL\n",
    "routename = sql_query.all()\n",
    "\n",
    "# transform to pandas\n",
    "my_keys=['routename', 'usersid', 'placesid']"
   ]
  },
  {
   "cell_type": "markdown",
   "id": "d48fc71b",
   "metadata": {},
   "source": [
    "# ORM USERS"
   ]
  },
  {
   "cell_type": "code",
   "execution_count": null,
   "id": "19460f90",
   "metadata": {},
   "outputs": [],
   "source": [
    "username = [\"davidson\",\"church\",\"harrington\",\"cabrera\",\"bradford\",\"olson\",\"silva\",\"ware\",\"mcclure\",\"whitney\",]\n",
    "password = [\"X8tfPXE6nfcmQlJO\",\"u5^21-$58uJm5KS0\",\"ZlQu@+&zzXe4J9ue\",\"yWWfvy^5KGTX2A8_\",\"5va%30=8i0X7vY67\",\"H9n2b#S$!&Zh0sa8\",\"4=m39O^$Ix78&jx7\",\"787zT7o3AI3ATsc+\",\"8_z#%J0U95Gr?v?H\",\"1EIz91_?7~kF6tD^\",]\n",
    "email = ['cummerata.mossie@skiles.org','cbergnaum@block.com','swift.francesco@gmail.com','hector.stark@gmail.com','tstroman@lindgren.org','kihn.chad@gaylord.com','jose.crona@gmail.com','myron.beatty@hotmail.com','jayce82@carroll.info','casper.retta@yahoo.com']\n",
    "first_name = [\"Rose Bush\",\"Paddy O’Furniture\",\"Olive Yew\",\"Aida Bugg\",\"Maureen Biologist\",\"Teri Dactyl\",\"Peg Legge\",\"Allie Grater\",\"Liz Erd\",\"A. Mused\"]\n",
    "last_name = [\"Davidson\",\"Church\",\"Harrington\",\"Cabrera\",\"Bradford\",\"Olson\",\"Silva\",\"Ware\",\"Mcclure\",\"Whitney\",]\n",
    "avatar_url = [\"https://example.com/avatar.jpg\",\"https://example.com/avatar.jpg\",\"https://example.com/avatar.jpg\",\"https://example.com/avatar.jpg\",\"https://example.com/avatar.jpg\",\"https://example.com/avatar.jpg\",\"https://example.com/avatar.jpg\",\"https://example.com/avatar.jpg\",\"https://example.com/avatar.jpg\",\"https://example.com/avatar.jpg\",]"
   ]
  },
  {
   "cell_type": "code",
   "execution_count": null,
   "id": "2349d585",
   "metadata": {},
   "outputs": [],
   "source": [
    "my_table = Base.metadata.tables['user']"
   ]
  },
  {
   "cell_type": "code",
   "execution_count": null,
   "id": "8913ab5c",
   "metadata": {},
   "outputs": [],
   "source": [
    "# click button add new\n",
    "for i in range(len(username)):\n",
    "    exists = session.query(my_table).filter_by(username=username[i]).first()\n",
    "    \n",
    "    if exists:\n",
    "        print(\"this register already exists\")\n",
    "    \n",
    "    else:\n",
    "        user = User(\n",
    "            username = username[i],\n",
    "            password = password[i],\n",
    "            email = email[i],\n",
    "            first_name = first_name[i],\n",
    "            last_name = last_name[i],\n",
    "            avatar_url = avatar_url[i]\n",
    "        )\n",
    "        session.add(user)\n",
    "        session.commit()"
   ]
  },
  {
   "cell_type": "code",
   "execution_count": null,
   "id": "cd97c87a",
   "metadata": {},
   "outputs": [],
   "source": [
    "session.query(my_table).first()"
   ]
  },
  {
   "cell_type": "markdown",
   "id": "4ffbe191",
   "metadata": {},
   "source": [
    "# ORM ROUTES"
   ]
  },
  {
   "cell_type": "code",
   "execution_count": null,
   "id": "421da043",
   "metadata": {},
   "outputs": [],
   "source": [
    "routename = ['routename_1','routename_1', 'routename_87']\n",
    "usersid = [2,2,1]\n",
    "placesid = [5,1,5]"
   ]
  },
  {
   "cell_type": "code",
   "execution_count": null,
   "id": "b37bc03c",
   "metadata": {},
   "outputs": [],
   "source": [
    "my_table = Base.metadata.tables['routes']"
   ]
  },
  {
   "cell_type": "code",
   "execution_count": null,
   "id": "2e4430bd",
   "metadata": {
    "scrolled": true
   },
   "outputs": [],
   "source": [
    "# click button add new\n",
    "for i in range(len(routename)):\n",
    "    exists = session.query(my_table).filter_by(\n",
    "        routename = routename[i],\n",
    "        usersid = usersid[i],\n",
    "        placesid = placesid[i]\n",
    "    ).first()\n",
    "    \n",
    "    if exists:\n",
    "        print(\"this register already exists\")\n",
    "    \n",
    "    else:\n",
    "        routes = Routes(\n",
    "            routename = routename[i],\n",
    "            usersid = usersid[i],\n",
    "            placesid = placesid[i],\n",
    "        )\n",
    "        session.add(routes)\n",
    "        session.commit()"
   ]
  },
  {
   "cell_type": "code",
   "execution_count": null,
   "id": "e3bd8a53",
   "metadata": {},
   "outputs": [],
   "source": [
    "from models import Base, User, Routes, Places\n",
    "from database import session\n",
    "\n",
    "routename = 'to visit'\n",
    "usersid = 1\n",
    "# placesid = [5,3,4,2]\n",
    "# interaction = len(placesid)\n",
    "my_table = Base.metadata.tables['routes']\n",
    "\n",
    "\n",
    "session.query(my_table).filter_by(routename=routename, usersid=usersid).all()\n",
    "# session.query(my_table).filter_by(routename=routename, usersid=usersid).delete()\n",
    "# session.commit()\n",
    "# d = addresses_table.delete().where(addresses_table.c.retired == 1)\n",
    "# d.execute()\n"
   ]
  },
  {
   "cell_type": "code",
   "execution_count": null,
   "id": "fec2e8e3",
   "metadata": {},
   "outputs": [],
   "source": [
    "# from models import Base, User, Routes, Places\n",
    "# from database import session\n",
    "\n",
    "# routename = 'routename_1'\n",
    "# usersid = 1\n",
    "# placesid = [5,3,4,2]\n",
    "# interaction = len(placesid)\n",
    "\n",
    "# my_table = Base.metadata.tables['routes']\n",
    "# print(session.query(my_table).all())\n",
    "\n",
    "# exists = session.query(my_table).filter_by(routename=routename, usersid=usersid).first()\n",
    "\n",
    "# if exists:\n",
    "#     print(\"This register already exists, what you wanna do?\")\n",
    "#     print()\n",
    "\n",
    "\n",
    "#     print(\"Add?\")\n",
    "#     for i in range(interaction):\n",
    "#         exists = session.query(my_table).filter_by(placesid=placesid[i], routename=routename, usersid=usersid).first()\n",
    "\n",
    "#         if exists:\n",
    "#             print(\"xpto\")\n",
    "#         else:\n",
    "#             routes = Routes(\n",
    "#                 routename = routename,\n",
    "#                 usersid = usersid,\n",
    "#                 placesid = placesid[i],\n",
    "#             )\n",
    "#             session.add(routes)\n",
    "#             session.commit()\n",
    "\n",
    "#     print(\"Replace?\")\n",
    "#     session.query(my_table).filter_by(routename=routename, usersid=usersid).delete()\n",
    "#     for i in range(interaction):\n",
    "#         routes = Routes(\n",
    "#             routename = routename,\n",
    "#             usersid = usersid,\n",
    "#             placesid = placesid[i],\n",
    "#         )\n",
    "#         session.add(routes)\n",
    "#         session.commit()\n",
    "    \n",
    "#     print(\"Delete?\")\n",
    "#     session.query(my_table).filter_by(routename=routename, usersid=usersid).delete()\n",
    "\n",
    "# else:\n",
    "#     for i in range(interaction):\n",
    "#         routes = Routes(\n",
    "#             routename = routename,\n",
    "#             usersid = usersid,\n",
    "#             placesid = placesid[i],\n",
    "#         )\n",
    "#         session.add(routes)\n",
    "#         session.commit()\n",
    "\n"
   ]
  },
  {
   "cell_type": "code",
   "execution_count": null,
   "id": "c11ef450",
   "metadata": {},
   "outputs": [],
   "source": []
  },
  {
   "cell_type": "code",
   "execution_count": null,
   "id": "e870826e",
   "metadata": {},
   "outputs": [],
   "source": []
  },
  {
   "cell_type": "code",
   "execution_count": null,
   "id": "643d96cc",
   "metadata": {},
   "outputs": [],
   "source": []
  },
  {
   "cell_type": "markdown",
   "id": "4b460cdb",
   "metadata": {},
   "source": [
    "## handling this sqlalchemy"
   ]
  },
  {
   "cell_type": "code",
   "execution_count": null,
   "id": "bcd43050",
   "metadata": {},
   "outputs": [],
   "source": [
    "import sqlalchemy as db\n",
    "\n",
    "hostname=\"localhost\"\n",
    "dbname=\"travel_optimization\"\n",
    "uname=\"root\"\n",
    "pwd='318586Em!'\n",
    "\n",
    "engine = db.create_engine(f\"mysql+pymysql://{uname}:{pwd}@{hostname}/{dbname}\")\n",
    "connection = engine.connect()\n",
    "metadata = db.MetaData()\n",
    "user = db.Table('user', metadata, autoload=True, autoload_with=engine)"
   ]
  },
  {
   "cell_type": "code",
   "execution_count": null,
   "id": "1079093a",
   "metadata": {},
   "outputs": [],
   "source": [
    "query = db.select([user])\n",
    "ResultProxy = connection.execute(query)\n",
    "ResultSet = ResultProxy.fetchall()\n",
    "ResultProxy.close()\n",
    "ResultSet[-5:]"
   ]
  },
  {
   "cell_type": "code",
   "execution_count": null,
   "id": "c7e9dacd",
   "metadata": {},
   "outputs": [],
   "source": [
    "#Inserting record one by one\n",
    "query = db.insert(routefilter).values(routefilter='routefiltesr', usersid=2, placesid=7)\n",
    "ResultProxy = connection.execute(query)\n",
    "ResultProxy.close()"
   ]
  },
  {
   "cell_type": "code",
   "execution_count": null,
   "id": "6cad2fed",
   "metadata": {},
   "outputs": [],
   "source": [
    "# Build a statement to update\n",
    "db.update(routefilter).values(routefilter = 'to be removed').where(routefilter.columns.routefilter == 'routefiltesr')\n",
    "ResultProxy = connection.execute(query)\n",
    "ResultProxy.close()"
   ]
  },
  {
   "cell_type": "code",
   "execution_count": null,
   "id": "b097be9b",
   "metadata": {},
   "outputs": [],
   "source": [
    "# Build a statement to delete\n",
    "query = db.delete(routefilter).where(routefilter.columns.routefilter == 'routefilter')\n",
    "ResultProxy = connection.execute(query)\n",
    "ResultProxy.close()"
   ]
  },
  {
   "cell_type": "code",
   "execution_count": null,
   "id": "ea0c7a78",
   "metadata": {},
   "outputs": [],
   "source": [
    "results = connection.execute(db.select([routefilter])).fetchall()\n",
    "import pandas as pd\n",
    "df = pd.DataFrame(results)\n",
    "df.columns = results[0].keys()\n",
    "df.tail()"
   ]
  },
  {
   "cell_type": "code",
   "execution_count": null,
   "id": "f05ec2a7",
   "metadata": {},
   "outputs": [],
   "source": [
    "models.Articles.query.filter_by(title=art_tile).first()"
   ]
  },
  {
   "cell_type": "code",
   "execution_count": null,
   "id": "e29f5aa0",
   "metadata": {},
   "outputs": [],
   "source": [
    "db.insert(routefilter).values(routefilter='routefiltesr', usersid=2, placesid=7)\n",
    "query = db.insert(routefilter).values(routefilter='routefiltesr', usersid=2, placesid=7)\n",
    "ResultProxy = connection.execute(query)"
   ]
  },
  {
   "cell_type": "markdown",
   "id": "0bd41715",
   "metadata": {},
   "source": [
    "## more handling this sqlalchemy"
   ]
  },
  {
   "cell_type": "code",
   "execution_count": null,
   "id": "3a903538",
   "metadata": {},
   "outputs": [],
   "source": [
    "from sqlalchemy import create_engine, MetaData, Table, select\n",
    "from sqlalchemy.ext.declarative import declarative_base\n",
    "import pandas as pd"
   ]
  },
  {
   "cell_type": "code",
   "execution_count": null,
   "id": "25f713d4",
   "metadata": {},
   "outputs": [],
   "source": [
    "hostname=\"localhost\"\n",
    "dbname=\"travel_optimization\"\n",
    "uname=\"root\"\n",
    "pwd='318586Em!'\n",
    "engine = create_engine(\"mysql+pymysql://{user}:{pw}@{host}/{db}\".format(host=hostname, db=dbname, user=uname, pw=pwd))\n",
    "engine.table_names()"
   ]
  },
  {
   "cell_type": "code",
   "execution_count": null,
   "id": "2d61e53c",
   "metadata": {},
   "outputs": [],
   "source": [
    "sql = \"select * from user\"\n",
    "user = pd.read_sql(sql,con=engine)\n",
    "user"
   ]
  },
  {
   "cell_type": "markdown",
   "id": "8aa52499",
   "metadata": {},
   "source": [
    "# delete rows"
   ]
  },
  {
   "cell_type": "code",
   "execution_count": null,
   "id": "0e3dd031",
   "metadata": {},
   "outputs": [],
   "source": [
    "from sqlalchemy import delete\n",
    "metadata = MetaData(bind=None)\n",
    "routefilter = Table(\n",
    "    'routefilter', \n",
    "    metadata, \n",
    "    autoload=True, \n",
    "    autoload_with=engine)\n",
    "\n",
    "stmt = delete(routefilter).where((routefilter.c.usersid == 2) & (\n",
    "    (routefilter.c.routefilter == \"a\") or\n",
    "    (routefilter.c.routefilter == \"e\")\n",
    "))\n",
    "engine.connect().execute(stmt)\n",
    "\n",
    "\n",
    "sql = f\"select * from routefilter where usersid = 2\"\n",
    "myfilters = pd.read_sql(sql, con=engine)\n",
    "myfilters"
   ]
  },
  {
   "cell_type": "markdown",
   "id": "2aec87ea",
   "metadata": {},
   "source": [
    "# drop"
   ]
  },
  {
   "cell_type": "code",
   "execution_count": null,
   "id": "4228f231",
   "metadata": {},
   "outputs": [],
   "source": [
    "def drop_table(table_name, engine=engine):\n",
    "    base = declarative_base()\n",
    "    metadata = MetaData()\n",
    "    metadata.reflect(bind=engine)\n",
    "    table = metadata.tables.get(table_name)\n",
    "    if table is not None:\n",
    "        base.metadata.drop_all(engine, [table], checkfirst=True)\n",
    "drop_table('places')"
   ]
  },
  {
   "cell_type": "code",
   "execution_count": null,
   "id": "0d474ad5",
   "metadata": {},
   "outputs": [],
   "source": [
    "engine.table_names()"
   ]
  },
  {
   "cell_type": "markdown",
   "id": "9be2995a",
   "metadata": {},
   "source": [
    "# pandas to sql"
   ]
  },
  {
   "cell_type": "code",
   "execution_count": null,
   "id": "e08d3ba5",
   "metadata": {},
   "outputs": [],
   "source": [
    "sql = \"select * from places\"\n",
    "df = pd.read_sql(sql,con=engine)\n",
    "df"
   ]
  },
  {
   "cell_type": "code",
   "execution_count": null,
   "id": "7e55022a",
   "metadata": {},
   "outputs": [],
   "source": [
    "# Convert dataframe to sql table                                   \n",
    "df.to_sql('places_copy', engine, if_exists='append', index=False)"
   ]
  },
  {
   "cell_type": "code",
   "execution_count": null,
   "id": "f46caa65",
   "metadata": {},
   "outputs": [],
   "source": [
    "sql = \"select * from routefilter\"\n",
    "pd.read_sql(sql,con=engine)"
   ]
  },
  {
   "cell_type": "markdown",
   "id": "b85c636d",
   "metadata": {},
   "source": [
    "# [read table](https://docs.sqlalchemy.org/en/20/tutorial/data_update.html)"
   ]
  },
  {
   "cell_type": "code",
   "execution_count": null,
   "id": "86c56da6",
   "metadata": {},
   "outputs": [],
   "source": [
    "metadata = MetaData(bind=None)\n",
    "table = Table(\n",
    "    'places_copy', \n",
    "    metadata, \n",
    "    autoload=True, \n",
    "    autoload_with=engine\n",
    ")\n",
    "\n",
    "stmt = select(\n",
    "    table.columns.country,\n",
    "    table.columns.state)\n",
    "# .where(and_(\n",
    "#     table.columns.column1 == 'filter1',\n",
    "#     table.columns.state == 'filter2'\n",
    "# ))\n",
    "\n",
    "connection = engine.connect()\n",
    "results = connection.execute(stmt).fetchall()"
   ]
  },
  {
   "cell_type": "code",
   "execution_count": null,
   "id": "66dc4625",
   "metadata": {},
   "outputs": [],
   "source": [
    "pd.DataFrame(results)"
   ]
  },
  {
   "cell_type": "markdown",
   "id": "67d11352",
   "metadata": {},
   "source": [
    "# close connection"
   ]
  },
  {
   "cell_type": "code",
   "execution_count": null,
   "id": "2aa8d8f2",
   "metadata": {},
   "outputs": [],
   "source": [
    "db = engine\n",
    "for i in range(1,2000):\n",
    "    conn = db.connect()\n",
    "    #some simple data operations\n",
    "    conn.close()\n",
    "db.dispose()"
   ]
  },
  {
   "cell_type": "code",
   "execution_count": null,
   "id": "467696fe",
   "metadata": {},
   "outputs": [],
   "source": [
    "usersid=2\n",
    "sql = f\"\"\"\n",
    "select\n",
    "    places.placesid,\n",
    "    places.place,\n",
    "    places.lat,\n",
    "    places.lng,\n",
    "    ifnull(comments.status, 'ToDo') as status\n",
    "from places as places\n",
    "\n",
    "left join comments as comments\n",
    "on places.placesid=comments.placesid\n",
    "AND comments.usersid={usersid}\n",
    "\"\"\"\n",
    "df_original = pd.read_sql(sql, con=engine)\n",
    "df_original = df_original.rename(columns={'place': 'title'})\n",
    "\n",
    "df_original.head()"
   ]
  },
  {
   "cell_type": "code",
   "execution_count": null,
   "id": "0e55a8a2",
   "metadata": {},
   "outputs": [],
   "source": [
    "sql = f\"select * from routefilter where usersid = {1}\"\n",
    "myfilters = pd.read_sql(sql, con=engine)\n",
    "myfilters.head()"
   ]
  },
  {
   "cell_type": "code",
   "execution_count": null,
   "id": "11e1ffe2",
   "metadata": {},
   "outputs": [],
   "source": []
  },
  {
   "cell_type": "code",
   "execution_count": null,
   "id": "9ed9ad1d",
   "metadata": {},
   "outputs": [],
   "source": []
  },
  {
   "cell_type": "code",
   "execution_count": null,
   "id": "ae5cdabc",
   "metadata": {},
   "outputs": [],
   "source": []
  },
  {
   "cell_type": "code",
   "execution_count": null,
   "id": "eb8a72b3",
   "metadata": {},
   "outputs": [],
   "source": [
    "# df = pd.DataFrame({\n",
    "#     \"routefilter\": \"test5\",\n",
    "#     \"usersid\": 2,\n",
    "#     \"placesid\": [4, 22, 11, 3, 24],\n",
    "# })\n",
    "# df\n",
    "\n",
    "# route filter data\n",
    "sql = \"select * from routefilter where usersid = 1\"\n",
    "myfilters = pd.read_sql(sql, con=engine)\n",
    "filter_names = list(myfilters['routefilter'].unique())\n",
    "route_filter='test5'\n",
    "\n",
    "chosen_filter = myfilters[myfilters['routefilter'] == route_filter]['placesid'].to_list()\n",
    "filter_names"
   ]
  },
  {
   "cell_type": "code",
   "execution_count": null,
   "id": "499cf660",
   "metadata": {},
   "outputs": [],
   "source": [
    "from sqlalchemy import delete\n",
    "metadata = MetaData(bind=None)\n",
    "routefilter = Table(\n",
    "    'routefilter', \n",
    "    metadata, \n",
    "    autoload=True, \n",
    "    autoload_with=engine)\n",
    "\n",
    "# stmt = delete(routefilter).where((routefilter.c.usersid == 2) & (\n",
    "#     (routefilter.c.routefilter == \"a\") or\n",
    "#     (routefilter.c.routefilter == \"e\")\n",
    "# ))\n",
    "# engine.connect().execute(stmt)\n",
    "\n",
    "\n",
    "sql = f\"select * from routefilter where usersid = 1\"\n",
    "myfilters = pd.read_sql(sql, con=engine)\n",
    "myfilters.head()"
   ]
  },
  {
   "cell_type": "code",
   "execution_count": null,
   "id": "6d920288",
   "metadata": {},
   "outputs": [],
   "source": [
    "exists = models.Articles.query.filter_by(title=art_tile).first()\n",
    "# if not exists:\n",
    "#     art = models.Articles(title=art_title, date=datum, description=words, url=adresse, status=1)\n",
    "#     db.session.add(art)\n",
    "#     db.session.commit()"
   ]
  },
  {
   "cell_type": "code",
   "execution_count": null,
   "id": "c31fff5a",
   "metadata": {},
   "outputs": [],
   "source": []
  },
  {
   "cell_type": "code",
   "execution_count": null,
   "id": "84bb9b0d",
   "metadata": {},
   "outputs": [],
   "source": [
    "# def meuteste(df):\n",
    "#     tour, coordinates = model.model_TSP(df)\n",
    "#     points = []\n",
    "#     for city in tour:\n",
    "#         points.append(coordinates[city])\n",
    "#     points.append(points[0])\n",
    "\n",
    "\n",
    "#     map = folium.Map(location=[41.364548, 2.17611], zoom_start=12.5)\n",
    "\n",
    "#     folium.PolyLine(points).add_to(map)\n",
    "\n",
    "#     for lats, lons in [list(tup) for tup in points]:\n",
    "#         map.add_child(folium.CircleMarker(\n",
    "#             location=[lats, lons],\n",
    "#             radius=4,\n",
    "#             color=\"green\",\n",
    "#             fill=True,\n",
    "#             fill_opacity=1))\n",
    "#     return map\n",
    "\n",
    "# import model\n",
    "# meuteste(df_original)"
   ]
  },
  {
   "cell_type": "code",
   "execution_count": null,
   "id": "dfb3c20b",
   "metadata": {},
   "outputs": [],
   "source": [
    "place_lat = [37.4601928, 37.4593108, 37.4641108, 37.4611508]\n",
    "place_lng = [126.4406957, 126.4432957, 126.4476917, 126.4423957]\n",
    "\n",
    "points = []\n",
    "for i in range(len(place_lat)):\n",
    "    points.append([place_lat[i], place_lng[i]])\n",
    "points    "
   ]
  },
  {
   "cell_type": "code",
   "execution_count": null,
   "id": "b6bf87d1",
   "metadata": {},
   "outputs": [],
   "source": []
  },
  {
   "cell_type": "code",
   "execution_count": null,
   "id": "23a0da9a",
   "metadata": {},
   "outputs": [],
   "source": []
  },
  {
   "cell_type": "code",
   "execution_count": null,
   "id": "eea01e6c",
   "metadata": {},
   "outputs": [],
   "source": []
  },
  {
   "cell_type": "code",
   "execution_count": null,
   "id": "9cc4dfc5",
   "metadata": {},
   "outputs": [],
   "source": [
    "asasasdsadas"
   ]
  },
  {
   "cell_type": "code",
   "execution_count": null,
   "id": "7116bdb8",
   "metadata": {},
   "outputs": [],
   "source": []
  },
  {
   "cell_type": "code",
   "execution_count": null,
   "id": "02dabd64",
   "metadata": {},
   "outputs": [],
   "source": [
    "ahgshafs = ['a','b','c']\n",
    "\n",
    "\n",
    "'d' not in ahgshafs"
   ]
  },
  {
   "cell_type": "code",
   "execution_count": null,
   "id": "54da9abf",
   "metadata": {},
   "outputs": [],
   "source": [
    "import geocoder\n",
    "g = geocoder.ip('me')\n",
    "print(g.latlng)"
   ]
  },
  {
   "cell_type": "code",
   "execution_count": null,
   "id": "f99dae35",
   "metadata": {},
   "outputs": [],
   "source": [
    "import numpy as np\n",
    "from bokeh.plotting import Figure, show, curdoc\n",
    "from bokeh.models import CustomJS, ColumnDataSource, Button, Column\n",
    "from bokeh.events import Tap\n",
    "\n",
    "cds = ColumnDataSource(data = dict(x = [0.1, 0.9], y = [0.1, 0.9]))\n",
    "p = Figure(x_range = (0, 1), y_range = (0, 1), tools = \"\")\n",
    "p.scatter(x = 'x', y = 'y', source = cds)\n",
    "\n",
    "data = dict(x = [0.5], y = [0.5])\n",
    "callback = CustomJS(args = {'cds': cds, 'data': data}, code = \"cds.data = data\")\n",
    "\n",
    "button = Button(label = 'click me')\n",
    "button.js_on_event('button_click', callback)\n",
    "\n",
    "cds.js_on_change('data', CustomJS(code = \"alert('data_change_detected');\"))\n",
    "\n",
    "show(Column(p, button))"
   ]
  },
  {
   "cell_type": "code",
   "execution_count": null,
   "id": "3ef73eb4",
   "metadata": {},
   "outputs": [],
   "source": []
  },
  {
   "cell_type": "code",
   "execution_count": null,
   "id": "982f337c",
   "metadata": {},
   "outputs": [],
   "source": []
  },
  {
   "cell_type": "code",
   "execution_count": null,
   "id": "fc710f58",
   "metadata": {},
   "outputs": [],
   "source": []
  },
  {
   "cell_type": "code",
   "execution_count": null,
   "id": "177e4e38",
   "metadata": {},
   "outputs": [],
   "source": []
  },
  {
   "cell_type": "code",
   "execution_count": null,
   "id": "2674cee4",
   "metadata": {},
   "outputs": [],
   "source": []
  },
  {
   "cell_type": "code",
   "execution_count": null,
   "id": "2e977930",
   "metadata": {},
   "outputs": [],
   "source": []
  },
  {
   "cell_type": "code",
   "execution_count": null,
   "id": "0e4a578d",
   "metadata": {},
   "outputs": [],
   "source": []
  },
  {
   "cell_type": "code",
   "execution_count": null,
   "id": "8dbf40e1",
   "metadata": {},
   "outputs": [],
   "source": []
  },
  {
   "cell_type": "code",
   "execution_count": null,
   "id": "21c06eb0",
   "metadata": {},
   "outputs": [],
   "source": []
  },
  {
   "cell_type": "code",
   "execution_count": null,
   "id": "efd8672d",
   "metadata": {},
   "outputs": [],
   "source": [
    "# sql = \"select * from places\"\n",
    "# places = pd.read_sql(sql,con=engine)\n",
    "places = pd.read_csv('barcelona.csv', index_col=[0])\n",
    "places = places[['title','lat','lng']]\n",
    "places = places.reset_index()\n",
    "places.columns = ['placesid','title', 'lat', 'lng']\n",
    "places.head()"
   ]
  },
  {
   "cell_type": "code",
   "execution_count": null,
   "id": "b9469b4b",
   "metadata": {},
   "outputs": [],
   "source": []
  },
  {
   "cell_type": "code",
   "execution_count": null,
   "id": "3c412cc6",
   "metadata": {},
   "outputs": [],
   "source": [
    "sql = \"select * from routefilter where usersid = 1\"\n",
    "myfilters = pd.read_sql(sql, con=engine)\n",
    "myfilters"
   ]
  },
  {
   "cell_type": "code",
   "execution_count": null,
   "id": "1cda8de8",
   "metadata": {},
   "outputs": [],
   "source": [
    "routefilter = 'TESTANDO'\n",
    "usersid = 2\n",
    "placesid = [4, 22, 11, 3, 24]\n",
    "    \n",
    "df = pd.DataFrame({\n",
    "    \"routefilter\": routefilter,\n",
    "    \"usersid\": usersid,\n",
    "    \"placesid\": placesid,\n",
    "})\n",
    "df    "
   ]
  },
  {
   "cell_type": "code",
   "execution_count": null,
   "id": "d8cc035f",
   "metadata": {},
   "outputs": [],
   "source": []
  },
  {
   "cell_type": "code",
   "execution_count": null,
   "id": "41c8a59d",
   "metadata": {},
   "outputs": [],
   "source": []
  },
  {
   "cell_type": "code",
   "execution_count": null,
   "id": "f8115312",
   "metadata": {},
   "outputs": [],
   "source": []
  },
  {
   "cell_type": "code",
   "execution_count": null,
   "id": "a107f3dd",
   "metadata": {},
   "outputs": [],
   "source": []
  },
  {
   "cell_type": "code",
   "execution_count": null,
   "id": "a03e075f",
   "metadata": {},
   "outputs": [],
   "source": []
  },
  {
   "cell_type": "code",
   "execution_count": null,
   "id": "7273cc4b",
   "metadata": {},
   "outputs": [],
   "source": [
    "places_copy.loc[places_copy[\"placesid\"]==7, \"comment\"] = 'my first comment'\n",
    "places_copy.loc[places_copy[\"placesid\"]==20, \"comment\"] = 'my second comment'\n",
    "places_copy"
   ]
  },
  {
   "cell_type": "code",
   "execution_count": null,
   "id": "2732fabb",
   "metadata": {},
   "outputs": [],
   "source": [
    "print(places_copy.loc[places_copy[\"placesid\"]==7]['placesid'])\n",
    "print(places_copy.loc[places_copy[\"placesid\"]==7]['comment'])"
   ]
  },
  {
   "cell_type": "code",
   "execution_count": null,
   "id": "cd6dc4ec",
   "metadata": {},
   "outputs": [],
   "source": [
    "sql = \"select * from comments\"\n",
    "comments = pd.read_sql(sql,con=engine)\n",
    "comments.head()"
   ]
  },
  {
   "cell_type": "code",
   "execution_count": null,
   "id": "8645e040",
   "metadata": {},
   "outputs": [],
   "source": [
    "sql = \"select * from routefilter\"\n",
    "users = pd.read_sql(sql,con=engine)\n",
    "users.head()"
   ]
  },
  {
   "cell_type": "code",
   "execution_count": null,
   "id": "e7185a4e",
   "metadata": {},
   "outputs": [],
   "source": [
    "sql = \"\"\"\n",
    "select * \n",
    "from places as places\n",
    "\n",
    "left join comments as comments\n",
    "on places.placesid=comments.placesid\n",
    "AND comments.usersid=2\n",
    "\n",
    "left join users as users\n",
    "on users.usersid=comments.usersid\n",
    "\n",
    "\"\"\"\n",
    "pd.read_sql(sql,con=engine).head(2)"
   ]
  },
  {
   "cell_type": "code",
   "execution_count": null,
   "id": "2ef2a722",
   "metadata": {},
   "outputs": [],
   "source": [
    "sql = \"\"\"\n",
    "select * \n",
    "from places as places\n",
    "\n",
    "left join comments as comments\n",
    "on places.placesid=comments.placesid\n",
    "AND comments.usersid=2\n",
    "\n",
    "left join users as users\n",
    "on users.usersid=comments.usersid\n",
    "\n",
    "\"\"\"\n",
    "pd.read_sql(sql,con=engine).head(2)"
   ]
  },
  {
   "cell_type": "code",
   "execution_count": null,
   "id": "0a47a3de",
   "metadata": {},
   "outputs": [],
   "source": []
  },
  {
   "cell_type": "code",
   "execution_count": null,
   "id": "bc65ae47",
   "metadata": {},
   "outputs": [],
   "source": []
  },
  {
   "cell_type": "code",
   "execution_count": null,
   "id": "28137537",
   "metadata": {},
   "outputs": [],
   "source": []
  },
  {
   "cell_type": "code",
   "execution_count": null,
   "id": "d19a7d44",
   "metadata": {},
   "outputs": [],
   "source": []
  },
  {
   "cell_type": "code",
   "execution_count": null,
   "id": "9d827f1a",
   "metadata": {},
   "outputs": [],
   "source": []
  },
  {
   "cell_type": "code",
   "execution_count": null,
   "id": "8e6ce238",
   "metadata": {},
   "outputs": [],
   "source": []
  },
  {
   "cell_type": "code",
   "execution_count": null,
   "id": "947d8c6d",
   "metadata": {},
   "outputs": [],
   "source": [
    "places[places['placesid'].isin(df['order'][0])]"
   ]
  },
  {
   "cell_type": "code",
   "execution_count": null,
   "id": "9c44ecfd",
   "metadata": {},
   "outputs": [],
   "source": [
    "grind = pd.read_csv('barcelona.csv', index_col=[0]).reset_index()\n",
    "grind = grind[['All']].rename(columns={'All':'order'})\n",
    "grind = grind.reset_index().rename(columns={'index':'placesid'})\n",
    "grind['usersid']=1\n",
    "grind['ordername']='all'\n",
    "grind.head()"
   ]
  },
  {
   "cell_type": "code",
   "execution_count": null,
   "id": "c3f74eb5",
   "metadata": {},
   "outputs": [],
   "source": [
    "df = pd.merge(grind,users)\n",
    "df = pd.merge(df,places)\n",
    "df"
   ]
  },
  {
   "cell_type": "code",
   "execution_count": null,
   "id": "4814f7a3",
   "metadata": {},
   "outputs": [],
   "source": []
  },
  {
   "cell_type": "code",
   "execution_count": null,
   "id": "836147f1",
   "metadata": {},
   "outputs": [],
   "source": []
  },
  {
   "cell_type": "code",
   "execution_count": null,
   "id": "190784aa",
   "metadata": {},
   "outputs": [],
   "source": []
  },
  {
   "cell_type": "code",
   "execution_count": null,
   "id": "feee9f96",
   "metadata": {},
   "outputs": [],
   "source": []
  },
  {
   "cell_type": "code",
   "execution_count": null,
   "id": "0059b87c",
   "metadata": {},
   "outputs": [],
   "source": []
  },
  {
   "cell_type": "code",
   "execution_count": null,
   "id": "c2e2c19c",
   "metadata": {},
   "outputs": [],
   "source": []
  },
  {
   "cell_type": "code",
   "execution_count": 1,
   "id": "a47bb16c",
   "metadata": {},
   "outputs": [
    {
     "data": {
      "text/html": [
       "<div>\n",
       "<style scoped>\n",
       "    .dataframe tbody tr th:only-of-type {\n",
       "        vertical-align: middle;\n",
       "    }\n",
       "\n",
       "    .dataframe tbody tr th {\n",
       "        vertical-align: top;\n",
       "    }\n",
       "\n",
       "    .dataframe thead th {\n",
       "        text-align: right;\n",
       "    }\n",
       "</style>\n",
       "<table border=\"1\" class=\"dataframe\">\n",
       "  <thead>\n",
       "    <tr style=\"text-align: right;\">\n",
       "      <th></th>\n",
       "      <th>station_id</th>\n",
       "      <th>name</th>\n",
       "      <th>status</th>\n",
       "      <th>address</th>\n",
       "      <th>alternate_name</th>\n",
       "      <th>city_asset_number</th>\n",
       "      <th>property_type</th>\n",
       "      <th>number_of_docks</th>\n",
       "      <th>power_type</th>\n",
       "      <th>footprint_length</th>\n",
       "      <th>footprint_width</th>\n",
       "      <th>notes</th>\n",
       "      <th>council_district</th>\n",
       "      <th>modified_date</th>\n",
       "    </tr>\n",
       "  </thead>\n",
       "  <tbody>\n",
       "    <tr>\n",
       "      <th>0</th>\n",
       "      <td>2538</td>\n",
       "      <td>Bullock Museum @ Congress &amp; MLK</td>\n",
       "      <td>closed</td>\n",
       "      <td>1881 Congress Ave.</td>\n",
       "      <td>None</td>\n",
       "      <td>NaN</td>\n",
       "      <td>None</td>\n",
       "      <td>NaN</td>\n",
       "      <td>None</td>\n",
       "      <td>NaN</td>\n",
       "      <td>NaN</td>\n",
       "      <td>None</td>\n",
       "      <td>1</td>\n",
       "      <td>2021-01-04 12:00:00+00:00</td>\n",
       "    </tr>\n",
       "    <tr>\n",
       "      <th>1</th>\n",
       "      <td>2541</td>\n",
       "      <td>State Capitol @ 14th &amp; Colorado</td>\n",
       "      <td>closed</td>\n",
       "      <td>206 W. 14th St.</td>\n",
       "      <td>None</td>\n",
       "      <td>NaN</td>\n",
       "      <td>None</td>\n",
       "      <td>NaN</td>\n",
       "      <td>None</td>\n",
       "      <td>NaN</td>\n",
       "      <td>NaN</td>\n",
       "      <td>None</td>\n",
       "      <td>1</td>\n",
       "      <td>2021-01-04 12:00:00+00:00</td>\n",
       "    </tr>\n",
       "    <tr>\n",
       "      <th>2</th>\n",
       "      <td>2545</td>\n",
       "      <td>ACC - Rio Grande &amp; 12th</td>\n",
       "      <td>closed</td>\n",
       "      <td>700 W. 12th St.</td>\n",
       "      <td>None</td>\n",
       "      <td>NaN</td>\n",
       "      <td>None</td>\n",
       "      <td>NaN</td>\n",
       "      <td>None</td>\n",
       "      <td>NaN</td>\n",
       "      <td>NaN</td>\n",
       "      <td>None</td>\n",
       "      <td>9</td>\n",
       "      <td>2021-01-04 12:00:00+00:00</td>\n",
       "    </tr>\n",
       "    <tr>\n",
       "      <th>3</th>\n",
       "      <td>2546</td>\n",
       "      <td>ACC - West &amp; 12th Street</td>\n",
       "      <td>closed</td>\n",
       "      <td>1231 West Ave.</td>\n",
       "      <td>None</td>\n",
       "      <td>NaN</td>\n",
       "      <td>None</td>\n",
       "      <td>NaN</td>\n",
       "      <td>None</td>\n",
       "      <td>NaN</td>\n",
       "      <td>NaN</td>\n",
       "      <td>None</td>\n",
       "      <td>9</td>\n",
       "      <td>2021-01-04 12:00:00+00:00</td>\n",
       "    </tr>\n",
       "    <tr>\n",
       "      <th>4</th>\n",
       "      <td>2564</td>\n",
       "      <td>5th &amp; San Marcos</td>\n",
       "      <td>closed</td>\n",
       "      <td>991 East 5th</td>\n",
       "      <td>None</td>\n",
       "      <td>NaN</td>\n",
       "      <td>None</td>\n",
       "      <td>NaN</td>\n",
       "      <td>None</td>\n",
       "      <td>NaN</td>\n",
       "      <td>NaN</td>\n",
       "      <td>None</td>\n",
       "      <td>3</td>\n",
       "      <td>2021-01-04 12:00:00+00:00</td>\n",
       "    </tr>\n",
       "  </tbody>\n",
       "</table>\n",
       "</div>"
      ],
      "text/plain": [
       "   station_id                             name  status             address  \\\n",
       "0        2538  Bullock Museum @ Congress & MLK  closed  1881 Congress Ave.   \n",
       "1        2541  State Capitol @ 14th & Colorado  closed     206 W. 14th St.   \n",
       "2        2545          ACC - Rio Grande & 12th  closed     700 W. 12th St.   \n",
       "3        2546         ACC - West & 12th Street  closed      1231 West Ave.   \n",
       "4        2564                 5th & San Marcos  closed        991 East 5th   \n",
       "\n",
       "  alternate_name  city_asset_number property_type  number_of_docks power_type  \\\n",
       "0           None                NaN          None              NaN       None   \n",
       "1           None                NaN          None              NaN       None   \n",
       "2           None                NaN          None              NaN       None   \n",
       "3           None                NaN          None              NaN       None   \n",
       "4           None                NaN          None              NaN       None   \n",
       "\n",
       "   footprint_length  footprint_width notes  council_district  \\\n",
       "0               NaN              NaN  None                 1   \n",
       "1               NaN              NaN  None                 1   \n",
       "2               NaN              NaN  None                 9   \n",
       "3               NaN              NaN  None                 9   \n",
       "4               NaN              NaN  None                 3   \n",
       "\n",
       "              modified_date  \n",
       "0 2021-01-04 12:00:00+00:00  \n",
       "1 2021-01-04 12:00:00+00:00  \n",
       "2 2021-01-04 12:00:00+00:00  \n",
       "3 2021-01-04 12:00:00+00:00  \n",
       "4 2021-01-04 12:00:00+00:00  "
      ]
     },
     "execution_count": 1,
     "metadata": {},
     "output_type": "execute_result"
    }
   ],
   "source": [
    "from google.cloud import bigquery\n",
    "from google.oauth2 import service_account\n",
    "\n",
    "credentials = service_account.Credentials.from_service_account_file('file.json')\n",
    "project_id = 'python-221322'\n",
    "client = bigquery.Client(credentials= credentials,project=project_id)\n",
    "\n",
    "query_job = client.query(\"\"\"\n",
    "    SELECT * \n",
    "    FROM `bigquery-public-data.austin_bikeshare.bikeshare_stations` \n",
    "    LIMIT 5\n",
    "\"\"\")\n",
    "\n",
    "results = query_job.result()\n",
    "df = results.to_dataframe()\n",
    "df"
   ]
  },
  {
   "cell_type": "code",
   "execution_count": null,
   "id": "a8a37ea6",
   "metadata": {},
   "outputs": [],
   "source": [
    "from sqlalchemy import create_engine, MetaData, Table, select\n",
    "from sqlalchemy.ext.declarative import declarative_base\n",
    "import pandas as pd\n",
    "\n",
    "\n",
    "host='br894.hostgator.com.br:2083'\n",
    "dbname='mestre09_travel_optimization'\n",
    "uname='mestre09_mattosoe',\n",
    "pwd='32281541Em!@#'\n",
    "engine = create_engine(f\"mysql+pymysql://{uname}:{pwd}@{host}/{dbname}\")\n",
    "engine.table_names()\n",
    "\n",
    "\n",
    "# https://br894.hostgator.com.br:2083/cpsess0527248590/3rdparty/phpMyAdmin/db_structure.php?server=1&db=mestre09_travel_optimization"
   ]
  },
  {
   "cell_type": "code",
   "execution_count": null,
   "id": "3998a0a2",
   "metadata": {},
   "outputs": [],
   "source": [
    "import pymysql\n",
    "connection = pymysql.connect(\n",
    "    host='br894.hostgator.com.br',\n",
    "    port=2083,\n",
    "    user='mestre09_mattosoe',\n",
    "    password='32281541Em!@#',\n",
    "    db='mestre09_travel_optimization',\n",
    "    charset='utf8mb4',\n",
    "    cursorclass=pymysql.cursors.DictCursor\n",
    ")\n",
    "# https://br894.hostgator.com.br:2083/\n",
    "cursor = connection.cursor()"
   ]
  },
  {
   "cell_type": "code",
   "execution_count": 9,
   "id": "30ca591d",
   "metadata": {},
   "outputs": [
    {
     "ename": "OperationalError",
     "evalue": "(2003, \"Can't connect to MySQL server on '11.102.0.24' (timed out)\")",
     "output_type": "error",
     "traceback": [
      "\u001b[0;31m---------------------------------------------------------------------------\u001b[0m",
      "\u001b[0;31mtimeout\u001b[0m                                   Traceback (most recent call last)",
      "\u001b[0;32m/opt/anaconda3/envs/rents/lib/python3.9/site-packages/pymysql/connections.py\u001b[0m in \u001b[0;36mconnect\u001b[0;34m(self, sock)\u001b[0m\n\u001b[1;32m    612\u001b[0m                         \u001b[0;32mtry\u001b[0m\u001b[0;34m:\u001b[0m\u001b[0;34m\u001b[0m\u001b[0;34m\u001b[0m\u001b[0m\n\u001b[0;32m--> 613\u001b[0;31m                             sock = socket.create_connection(\n\u001b[0m\u001b[1;32m    614\u001b[0m                                 \u001b[0;34m(\u001b[0m\u001b[0mself\u001b[0m\u001b[0;34m.\u001b[0m\u001b[0mhost\u001b[0m\u001b[0;34m,\u001b[0m \u001b[0mself\u001b[0m\u001b[0;34m.\u001b[0m\u001b[0mport\u001b[0m\u001b[0;34m)\u001b[0m\u001b[0;34m,\u001b[0m \u001b[0mself\u001b[0m\u001b[0;34m.\u001b[0m\u001b[0mconnect_timeout\u001b[0m\u001b[0;34m,\u001b[0m \u001b[0;34m**\u001b[0m\u001b[0mkwargs\u001b[0m\u001b[0;34m\u001b[0m\u001b[0;34m\u001b[0m\u001b[0m\n",
      "\u001b[0;32m/opt/anaconda3/envs/rents/lib/python3.9/socket.py\u001b[0m in \u001b[0;36mcreate_connection\u001b[0;34m(address, timeout, source_address)\u001b[0m\n\u001b[1;32m    843\u001b[0m         \u001b[0;32mtry\u001b[0m\u001b[0;34m:\u001b[0m\u001b[0;34m\u001b[0m\u001b[0;34m\u001b[0m\u001b[0m\n\u001b[0;32m--> 844\u001b[0;31m             \u001b[0;32mraise\u001b[0m \u001b[0merr\u001b[0m\u001b[0;34m\u001b[0m\u001b[0;34m\u001b[0m\u001b[0m\n\u001b[0m\u001b[1;32m    845\u001b[0m         \u001b[0;32mfinally\u001b[0m\u001b[0;34m:\u001b[0m\u001b[0;34m\u001b[0m\u001b[0;34m\u001b[0m\u001b[0m\n",
      "\u001b[0;32m/opt/anaconda3/envs/rents/lib/python3.9/socket.py\u001b[0m in \u001b[0;36mcreate_connection\u001b[0;34m(address, timeout, source_address)\u001b[0m\n\u001b[1;32m    831\u001b[0m                 \u001b[0msock\u001b[0m\u001b[0;34m.\u001b[0m\u001b[0mbind\u001b[0m\u001b[0;34m(\u001b[0m\u001b[0msource_address\u001b[0m\u001b[0;34m)\u001b[0m\u001b[0;34m\u001b[0m\u001b[0;34m\u001b[0m\u001b[0m\n\u001b[0;32m--> 832\u001b[0;31m             \u001b[0msock\u001b[0m\u001b[0;34m.\u001b[0m\u001b[0mconnect\u001b[0m\u001b[0;34m(\u001b[0m\u001b[0msa\u001b[0m\u001b[0;34m)\u001b[0m\u001b[0;34m\u001b[0m\u001b[0;34m\u001b[0m\u001b[0m\n\u001b[0m\u001b[1;32m    833\u001b[0m             \u001b[0;31m# Break explicitly a reference cycle\u001b[0m\u001b[0;34m\u001b[0m\u001b[0;34m\u001b[0m\u001b[0m\n",
      "\u001b[0;31mtimeout\u001b[0m: timed out",
      "\nDuring handling of the above exception, another exception occurred:\n",
      "\u001b[0;31mOperationalError\u001b[0m                          Traceback (most recent call last)",
      "\u001b[0;32m/var/folders/pl/wm7wjyvn1vvflk70yn1b6n6c0000gn/T/ipykernel_93220/2714625330.py\u001b[0m in \u001b[0;36m<module>\u001b[0;34m\u001b[0m\n\u001b[1;32m      2\u001b[0m \u001b[0;34m\u001b[0m\u001b[0m\n\u001b[1;32m      3\u001b[0m \u001b[0;34m\u001b[0m\u001b[0m\n\u001b[0;32m----> 4\u001b[0;31m CONN = pymysql.connect(\n\u001b[0m\u001b[1;32m      5\u001b[0m     \u001b[0mhost\u001b[0m\u001b[0;34m=\u001b[0m\u001b[0;34m'11.102.0.24'\u001b[0m\u001b[0;34m,\u001b[0m\u001b[0;34m\u001b[0m\u001b[0;34m\u001b[0m\u001b[0m\n\u001b[1;32m      6\u001b[0m     \u001b[0muser\u001b[0m\u001b[0;34m=\u001b[0m\u001b[0;34m'mestre09_mattosoe'\u001b[0m\u001b[0;34m,\u001b[0m\u001b[0;34m\u001b[0m\u001b[0;34m\u001b[0m\u001b[0m\n",
      "\u001b[0;32m/opt/anaconda3/envs/rents/lib/python3.9/site-packages/pymysql/connections.py\u001b[0m in \u001b[0;36m__init__\u001b[0;34m(self, user, password, host, database, unix_socket, port, charset, sql_mode, read_default_file, conv, use_unicode, client_flag, cursorclass, init_command, connect_timeout, read_default_group, autocommit, local_infile, max_allowed_packet, defer_connect, auth_plugin_map, read_timeout, write_timeout, bind_address, binary_prefix, program_name, server_public_key, ssl, ssl_ca, ssl_cert, ssl_disabled, ssl_key, ssl_verify_cert, ssl_verify_identity, compress, named_pipe, passwd, db)\u001b[0m\n\u001b[1;32m    351\u001b[0m             \u001b[0mself\u001b[0m\u001b[0;34m.\u001b[0m\u001b[0m_sock\u001b[0m \u001b[0;34m=\u001b[0m \u001b[0;32mNone\u001b[0m\u001b[0;34m\u001b[0m\u001b[0;34m\u001b[0m\u001b[0m\n\u001b[1;32m    352\u001b[0m         \u001b[0;32melse\u001b[0m\u001b[0;34m:\u001b[0m\u001b[0;34m\u001b[0m\u001b[0;34m\u001b[0m\u001b[0m\n\u001b[0;32m--> 353\u001b[0;31m             \u001b[0mself\u001b[0m\u001b[0;34m.\u001b[0m\u001b[0mconnect\u001b[0m\u001b[0;34m(\u001b[0m\u001b[0;34m)\u001b[0m\u001b[0;34m\u001b[0m\u001b[0;34m\u001b[0m\u001b[0m\n\u001b[0m\u001b[1;32m    354\u001b[0m \u001b[0;34m\u001b[0m\u001b[0m\n\u001b[1;32m    355\u001b[0m     \u001b[0;32mdef\u001b[0m \u001b[0m__enter__\u001b[0m\u001b[0;34m(\u001b[0m\u001b[0mself\u001b[0m\u001b[0;34m)\u001b[0m\u001b[0;34m:\u001b[0m\u001b[0;34m\u001b[0m\u001b[0;34m\u001b[0m\u001b[0m\n",
      "\u001b[0;32m/opt/anaconda3/envs/rents/lib/python3.9/site-packages/pymysql/connections.py\u001b[0m in \u001b[0;36mconnect\u001b[0;34m(self, sock)\u001b[0m\n\u001b[1;32m    662\u001b[0m                 \u001b[0;32mif\u001b[0m \u001b[0mDEBUG\u001b[0m\u001b[0;34m:\u001b[0m\u001b[0;34m\u001b[0m\u001b[0;34m\u001b[0m\u001b[0m\n\u001b[1;32m    663\u001b[0m                     \u001b[0mprint\u001b[0m\u001b[0;34m(\u001b[0m\u001b[0mexc\u001b[0m\u001b[0;34m.\u001b[0m\u001b[0mtraceback\u001b[0m\u001b[0;34m)\u001b[0m\u001b[0;34m\u001b[0m\u001b[0;34m\u001b[0m\u001b[0m\n\u001b[0;32m--> 664\u001b[0;31m                 \u001b[0;32mraise\u001b[0m \u001b[0mexc\u001b[0m\u001b[0;34m\u001b[0m\u001b[0;34m\u001b[0m\u001b[0m\n\u001b[0m\u001b[1;32m    665\u001b[0m \u001b[0;34m\u001b[0m\u001b[0m\n\u001b[1;32m    666\u001b[0m             \u001b[0;31m# If e is neither DatabaseError or IOError, It's a bug.\u001b[0m\u001b[0;34m\u001b[0m\u001b[0;34m\u001b[0m\u001b[0m\n",
      "\u001b[0;31mOperationalError\u001b[0m: (2003, \"Can't connect to MySQL server on '11.102.0.24' (timed out)\")"
     ]
    }
   ],
   "source": [
    "import pymysql\n",
    "\n",
    "\n",
    "CONN = pymysql.connect(\n",
    "    host='11.102.0.24',\n",
    "    user='mestre09_mattosoe',\n",
    "    password='32281541Em!@#',\n",
    "    database='mestre09_travel_optimization',\n",
    "    port=2083,\n",
    "    \n",
    ")\n",
    "\n",
    "# connection = pymysql.connect(\n",
    "# port=2083,\n",
    "# charset='utf8mb4',\n",
    "# cursorclass=\n",
    "# )\n",
    "# # https://br894.hostgator.com.br:2083/\n",
    "# cursor = connection.cursor()"
   ]
  },
  {
   "cell_type": "code",
   "execution_count": null,
   "id": "9c33740e",
   "metadata": {},
   "outputs": [],
   "source": [
    "import pandas as pd\n",
    "import pymysql\n",
    "conn = pymysql.connect(host='mysql_ip_address', port=3306, user='user', passwd='passwd', db='test')\n",
    "sql = 'select * from test;'\n",
    "data = pd.read_sql(sql, conn)"
   ]
  }
 ],
 "metadata": {
  "kernelspec": {
   "display_name": "Python 3 (ipykernel)",
   "language": "python",
   "name": "python3"
  },
  "language_info": {
   "codemirror_mode": {
    "name": "ipython",
    "version": 3
   },
   "file_extension": ".py",
   "mimetype": "text/x-python",
   "name": "python",
   "nbconvert_exporter": "python",
   "pygments_lexer": "ipython3",
   "version": "3.9.7"
  }
 },
 "nbformat": 4,
 "nbformat_minor": 5
}
