{
 "cells": [
  {
   "cell_type": "code",
   "execution_count": 1,
   "id": "f2a9f0c1",
   "metadata": {},
   "outputs": [],
   "source": [
    "#!/usr/bin/env python\n",
    "# coding: utf-8\n",
    "import plotly.offline as offline\n",
    "import plotly.graph_objects as go\n",
    "import pandas as pd\n",
    "import osmnx as ox\n",
    "import os\n",
    "import numpy as np\n",
    "import networkx as nx\n",
    "import math\n",
    "import glob\n",
    "import geopandas as gpd\n",
    "import geocoder\n",
    "import folium\n",
    "import csv\n",
    "import argparse\n",
    "from webdriver_manager.chrome import ChromeDriverManager\n",
    "from time import sleep\n",
    "from selenium import webdriver\n",
    "from plotly.graph_objs import *\n",
    "from ortools.constraint_solver import routing_enums_pb2\n",
    "from ortools.constraint_solver import pywrapcp\n",
    "from bs4 import BeautifulSoup"
   ]
  },
  {
   "cell_type": "code",
   "execution_count": 2,
   "id": "0493e17c",
   "metadata": {},
   "outputs": [],
   "source": [
    "# functions\n",
    "# def parseCSV(filename):\n",
    "#     places = list(csv.DictReader(open(filename, newline=\"\")))\n",
    "#     print(places)\n",
    "#     return places\n",
    "\n",
    "\n",
    "def extractCoords(input):\n",
    "    coords = []\n",
    "    for item in input:\n",
    "        coords.append((float(item[\"lat\"]), float(item[\"lng\"])))\n",
    "    return coords\n",
    "\n",
    "\n",
    "def compute_euclidean_distance_matrix(locations):\n",
    "    size = len(locations)\n",
    "    distances = [[0 for x in range(size)] for y in range(size)]\n",
    "    scalar = 10000\n",
    "    for from_counter, from_node in enumerate(locations):\n",
    "        for to_counter, to_node in enumerate(locations):\n",
    "            if from_counter == to_counter:\n",
    "                distances[from_counter][to_counter] = 0\n",
    "            else:\n",
    "                x_d = (from_node[0] - to_node[0])*scalar\n",
    "                y_d = (from_node[1] - to_node[1])*scalar\n",
    "                distances[from_counter][to_counter] = int(math.hypot(x_d, y_d))\n",
    "    return distances\n",
    "\n",
    "\n",
    "def create_data_model(csvfile):\n",
    "    places =  csvfile.to_dict('records') #parseCSV(csvfile)\n",
    "    coords = extractCoords(places)\n",
    "    distancem = compute_euclidean_distance_matrix(coords)\n",
    "    data = {}\n",
    "    data[\"places\"] = places\n",
    "    data[\"distance_matrix\"] = distancem\n",
    "    data[\"num_vehicles\"] = 1\n",
    "    data[\"depot\"] = 0\n",
    "    return data\n",
    "\n",
    "\n",
    "def print_solution_gmaps(manager, routing, assignment, data, val=[]):\n",
    "    index = routing.Start(0)\n",
    "    while not routing.IsEnd(index):\n",
    "        previous_index = index\n",
    "        index = assignment.Value(routing.NextVar(index))\n",
    "        list_lat = data[\"places\"][manager.IndexToNode(index)][\"lat\"]\n",
    "        list_long = data[\"places\"][manager.IndexToNode(index)][\"lng\"]\n",
    "        list_title = data[\"places\"][manager.IndexToNode(index)][\"title\"]\n",
    "#         list_price = data[\"places\"][manager.IndexToNode(index)][\"price\"]\n",
    "        val.append([list_lat, list_long, list_title])\n",
    "    return val\n",
    "\n",
    "\n",
    "def distance_callback(from_index, to_index):\n",
    "    from_node = manager.IndexToNode(from_index)\n",
    "    to_node = manager.IndexToNode(to_index)\n",
    "    return data_model[\"distance_matrix\"][from_node][to_node]"
   ]
  },
  {
   "cell_type": "code",
   "execution_count": 3,
   "id": "0d83c610",
   "metadata": {},
   "outputs": [],
   "source": [
    "# reading files\n",
    "df = pd.read_csv(r'Book1.csv',sep=\";\")\n",
    "df.columns =\"title\",\"lat\",\"lng\"\n",
    "\n",
    "# resume\n",
    "df[\"lat\"] = df[\"lat\"].astype(float)\n",
    "df[\"lng\"] = df[\"lng\"].astype(float)"
   ]
  },
  {
   "cell_type": "markdown",
   "id": "b697cd9f",
   "metadata": {},
   "source": [
    "# ajhgsjhagS"
   ]
  },
  {
   "cell_type": "code",
   "execution_count": 4,
   "id": "9399e4ed",
   "metadata": {},
   "outputs": [],
   "source": [
    "df = df.append(dict(zip(df.columns,['History Museum of Madrid, Calle de Fuencarral, 78, 28004 Madrid', 40.4137222,-3.7160586])), ignore_index=True)\n",
    "df = df.append(dict(zip(df.columns,['Hotel', 40.3961208,-3.670566])), ignore_index=True)\n"
   ]
  },
  {
   "cell_type": "code",
   "execution_count": 5,
   "id": "49d1ad05",
   "metadata": {},
   "outputs": [],
   "source": [
    "# saving files\n",
    "# df.to_csv('temp.csv')\n",
    "\n",
    "# # algorithm\n",
    "data_model = create_data_model(df)\n",
    "\n",
    "# os.remove('temp.csv')\n",
    "# data_model"
   ]
  },
  {
   "cell_type": "code",
   "execution_count": null,
   "id": "71f9568c",
   "metadata": {},
   "outputs": [],
   "source": []
  },
  {
   "cell_type": "code",
   "execution_count": null,
   "id": "691c4230",
   "metadata": {},
   "outputs": [],
   "source": [
    "manager = pywrapcp.RoutingIndexManager(len(data_model[\"distance_matrix\"]), data_model[\"num_vehicles\"], data_model[\"depot\"])\n",
    "routing = pywrapcp.RoutingModel(manager)\n",
    "transit_callback_index = routing.RegisterTransitCallback(distance_callback)\n",
    "routing.SetArcCostEvaluatorOfAllVehicles(transit_callback_index)\n",
    "search_parameters = pywrapcp.DefaultRoutingSearchParameters()\n",
    "search_parameters.local_search_metaheuristic = (routing_enums_pb2.LocalSearchMetaheuristic.GUIDED_LOCAL_SEARCH)\n",
    "search_parameters.time_limit.seconds = 30\n",
    "assignment = routing.SolveWithParameters(search_parameters)\n",
    "val = print_solution_gmaps(manager, routing, assignment, data_model)\n",
    "val.append(val[0])\n",
    "csv_csv = pd.DataFrame(val)"
   ]
  },
  {
   "cell_type": "code",
   "execution_count": null,
   "id": "47bc98b5",
   "metadata": {},
   "outputs": [],
   "source": [
    "csv_csv = csv_csv.drop_duplicates().reset_index(drop=True)"
   ]
  },
  {
   "cell_type": "code",
   "execution_count": null,
   "id": "1fd42b78",
   "metadata": {},
   "outputs": [],
   "source": [
    "csv_csv.columns =\"lat\",\"lng\",\"title\"\n",
    "csv_csv[\"lat\"] = csv_csv[\"lat\"].astype(float)\n",
    "csv_csv[\"lng\"] = csv_csv[\"lng\"].astype(float)\n",
    "csv_csv.sample()"
   ]
  },
  {
   "cell_type": "code",
   "execution_count": null,
   "id": "b7c19304",
   "metadata": {},
   "outputs": [],
   "source": [
    "csv_csv[\"status\"] = \"ToDo\""
   ]
  },
  {
   "cell_type": "code",
   "execution_count": null,
   "id": "c99d7355",
   "metadata": {},
   "outputs": [],
   "source": [
    "csv_csv.loc[(csv_csv[\"title\"] == \"Palacio De Cristal, Espanha\"), \"status\"] = \"Done\"\n",
    "csv_csv.loc[(csv_csv[\"title\"] == \"Parque del Retiro, Espanha\"), \"status\"] = \"Done\"\n",
    "csv_csv.loc[(csv_csv[\"title\"] == \"Malasana, Espanha\"), \"status\"] = \"Done\"\n",
    "csv_csv.loc[(csv_csv[\"title\"] == \"Mercado de San Antón, Espanha\"), \"status\"] = \"Done\"\n",
    "csv_csv.loc[(csv_csv[\"title\"] == \"Museu Sorolla, Espanha\"), \"status\"] = \"Done\"\n",
    "csv_csv.loc[(csv_csv[\"title\"] == \"Gran Via, Espanha\"), \"status\"] = \"Done\""
   ]
  },
  {
   "cell_type": "code",
   "execution_count": null,
   "id": "805838d7",
   "metadata": {},
   "outputs": [],
   "source": [
    "def plot_figure(my_df):\n",
    "    fig = go.Figure(go.Scattermapbox(\n",
    "        mode=\"markers\",\n",
    "        hovertext=[\"Hotel\"], #,\"Museu Sorolla, Espanha\",\"Museo Cerralbo, Espanha\"],\n",
    "        hoverinfo='text',\n",
    "        lon=[-3.670566], #,-3.692508,-3.71459],\n",
    "        lat=[40.3961208], #,40.435505,40.42377],\n",
    "        marker={\"size\": 25}))\n",
    "    \n",
    "    fig.add_trace(go.Scattermapbox(\n",
    "        mode=\"markers+lines\",\n",
    "        hovertext=list(my_df.title),\n",
    "        hoverinfo='text',\n",
    "        lon=my_df.lng,\n",
    "        lat=my_df.lat,\n",
    "        marker={\n",
    "            'color': 'green',\n",
    "            'size': 15,\n",
    "            'opacity': 0.9\n",
    "        }))\n",
    "    \n",
    "    done = csv_csv[csv_csv[\"status\"]==\"Done\"]\n",
    "    fig.add_trace(go.Scattermapbox(\n",
    "        mode=\"markers\",\n",
    "        hovertext=list(done.title),\n",
    "        hoverinfo='text',\n",
    "        lon=done.lng,\n",
    "        lat=done.lat,\n",
    "        marker={\n",
    "            'color': 'red',\n",
    "            'size': 15,\n",
    "            'opacity': 0.9\n",
    "        }))\n",
    "\n",
    "\n",
    "#     try:\n",
    "#         fig.add_trace(go.Scattermapbox(\n",
    "#             lon=[result.get(\"GET_LOCATION\")[\"lon\"]],\n",
    "#             lat=[result.get(\"GET_LOCATION\")[\"lat\"]],\n",
    "#             marker={\"size\": 15})\n",
    "#         )\n",
    "#     except:\n",
    "#         pass\n",
    "\n",
    "    fig.update_layout(\n",
    "        showlegend=False,\n",
    "        margin={\"l\": 0, \"t\": 0, \"b\": 0, \"r\": 0},\n",
    "        mapbox={\n",
    "            \"center\": {\"lon\": my_df[\"lng\"].mean(), \"lat\": my_df[\"lat\"].mean()},\n",
    "            \"style\": \"stamen-terrain\",\n",
    "            \"zoom\": 11.8})\n",
    "    return fig\n"
   ]
  },
  {
   "cell_type": "code",
   "execution_count": null,
   "id": "681487cc",
   "metadata": {},
   "outputs": [],
   "source": [
    "fig = plot_figure(csv_csv)\n",
    "fig"
   ]
  },
  {
   "cell_type": "code",
   "execution_count": null,
   "id": "8f27bf03",
   "metadata": {},
   "outputs": [],
   "source": [
    "fig.write_html(\"file.html\")"
   ]
  },
  {
   "cell_type": "code",
   "execution_count": null,
   "id": "da44e7ad",
   "metadata": {},
   "outputs": [],
   "source": [
    "csv_csv[\"All\"] = 1\n",
    "csv_csv.to_csv(\"csv_csv.csv\")"
   ]
  },
  {
   "cell_type": "code",
   "execution_count": null,
   "id": "75698344",
   "metadata": {},
   "outputs": [],
   "source": [
    "place = \"Plaza de Oriente, Espanha (ToDo)\"\n"
   ]
  },
  {
   "cell_type": "code",
   "execution_count": null,
   "id": "8df1b088",
   "metadata": {},
   "outputs": [],
   "source": [
    "filter1 = csv_csv[csv_csv[\"status\"]==\"Done\"]\n",
    "filter1"
   ]
  },
  {
   "cell_type": "code",
   "execution_count": null,
   "id": "832dbf37",
   "metadata": {},
   "outputs": [],
   "source": [
    "df_original = pd.read_csv('csv_csv.csv', index_col=[0])"
   ]
  },
  {
   "cell_type": "code",
   "execution_count": null,
   "id": "f912a0ce",
   "metadata": {},
   "outputs": [],
   "source": []
  }
 ],
 "metadata": {
  "kernelspec": {
   "display_name": "Python 3 (ipykernel)",
   "language": "python",
   "name": "python3"
  },
  "language_info": {
   "codemirror_mode": {
    "name": "ipython",
    "version": 3
   },
   "file_extension": ".py",
   "mimetype": "text/x-python",
   "name": "python",
   "nbconvert_exporter": "python",
   "pygments_lexer": "ipython3",
   "version": "3.9.7"
  }
 },
 "nbformat": 4,
 "nbformat_minor": 5
}
