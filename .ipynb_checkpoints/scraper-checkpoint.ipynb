{
 "cells": [
  {
   "cell_type": "code",
   "execution_count": 1,
   "id": "d647a1f7",
   "metadata": {},
   "outputs": [],
   "source": [
    "from bs4 import BeautifulSoup\n",
    "from webdriver_manager.chrome import ChromeDriverManager\n",
    "from time import sleep\n",
    "from selenium import webdriver"
   ]
  },
  {
   "cell_type": "code",
   "execution_count": 2,
   "id": "ce08c743",
   "metadata": {},
   "outputs": [],
   "source": [
    "url = \"https://www.tripadvisor.com/Attractions-g187497-Activities-oaREPLACE-Barcelona_Catalonia.html\""
   ]
  },
  {
   "cell_type": "code",
   "execution_count": 3,
   "id": "66d8e522",
   "metadata": {},
   "outputs": [],
   "source": [
    "names=[]\n",
    "links=[]"
   ]
  },
  {
   "cell_type": "code",
   "execution_count": 12,
   "id": "15e2d2c7",
   "metadata": {},
   "outputs": [],
   "source": [
    "for i in range(0, 60, 30):\n",
    "    target_url = url.replace(\"REPLACE\", str(i))\n",
    "    driver = webdriver.Chrome(ChromeDriverManager().install())\n",
    "    driver.get(target_url)\n",
    "    bsobj = BeautifulSoup(driver.page_source, 'html.parser')    \n",
    "    for l in range(30):\n",
    "        name_place = bsobj.find_all('div', {\"class\": \"XfVdV o AIbhI\"})[l]\n",
    "        name_place = name_place.text.strip()\n",
    "        names.append(name_place)\n",
    "        link_place=bsobj.find_all('div', {\"class\": \"PFVlz\"})[l].find_all('a', {\"BUupS _R w _Z P0 M0 Gm wSSLS\"}, href=True)[0]['href']\n",
    "        links.append(link_place)\n",
    "    driver.close()"
   ]
  },
  {
   "cell_type": "code",
   "execution_count": 57,
   "id": "dcaf8ab2",
   "metadata": {},
   "outputs": [],
   "source": [
    "lat=[]\n",
    "lon=[]"
   ]
  },
  {
   "cell_type": "code",
   "execution_count": 61,
   "id": "0850a53a",
   "metadata": {},
   "outputs": [
    {
     "name": "stderr",
     "output_type": "stream",
     "text": [
      "\n",
      "\n",
      "====== WebDriver manager ======\n",
      "Current google-chrome version is 108.0.5359\n",
      "Get LATEST chromedriver version for 108.0.5359 google-chrome\n",
      "Driver [/Users/ericsonmarques/.wdm/drivers/chromedriver/mac64/108.0.5359.71/chromedriver] found in cache\n",
      "\n",
      "\n",
      "====== WebDriver manager ======\n",
      "Current google-chrome version is 108.0.5359\n",
      "Get LATEST chromedriver version for 108.0.5359 google-chrome\n"
     ]
    },
    {
     "name": "stdout",
     "output_type": "stream",
     "text": [
      "[41.403423]\n",
      "[2.174611]\n"
     ]
    },
    {
     "name": "stderr",
     "output_type": "stream",
     "text": [
      "Driver [/Users/ericsonmarques/.wdm/drivers/chromedriver/mac64/108.0.5359.71/chromedriver] found in cache\n",
      "\n",
      "\n",
      "====== WebDriver manager ======\n",
      "Current google-chrome version is 108.0.5359\n",
      "Get LATEST chromedriver version for 108.0.5359 google-chrome\n"
     ]
    },
    {
     "name": "stdout",
     "output_type": "stream",
     "text": [
      "[41.403423, 41.3827]\n",
      "[2.174611, 2.177113]\n"
     ]
    },
    {
     "name": "stderr",
     "output_type": "stream",
     "text": [
      "Driver [/Users/ericsonmarques/.wdm/drivers/chromedriver/mac64/108.0.5359.71/chromedriver] found in cache\n",
      "\n",
      "\n",
      "====== WebDriver manager ======\n",
      "Current google-chrome version is 108.0.5359\n",
      "Get LATEST chromedriver version for 108.0.5359 google-chrome\n"
     ]
    },
    {
     "name": "stdout",
     "output_type": "stream",
     "text": [
      "[41.403423, 41.3827, 41.391712]\n",
      "[2.174611, 2.177113, 2.164824]\n"
     ]
    },
    {
     "name": "stderr",
     "output_type": "stream",
     "text": [
      "Driver [/Users/ericsonmarques/.wdm/drivers/chromedriver/mac64/108.0.5359.71/chromedriver] found in cache\n",
      "\n",
      "\n",
      "====== WebDriver manager ======\n",
      "Current google-chrome version is 108.0.5359\n",
      "Get LATEST chromedriver version for 108.0.5359 google-chrome\n"
     ]
    },
    {
     "name": "stdout",
     "output_type": "stream",
     "text": [
      "[41.403423, 41.3827, 41.391712, 41.387573]\n",
      "[2.174611, 2.177113, 2.164824, 2.175302]\n"
     ]
    },
    {
     "name": "stderr",
     "output_type": "stream",
     "text": [
      "Driver [/Users/ericsonmarques/.wdm/drivers/chromedriver/mac64/108.0.5359.71/chromedriver] found in cache\n",
      "\n",
      "\n",
      "====== WebDriver manager ======\n",
      "Current google-chrome version is 108.0.5359\n",
      "Get LATEST chromedriver version for 108.0.5359 google-chrome\n"
     ]
    },
    {
     "name": "stdout",
     "output_type": "stream",
     "text": [
      "[41.403423, 41.3827, 41.391712, 41.387573, 41.395325]\n",
      "[2.174611, 2.177113, 2.164824, 2.175302, 2.161925]\n"
     ]
    },
    {
     "name": "stderr",
     "output_type": "stream",
     "text": [
      "Driver [/Users/ericsonmarques/.wdm/drivers/chromedriver/mac64/108.0.5359.71/chromedriver] found in cache\n",
      "\n",
      "\n",
      "====== WebDriver manager ======\n",
      "Current google-chrome version is 108.0.5359\n",
      "Get LATEST chromedriver version for 108.0.5359 google-chrome\n"
     ]
    },
    {
     "name": "stdout",
     "output_type": "stream",
     "text": [
      "[41.403423, 41.3827, 41.391712, 41.387573, 41.395325, 41.380924]\n",
      "[2.174611, 2.177113, 2.164824, 2.175302, 2.161925, 2.122952]\n"
     ]
    },
    {
     "name": "stderr",
     "output_type": "stream",
     "text": [
      "Driver [/Users/ericsonmarques/.wdm/drivers/chromedriver/mac64/108.0.5359.71/chromedriver] found in cache\n",
      "\n",
      "\n",
      "====== WebDriver manager ======\n",
      "Current google-chrome version is 108.0.5359\n",
      "Get LATEST chromedriver version for 108.0.5359 google-chrome\n"
     ]
    },
    {
     "name": "stdout",
     "output_type": "stream",
     "text": [
      "[41.403423, 41.3827, 41.391712, 41.387573, 41.395325, 41.380924, 41.38174]\n",
      "[2.174611, 2.177113, 2.164824, 2.175302, 2.161925, 2.122952, 2.171584]\n"
     ]
    },
    {
     "name": "stderr",
     "output_type": "stream",
     "text": [
      "Driver [/Users/ericsonmarques/.wdm/drivers/chromedriver/mac64/108.0.5359.71/chromedriver] found in cache\n",
      "\n",
      "\n",
      "====== WebDriver manager ======\n",
      "Current google-chrome version is 108.0.5359\n",
      "Get LATEST chromedriver version for 108.0.5359 google-chrome\n"
     ]
    },
    {
     "name": "stdout",
     "output_type": "stream",
     "text": [
      "[41.403423, 41.3827, 41.391712, 41.387573, 41.395325, 41.380924, 41.38174, 41.38349]\n",
      "[2.174611, 2.177113, 2.164824, 2.175302, 2.161925, 2.122952, 2.171584, 2.18178]\n"
     ]
    },
    {
     "name": "stderr",
     "output_type": "stream",
     "text": [
      "Driver [/Users/ericsonmarques/.wdm/drivers/chromedriver/mac64/108.0.5359.71/chromedriver] found in cache\n",
      "\n",
      "\n",
      "====== WebDriver manager ======\n",
      "Current google-chrome version is 108.0.5359\n",
      "Get LATEST chromedriver version for 108.0.5359 google-chrome\n"
     ]
    },
    {
     "name": "stdout",
     "output_type": "stream",
     "text": [
      "[41.403423, 41.3827, 41.391712, 41.387573, 41.395325, 41.380924, 41.38174, 41.38349, 41.41142]\n",
      "[2.174611, 2.177113, 2.164824, 2.175302, 2.161925, 2.122952, 2.171584, 2.18178, 2.174328]\n"
     ]
    },
    {
     "name": "stderr",
     "output_type": "stream",
     "text": [
      "Driver [/Users/ericsonmarques/.wdm/drivers/chromedriver/mac64/108.0.5359.71/chromedriver] found in cache\n",
      "\n",
      "\n",
      "====== WebDriver manager ======\n",
      "Current google-chrome version is 108.0.5359\n",
      "Get LATEST chromedriver version for 108.0.5359 google-chrome\n"
     ]
    },
    {
     "name": "stdout",
     "output_type": "stream",
     "text": [
      "[41.403423, 41.3827, 41.391712, 41.387573, 41.395325, 41.380924, 41.38174, 41.38349, 41.41142, 41.368454]\n",
      "[2.174611, 2.177113, 2.164824, 2.175302, 2.161925, 2.122952, 2.171584, 2.18178, 2.174328, 2.153715]\n"
     ]
    },
    {
     "name": "stderr",
     "output_type": "stream",
     "text": [
      "Driver [/Users/ericsonmarques/.wdm/drivers/chromedriver/mac64/108.0.5359.71/chromedriver] found in cache\n",
      "\n",
      "\n",
      "====== WebDriver manager ======\n",
      "Current google-chrome version is 108.0.5359\n",
      "Get LATEST chromedriver version for 108.0.5359 google-chrome\n"
     ]
    },
    {
     "name": "stdout",
     "output_type": "stream",
     "text": [
      "[41.403423, 41.3827, 41.391712, 41.387573, 41.395325, 41.380924, 41.38174, 41.38349, 41.41142, 41.368454, 41.38442]\n",
      "[2.174611, 2.177113, 2.164824, 2.175302, 2.161925, 2.122952, 2.171584, 2.18178, 2.174328, 2.153715, 2.17601]\n"
     ]
    },
    {
     "name": "stderr",
     "output_type": "stream",
     "text": [
      "Driver [/Users/ericsonmarques/.wdm/drivers/chromedriver/mac64/108.0.5359.71/chromedriver] found in cache\n",
      "\n",
      "\n",
      "====== WebDriver manager ======\n",
      "Current google-chrome version is 108.0.5359\n",
      "Get LATEST chromedriver version for 108.0.5359 google-chrome\n"
     ]
    },
    {
     "name": "stdout",
     "output_type": "stream",
     "text": [
      "[41.403423, 41.3827, 41.391712, 41.387573, 41.395325, 41.380924, 41.38174, 41.38349, 41.41142, 41.368454, 41.38442, 41.371174]\n",
      "[2.174611, 2.177113, 2.164824, 2.175302, 2.161925, 2.122952, 2.171584, 2.18178, 2.174328, 2.153715, 2.17601, 2.151718]\n"
     ]
    },
    {
     "name": "stderr",
     "output_type": "stream",
     "text": [
      "Driver [/Users/ericsonmarques/.wdm/drivers/chromedriver/mac64/108.0.5359.71/chromedriver] found in cache\n",
      "\n",
      "\n",
      "====== WebDriver manager ======\n",
      "Current google-chrome version is 108.0.5359\n",
      "Get LATEST chromedriver version for 108.0.5359 google-chrome\n"
     ]
    },
    {
     "name": "stdout",
     "output_type": "stream",
     "text": [
      "[41.403423, 41.3827, 41.391712, 41.387573, 41.395325, 41.380924, 41.38174, 41.38349, 41.41142, 41.368454, 41.38442, 41.371174, 41.364548]\n",
      "[2.174611, 2.177113, 2.164824, 2.175302, 2.161925, 2.122952, 2.171584, 2.18178, 2.174328, 2.153715, 2.17601, 2.151718, 2.165427]\n"
     ]
    },
    {
     "name": "stderr",
     "output_type": "stream",
     "text": [
      "Driver [/Users/ericsonmarques/.wdm/drivers/chromedriver/mac64/108.0.5359.71/chromedriver] found in cache\n",
      "\n",
      "\n",
      "====== WebDriver manager ======\n",
      "Current google-chrome version is 108.0.5359\n",
      "Get LATEST chromedriver version for 108.0.5359 google-chrome\n"
     ]
    },
    {
     "name": "stdout",
     "output_type": "stream",
     "text": [
      "[41.403423, 41.3827, 41.391712, 41.387573, 41.395325, 41.380924, 41.38174, 41.38349, 41.41142, 41.368454, 41.38442, 41.371174, 41.364548, 41.412766]\n",
      "[2.174611, 2.177113, 2.164824, 2.175302, 2.161925, 2.122952, 2.171584, 2.18178, 2.174328, 2.153715, 2.17601, 2.151718, 2.165427, 2.131519]\n"
     ]
    },
    {
     "name": "stderr",
     "output_type": "stream",
     "text": [
      "Driver [/Users/ericsonmarques/.wdm/drivers/chromedriver/mac64/108.0.5359.71/chromedriver] found in cache\n",
      "\n",
      "\n",
      "====== WebDriver manager ======\n",
      "Current google-chrome version is 108.0.5359\n",
      "Get LATEST chromedriver version for 108.0.5359 google-chrome\n"
     ]
    },
    {
     "name": "stdout",
     "output_type": "stream",
     "text": [
      "[41.403423, 41.3827, 41.391712, 41.387573, 41.395325, 41.380924, 41.38174, 41.38349, 41.41142, 41.368454, 41.38442, 41.371174, 41.364548, 41.412766, 41.40341]\n",
      "[2.174611, 2.177113, 2.164824, 2.175302, 2.161925, 2.122952, 2.171584, 2.18178, 2.174328, 2.153715, 2.17601, 2.151718, 2.165427, 2.131519, 2.15066]\n"
     ]
    },
    {
     "name": "stderr",
     "output_type": "stream",
     "text": [
      "Driver [/Users/ericsonmarques/.wdm/drivers/chromedriver/mac64/108.0.5359.71/chromedriver] found in cache\n",
      "\n",
      "\n",
      "====== WebDriver manager ======\n",
      "Current google-chrome version is 108.0.5359\n",
      "Get LATEST chromedriver version for 108.0.5359 google-chrome\n"
     ]
    },
    {
     "name": "stdout",
     "output_type": "stream",
     "text": [
      "[41.403423, 41.3827, 41.391712, 41.387573, 41.395325, 41.380924, 41.38174, 41.38349, 41.41142, 41.368454, 41.38442, 41.371174, 41.364548, 41.412766, 41.40341, 41.39493]\n",
      "[2.174611, 2.177113, 2.164824, 2.175302, 2.161925, 2.122952, 2.171584, 2.18178, 2.174328, 2.153715, 2.17601, 2.151718, 2.165427, 2.131519, 2.15066, 2.16177]\n"
     ]
    },
    {
     "name": "stderr",
     "output_type": "stream",
     "text": [
      "Driver [/Users/ericsonmarques/.wdm/drivers/chromedriver/mac64/108.0.5359.71/chromedriver] found in cache\n",
      "\n",
      "\n",
      "====== WebDriver manager ======\n",
      "Current google-chrome version is 108.0.5359\n",
      "Get LATEST chromedriver version for 108.0.5359 google-chrome\n"
     ]
    },
    {
     "name": "stdout",
     "output_type": "stream",
     "text": [
      "[41.403423, 41.3827, 41.391712, 41.387573, 41.395325, 41.380924, 41.38174, 41.38349, 41.41142, 41.368454, 41.38442, 41.371174, 41.364548, 41.412766, 41.40341, 41.39493, 41.378883]\n",
      "[2.174611, 2.177113, 2.164824, 2.175302, 2.161925, 2.122952, 2.171584, 2.18178, 2.174328, 2.153715, 2.17601, 2.151718, 2.165427, 2.131519, 2.15066, 2.16177, 2.17424]\n"
     ]
    },
    {
     "name": "stderr",
     "output_type": "stream",
     "text": [
      "Driver [/Users/ericsonmarques/.wdm/drivers/chromedriver/mac64/108.0.5359.71/chromedriver] found in cache\n",
      "\n",
      "\n",
      "====== WebDriver manager ======\n",
      "Current google-chrome version is 108.0.5359\n",
      "Get LATEST chromedriver version for 108.0.5359 google-chrome\n"
     ]
    },
    {
     "name": "stdout",
     "output_type": "stream",
     "text": [
      "[41.403423, 41.3827, 41.391712, 41.387573, 41.395325, 41.380924, 41.38174, 41.38349, 41.41142, 41.368454, 41.38442, 41.371174, 41.364548, 41.412766, 41.40341, 41.39493, 41.378883, 41.388542]\n",
      "[2.174611, 2.177113, 2.164824, 2.175302, 2.161925, 2.122952, 2.171584, 2.18178, 2.174328, 2.153715, 2.17601, 2.151718, 2.165427, 2.131519, 2.15066, 2.16177, 2.17424, 2.18718]\n"
     ]
    },
    {
     "name": "stderr",
     "output_type": "stream",
     "text": [
      "Driver [/Users/ericsonmarques/.wdm/drivers/chromedriver/mac64/108.0.5359.71/chromedriver] found in cache\n",
      "\n",
      "\n",
      "====== WebDriver manager ======\n",
      "Current google-chrome version is 108.0.5359\n",
      "Get LATEST chromedriver version for 108.0.5359 google-chrome\n"
     ]
    },
    {
     "name": "stdout",
     "output_type": "stream",
     "text": [
      "[41.403423, 41.3827, 41.391712, 41.387573, 41.395325, 41.380924, 41.38174, 41.38349, 41.41142, 41.368454, 41.38442, 41.371174, 41.364548, 41.412766, 41.40341, 41.39493, 41.378883, 41.388542, 41.382168]\n",
      "[2.174611, 2.177113, 2.164824, 2.175302, 2.161925, 2.122952, 2.171584, 2.18178, 2.174328, 2.153715, 2.17601, 2.151718, 2.165427, 2.131519, 2.15066, 2.16177, 2.17424, 2.18718, 2.172549]\n"
     ]
    },
    {
     "name": "stderr",
     "output_type": "stream",
     "text": [
      "Driver [/Users/ericsonmarques/.wdm/drivers/chromedriver/mac64/108.0.5359.71/chromedriver] found in cache\n",
      "\n",
      "\n",
      "====== WebDriver manager ======\n",
      "Current google-chrome version is 108.0.5359\n",
      "Get LATEST chromedriver version for 108.0.5359 google-chrome\n"
     ]
    },
    {
     "name": "stdout",
     "output_type": "stream",
     "text": [
      "[41.403423, 41.3827, 41.391712, 41.387573, 41.395325, 41.380924, 41.38174, 41.38349, 41.41142, 41.368454, 41.38442, 41.371174, 41.364548, 41.412766, 41.40341, 41.39493, 41.378883, 41.388542, 41.382168, 41.36852]\n",
      "[2.174611, 2.177113, 2.164824, 2.175302, 2.161925, 2.122952, 2.171584, 2.18178, 2.174328, 2.153715, 2.17601, 2.151718, 2.165427, 2.131519, 2.15066, 2.16177, 2.17424, 2.18718, 2.172549, 2.159726]\n"
     ]
    },
    {
     "name": "stderr",
     "output_type": "stream",
     "text": [
      "Driver [/Users/ericsonmarques/.wdm/drivers/chromedriver/mac64/108.0.5359.71/chromedriver] found in cache\n",
      "\n",
      "\n",
      "====== WebDriver manager ======\n",
      "Current google-chrome version is 108.0.5359\n",
      "Get LATEST chromedriver version for 108.0.5359 google-chrome\n"
     ]
    },
    {
     "name": "stdout",
     "output_type": "stream",
     "text": [
      "[41.403423, 41.3827, 41.391712, 41.387573, 41.395325, 41.380924, 41.38174, 41.38349, 41.41142, 41.368454, 41.38442, 41.371174, 41.364548, 41.412766, 41.40341, 41.39493, 41.378883, 41.388542, 41.382168, 41.36852, 41.387]\n",
      "[2.174611, 2.177113, 2.164824, 2.175302, 2.161925, 2.122952, 2.171584, 2.18178, 2.174328, 2.153715, 2.17601, 2.151718, 2.165427, 2.131519, 2.15066, 2.16177, 2.17424, 2.18718, 2.172549, 2.159726, 2.17611]\n"
     ]
    },
    {
     "name": "stderr",
     "output_type": "stream",
     "text": [
      "Driver [/Users/ericsonmarques/.wdm/drivers/chromedriver/mac64/108.0.5359.71/chromedriver] found in cache\n",
      "\n",
      "\n",
      "====== WebDriver manager ======\n",
      "Current google-chrome version is 108.0.5359\n",
      "Get LATEST chromedriver version for 108.0.5359 google-chrome\n"
     ]
    },
    {
     "name": "stdout",
     "output_type": "stream",
     "text": [
      "[41.403423, 41.3827, 41.391712, 41.387573, 41.395325, 41.380924, 41.38174, 41.38349, 41.41142, 41.368454, 41.38442, 41.371174, 41.364548, 41.412766, 41.40341, 41.39493, 41.378883, 41.388542, 41.382168, 41.36852, 41.387, 41.37494]\n",
      "[2.174611, 2.177113, 2.164824, 2.175302, 2.161925, 2.122952, 2.171584, 2.18178, 2.174328, 2.153715, 2.17601, 2.151718, 2.165427, 2.131519, 2.15066, 2.16177, 2.17424, 2.18718, 2.172549, 2.159726, 2.17611, 2.14834]\n"
     ]
    },
    {
     "name": "stderr",
     "output_type": "stream",
     "text": [
      "Driver [/Users/ericsonmarques/.wdm/drivers/chromedriver/mac64/108.0.5359.71/chromedriver] found in cache\n",
      "\n",
      "\n",
      "====== WebDriver manager ======\n",
      "Current google-chrome version is 108.0.5359\n",
      "Get LATEST chromedriver version for 108.0.5359 google-chrome\n"
     ]
    },
    {
     "name": "stdout",
     "output_type": "stream",
     "text": [
      "[41.403423, 41.3827, 41.391712, 41.387573, 41.395325, 41.380924, 41.38174, 41.38349, 41.41142, 41.368454, 41.38442, 41.371174, 41.364548, 41.412766, 41.40341, 41.39493, 41.378883, 41.388542, 41.382168, 41.36852, 41.387, 41.37494, 41.4215]\n",
      "[2.174611, 2.177113, 2.164824, 2.175302, 2.161925, 2.122952, 2.171584, 2.18178, 2.174328, 2.153715, 2.17601, 2.151718, 2.165427, 2.131519, 2.15066, 2.16177, 2.17424, 2.18718, 2.172549, 2.159726, 2.17611, 2.14834, 2.1192]\n"
     ]
    },
    {
     "name": "stderr",
     "output_type": "stream",
     "text": [
      "Driver [/Users/ericsonmarques/.wdm/drivers/chromedriver/mac64/108.0.5359.71/chromedriver] found in cache\n",
      "\n",
      "\n",
      "====== WebDriver manager ======\n",
      "Current google-chrome version is 108.0.5359\n",
      "Get LATEST chromedriver version for 108.0.5359 google-chrome\n"
     ]
    },
    {
     "name": "stdout",
     "output_type": "stream",
     "text": [
      "[41.403423, 41.3827, 41.391712, 41.387573, 41.395325, 41.380924, 41.38174, 41.38349, 41.41142, 41.368454, 41.38442, 41.371174, 41.364548, 41.412766, 41.40341, 41.39493, 41.378883, 41.388542, 41.382168, 41.36852, 41.387, 41.37494, 41.4215, 41.39621]\n",
      "[2.174611, 2.177113, 2.164824, 2.175302, 2.161925, 2.122952, 2.171584, 2.18178, 2.174328, 2.153715, 2.17601, 2.151718, 2.165427, 2.131519, 2.15066, 2.16177, 2.17424, 2.18718, 2.172549, 2.159726, 2.17611, 2.14834, 2.1192, 2.161339]\n"
     ]
    },
    {
     "name": "stderr",
     "output_type": "stream",
     "text": [
      "Driver [/Users/ericsonmarques/.wdm/drivers/chromedriver/mac64/108.0.5359.71/chromedriver] found in cache\n",
      "\n",
      "\n",
      "====== WebDriver manager ======\n",
      "Current google-chrome version is 108.0.5359\n",
      "Get LATEST chromedriver version for 108.0.5359 google-chrome\n"
     ]
    },
    {
     "name": "stdout",
     "output_type": "stream",
     "text": [
      "[41.403423, 41.3827, 41.391712, 41.387573, 41.395325, 41.380924, 41.38174, 41.38349, 41.41142, 41.368454, 41.38442, 41.371174, 41.364548, 41.412766, 41.40341, 41.39493, 41.378883, 41.388542, 41.382168, 41.36852, 41.387, 41.37494, 41.4215, 41.39621, 41.41451]\n",
      "[2.174611, 2.177113, 2.164824, 2.175302, 2.161925, 2.122952, 2.171584, 2.18178, 2.174328, 2.153715, 2.17601, 2.151718, 2.165427, 2.131519, 2.15066, 2.16177, 2.17424, 2.18718, 2.172549, 2.159726, 2.17611, 2.14834, 2.1192, 2.161339, 2.152709]\n"
     ]
    },
    {
     "name": "stderr",
     "output_type": "stream",
     "text": [
      "Driver [/Users/ericsonmarques/.wdm/drivers/chromedriver/mac64/108.0.5359.71/chromedriver] found in cache\n",
      "\n",
      "\n",
      "====== WebDriver manager ======\n",
      "Current google-chrome version is 108.0.5359\n",
      "Get LATEST chromedriver version for 108.0.5359 google-chrome\n"
     ]
    },
    {
     "name": "stdout",
     "output_type": "stream",
     "text": [
      "[41.403423, 41.3827, 41.391712, 41.387573, 41.395325, 41.380924, 41.38174, 41.38349, 41.41142, 41.368454, 41.38442, 41.371174, 41.364548, 41.412766, 41.40341, 41.39493, 41.378883, 41.388542, 41.382168, 41.36852, 41.387, 41.37494, 41.4215, 41.39621, 41.41451, 41.385235]\n",
      "[2.174611, 2.177113, 2.164824, 2.175302, 2.161925, 2.122952, 2.171584, 2.18178, 2.174328, 2.153715, 2.17601, 2.151718, 2.165427, 2.131519, 2.15066, 2.16177, 2.17424, 2.18718, 2.172549, 2.159726, 2.17611, 2.14834, 2.1192, 2.161339, 2.152709, 2.180893]\n"
     ]
    },
    {
     "name": "stderr",
     "output_type": "stream",
     "text": [
      "Driver [/Users/ericsonmarques/.wdm/drivers/chromedriver/mac64/108.0.5359.71/chromedriver] found in cache\n",
      "\n",
      "\n",
      "====== WebDriver manager ======\n",
      "Current google-chrome version is 108.0.5359\n",
      "Get LATEST chromedriver version for 108.0.5359 google-chrome\n"
     ]
    },
    {
     "name": "stdout",
     "output_type": "stream",
     "text": [
      "[41.403423, 41.3827, 41.391712, 41.387573, 41.395325, 41.380924, 41.38174, 41.38349, 41.41142, 41.368454, 41.38442, 41.371174, 41.364548, 41.412766, 41.40341, 41.39493, 41.378883, 41.388542, 41.382168, 41.36852, 41.387, 41.37494, 41.4215, 41.39621, 41.41451, 41.385235, 41.384056]\n",
      "[2.174611, 2.177113, 2.164824, 2.175302, 2.161925, 2.122952, 2.171584, 2.18178, 2.174328, 2.153715, 2.17601, 2.151718, 2.165427, 2.131519, 2.15066, 2.16177, 2.17424, 2.18718, 2.172549, 2.159726, 2.17611, 2.14834, 2.1192, 2.161339, 2.152709, 2.180893, 2.17754]\n"
     ]
    },
    {
     "name": "stderr",
     "output_type": "stream",
     "text": [
      "Driver [/Users/ericsonmarques/.wdm/drivers/chromedriver/mac64/108.0.5359.71/chromedriver] found in cache\n",
      "\n",
      "\n",
      "====== WebDriver manager ======\n",
      "Current google-chrome version is 108.0.5359\n",
      "Get LATEST chromedriver version for 108.0.5359 google-chrome\n"
     ]
    },
    {
     "name": "stdout",
     "output_type": "stream",
     "text": [
      "[41.403423, 41.3827, 41.391712, 41.387573, 41.395325, 41.380924, 41.38174, 41.38349, 41.41142, 41.368454, 41.38442, 41.371174, 41.364548, 41.412766, 41.40341, 41.39493, 41.378883, 41.388542, 41.382168, 41.36852, 41.387, 41.37494, 41.4215, 41.39621, 41.41451, 41.385235, 41.384056, 41.37993]\n",
      "[2.174611, 2.177113, 2.164824, 2.175302, 2.161925, 2.122952, 2.171584, 2.18178, 2.174328, 2.153715, 2.17601, 2.151718, 2.165427, 2.131519, 2.15066, 2.16177, 2.17424, 2.18718, 2.172549, 2.159726, 2.17611, 2.14834, 2.1192, 2.161339, 2.152709, 2.180893, 2.17754, 2.17506]\n"
     ]
    },
    {
     "name": "stderr",
     "output_type": "stream",
     "text": [
      "Driver [/Users/ericsonmarques/.wdm/drivers/chromedriver/mac64/108.0.5359.71/chromedriver] found in cache\n",
      "\n",
      "\n",
      "====== WebDriver manager ======\n",
      "Current google-chrome version is 108.0.5359\n",
      "Get LATEST chromedriver version for 108.0.5359 google-chrome\n"
     ]
    },
    {
     "name": "stdout",
     "output_type": "stream",
     "text": [
      "[41.403423, 41.3827, 41.391712, 41.387573, 41.395325, 41.380924, 41.38174, 41.38349, 41.41142, 41.368454, 41.38442, 41.371174, 41.364548, 41.412766, 41.40341, 41.39493, 41.378883, 41.388542, 41.382168, 41.36852, 41.387, 41.37494, 41.4215, 41.39621, 41.41451, 41.385235, 41.384056, 41.37993, 41.38031]\n",
      "[2.174611, 2.177113, 2.164824, 2.175302, 2.161925, 2.122952, 2.171584, 2.18178, 2.174328, 2.153715, 2.17601, 2.151718, 2.165427, 2.131519, 2.15066, 2.16177, 2.17424, 2.18718, 2.172549, 2.159726, 2.17611, 2.14834, 2.1192, 2.161339, 2.152709, 2.180893, 2.17754, 2.17506, 2.17416]\n"
     ]
    },
    {
     "name": "stderr",
     "output_type": "stream",
     "text": [
      "Driver [/Users/ericsonmarques/.wdm/drivers/chromedriver/mac64/108.0.5359.71/chromedriver] found in cache\n",
      "\n",
      "\n",
      "====== WebDriver manager ======\n",
      "Current google-chrome version is 108.0.5359\n",
      "Get LATEST chromedriver version for 108.0.5359 google-chrome\n"
     ]
    },
    {
     "name": "stdout",
     "output_type": "stream",
     "text": [
      "[41.403423, 41.3827, 41.391712, 41.387573, 41.395325, 41.380924, 41.38174, 41.38349, 41.41142, 41.368454, 41.38442, 41.371174, 41.364548, 41.412766, 41.40341, 41.39493, 41.378883, 41.388542, 41.382168, 41.36852, 41.387, 41.37494, 41.4215, 41.39621, 41.41451, 41.385235, 41.384056, 41.37993, 41.38031, 41.38463]\n",
      "[2.174611, 2.177113, 2.164824, 2.175302, 2.161925, 2.122952, 2.171584, 2.18178, 2.174328, 2.153715, 2.17601, 2.151718, 2.165427, 2.131519, 2.15066, 2.16177, 2.17424, 2.18718, 2.172549, 2.159726, 2.17611, 2.14834, 2.1192, 2.161339, 2.152709, 2.180893, 2.17754, 2.17506, 2.17416, 2.18156]\n"
     ]
    },
    {
     "name": "stderr",
     "output_type": "stream",
     "text": [
      "Driver [/Users/ericsonmarques/.wdm/drivers/chromedriver/mac64/108.0.5359.71/chromedriver] found in cache\n",
      "\n",
      "\n",
      "====== WebDriver manager ======\n",
      "Current google-chrome version is 108.0.5359\n",
      "Get LATEST chromedriver version for 108.0.5359 google-chrome\n"
     ]
    },
    {
     "name": "stdout",
     "output_type": "stream",
     "text": [
      "[41.403423, 41.3827, 41.391712, 41.387573, 41.395325, 41.380924, 41.38174, 41.38349, 41.41142, 41.368454, 41.38442, 41.371174, 41.364548, 41.412766, 41.40341, 41.39493, 41.378883, 41.388542, 41.382168, 41.36852, 41.387, 41.37494, 41.4215, 41.39621, 41.41451, 41.385235, 41.384056, 41.37993, 41.38031, 41.38463, 41.422813]\n",
      "[2.174611, 2.177113, 2.164824, 2.175302, 2.161925, 2.122952, 2.171584, 2.18178, 2.174328, 2.153715, 2.17601, 2.151718, 2.165427, 2.131519, 2.15066, 2.16177, 2.17424, 2.18718, 2.172549, 2.159726, 2.17611, 2.14834, 2.1192, 2.161339, 2.152709, 2.180893, 2.17754, 2.17506, 2.17416, 2.18156, 2.119261]\n"
     ]
    },
    {
     "name": "stderr",
     "output_type": "stream",
     "text": [
      "Driver [/Users/ericsonmarques/.wdm/drivers/chromedriver/mac64/108.0.5359.71/chromedriver] found in cache\n",
      "\n",
      "\n",
      "====== WebDriver manager ======\n",
      "Current google-chrome version is 108.0.5359\n",
      "Get LATEST chromedriver version for 108.0.5359 google-chrome\n"
     ]
    },
    {
     "name": "stdout",
     "output_type": "stream",
     "text": [
      "[41.403423, 41.3827, 41.391712, 41.387573, 41.395325, 41.380924, 41.38174, 41.38349, 41.41142, 41.368454, 41.38442, 41.371174, 41.364548, 41.412766, 41.40341, 41.39493, 41.378883, 41.388542, 41.382168, 41.36852, 41.387, 41.37494, 41.4215, 41.39621, 41.41451, 41.385235, 41.384056, 41.37993, 41.38031, 41.38463, 41.422813, 41.39158]\n",
      "[2.174611, 2.177113, 2.164824, 2.175302, 2.161925, 2.122952, 2.171584, 2.18178, 2.174328, 2.153715, 2.17601, 2.151718, 2.165427, 2.131519, 2.15066, 2.16177, 2.17424, 2.18718, 2.172549, 2.159726, 2.17611, 2.14834, 2.1192, 2.161339, 2.152709, 2.180893, 2.17754, 2.17506, 2.17416, 2.18156, 2.119261, 2.16511]\n"
     ]
    },
    {
     "name": "stderr",
     "output_type": "stream",
     "text": [
      "Driver [/Users/ericsonmarques/.wdm/drivers/chromedriver/mac64/108.0.5359.71/chromedriver] found in cache\n",
      "\n",
      "\n",
      "====== WebDriver manager ======\n",
      "Current google-chrome version is 108.0.5359\n",
      "Get LATEST chromedriver version for 108.0.5359 google-chrome\n"
     ]
    },
    {
     "name": "stdout",
     "output_type": "stream",
     "text": [
      "[41.403423, 41.3827, 41.391712, 41.387573, 41.395325, 41.380924, 41.38174, 41.38349, 41.41142, 41.368454, 41.38442, 41.371174, 41.364548, 41.412766, 41.40341, 41.39493, 41.378883, 41.388542, 41.382168, 41.36852, 41.387, 41.37494, 41.4215, 41.39621, 41.41451, 41.385235, 41.384056, 41.37993, 41.38031, 41.38463, 41.422813, 41.39158, 41.421803]\n",
      "[2.174611, 2.177113, 2.164824, 2.175302, 2.161925, 2.122952, 2.171584, 2.18178, 2.174328, 2.153715, 2.17601, 2.151718, 2.165427, 2.131519, 2.15066, 2.16177, 2.17424, 2.18718, 2.172549, 2.159726, 2.17611, 2.14834, 2.1192, 2.161339, 2.152709, 2.180893, 2.17754, 2.17506, 2.17416, 2.18156, 2.119261, 2.16511, 2.119031]\n"
     ]
    },
    {
     "name": "stderr",
     "output_type": "stream",
     "text": [
      "Driver [/Users/ericsonmarques/.wdm/drivers/chromedriver/mac64/108.0.5359.71/chromedriver] found in cache\n",
      "\n",
      "\n",
      "====== WebDriver manager ======\n",
      "Current google-chrome version is 108.0.5359\n",
      "Get LATEST chromedriver version for 108.0.5359 google-chrome\n"
     ]
    },
    {
     "name": "stdout",
     "output_type": "stream",
     "text": [
      "[41.403423, 41.3827, 41.391712, 41.387573, 41.395325, 41.380924, 41.38174, 41.38349, 41.41142, 41.368454, 41.38442, 41.371174, 41.364548, 41.412766, 41.40341, 41.39493, 41.378883, 41.388542, 41.382168, 41.36852, 41.387, 41.37494, 41.4215, 41.39621, 41.41451, 41.385235, 41.384056, 41.37993, 41.38031, 41.38463, 41.422813, 41.39158, 41.421803, 41.386246]\n",
      "[2.174611, 2.177113, 2.164824, 2.175302, 2.161925, 2.122952, 2.171584, 2.18178, 2.174328, 2.153715, 2.17601, 2.151718, 2.165427, 2.131519, 2.15066, 2.16177, 2.17424, 2.18718, 2.172549, 2.159726, 2.17611, 2.14834, 2.1192, 2.161339, 2.152709, 2.180893, 2.17754, 2.17506, 2.17416, 2.18156, 2.119261, 2.16511, 2.119031, 2.178191]\n"
     ]
    },
    {
     "name": "stderr",
     "output_type": "stream",
     "text": [
      "Driver [/Users/ericsonmarques/.wdm/drivers/chromedriver/mac64/108.0.5359.71/chromedriver] found in cache\n",
      "\n",
      "\n",
      "====== WebDriver manager ======\n",
      "Current google-chrome version is 108.0.5359\n",
      "Get LATEST chromedriver version for 108.0.5359 google-chrome\n"
     ]
    },
    {
     "name": "stdout",
     "output_type": "stream",
     "text": [
      "[41.403423, 41.3827, 41.391712, 41.387573, 41.395325, 41.380924, 41.38174, 41.38349, 41.41142, 41.368454, 41.38442, 41.371174, 41.364548, 41.412766, 41.40341, 41.39493, 41.378883, 41.388542, 41.382168, 41.36852, 41.387, 41.37494, 41.4215, 41.39621, 41.41451, 41.385235, 41.384056, 41.37993, 41.38031, 41.38463, 41.422813, 41.39158, 41.421803, 41.386246, 41.4058]\n",
      "[2.174611, 2.177113, 2.164824, 2.175302, 2.161925, 2.122952, 2.171584, 2.18178, 2.174328, 2.153715, 2.17601, 2.151718, 2.165427, 2.131519, 2.15066, 2.16177, 2.17424, 2.18718, 2.172549, 2.159726, 2.17611, 2.14834, 2.1192, 2.161339, 2.152709, 2.180893, 2.17754, 2.17506, 2.17416, 2.18156, 2.119261, 2.16511, 2.119031, 2.178191, 2.15559]\n"
     ]
    },
    {
     "name": "stderr",
     "output_type": "stream",
     "text": [
      "Driver [/Users/ericsonmarques/.wdm/drivers/chromedriver/mac64/108.0.5359.71/chromedriver] found in cache\n",
      "\n",
      "\n",
      "====== WebDriver manager ======\n",
      "Current google-chrome version is 108.0.5359\n",
      "Get LATEST chromedriver version for 108.0.5359 google-chrome\n"
     ]
    },
    {
     "name": "stdout",
     "output_type": "stream",
     "text": [
      "[41.403423, 41.3827, 41.391712, 41.387573, 41.395325, 41.380924, 41.38174, 41.38349, 41.41142, 41.368454, 41.38442, 41.371174, 41.364548, 41.412766, 41.40341, 41.39493, 41.378883, 41.388542, 41.382168, 41.36852, 41.387, 41.37494, 41.4215, 41.39621, 41.41451, 41.385235, 41.384056, 41.37993, 41.38031, 41.38463, 41.422813, 41.39158, 41.421803, 41.386246, 41.4058, 41.363335]\n",
      "[2.174611, 2.177113, 2.164824, 2.175302, 2.161925, 2.122952, 2.171584, 2.18178, 2.174328, 2.153715, 2.17601, 2.151718, 2.165427, 2.131519, 2.15066, 2.16177, 2.17424, 2.18718, 2.172549, 2.159726, 2.17611, 2.14834, 2.1192, 2.161339, 2.152709, 2.180893, 2.17754, 2.17506, 2.17416, 2.18156, 2.119261, 2.16511, 2.119031, 2.178191, 2.15559, 2.166181]\n"
     ]
    },
    {
     "name": "stderr",
     "output_type": "stream",
     "text": [
      "Driver [/Users/ericsonmarques/.wdm/drivers/chromedriver/mac64/108.0.5359.71/chromedriver] found in cache\n",
      "\n",
      "\n",
      "====== WebDriver manager ======\n",
      "Current google-chrome version is 108.0.5359\n",
      "Get LATEST chromedriver version for 108.0.5359 google-chrome\n"
     ]
    },
    {
     "name": "stdout",
     "output_type": "stream",
     "text": [
      "[41.403423, 41.3827, 41.391712, 41.387573, 41.395325, 41.380924, 41.38174, 41.38349, 41.41142, 41.368454, 41.38442, 41.371174, 41.364548, 41.412766, 41.40341, 41.39493, 41.378883, 41.388542, 41.382168, 41.36852, 41.387, 41.37494, 41.4215, 41.39621, 41.41451, 41.385235, 41.384056, 41.37993, 41.38031, 41.38463, 41.422813, 41.39158, 41.421803, 41.386246, 41.4058, 41.363335, 41.38082]\n",
      "[2.174611, 2.177113, 2.164824, 2.175302, 2.161925, 2.122952, 2.171584, 2.18178, 2.174328, 2.153715, 2.17601, 2.151718, 2.165427, 2.131519, 2.15066, 2.16177, 2.17424, 2.18718, 2.172549, 2.159726, 2.17611, 2.14834, 2.1192, 2.161339, 2.152709, 2.180893, 2.17754, 2.17506, 2.17416, 2.18156, 2.119261, 2.16511, 2.119031, 2.178191, 2.15559, 2.166181, 2.180128]\n"
     ]
    },
    {
     "name": "stderr",
     "output_type": "stream",
     "text": [
      "Driver [/Users/ericsonmarques/.wdm/drivers/chromedriver/mac64/108.0.5359.71/chromedriver] found in cache\n",
      "\n",
      "\n",
      "====== WebDriver manager ======\n",
      "Current google-chrome version is 108.0.5359\n",
      "Get LATEST chromedriver version for 108.0.5359 google-chrome\n"
     ]
    },
    {
     "name": "stdout",
     "output_type": "stream",
     "text": [
      "[41.403423, 41.3827, 41.391712, 41.387573, 41.395325, 41.380924, 41.38174, 41.38349, 41.41142, 41.368454, 41.38442, 41.371174, 41.364548, 41.412766, 41.40341, 41.39493, 41.378883, 41.388542, 41.382168, 41.36852, 41.387, 41.37494, 41.4215, 41.39621, 41.41451, 41.385235, 41.384056, 41.37993, 41.38031, 41.38463, 41.422813, 41.39158, 41.421803, 41.386246, 41.4058, 41.363335, 41.38082, 41.391052]\n",
      "[2.174611, 2.177113, 2.164824, 2.175302, 2.161925, 2.122952, 2.171584, 2.18178, 2.174328, 2.153715, 2.17601, 2.151718, 2.165427, 2.131519, 2.15066, 2.16177, 2.17424, 2.18718, 2.172549, 2.159726, 2.17611, 2.14834, 2.1192, 2.161339, 2.152709, 2.180893, 2.17754, 2.17506, 2.17416, 2.18156, 2.119261, 2.16511, 2.119031, 2.178191, 2.15559, 2.166181, 2.180128, 2.180643]\n"
     ]
    },
    {
     "name": "stderr",
     "output_type": "stream",
     "text": [
      "Driver [/Users/ericsonmarques/.wdm/drivers/chromedriver/mac64/108.0.5359.71/chromedriver] found in cache\n",
      "\n",
      "\n",
      "====== WebDriver manager ======\n",
      "Current google-chrome version is 108.0.5359\n",
      "Get LATEST chromedriver version for 108.0.5359 google-chrome\n"
     ]
    },
    {
     "name": "stdout",
     "output_type": "stream",
     "text": [
      "[41.403423, 41.3827, 41.391712, 41.387573, 41.395325, 41.380924, 41.38174, 41.38349, 41.41142, 41.368454, 41.38442, 41.371174, 41.364548, 41.412766, 41.40341, 41.39493, 41.378883, 41.388542, 41.382168, 41.36852, 41.387, 41.37494, 41.4215, 41.39621, 41.41451, 41.385235, 41.384056, 41.37993, 41.38031, 41.38463, 41.422813, 41.39158, 41.421803, 41.386246, 41.4058, 41.363335, 41.38082, 41.391052, 41.38086]\n",
      "[2.174611, 2.177113, 2.164824, 2.175302, 2.161925, 2.122952, 2.171584, 2.18178, 2.174328, 2.153715, 2.17601, 2.151718, 2.165427, 2.131519, 2.15066, 2.16177, 2.17424, 2.18718, 2.172549, 2.159726, 2.17611, 2.14834, 2.1192, 2.161339, 2.152709, 2.180893, 2.17754, 2.17506, 2.17416, 2.18156, 2.119261, 2.16511, 2.119031, 2.178191, 2.15559, 2.166181, 2.180128, 2.180643, 2.185734]\n"
     ]
    },
    {
     "name": "stderr",
     "output_type": "stream",
     "text": [
      "Driver [/Users/ericsonmarques/.wdm/drivers/chromedriver/mac64/108.0.5359.71/chromedriver] found in cache\n",
      "\n",
      "\n",
      "====== WebDriver manager ======\n",
      "Current google-chrome version is 108.0.5359\n",
      "Get LATEST chromedriver version for 108.0.5359 google-chrome\n"
     ]
    },
    {
     "name": "stdout",
     "output_type": "stream",
     "text": [
      "[41.403423, 41.3827, 41.391712, 41.387573, 41.395325, 41.380924, 41.38174, 41.38349, 41.41142, 41.368454, 41.38442, 41.371174, 41.364548, 41.412766, 41.40341, 41.39493, 41.378883, 41.388542, 41.382168, 41.36852, 41.387, 41.37494, 41.4215, 41.39621, 41.41451, 41.385235, 41.384056, 41.37993, 41.38031, 41.38463, 41.422813, 41.39158, 41.421803, 41.386246, 41.4058, 41.363335, 41.38082, 41.391052, 41.38086, 41.37807]\n",
      "[2.174611, 2.177113, 2.164824, 2.175302, 2.161925, 2.122952, 2.171584, 2.18178, 2.174328, 2.153715, 2.17601, 2.151718, 2.165427, 2.131519, 2.15066, 2.16177, 2.17424, 2.18718, 2.172549, 2.159726, 2.17611, 2.14834, 2.1192, 2.161339, 2.152709, 2.180893, 2.17754, 2.17506, 2.17416, 2.18156, 2.119261, 2.16511, 2.119031, 2.178191, 2.15559, 2.166181, 2.180128, 2.180643, 2.185734, 2.1776]\n"
     ]
    },
    {
     "name": "stderr",
     "output_type": "stream",
     "text": [
      "Driver [/Users/ericsonmarques/.wdm/drivers/chromedriver/mac64/108.0.5359.71/chromedriver] found in cache\n",
      "\n",
      "\n",
      "====== WebDriver manager ======\n",
      "Current google-chrome version is 108.0.5359\n",
      "Get LATEST chromedriver version for 108.0.5359 google-chrome\n"
     ]
    },
    {
     "name": "stdout",
     "output_type": "stream",
     "text": [
      "[41.403423, 41.3827, 41.391712, 41.387573, 41.395325, 41.380924, 41.38174, 41.38349, 41.41142, 41.368454, 41.38442, 41.371174, 41.364548, 41.412766, 41.40341, 41.39493, 41.378883, 41.388542, 41.382168, 41.36852, 41.387, 41.37494, 41.4215, 41.39621, 41.41451, 41.385235, 41.384056, 41.37993, 41.38031, 41.38463, 41.422813, 41.39158, 41.421803, 41.386246, 41.4058, 41.363335, 41.38082, 41.391052, 41.38086, 41.37807, 41.387016]\n",
      "[2.174611, 2.177113, 2.164824, 2.175302, 2.161925, 2.122952, 2.171584, 2.18178, 2.174328, 2.153715, 2.17601, 2.151718, 2.165427, 2.131519, 2.15066, 2.16177, 2.17424, 2.18718, 2.172549, 2.159726, 2.17611, 2.14834, 2.1192, 2.161339, 2.152709, 2.180893, 2.17754, 2.17506, 2.17416, 2.18156, 2.119261, 2.16511, 2.119031, 2.178191, 2.15559, 2.166181, 2.180128, 2.180643, 2.185734, 2.1776, 2.170047]\n"
     ]
    },
    {
     "name": "stderr",
     "output_type": "stream",
     "text": [
      "Driver [/Users/ericsonmarques/.wdm/drivers/chromedriver/mac64/108.0.5359.71/chromedriver] found in cache\n",
      "\n",
      "\n",
      "====== WebDriver manager ======\n",
      "Current google-chrome version is 108.0.5359\n",
      "Get LATEST chromedriver version for 108.0.5359 google-chrome\n"
     ]
    },
    {
     "name": "stdout",
     "output_type": "stream",
     "text": [
      "[41.403423, 41.3827, 41.391712, 41.387573, 41.395325, 41.380924, 41.38174, 41.38349, 41.41142, 41.368454, 41.38442, 41.371174, 41.364548, 41.412766, 41.40341, 41.39493, 41.378883, 41.388542, 41.382168, 41.36852, 41.387, 41.37494, 41.4215, 41.39621, 41.41451, 41.385235, 41.384056, 41.37993, 41.38031, 41.38463, 41.422813, 41.39158, 41.421803, 41.386246, 41.4058, 41.363335, 41.38082, 41.391052, 41.38086, 41.37807, 41.387016, 41.37269]\n",
      "[2.174611, 2.177113, 2.164824, 2.175302, 2.161925, 2.122952, 2.171584, 2.18178, 2.174328, 2.153715, 2.17601, 2.151718, 2.165427, 2.131519, 2.15066, 2.16177, 2.17424, 2.18718, 2.172549, 2.159726, 2.17611, 2.14834, 2.1192, 2.161339, 2.152709, 2.180893, 2.17754, 2.17506, 2.17416, 2.18156, 2.119261, 2.16511, 2.119031, 2.178191, 2.15559, 2.166181, 2.180128, 2.180643, 2.185734, 2.1776, 2.170047, 2.17824]\n"
     ]
    },
    {
     "name": "stderr",
     "output_type": "stream",
     "text": [
      "Driver [/Users/ericsonmarques/.wdm/drivers/chromedriver/mac64/108.0.5359.71/chromedriver] found in cache\n",
      "\n",
      "\n",
      "====== WebDriver manager ======\n",
      "Current google-chrome version is 108.0.5359\n",
      "Get LATEST chromedriver version for 108.0.5359 google-chrome\n"
     ]
    },
    {
     "name": "stdout",
     "output_type": "stream",
     "text": [
      "[41.403423, 41.3827, 41.391712, 41.387573, 41.395325, 41.380924, 41.38174, 41.38349, 41.41142, 41.368454, 41.38442, 41.371174, 41.364548, 41.412766, 41.40341, 41.39493, 41.378883, 41.388542, 41.382168, 41.36852, 41.387, 41.37494, 41.4215, 41.39621, 41.41451, 41.385235, 41.384056, 41.37993, 41.38031, 41.38463, 41.422813, 41.39158, 41.421803, 41.386246, 41.4058, 41.363335, 41.38082, 41.391052, 41.38086, 41.37807, 41.387016, 41.37269, 41.397636]\n",
      "[2.174611, 2.177113, 2.164824, 2.175302, 2.161925, 2.122952, 2.171584, 2.18178, 2.174328, 2.153715, 2.17601, 2.151718, 2.165427, 2.131519, 2.15066, 2.16177, 2.17424, 2.18718, 2.172549, 2.159726, 2.17611, 2.14834, 2.1192, 2.161339, 2.152709, 2.180893, 2.17754, 2.17506, 2.17416, 2.18156, 2.119261, 2.16511, 2.119031, 2.178191, 2.15559, 2.166181, 2.180128, 2.180643, 2.185734, 2.1776, 2.170047, 2.17824, 2.114895]\n"
     ]
    },
    {
     "name": "stderr",
     "output_type": "stream",
     "text": [
      "Driver [/Users/ericsonmarques/.wdm/drivers/chromedriver/mac64/108.0.5359.71/chromedriver] found in cache\n",
      "\n",
      "\n",
      "====== WebDriver manager ======\n",
      "Current google-chrome version is 108.0.5359\n",
      "Get LATEST chromedriver version for 108.0.5359 google-chrome\n"
     ]
    },
    {
     "name": "stdout",
     "output_type": "stream",
     "text": [
      "[41.403423, 41.3827, 41.391712, 41.387573, 41.395325, 41.380924, 41.38174, 41.38349, 41.41142, 41.368454, 41.38442, 41.371174, 41.364548, 41.412766, 41.40341, 41.39493, 41.378883, 41.388542, 41.382168, 41.36852, 41.387, 41.37494, 41.4215, 41.39621, 41.41451, 41.385235, 41.384056, 41.37993, 41.38031, 41.38463, 41.422813, 41.39158, 41.421803, 41.386246, 41.4058, 41.363335, 41.38082, 41.391052, 41.38086, 41.37807, 41.387016, 41.37269, 41.397636, 41.43845]\n",
      "[2.174611, 2.177113, 2.164824, 2.175302, 2.161925, 2.122952, 2.171584, 2.18178, 2.174328, 2.153715, 2.17601, 2.151718, 2.165427, 2.131519, 2.15066, 2.16177, 2.17424, 2.18718, 2.172549, 2.159726, 2.17611, 2.14834, 2.1192, 2.161339, 2.152709, 2.180893, 2.17754, 2.17506, 2.17416, 2.18156, 2.119261, 2.16511, 2.119031, 2.178191, 2.15559, 2.166181, 2.180128, 2.180643, 2.185734, 2.1776, 2.170047, 2.17824, 2.114895, 2.148]\n"
     ]
    },
    {
     "name": "stderr",
     "output_type": "stream",
     "text": [
      "Driver [/Users/ericsonmarques/.wdm/drivers/chromedriver/mac64/108.0.5359.71/chromedriver] found in cache\n",
      "\n",
      "\n",
      "====== WebDriver manager ======\n",
      "Current google-chrome version is 108.0.5359\n",
      "Get LATEST chromedriver version for 108.0.5359 google-chrome\n"
     ]
    },
    {
     "name": "stdout",
     "output_type": "stream",
     "text": [
      "[41.403423, 41.3827, 41.391712, 41.387573, 41.395325, 41.380924, 41.38174, 41.38349, 41.41142, 41.368454, 41.38442, 41.371174, 41.364548, 41.412766, 41.40341, 41.39493, 41.378883, 41.388542, 41.382168, 41.36852, 41.387, 41.37494, 41.4215, 41.39621, 41.41451, 41.385235, 41.384056, 41.37993, 41.38031, 41.38463, 41.422813, 41.39158, 41.421803, 41.386246, 41.4058, 41.363335, 41.38082, 41.391052, 41.38086, 41.37807, 41.387016, 41.37269, 41.397636, 41.43845, 41.40903]\n",
      "[2.174611, 2.177113, 2.164824, 2.175302, 2.161925, 2.122952, 2.171584, 2.18178, 2.174328, 2.153715, 2.17601, 2.151718, 2.165427, 2.131519, 2.15066, 2.16177, 2.17424, 2.18718, 2.172549, 2.159726, 2.17611, 2.14834, 2.1192, 2.161339, 2.152709, 2.180893, 2.17754, 2.17506, 2.17416, 2.18156, 2.119261, 2.16511, 2.119031, 2.178191, 2.15559, 2.166181, 2.180128, 2.180643, 2.185734, 2.1776, 2.170047, 2.17824, 2.114895, 2.148, 2.12652]\n"
     ]
    },
    {
     "name": "stderr",
     "output_type": "stream",
     "text": [
      "Driver [/Users/ericsonmarques/.wdm/drivers/chromedriver/mac64/108.0.5359.71/chromedriver] found in cache\n",
      "\n",
      "\n",
      "====== WebDriver manager ======\n",
      "Current google-chrome version is 108.0.5359\n",
      "Get LATEST chromedriver version for 108.0.5359 google-chrome\n"
     ]
    },
    {
     "name": "stdout",
     "output_type": "stream",
     "text": [
      "[41.403423, 41.3827, 41.391712, 41.387573, 41.395325, 41.380924, 41.38174, 41.38349, 41.41142, 41.368454, 41.38442, 41.371174, 41.364548, 41.412766, 41.40341, 41.39493, 41.378883, 41.388542, 41.382168, 41.36852, 41.387, 41.37494, 41.4215, 41.39621, 41.41451, 41.385235, 41.384056, 41.37993, 41.38031, 41.38463, 41.422813, 41.39158, 41.421803, 41.386246, 41.4058, 41.363335, 41.38082, 41.391052, 41.38086, 41.37807, 41.387016, 41.37269, 41.397636, 41.43845, 41.40903, 41.37575]\n",
      "[2.174611, 2.177113, 2.164824, 2.175302, 2.161925, 2.122952, 2.171584, 2.18178, 2.174328, 2.153715, 2.17601, 2.151718, 2.165427, 2.131519, 2.15066, 2.16177, 2.17424, 2.18718, 2.172549, 2.159726, 2.17611, 2.14834, 2.1192, 2.161339, 2.152709, 2.180893, 2.17754, 2.17506, 2.17416, 2.18156, 2.119261, 2.16511, 2.119031, 2.178191, 2.15559, 2.166181, 2.180128, 2.180643, 2.185734, 2.1776, 2.170047, 2.17824, 2.114895, 2.148, 2.12652, 2.177805]\n"
     ]
    },
    {
     "name": "stderr",
     "output_type": "stream",
     "text": [
      "Driver [/Users/ericsonmarques/.wdm/drivers/chromedriver/mac64/108.0.5359.71/chromedriver] found in cache\n",
      "\n",
      "\n",
      "====== WebDriver manager ======\n",
      "Current google-chrome version is 108.0.5359\n",
      "Get LATEST chromedriver version for 108.0.5359 google-chrome\n"
     ]
    },
    {
     "name": "stdout",
     "output_type": "stream",
     "text": [
      "[41.403423, 41.3827, 41.391712, 41.387573, 41.395325, 41.380924, 41.38174, 41.38349, 41.41142, 41.368454, 41.38442, 41.371174, 41.364548, 41.412766, 41.40341, 41.39493, 41.378883, 41.388542, 41.382168, 41.36852, 41.387, 41.37494, 41.4215, 41.39621, 41.41451, 41.385235, 41.384056, 41.37993, 41.38031, 41.38463, 41.422813, 41.39158, 41.421803, 41.386246, 41.4058, 41.363335, 41.38082, 41.391052, 41.38086, 41.37807, 41.387016, 41.37269, 41.397636, 41.43845, 41.40903, 41.37575, 41.38192]\n",
      "[2.174611, 2.177113, 2.164824, 2.175302, 2.161925, 2.122952, 2.171584, 2.18178, 2.174328, 2.153715, 2.17601, 2.151718, 2.165427, 2.131519, 2.15066, 2.16177, 2.17424, 2.18718, 2.172549, 2.159726, 2.17611, 2.14834, 2.1192, 2.161339, 2.152709, 2.180893, 2.17754, 2.17506, 2.17416, 2.18156, 2.119261, 2.16511, 2.119031, 2.178191, 2.15559, 2.166181, 2.180128, 2.180643, 2.185734, 2.1776, 2.170047, 2.17824, 2.114895, 2.148, 2.12652, 2.177805, 2.17186]\n"
     ]
    },
    {
     "name": "stderr",
     "output_type": "stream",
     "text": [
      "Driver [/Users/ericsonmarques/.wdm/drivers/chromedriver/mac64/108.0.5359.71/chromedriver] found in cache\n",
      "\n",
      "\n",
      "====== WebDriver manager ======\n",
      "Current google-chrome version is 108.0.5359\n",
      "Get LATEST chromedriver version for 108.0.5359 google-chrome\n"
     ]
    },
    {
     "name": "stdout",
     "output_type": "stream",
     "text": [
      "[41.403423, 41.3827, 41.391712, 41.387573, 41.395325, 41.380924, 41.38174, 41.38349, 41.41142, 41.368454, 41.38442, 41.371174, 41.364548, 41.412766, 41.40341, 41.39493, 41.378883, 41.388542, 41.382168, 41.36852, 41.387, 41.37494, 41.4215, 41.39621, 41.41451, 41.385235, 41.384056, 41.37993, 41.38031, 41.38463, 41.422813, 41.39158, 41.421803, 41.386246, 41.4058, 41.363335, 41.38082, 41.391052, 41.38086, 41.37807, 41.387016, 41.37269, 41.397636, 41.43845, 41.40903, 41.37575, 41.38192, 41.38045]\n",
      "[2.174611, 2.177113, 2.164824, 2.175302, 2.161925, 2.122952, 2.171584, 2.18178, 2.174328, 2.153715, 2.17601, 2.151718, 2.165427, 2.131519, 2.15066, 2.16177, 2.17424, 2.18718, 2.172549, 2.159726, 2.17611, 2.14834, 2.1192, 2.161339, 2.152709, 2.180893, 2.17754, 2.17506, 2.17416, 2.18156, 2.119261, 2.16511, 2.119031, 2.178191, 2.15559, 2.166181, 2.180128, 2.180643, 2.185734, 2.1776, 2.170047, 2.17824, 2.114895, 2.148, 2.12652, 2.177805, 2.17186, 2.17033]\n"
     ]
    },
    {
     "name": "stderr",
     "output_type": "stream",
     "text": [
      "Driver [/Users/ericsonmarques/.wdm/drivers/chromedriver/mac64/108.0.5359.71/chromedriver] found in cache\n",
      "\n",
      "\n",
      "====== WebDriver manager ======\n",
      "Current google-chrome version is 108.0.5359\n",
      "Get LATEST chromedriver version for 108.0.5359 google-chrome\n"
     ]
    },
    {
     "name": "stdout",
     "output_type": "stream",
     "text": [
      "[41.403423, 41.3827, 41.391712, 41.387573, 41.395325, 41.380924, 41.38174, 41.38349, 41.41142, 41.368454, 41.38442, 41.371174, 41.364548, 41.412766, 41.40341, 41.39493, 41.378883, 41.388542, 41.382168, 41.36852, 41.387, 41.37494, 41.4215, 41.39621, 41.41451, 41.385235, 41.384056, 41.37993, 41.38031, 41.38463, 41.422813, 41.39158, 41.421803, 41.386246, 41.4058, 41.363335, 41.38082, 41.391052, 41.38086, 41.37807, 41.387016, 41.37269, 41.397636, 41.43845, 41.40903, 41.37575, 41.38192, 41.38045, 41.38063]\n",
      "[2.174611, 2.177113, 2.164824, 2.175302, 2.161925, 2.122952, 2.171584, 2.18178, 2.174328, 2.153715, 2.17601, 2.151718, 2.165427, 2.131519, 2.15066, 2.16177, 2.17424, 2.18718, 2.172549, 2.159726, 2.17611, 2.14834, 2.1192, 2.161339, 2.152709, 2.180893, 2.17754, 2.17506, 2.17416, 2.18156, 2.119261, 2.16511, 2.119031, 2.178191, 2.15559, 2.166181, 2.180128, 2.180643, 2.185734, 2.1776, 2.170047, 2.17824, 2.114895, 2.148, 2.12652, 2.177805, 2.17186, 2.17033, 2.17362]\n"
     ]
    },
    {
     "name": "stderr",
     "output_type": "stream",
     "text": [
      "Driver [/Users/ericsonmarques/.wdm/drivers/chromedriver/mac64/108.0.5359.71/chromedriver] found in cache\n",
      "\n",
      "\n",
      "====== WebDriver manager ======\n",
      "Current google-chrome version is 108.0.5359\n",
      "Get LATEST chromedriver version for 108.0.5359 google-chrome\n"
     ]
    },
    {
     "name": "stdout",
     "output_type": "stream",
     "text": [
      "[41.403423, 41.3827, 41.391712, 41.387573, 41.395325, 41.380924, 41.38174, 41.38349, 41.41142, 41.368454, 41.38442, 41.371174, 41.364548, 41.412766, 41.40341, 41.39493, 41.378883, 41.388542, 41.382168, 41.36852, 41.387, 41.37494, 41.4215, 41.39621, 41.41451, 41.385235, 41.384056, 41.37993, 41.38031, 41.38463, 41.422813, 41.39158, 41.421803, 41.386246, 41.4058, 41.363335, 41.38082, 41.391052, 41.38086, 41.37807, 41.387016, 41.37269, 41.397636, 41.43845, 41.40903, 41.37575, 41.38192, 41.38045, 41.38063, 41.3755]\n",
      "[2.174611, 2.177113, 2.164824, 2.175302, 2.161925, 2.122952, 2.171584, 2.18178, 2.174328, 2.153715, 2.17601, 2.151718, 2.165427, 2.131519, 2.15066, 2.16177, 2.17424, 2.18718, 2.172549, 2.159726, 2.17611, 2.14834, 2.1192, 2.161339, 2.152709, 2.180893, 2.17754, 2.17506, 2.17416, 2.18156, 2.119261, 2.16511, 2.119031, 2.178191, 2.15559, 2.166181, 2.180128, 2.180643, 2.185734, 2.1776, 2.170047, 2.17824, 2.114895, 2.148, 2.12652, 2.177805, 2.17186, 2.17033, 2.17362, 2.17674]\n"
     ]
    },
    {
     "name": "stderr",
     "output_type": "stream",
     "text": [
      "Driver [/Users/ericsonmarques/.wdm/drivers/chromedriver/mac64/108.0.5359.71/chromedriver] found in cache\n",
      "\n",
      "\n",
      "====== WebDriver manager ======\n",
      "Current google-chrome version is 108.0.5359\n",
      "Get LATEST chromedriver version for 108.0.5359 google-chrome\n"
     ]
    },
    {
     "name": "stdout",
     "output_type": "stream",
     "text": [
      "[41.403423, 41.3827, 41.391712, 41.387573, 41.395325, 41.380924, 41.38174, 41.38349, 41.41142, 41.368454, 41.38442, 41.371174, 41.364548, 41.412766, 41.40341, 41.39493, 41.378883, 41.388542, 41.382168, 41.36852, 41.387, 41.37494, 41.4215, 41.39621, 41.41451, 41.385235, 41.384056, 41.37993, 41.38031, 41.38463, 41.422813, 41.39158, 41.421803, 41.386246, 41.4058, 41.363335, 41.38082, 41.391052, 41.38086, 41.37807, 41.387016, 41.37269, 41.397636, 41.43845, 41.40903, 41.37575, 41.38192, 41.38045, 41.38063, 41.3755, 41.38026]\n",
      "[2.174611, 2.177113, 2.164824, 2.175302, 2.161925, 2.122952, 2.171584, 2.18178, 2.174328, 2.153715, 2.17601, 2.151718, 2.165427, 2.131519, 2.15066, 2.16177, 2.17424, 2.18718, 2.172549, 2.159726, 2.17611, 2.14834, 2.1192, 2.161339, 2.152709, 2.180893, 2.17754, 2.17506, 2.17416, 2.18156, 2.119261, 2.16511, 2.119031, 2.178191, 2.15559, 2.166181, 2.180128, 2.180643, 2.185734, 2.1776, 2.170047, 2.17824, 2.114895, 2.148, 2.12652, 2.177805, 2.17186, 2.17033, 2.17362, 2.17674, 2.19343]\n"
     ]
    },
    {
     "name": "stderr",
     "output_type": "stream",
     "text": [
      "Driver [/Users/ericsonmarques/.wdm/drivers/chromedriver/mac64/108.0.5359.71/chromedriver] found in cache\n",
      "\n",
      "\n",
      "====== WebDriver manager ======\n",
      "Current google-chrome version is 108.0.5359\n",
      "Get LATEST chromedriver version for 108.0.5359 google-chrome\n"
     ]
    },
    {
     "name": "stdout",
     "output_type": "stream",
     "text": [
      "[41.403423, 41.3827, 41.391712, 41.387573, 41.395325, 41.380924, 41.38174, 41.38349, 41.41142, 41.368454, 41.38442, 41.371174, 41.364548, 41.412766, 41.40341, 41.39493, 41.378883, 41.388542, 41.382168, 41.36852, 41.387, 41.37494, 41.4215, 41.39621, 41.41451, 41.385235, 41.384056, 41.37993, 41.38031, 41.38463, 41.422813, 41.39158, 41.421803, 41.386246, 41.4058, 41.363335, 41.38082, 41.391052, 41.38086, 41.37807, 41.387016, 41.37269, 41.397636, 41.43845, 41.40903, 41.37575, 41.38192, 41.38045, 41.38063, 41.3755, 41.38026, 41.37796]\n",
      "[2.174611, 2.177113, 2.164824, 2.175302, 2.161925, 2.122952, 2.171584, 2.18178, 2.174328, 2.153715, 2.17601, 2.151718, 2.165427, 2.131519, 2.15066, 2.16177, 2.17424, 2.18718, 2.172549, 2.159726, 2.17611, 2.14834, 2.1192, 2.161339, 2.152709, 2.180893, 2.17754, 2.17506, 2.17416, 2.18156, 2.119261, 2.16511, 2.119031, 2.178191, 2.15559, 2.166181, 2.180128, 2.180643, 2.185734, 2.1776, 2.170047, 2.17824, 2.114895, 2.148, 2.12652, 2.177805, 2.17186, 2.17033, 2.17362, 2.17674, 2.19343, 2.17369]\n"
     ]
    },
    {
     "name": "stderr",
     "output_type": "stream",
     "text": [
      "Driver [/Users/ericsonmarques/.wdm/drivers/chromedriver/mac64/108.0.5359.71/chromedriver] found in cache\n",
      "\n",
      "\n",
      "====== WebDriver manager ======\n",
      "Current google-chrome version is 108.0.5359\n",
      "Get LATEST chromedriver version for 108.0.5359 google-chrome\n"
     ]
    },
    {
     "name": "stdout",
     "output_type": "stream",
     "text": [
      "[41.403423, 41.3827, 41.391712, 41.387573, 41.395325, 41.380924, 41.38174, 41.38349, 41.41142, 41.368454, 41.38442, 41.371174, 41.364548, 41.412766, 41.40341, 41.39493, 41.378883, 41.388542, 41.382168, 41.36852, 41.387, 41.37494, 41.4215, 41.39621, 41.41451, 41.385235, 41.384056, 41.37993, 41.38031, 41.38463, 41.422813, 41.39158, 41.421803, 41.386246, 41.4058, 41.363335, 41.38082, 41.391052, 41.38086, 41.37807, 41.387016, 41.37269, 41.397636, 41.43845, 41.40903, 41.37575, 41.38192, 41.38045, 41.38063, 41.3755, 41.38026, 41.37796, 41.38631]\n",
      "[2.174611, 2.177113, 2.164824, 2.175302, 2.161925, 2.122952, 2.171584, 2.18178, 2.174328, 2.153715, 2.17601, 2.151718, 2.165427, 2.131519, 2.15066, 2.16177, 2.17424, 2.18718, 2.172549, 2.159726, 2.17611, 2.14834, 2.1192, 2.161339, 2.152709, 2.180893, 2.17754, 2.17506, 2.17416, 2.18156, 2.119261, 2.16511, 2.119031, 2.178191, 2.15559, 2.166181, 2.180128, 2.180643, 2.185734, 2.1776, 2.170047, 2.17824, 2.114895, 2.148, 2.12652, 2.177805, 2.17186, 2.17033, 2.17362, 2.17674, 2.19343, 2.17369, 2.18536]\n"
     ]
    },
    {
     "name": "stderr",
     "output_type": "stream",
     "text": [
      "Driver [/Users/ericsonmarques/.wdm/drivers/chromedriver/mac64/108.0.5359.71/chromedriver] found in cache\n",
      "\n",
      "\n",
      "====== WebDriver manager ======\n",
      "Current google-chrome version is 108.0.5359\n",
      "Get LATEST chromedriver version for 108.0.5359 google-chrome\n"
     ]
    },
    {
     "name": "stdout",
     "output_type": "stream",
     "text": [
      "[41.403423, 41.3827, 41.391712, 41.387573, 41.395325, 41.380924, 41.38174, 41.38349, 41.41142, 41.368454, 41.38442, 41.371174, 41.364548, 41.412766, 41.40341, 41.39493, 41.378883, 41.388542, 41.382168, 41.36852, 41.387, 41.37494, 41.4215, 41.39621, 41.41451, 41.385235, 41.384056, 41.37993, 41.38031, 41.38463, 41.422813, 41.39158, 41.421803, 41.386246, 41.4058, 41.363335, 41.38082, 41.391052, 41.38086, 41.37807, 41.387016, 41.37269, 41.397636, 41.43845, 41.40903, 41.37575, 41.38192, 41.38045, 41.38063, 41.3755, 41.38026, 41.37796, 41.38631, 41.380985]\n",
      "[2.174611, 2.177113, 2.164824, 2.175302, 2.161925, 2.122952, 2.171584, 2.18178, 2.174328, 2.153715, 2.17601, 2.151718, 2.165427, 2.131519, 2.15066, 2.16177, 2.17424, 2.18718, 2.172549, 2.159726, 2.17611, 2.14834, 2.1192, 2.161339, 2.152709, 2.180893, 2.17754, 2.17506, 2.17416, 2.18156, 2.119261, 2.16511, 2.119031, 2.178191, 2.15559, 2.166181, 2.180128, 2.180643, 2.185734, 2.1776, 2.170047, 2.17824, 2.114895, 2.148, 2.12652, 2.177805, 2.17186, 2.17033, 2.17362, 2.17674, 2.19343, 2.17369, 2.18536, 2.17341]\n"
     ]
    },
    {
     "name": "stderr",
     "output_type": "stream",
     "text": [
      "Driver [/Users/ericsonmarques/.wdm/drivers/chromedriver/mac64/108.0.5359.71/chromedriver] found in cache\n",
      "\n",
      "\n",
      "====== WebDriver manager ======\n",
      "Current google-chrome version is 108.0.5359\n",
      "Get LATEST chromedriver version for 108.0.5359 google-chrome\n"
     ]
    },
    {
     "name": "stdout",
     "output_type": "stream",
     "text": [
      "[41.403423, 41.3827, 41.391712, 41.387573, 41.395325, 41.380924, 41.38174, 41.38349, 41.41142, 41.368454, 41.38442, 41.371174, 41.364548, 41.412766, 41.40341, 41.39493, 41.378883, 41.388542, 41.382168, 41.36852, 41.387, 41.37494, 41.4215, 41.39621, 41.41451, 41.385235, 41.384056, 41.37993, 41.38031, 41.38463, 41.422813, 41.39158, 41.421803, 41.386246, 41.4058, 41.363335, 41.38082, 41.391052, 41.38086, 41.37807, 41.387016, 41.37269, 41.397636, 41.43845, 41.40903, 41.37575, 41.38192, 41.38045, 41.38063, 41.3755, 41.38026, 41.37796, 41.38631, 41.380985, 41.385136]\n",
      "[2.174611, 2.177113, 2.164824, 2.175302, 2.161925, 2.122952, 2.171584, 2.18178, 2.174328, 2.153715, 2.17601, 2.151718, 2.165427, 2.131519, 2.15066, 2.16177, 2.17424, 2.18718, 2.172549, 2.159726, 2.17611, 2.14834, 2.1192, 2.161339, 2.152709, 2.180893, 2.17754, 2.17506, 2.17416, 2.18156, 2.119261, 2.16511, 2.119031, 2.178191, 2.15559, 2.166181, 2.180128, 2.180643, 2.185734, 2.1776, 2.170047, 2.17824, 2.114895, 2.148, 2.12652, 2.177805, 2.17186, 2.17033, 2.17362, 2.17674, 2.19343, 2.17369, 2.18536, 2.17341, 2.180325]\n"
     ]
    },
    {
     "name": "stderr",
     "output_type": "stream",
     "text": [
      "Driver [/Users/ericsonmarques/.wdm/drivers/chromedriver/mac64/108.0.5359.71/chromedriver] found in cache\n",
      "\n",
      "\n",
      "====== WebDriver manager ======\n",
      "Current google-chrome version is 108.0.5359\n",
      "Get LATEST chromedriver version for 108.0.5359 google-chrome\n"
     ]
    },
    {
     "name": "stdout",
     "output_type": "stream",
     "text": [
      "[41.403423, 41.3827, 41.391712, 41.387573, 41.395325, 41.380924, 41.38174, 41.38349, 41.41142, 41.368454, 41.38442, 41.371174, 41.364548, 41.412766, 41.40341, 41.39493, 41.378883, 41.388542, 41.382168, 41.36852, 41.387, 41.37494, 41.4215, 41.39621, 41.41451, 41.385235, 41.384056, 41.37993, 41.38031, 41.38463, 41.422813, 41.39158, 41.421803, 41.386246, 41.4058, 41.363335, 41.38082, 41.391052, 41.38086, 41.37807, 41.387016, 41.37269, 41.397636, 41.43845, 41.40903, 41.37575, 41.38192, 41.38045, 41.38063, 41.3755, 41.38026, 41.37796, 41.38631, 41.380985, 41.385136, 41.38536]\n",
      "[2.174611, 2.177113, 2.164824, 2.175302, 2.161925, 2.122952, 2.171584, 2.18178, 2.174328, 2.153715, 2.17601, 2.151718, 2.165427, 2.131519, 2.15066, 2.16177, 2.17424, 2.18718, 2.172549, 2.159726, 2.17611, 2.14834, 2.1192, 2.161339, 2.152709, 2.180893, 2.17754, 2.17506, 2.17416, 2.18156, 2.119261, 2.16511, 2.119031, 2.178191, 2.15559, 2.166181, 2.180128, 2.180643, 2.185734, 2.1776, 2.170047, 2.17824, 2.114895, 2.148, 2.12652, 2.177805, 2.17186, 2.17033, 2.17362, 2.17674, 2.19343, 2.17369, 2.18536, 2.17341, 2.180325, 2.17042]\n"
     ]
    },
    {
     "name": "stderr",
     "output_type": "stream",
     "text": [
      "Driver [/Users/ericsonmarques/.wdm/drivers/chromedriver/mac64/108.0.5359.71/chromedriver] found in cache\n",
      "\n",
      "\n",
      "====== WebDriver manager ======\n",
      "Current google-chrome version is 108.0.5359\n",
      "Get LATEST chromedriver version for 108.0.5359 google-chrome\n"
     ]
    },
    {
     "name": "stdout",
     "output_type": "stream",
     "text": [
      "[41.403423, 41.3827, 41.391712, 41.387573, 41.395325, 41.380924, 41.38174, 41.38349, 41.41142, 41.368454, 41.38442, 41.371174, 41.364548, 41.412766, 41.40341, 41.39493, 41.378883, 41.388542, 41.382168, 41.36852, 41.387, 41.37494, 41.4215, 41.39621, 41.41451, 41.385235, 41.384056, 41.37993, 41.38031, 41.38463, 41.422813, 41.39158, 41.421803, 41.386246, 41.4058, 41.363335, 41.38082, 41.391052, 41.38086, 41.37807, 41.387016, 41.37269, 41.397636, 41.43845, 41.40903, 41.37575, 41.38192, 41.38045, 41.38063, 41.3755, 41.38026, 41.37796, 41.38631, 41.380985, 41.385136, 41.38536, 41.375854]\n",
      "[2.174611, 2.177113, 2.164824, 2.175302, 2.161925, 2.122952, 2.171584, 2.18178, 2.174328, 2.153715, 2.17601, 2.151718, 2.165427, 2.131519, 2.15066, 2.16177, 2.17424, 2.18718, 2.172549, 2.159726, 2.17611, 2.14834, 2.1192, 2.161339, 2.152709, 2.180893, 2.17754, 2.17506, 2.17416, 2.18156, 2.119261, 2.16511, 2.119031, 2.178191, 2.15559, 2.166181, 2.180128, 2.180643, 2.185734, 2.1776, 2.170047, 2.17824, 2.114895, 2.148, 2.12652, 2.177805, 2.17186, 2.17033, 2.17362, 2.17674, 2.19343, 2.17369, 2.18536, 2.17341, 2.180325, 2.17042, 2.179365]\n"
     ]
    },
    {
     "name": "stderr",
     "output_type": "stream",
     "text": [
      "Driver [/Users/ericsonmarques/.wdm/drivers/chromedriver/mac64/108.0.5359.71/chromedriver] found in cache\n",
      "\n",
      "\n",
      "====== WebDriver manager ======\n",
      "Current google-chrome version is 108.0.5359\n",
      "Get LATEST chromedriver version for 108.0.5359 google-chrome\n"
     ]
    },
    {
     "name": "stdout",
     "output_type": "stream",
     "text": [
      "[41.403423, 41.3827, 41.391712, 41.387573, 41.395325, 41.380924, 41.38174, 41.38349, 41.41142, 41.368454, 41.38442, 41.371174, 41.364548, 41.412766, 41.40341, 41.39493, 41.378883, 41.388542, 41.382168, 41.36852, 41.387, 41.37494, 41.4215, 41.39621, 41.41451, 41.385235, 41.384056, 41.37993, 41.38031, 41.38463, 41.422813, 41.39158, 41.421803, 41.386246, 41.4058, 41.363335, 41.38082, 41.391052, 41.38086, 41.37807, 41.387016, 41.37269, 41.397636, 41.43845, 41.40903, 41.37575, 41.38192, 41.38045, 41.38063, 41.3755, 41.38026, 41.37796, 41.38631, 41.380985, 41.385136, 41.38536, 41.375854, 41.4402]\n",
      "[2.174611, 2.177113, 2.164824, 2.175302, 2.161925, 2.122952, 2.171584, 2.18178, 2.174328, 2.153715, 2.17601, 2.151718, 2.165427, 2.131519, 2.15066, 2.16177, 2.17424, 2.18718, 2.172549, 2.159726, 2.17611, 2.14834, 2.1192, 2.161339, 2.152709, 2.180893, 2.17754, 2.17506, 2.17416, 2.18156, 2.119261, 2.16511, 2.119031, 2.178191, 2.15559, 2.166181, 2.180128, 2.180643, 2.185734, 2.1776, 2.170047, 2.17824, 2.114895, 2.148, 2.12652, 2.177805, 2.17186, 2.17033, 2.17362, 2.17674, 2.19343, 2.17369, 2.18536, 2.17341, 2.180325, 2.17042, 2.179365, 2.19831]\n"
     ]
    },
    {
     "name": "stderr",
     "output_type": "stream",
     "text": [
      "Driver [/Users/ericsonmarques/.wdm/drivers/chromedriver/mac64/108.0.5359.71/chromedriver] found in cache\n",
      "\n",
      "\n",
      "====== WebDriver manager ======\n",
      "Current google-chrome version is 108.0.5359\n",
      "Get LATEST chromedriver version for 108.0.5359 google-chrome\n"
     ]
    },
    {
     "name": "stdout",
     "output_type": "stream",
     "text": [
      "[41.403423, 41.3827, 41.391712, 41.387573, 41.395325, 41.380924, 41.38174, 41.38349, 41.41142, 41.368454, 41.38442, 41.371174, 41.364548, 41.412766, 41.40341, 41.39493, 41.378883, 41.388542, 41.382168, 41.36852, 41.387, 41.37494, 41.4215, 41.39621, 41.41451, 41.385235, 41.384056, 41.37993, 41.38031, 41.38463, 41.422813, 41.39158, 41.421803, 41.386246, 41.4058, 41.363335, 41.38082, 41.391052, 41.38086, 41.37807, 41.387016, 41.37269, 41.397636, 41.43845, 41.40903, 41.37575, 41.38192, 41.38045, 41.38063, 41.3755, 41.38026, 41.37796, 41.38631, 41.380985, 41.385136, 41.38536, 41.375854, 41.4402, 41.388947]\n",
      "[2.174611, 2.177113, 2.164824, 2.175302, 2.161925, 2.122952, 2.171584, 2.18178, 2.174328, 2.153715, 2.17601, 2.151718, 2.165427, 2.131519, 2.15066, 2.16177, 2.17424, 2.18718, 2.172549, 2.159726, 2.17611, 2.14834, 2.1192, 2.161339, 2.152709, 2.180893, 2.17754, 2.17506, 2.17416, 2.18156, 2.119261, 2.16511, 2.119031, 2.178191, 2.15559, 2.166181, 2.180128, 2.180643, 2.185734, 2.1776, 2.170047, 2.17824, 2.114895, 2.148, 2.12652, 2.177805, 2.17186, 2.17033, 2.17362, 2.17674, 2.19343, 2.17369, 2.18536, 2.17341, 2.180325, 2.17042, 2.179365, 2.19831, 2.163636]\n"
     ]
    },
    {
     "name": "stderr",
     "output_type": "stream",
     "text": [
      "Driver [/Users/ericsonmarques/.wdm/drivers/chromedriver/mac64/108.0.5359.71/chromedriver] found in cache\n",
      "\n",
      "\n",
      "====== WebDriver manager ======\n",
      "Current google-chrome version is 108.0.5359\n",
      "Get LATEST chromedriver version for 108.0.5359 google-chrome\n"
     ]
    },
    {
     "name": "stdout",
     "output_type": "stream",
     "text": [
      "[41.403423, 41.3827, 41.391712, 41.387573, 41.395325, 41.380924, 41.38174, 41.38349, 41.41142, 41.368454, 41.38442, 41.371174, 41.364548, 41.412766, 41.40341, 41.39493, 41.378883, 41.388542, 41.382168, 41.36852, 41.387, 41.37494, 41.4215, 41.39621, 41.41451, 41.385235, 41.384056, 41.37993, 41.38031, 41.38463, 41.422813, 41.39158, 41.421803, 41.386246, 41.4058, 41.363335, 41.38082, 41.391052, 41.38086, 41.37807, 41.387016, 41.37269, 41.397636, 41.43845, 41.40903, 41.37575, 41.38192, 41.38045, 41.38063, 41.3755, 41.38026, 41.37796, 41.38631, 41.380985, 41.385136, 41.38536, 41.375854, 41.4402, 41.388947, 41.37685]\n",
      "[2.174611, 2.177113, 2.164824, 2.175302, 2.161925, 2.122952, 2.171584, 2.18178, 2.174328, 2.153715, 2.17601, 2.151718, 2.165427, 2.131519, 2.15066, 2.16177, 2.17424, 2.18718, 2.172549, 2.159726, 2.17611, 2.14834, 2.1192, 2.161339, 2.152709, 2.180893, 2.17754, 2.17506, 2.17416, 2.18156, 2.119261, 2.16511, 2.119031, 2.178191, 2.15559, 2.166181, 2.180128, 2.180643, 2.185734, 2.1776, 2.170047, 2.17824, 2.114895, 2.148, 2.12652, 2.177805, 2.17186, 2.17033, 2.17362, 2.17674, 2.19343, 2.17369, 2.18536, 2.17341, 2.180325, 2.17042, 2.179365, 2.19831, 2.163636, 2.184366]\n"
     ]
    },
    {
     "name": "stderr",
     "output_type": "stream",
     "text": [
      "Driver [/Users/ericsonmarques/.wdm/drivers/chromedriver/mac64/108.0.5359.71/chromedriver] found in cache\n",
      "\n",
      "\n",
      "====== WebDriver manager ======\n",
      "Current google-chrome version is 108.0.5359\n",
      "Get LATEST chromedriver version for 108.0.5359 google-chrome\n"
     ]
    },
    {
     "name": "stdout",
     "output_type": "stream",
     "text": [
      "[41.403423, 41.3827, 41.391712, 41.387573, 41.395325, 41.380924, 41.38174, 41.38349, 41.41142, 41.368454, 41.38442, 41.371174, 41.364548, 41.412766, 41.40341, 41.39493, 41.378883, 41.388542, 41.382168, 41.36852, 41.387, 41.37494, 41.4215, 41.39621, 41.41451, 41.385235, 41.384056, 41.37993, 41.38031, 41.38463, 41.422813, 41.39158, 41.421803, 41.386246, 41.4058, 41.363335, 41.38082, 41.391052, 41.38086, 41.37807, 41.387016, 41.37269, 41.397636, 41.43845, 41.40903, 41.37575, 41.38192, 41.38045, 41.38063, 41.3755, 41.38026, 41.37796, 41.38631, 41.380985, 41.385136, 41.38536, 41.375854, 41.4402, 41.388947, 41.37685, 41.3993]\n",
      "[2.174611, 2.177113, 2.164824, 2.175302, 2.161925, 2.122952, 2.171584, 2.18178, 2.174328, 2.153715, 2.17601, 2.151718, 2.165427, 2.131519, 2.15066, 2.16177, 2.17424, 2.18718, 2.172549, 2.159726, 2.17611, 2.14834, 2.1192, 2.161339, 2.152709, 2.180893, 2.17754, 2.17506, 2.17416, 2.18156, 2.119261, 2.16511, 2.119031, 2.178191, 2.15559, 2.166181, 2.180128, 2.180643, 2.185734, 2.1776, 2.170047, 2.17824, 2.114895, 2.148, 2.12652, 2.177805, 2.17186, 2.17033, 2.17362, 2.17674, 2.19343, 2.17369, 2.18536, 2.17341, 2.180325, 2.17042, 2.179365, 2.19831, 2.163636, 2.184366, 2.203403]\n"
     ]
    },
    {
     "name": "stderr",
     "output_type": "stream",
     "text": [
      "Driver [/Users/ericsonmarques/.wdm/drivers/chromedriver/mac64/108.0.5359.71/chromedriver] found in cache\n",
      "\n",
      "\n",
      "====== WebDriver manager ======\n",
      "Current google-chrome version is 108.0.5359\n",
      "Get LATEST chromedriver version for 108.0.5359 google-chrome\n"
     ]
    },
    {
     "name": "stdout",
     "output_type": "stream",
     "text": [
      "[41.403423, 41.3827, 41.391712, 41.387573, 41.395325, 41.380924, 41.38174, 41.38349, 41.41142, 41.368454, 41.38442, 41.371174, 41.364548, 41.412766, 41.40341, 41.39493, 41.378883, 41.388542, 41.382168, 41.36852, 41.387, 41.37494, 41.4215, 41.39621, 41.41451, 41.385235, 41.384056, 41.37993, 41.38031, 41.38463, 41.422813, 41.39158, 41.421803, 41.386246, 41.4058, 41.363335, 41.38082, 41.391052, 41.38086, 41.37807, 41.387016, 41.37269, 41.397636, 41.43845, 41.40903, 41.37575, 41.38192, 41.38045, 41.38063, 41.3755, 41.38026, 41.37796, 41.38631, 41.380985, 41.385136, 41.38536, 41.375854, 41.4402, 41.388947, 41.37685, 41.3993, 41.40988]\n",
      "[2.174611, 2.177113, 2.164824, 2.175302, 2.161925, 2.122952, 2.171584, 2.18178, 2.174328, 2.153715, 2.17601, 2.151718, 2.165427, 2.131519, 2.15066, 2.16177, 2.17424, 2.18718, 2.172549, 2.159726, 2.17611, 2.14834, 2.1192, 2.161339, 2.152709, 2.180893, 2.17754, 2.17506, 2.17416, 2.18156, 2.119261, 2.16511, 2.119031, 2.178191, 2.15559, 2.166181, 2.180128, 2.180643, 2.185734, 2.1776, 2.170047, 2.17824, 2.114895, 2.148, 2.12652, 2.177805, 2.17186, 2.17033, 2.17362, 2.17674, 2.19343, 2.17369, 2.18536, 2.17341, 2.180325, 2.17042, 2.179365, 2.19831, 2.163636, 2.184366, 2.203403, 2.216376]\n"
     ]
    },
    {
     "name": "stderr",
     "output_type": "stream",
     "text": [
      "Driver [/Users/ericsonmarques/.wdm/drivers/chromedriver/mac64/108.0.5359.71/chromedriver] found in cache\n",
      "\n",
      "\n",
      "====== WebDriver manager ======\n",
      "Current google-chrome version is 108.0.5359\n",
      "Get LATEST chromedriver version for 108.0.5359 google-chrome\n"
     ]
    },
    {
     "name": "stdout",
     "output_type": "stream",
     "text": [
      "[41.403423, 41.3827, 41.391712, 41.387573, 41.395325, 41.380924, 41.38174, 41.38349, 41.41142, 41.368454, 41.38442, 41.371174, 41.364548, 41.412766, 41.40341, 41.39493, 41.378883, 41.388542, 41.382168, 41.36852, 41.387, 41.37494, 41.4215, 41.39621, 41.41451, 41.385235, 41.384056, 41.37993, 41.38031, 41.38463, 41.422813, 41.39158, 41.421803, 41.386246, 41.4058, 41.363335, 41.38082, 41.391052, 41.38086, 41.37807, 41.387016, 41.37269, 41.397636, 41.43845, 41.40903, 41.37575, 41.38192, 41.38045, 41.38063, 41.3755, 41.38026, 41.37796, 41.38631, 41.380985, 41.385136, 41.38536, 41.375854, 41.4402, 41.388947, 41.37685, 41.3993, 41.40988, 41.38566]\n",
      "[2.174611, 2.177113, 2.164824, 2.175302, 2.161925, 2.122952, 2.171584, 2.18178, 2.174328, 2.153715, 2.17601, 2.151718, 2.165427, 2.131519, 2.15066, 2.16177, 2.17424, 2.18718, 2.172549, 2.159726, 2.17611, 2.14834, 2.1192, 2.161339, 2.152709, 2.180893, 2.17754, 2.17506, 2.17416, 2.18156, 2.119261, 2.16511, 2.119031, 2.178191, 2.15559, 2.166181, 2.180128, 2.180643, 2.185734, 2.1776, 2.170047, 2.17824, 2.114895, 2.148, 2.12652, 2.177805, 2.17186, 2.17033, 2.17362, 2.17674, 2.19343, 2.17369, 2.18536, 2.17341, 2.180325, 2.17042, 2.179365, 2.19831, 2.163636, 2.184366, 2.203403, 2.216376, 2.183822]\n"
     ]
    },
    {
     "name": "stderr",
     "output_type": "stream",
     "text": [
      "Driver [/Users/ericsonmarques/.wdm/drivers/chromedriver/mac64/108.0.5359.71/chromedriver] found in cache\n",
      "\n",
      "\n",
      "====== WebDriver manager ======\n",
      "Current google-chrome version is 108.0.5359\n",
      "Get LATEST chromedriver version for 108.0.5359 google-chrome\n"
     ]
    },
    {
     "name": "stdout",
     "output_type": "stream",
     "text": [
      "[41.403423, 41.3827, 41.391712, 41.387573, 41.395325, 41.380924, 41.38174, 41.38349, 41.41142, 41.368454, 41.38442, 41.371174, 41.364548, 41.412766, 41.40341, 41.39493, 41.378883, 41.388542, 41.382168, 41.36852, 41.387, 41.37494, 41.4215, 41.39621, 41.41451, 41.385235, 41.384056, 41.37993, 41.38031, 41.38463, 41.422813, 41.39158, 41.421803, 41.386246, 41.4058, 41.363335, 41.38082, 41.391052, 41.38086, 41.37807, 41.387016, 41.37269, 41.397636, 41.43845, 41.40903, 41.37575, 41.38192, 41.38045, 41.38063, 41.3755, 41.38026, 41.37796, 41.38631, 41.380985, 41.385136, 41.38536, 41.375854, 41.4402, 41.388947, 41.37685, 41.3993, 41.40988, 41.38566, 41.383327]\n",
      "[2.174611, 2.177113, 2.164824, 2.175302, 2.161925, 2.122952, 2.171584, 2.18178, 2.174328, 2.153715, 2.17601, 2.151718, 2.165427, 2.131519, 2.15066, 2.16177, 2.17424, 2.18718, 2.172549, 2.159726, 2.17611, 2.14834, 2.1192, 2.161339, 2.152709, 2.180893, 2.17754, 2.17506, 2.17416, 2.18156, 2.119261, 2.16511, 2.119031, 2.178191, 2.15559, 2.166181, 2.180128, 2.180643, 2.185734, 2.1776, 2.170047, 2.17824, 2.114895, 2.148, 2.12652, 2.177805, 2.17186, 2.17033, 2.17362, 2.17674, 2.19343, 2.17369, 2.18536, 2.17341, 2.180325, 2.17042, 2.179365, 2.19831, 2.163636, 2.184366, 2.203403, 2.216376, 2.183822, 2.176435]\n"
     ]
    },
    {
     "name": "stderr",
     "output_type": "stream",
     "text": [
      "Driver [/Users/ericsonmarques/.wdm/drivers/chromedriver/mac64/108.0.5359.71/chromedriver] found in cache\n",
      "\n",
      "\n",
      "====== WebDriver manager ======\n",
      "Current google-chrome version is 108.0.5359\n",
      "Get LATEST chromedriver version for 108.0.5359 google-chrome\n"
     ]
    },
    {
     "name": "stdout",
     "output_type": "stream",
     "text": [
      "[41.403423, 41.3827, 41.391712, 41.387573, 41.395325, 41.380924, 41.38174, 41.38349, 41.41142, 41.368454, 41.38442, 41.371174, 41.364548, 41.412766, 41.40341, 41.39493, 41.378883, 41.388542, 41.382168, 41.36852, 41.387, 41.37494, 41.4215, 41.39621, 41.41451, 41.385235, 41.384056, 41.37993, 41.38031, 41.38463, 41.422813, 41.39158, 41.421803, 41.386246, 41.4058, 41.363335, 41.38082, 41.391052, 41.38086, 41.37807, 41.387016, 41.37269, 41.397636, 41.43845, 41.40903, 41.37575, 41.38192, 41.38045, 41.38063, 41.3755, 41.38026, 41.37796, 41.38631, 41.380985, 41.385136, 41.38536, 41.375854, 41.4402, 41.388947, 41.37685, 41.3993, 41.40988, 41.38566, 41.383327, 41.38133]\n",
      "[2.174611, 2.177113, 2.164824, 2.175302, 2.161925, 2.122952, 2.171584, 2.18178, 2.174328, 2.153715, 2.17601, 2.151718, 2.165427, 2.131519, 2.15066, 2.16177, 2.17424, 2.18718, 2.172549, 2.159726, 2.17611, 2.14834, 2.1192, 2.161339, 2.152709, 2.180893, 2.17754, 2.17506, 2.17416, 2.18156, 2.119261, 2.16511, 2.119031, 2.178191, 2.15559, 2.166181, 2.180128, 2.180643, 2.185734, 2.1776, 2.170047, 2.17824, 2.114895, 2.148, 2.12652, 2.177805, 2.17186, 2.17033, 2.17362, 2.17674, 2.19343, 2.17369, 2.18536, 2.17341, 2.180325, 2.17042, 2.179365, 2.19831, 2.163636, 2.184366, 2.203403, 2.216376, 2.183822, 2.176435, 2.17768]\n"
     ]
    },
    {
     "name": "stderr",
     "output_type": "stream",
     "text": [
      "Driver [/Users/ericsonmarques/.wdm/drivers/chromedriver/mac64/108.0.5359.71/chromedriver] found in cache\n",
      "\n",
      "\n",
      "====== WebDriver manager ======\n",
      "Current google-chrome version is 108.0.5359\n",
      "Get LATEST chromedriver version for 108.0.5359 google-chrome\n"
     ]
    },
    {
     "name": "stdout",
     "output_type": "stream",
     "text": [
      "[41.403423, 41.3827, 41.391712, 41.387573, 41.395325, 41.380924, 41.38174, 41.38349, 41.41142, 41.368454, 41.38442, 41.371174, 41.364548, 41.412766, 41.40341, 41.39493, 41.378883, 41.388542, 41.382168, 41.36852, 41.387, 41.37494, 41.4215, 41.39621, 41.41451, 41.385235, 41.384056, 41.37993, 41.38031, 41.38463, 41.422813, 41.39158, 41.421803, 41.386246, 41.4058, 41.363335, 41.38082, 41.391052, 41.38086, 41.37807, 41.387016, 41.37269, 41.397636, 41.43845, 41.40903, 41.37575, 41.38192, 41.38045, 41.38063, 41.3755, 41.38026, 41.37796, 41.38631, 41.380985, 41.385136, 41.38536, 41.375854, 41.4402, 41.388947, 41.37685, 41.3993, 41.40988, 41.38566, 41.383327, 41.38133, 41.391117]\n",
      "[2.174611, 2.177113, 2.164824, 2.175302, 2.161925, 2.122952, 2.171584, 2.18178, 2.174328, 2.153715, 2.17601, 2.151718, 2.165427, 2.131519, 2.15066, 2.16177, 2.17424, 2.18718, 2.172549, 2.159726, 2.17611, 2.14834, 2.1192, 2.161339, 2.152709, 2.180893, 2.17754, 2.17506, 2.17416, 2.18156, 2.119261, 2.16511, 2.119031, 2.178191, 2.15559, 2.166181, 2.180128, 2.180643, 2.185734, 2.1776, 2.170047, 2.17824, 2.114895, 2.148, 2.12652, 2.177805, 2.17186, 2.17033, 2.17362, 2.17674, 2.19343, 2.17369, 2.18536, 2.17341, 2.180325, 2.17042, 2.179365, 2.19831, 2.163636, 2.184366, 2.203403, 2.216376, 2.183822, 2.176435, 2.17768, 2.165385]\n"
     ]
    },
    {
     "name": "stderr",
     "output_type": "stream",
     "text": [
      "Driver [/Users/ericsonmarques/.wdm/drivers/chromedriver/mac64/108.0.5359.71/chromedriver] found in cache\n",
      "\n",
      "\n",
      "====== WebDriver manager ======\n",
      "Current google-chrome version is 108.0.5359\n",
      "Get LATEST chromedriver version for 108.0.5359 google-chrome\n"
     ]
    },
    {
     "name": "stdout",
     "output_type": "stream",
     "text": [
      "[41.403423, 41.3827, 41.391712, 41.387573, 41.395325, 41.380924, 41.38174, 41.38349, 41.41142, 41.368454, 41.38442, 41.371174, 41.364548, 41.412766, 41.40341, 41.39493, 41.378883, 41.388542, 41.382168, 41.36852, 41.387, 41.37494, 41.4215, 41.39621, 41.41451, 41.385235, 41.384056, 41.37993, 41.38031, 41.38463, 41.422813, 41.39158, 41.421803, 41.386246, 41.4058, 41.363335, 41.38082, 41.391052, 41.38086, 41.37807, 41.387016, 41.37269, 41.397636, 41.43845, 41.40903, 41.37575, 41.38192, 41.38045, 41.38063, 41.3755, 41.38026, 41.37796, 41.38631, 41.380985, 41.385136, 41.38536, 41.375854, 41.4402, 41.388947, 41.37685, 41.3993, 41.40988, 41.38566, 41.383327, 41.38133, 41.391117, 41.37591]\n",
      "[2.174611, 2.177113, 2.164824, 2.175302, 2.161925, 2.122952, 2.171584, 2.18178, 2.174328, 2.153715, 2.17601, 2.151718, 2.165427, 2.131519, 2.15066, 2.16177, 2.17424, 2.18718, 2.172549, 2.159726, 2.17611, 2.14834, 2.1192, 2.161339, 2.152709, 2.180893, 2.17754, 2.17506, 2.17416, 2.18156, 2.119261, 2.16511, 2.119031, 2.178191, 2.15559, 2.166181, 2.180128, 2.180643, 2.185734, 2.1776, 2.170047, 2.17824, 2.114895, 2.148, 2.12652, 2.177805, 2.17186, 2.17033, 2.17362, 2.17674, 2.19343, 2.17369, 2.18536, 2.17341, 2.180325, 2.17042, 2.179365, 2.19831, 2.163636, 2.184366, 2.203403, 2.216376, 2.183822, 2.176435, 2.17768, 2.165385, 2.14988]\n"
     ]
    },
    {
     "name": "stderr",
     "output_type": "stream",
     "text": [
      "Driver [/Users/ericsonmarques/.wdm/drivers/chromedriver/mac64/108.0.5359.71/chromedriver] found in cache\n",
      "\n",
      "\n",
      "====== WebDriver manager ======\n",
      "Current google-chrome version is 108.0.5359\n",
      "Get LATEST chromedriver version for 108.0.5359 google-chrome\n"
     ]
    },
    {
     "name": "stdout",
     "output_type": "stream",
     "text": [
      "[41.403423, 41.3827, 41.391712, 41.387573, 41.395325, 41.380924, 41.38174, 41.38349, 41.41142, 41.368454, 41.38442, 41.371174, 41.364548, 41.412766, 41.40341, 41.39493, 41.378883, 41.388542, 41.382168, 41.36852, 41.387, 41.37494, 41.4215, 41.39621, 41.41451, 41.385235, 41.384056, 41.37993, 41.38031, 41.38463, 41.422813, 41.39158, 41.421803, 41.386246, 41.4058, 41.363335, 41.38082, 41.391052, 41.38086, 41.37807, 41.387016, 41.37269, 41.397636, 41.43845, 41.40903, 41.37575, 41.38192, 41.38045, 41.38063, 41.3755, 41.38026, 41.37796, 41.38631, 41.380985, 41.385136, 41.38536, 41.375854, 41.4402, 41.388947, 41.37685, 41.3993, 41.40988, 41.38566, 41.383327, 41.38133, 41.391117, 41.37591, 41.35233]\n",
      "[2.174611, 2.177113, 2.164824, 2.175302, 2.161925, 2.122952, 2.171584, 2.18178, 2.174328, 2.153715, 2.17601, 2.151718, 2.165427, 2.131519, 2.15066, 2.16177, 2.17424, 2.18718, 2.172549, 2.159726, 2.17611, 2.14834, 2.1192, 2.161339, 2.152709, 2.180893, 2.17754, 2.17506, 2.17416, 2.18156, 2.119261, 2.16511, 2.119031, 2.178191, 2.15559, 2.166181, 2.180128, 2.180643, 2.185734, 2.1776, 2.170047, 2.17824, 2.114895, 2.148, 2.12652, 2.177805, 2.17186, 2.17033, 2.17362, 2.17674, 2.19343, 2.17369, 2.18536, 2.17341, 2.180325, 2.17042, 2.179365, 2.19831, 2.163636, 2.184366, 2.203403, 2.216376, 2.183822, 2.176435, 2.17768, 2.165385, 2.14988, 2.15496]\n"
     ]
    },
    {
     "name": "stderr",
     "output_type": "stream",
     "text": [
      "Driver [/Users/ericsonmarques/.wdm/drivers/chromedriver/mac64/108.0.5359.71/chromedriver] found in cache\n",
      "\n",
      "\n",
      "====== WebDriver manager ======\n",
      "Current google-chrome version is 108.0.5359\n",
      "Get LATEST chromedriver version for 108.0.5359 google-chrome\n"
     ]
    },
    {
     "name": "stdout",
     "output_type": "stream",
     "text": [
      "[41.403423, 41.3827, 41.391712, 41.387573, 41.395325, 41.380924, 41.38174, 41.38349, 41.41142, 41.368454, 41.38442, 41.371174, 41.364548, 41.412766, 41.40341, 41.39493, 41.378883, 41.388542, 41.382168, 41.36852, 41.387, 41.37494, 41.4215, 41.39621, 41.41451, 41.385235, 41.384056, 41.37993, 41.38031, 41.38463, 41.422813, 41.39158, 41.421803, 41.386246, 41.4058, 41.363335, 41.38082, 41.391052, 41.38086, 41.37807, 41.387016, 41.37269, 41.397636, 41.43845, 41.40903, 41.37575, 41.38192, 41.38045, 41.38063, 41.3755, 41.38026, 41.37796, 41.38631, 41.380985, 41.385136, 41.38536, 41.375854, 41.4402, 41.388947, 41.37685, 41.3993, 41.40988, 41.38566, 41.383327, 41.38133, 41.391117, 41.37591, 41.35233, 41.39676]\n",
      "[2.174611, 2.177113, 2.164824, 2.175302, 2.161925, 2.122952, 2.171584, 2.18178, 2.174328, 2.153715, 2.17601, 2.151718, 2.165427, 2.131519, 2.15066, 2.16177, 2.17424, 2.18718, 2.172549, 2.159726, 2.17611, 2.14834, 2.1192, 2.161339, 2.152709, 2.180893, 2.17754, 2.17506, 2.17416, 2.18156, 2.119261, 2.16511, 2.119031, 2.178191, 2.15559, 2.166181, 2.180128, 2.180643, 2.185734, 2.1776, 2.170047, 2.17824, 2.114895, 2.148, 2.12652, 2.177805, 2.17186, 2.17033, 2.17362, 2.17674, 2.19343, 2.17369, 2.18536, 2.17341, 2.180325, 2.17042, 2.179365, 2.19831, 2.163636, 2.184366, 2.203403, 2.216376, 2.183822, 2.176435, 2.17768, 2.165385, 2.14988, 2.15496, 2.20834]\n"
     ]
    },
    {
     "name": "stderr",
     "output_type": "stream",
     "text": [
      "Driver [/Users/ericsonmarques/.wdm/drivers/chromedriver/mac64/108.0.5359.71/chromedriver] found in cache\n",
      "\n",
      "\n",
      "====== WebDriver manager ======\n",
      "Current google-chrome version is 108.0.5359\n",
      "Get LATEST chromedriver version for 108.0.5359 google-chrome\n"
     ]
    },
    {
     "name": "stdout",
     "output_type": "stream",
     "text": [
      "[41.403423, 41.3827, 41.391712, 41.387573, 41.395325, 41.380924, 41.38174, 41.38349, 41.41142, 41.368454, 41.38442, 41.371174, 41.364548, 41.412766, 41.40341, 41.39493, 41.378883, 41.388542, 41.382168, 41.36852, 41.387, 41.37494, 41.4215, 41.39621, 41.41451, 41.385235, 41.384056, 41.37993, 41.38031, 41.38463, 41.422813, 41.39158, 41.421803, 41.386246, 41.4058, 41.363335, 41.38082, 41.391052, 41.38086, 41.37807, 41.387016, 41.37269, 41.397636, 41.43845, 41.40903, 41.37575, 41.38192, 41.38045, 41.38063, 41.3755, 41.38026, 41.37796, 41.38631, 41.380985, 41.385136, 41.38536, 41.375854, 41.4402, 41.388947, 41.37685, 41.3993, 41.40988, 41.38566, 41.383327, 41.38133, 41.391117, 41.37591, 41.35233, 41.39676, 41.38563]\n",
      "[2.174611, 2.177113, 2.164824, 2.175302, 2.161925, 2.122952, 2.171584, 2.18178, 2.174328, 2.153715, 2.17601, 2.151718, 2.165427, 2.131519, 2.15066, 2.16177, 2.17424, 2.18718, 2.172549, 2.159726, 2.17611, 2.14834, 2.1192, 2.161339, 2.152709, 2.180893, 2.17754, 2.17506, 2.17416, 2.18156, 2.119261, 2.16511, 2.119031, 2.178191, 2.15559, 2.166181, 2.180128, 2.180643, 2.185734, 2.1776, 2.170047, 2.17824, 2.114895, 2.148, 2.12652, 2.177805, 2.17186, 2.17033, 2.17362, 2.17674, 2.19343, 2.17369, 2.18536, 2.17341, 2.180325, 2.17042, 2.179365, 2.19831, 2.163636, 2.184366, 2.203403, 2.216376, 2.183822, 2.176435, 2.17768, 2.165385, 2.14988, 2.15496, 2.20834, 2.17183]\n"
     ]
    },
    {
     "name": "stderr",
     "output_type": "stream",
     "text": [
      "Driver [/Users/ericsonmarques/.wdm/drivers/chromedriver/mac64/108.0.5359.71/chromedriver] found in cache\n",
      "\n",
      "\n",
      "====== WebDriver manager ======\n",
      "Current google-chrome version is 108.0.5359\n",
      "Get LATEST chromedriver version for 108.0.5359 google-chrome\n"
     ]
    },
    {
     "name": "stdout",
     "output_type": "stream",
     "text": [
      "[41.403423, 41.3827, 41.391712, 41.387573, 41.395325, 41.380924, 41.38174, 41.38349, 41.41142, 41.368454, 41.38442, 41.371174, 41.364548, 41.412766, 41.40341, 41.39493, 41.378883, 41.388542, 41.382168, 41.36852, 41.387, 41.37494, 41.4215, 41.39621, 41.41451, 41.385235, 41.384056, 41.37993, 41.38031, 41.38463, 41.422813, 41.39158, 41.421803, 41.386246, 41.4058, 41.363335, 41.38082, 41.391052, 41.38086, 41.37807, 41.387016, 41.37269, 41.397636, 41.43845, 41.40903, 41.37575, 41.38192, 41.38045, 41.38063, 41.3755, 41.38026, 41.37796, 41.38631, 41.380985, 41.385136, 41.38536, 41.375854, 41.4402, 41.388947, 41.37685, 41.3993, 41.40988, 41.38566, 41.383327, 41.38133, 41.391117, 41.37591, 41.35233, 41.39676, 41.38563, 41.382008]\n",
      "[2.174611, 2.177113, 2.164824, 2.175302, 2.161925, 2.122952, 2.171584, 2.18178, 2.174328, 2.153715, 2.17601, 2.151718, 2.165427, 2.131519, 2.15066, 2.16177, 2.17424, 2.18718, 2.172549, 2.159726, 2.17611, 2.14834, 2.1192, 2.161339, 2.152709, 2.180893, 2.17754, 2.17506, 2.17416, 2.18156, 2.119261, 2.16511, 2.119031, 2.178191, 2.15559, 2.166181, 2.180128, 2.180643, 2.185734, 2.1776, 2.170047, 2.17824, 2.114895, 2.148, 2.12652, 2.177805, 2.17186, 2.17033, 2.17362, 2.17674, 2.19343, 2.17369, 2.18536, 2.17341, 2.180325, 2.17042, 2.179365, 2.19831, 2.163636, 2.184366, 2.203403, 2.216376, 2.183822, 2.176435, 2.17768, 2.165385, 2.14988, 2.15496, 2.20834, 2.17183, 2.171915]\n"
     ]
    },
    {
     "name": "stderr",
     "output_type": "stream",
     "text": [
      "Driver [/Users/ericsonmarques/.wdm/drivers/chromedriver/mac64/108.0.5359.71/chromedriver] found in cache\n",
      "\n",
      "\n",
      "====== WebDriver manager ======\n",
      "Current google-chrome version is 108.0.5359\n",
      "Get LATEST chromedriver version for 108.0.5359 google-chrome\n"
     ]
    },
    {
     "name": "stdout",
     "output_type": "stream",
     "text": [
      "[41.403423, 41.3827, 41.391712, 41.387573, 41.395325, 41.380924, 41.38174, 41.38349, 41.41142, 41.368454, 41.38442, 41.371174, 41.364548, 41.412766, 41.40341, 41.39493, 41.378883, 41.388542, 41.382168, 41.36852, 41.387, 41.37494, 41.4215, 41.39621, 41.41451, 41.385235, 41.384056, 41.37993, 41.38031, 41.38463, 41.422813, 41.39158, 41.421803, 41.386246, 41.4058, 41.363335, 41.38082, 41.391052, 41.38086, 41.37807, 41.387016, 41.37269, 41.397636, 41.43845, 41.40903, 41.37575, 41.38192, 41.38045, 41.38063, 41.3755, 41.38026, 41.37796, 41.38631, 41.380985, 41.385136, 41.38536, 41.375854, 41.4402, 41.388947, 41.37685, 41.3993, 41.40988, 41.38566, 41.383327, 41.38133, 41.391117, 41.37591, 41.35233, 41.39676, 41.38563, 41.382008, 41.38448]\n",
      "[2.174611, 2.177113, 2.164824, 2.175302, 2.161925, 2.122952, 2.171584, 2.18178, 2.174328, 2.153715, 2.17601, 2.151718, 2.165427, 2.131519, 2.15066, 2.16177, 2.17424, 2.18718, 2.172549, 2.159726, 2.17611, 2.14834, 2.1192, 2.161339, 2.152709, 2.180893, 2.17754, 2.17506, 2.17416, 2.18156, 2.119261, 2.16511, 2.119031, 2.178191, 2.15559, 2.166181, 2.180128, 2.180643, 2.185734, 2.1776, 2.170047, 2.17824, 2.114895, 2.148, 2.12652, 2.177805, 2.17186, 2.17033, 2.17362, 2.17674, 2.19343, 2.17369, 2.18536, 2.17341, 2.180325, 2.17042, 2.179365, 2.19831, 2.163636, 2.184366, 2.203403, 2.216376, 2.183822, 2.176435, 2.17768, 2.165385, 2.14988, 2.15496, 2.20834, 2.17183, 2.171915, 2.176674]\n"
     ]
    },
    {
     "name": "stderr",
     "output_type": "stream",
     "text": [
      "Driver [/Users/ericsonmarques/.wdm/drivers/chromedriver/mac64/108.0.5359.71/chromedriver] found in cache\n",
      "\n",
      "\n",
      "====== WebDriver manager ======\n",
      "Current google-chrome version is 108.0.5359\n",
      "Get LATEST chromedriver version for 108.0.5359 google-chrome\n"
     ]
    },
    {
     "name": "stdout",
     "output_type": "stream",
     "text": [
      "[41.403423, 41.3827, 41.391712, 41.387573, 41.395325, 41.380924, 41.38174, 41.38349, 41.41142, 41.368454, 41.38442, 41.371174, 41.364548, 41.412766, 41.40341, 41.39493, 41.378883, 41.388542, 41.382168, 41.36852, 41.387, 41.37494, 41.4215, 41.39621, 41.41451, 41.385235, 41.384056, 41.37993, 41.38031, 41.38463, 41.422813, 41.39158, 41.421803, 41.386246, 41.4058, 41.363335, 41.38082, 41.391052, 41.38086, 41.37807, 41.387016, 41.37269, 41.397636, 41.43845, 41.40903, 41.37575, 41.38192, 41.38045, 41.38063, 41.3755, 41.38026, 41.37796, 41.38631, 41.380985, 41.385136, 41.38536, 41.375854, 41.4402, 41.388947, 41.37685, 41.3993, 41.40988, 41.38566, 41.383327, 41.38133, 41.391117, 41.37591, 41.35233, 41.39676, 41.38563, 41.382008, 41.38448, 41.387978]\n",
      "[2.174611, 2.177113, 2.164824, 2.175302, 2.161925, 2.122952, 2.171584, 2.18178, 2.174328, 2.153715, 2.17601, 2.151718, 2.165427, 2.131519, 2.15066, 2.16177, 2.17424, 2.18718, 2.172549, 2.159726, 2.17611, 2.14834, 2.1192, 2.161339, 2.152709, 2.180893, 2.17754, 2.17506, 2.17416, 2.18156, 2.119261, 2.16511, 2.119031, 2.178191, 2.15559, 2.166181, 2.180128, 2.180643, 2.185734, 2.1776, 2.170047, 2.17824, 2.114895, 2.148, 2.12652, 2.177805, 2.17186, 2.17033, 2.17362, 2.17674, 2.19343, 2.17369, 2.18536, 2.17341, 2.180325, 2.17042, 2.179365, 2.19831, 2.163636, 2.184366, 2.203403, 2.216376, 2.183822, 2.176435, 2.17768, 2.165385, 2.14988, 2.15496, 2.20834, 2.17183, 2.171915, 2.176674, 2.154285]\n"
     ]
    },
    {
     "name": "stderr",
     "output_type": "stream",
     "text": [
      "Driver [/Users/ericsonmarques/.wdm/drivers/chromedriver/mac64/108.0.5359.71/chromedriver] found in cache\n",
      "\n",
      "\n",
      "====== WebDriver manager ======\n",
      "Current google-chrome version is 108.0.5359\n",
      "Get LATEST chromedriver version for 108.0.5359 google-chrome\n"
     ]
    },
    {
     "name": "stdout",
     "output_type": "stream",
     "text": [
      "[41.403423, 41.3827, 41.391712, 41.387573, 41.395325, 41.380924, 41.38174, 41.38349, 41.41142, 41.368454, 41.38442, 41.371174, 41.364548, 41.412766, 41.40341, 41.39493, 41.378883, 41.388542, 41.382168, 41.36852, 41.387, 41.37494, 41.4215, 41.39621, 41.41451, 41.385235, 41.384056, 41.37993, 41.38031, 41.38463, 41.422813, 41.39158, 41.421803, 41.386246, 41.4058, 41.363335, 41.38082, 41.391052, 41.38086, 41.37807, 41.387016, 41.37269, 41.397636, 41.43845, 41.40903, 41.37575, 41.38192, 41.38045, 41.38063, 41.3755, 41.38026, 41.37796, 41.38631, 41.380985, 41.385136, 41.38536, 41.375854, 41.4402, 41.388947, 41.37685, 41.3993, 41.40988, 41.38566, 41.383327, 41.38133, 41.391117, 41.37591, 41.35233, 41.39676, 41.38563, 41.382008, 41.38448, 41.387978, 41.404808]\n",
      "[2.174611, 2.177113, 2.164824, 2.175302, 2.161925, 2.122952, 2.171584, 2.18178, 2.174328, 2.153715, 2.17601, 2.151718, 2.165427, 2.131519, 2.15066, 2.16177, 2.17424, 2.18718, 2.172549, 2.159726, 2.17611, 2.14834, 2.1192, 2.161339, 2.152709, 2.180893, 2.17754, 2.17506, 2.17416, 2.18156, 2.119261, 2.16511, 2.119031, 2.178191, 2.15559, 2.166181, 2.180128, 2.180643, 2.185734, 2.1776, 2.170047, 2.17824, 2.114895, 2.148, 2.12652, 2.177805, 2.17186, 2.17033, 2.17362, 2.17674, 2.19343, 2.17369, 2.18536, 2.17341, 2.180325, 2.17042, 2.179365, 2.19831, 2.163636, 2.184366, 2.203403, 2.216376, 2.183822, 2.176435, 2.17768, 2.165385, 2.14988, 2.15496, 2.20834, 2.17183, 2.171915, 2.176674, 2.154285, 2.191822]\n"
     ]
    },
    {
     "name": "stderr",
     "output_type": "stream",
     "text": [
      "Driver [/Users/ericsonmarques/.wdm/drivers/chromedriver/mac64/108.0.5359.71/chromedriver] found in cache\n",
      "\n",
      "\n",
      "====== WebDriver manager ======\n",
      "Current google-chrome version is 108.0.5359\n",
      "Get LATEST chromedriver version for 108.0.5359 google-chrome\n"
     ]
    },
    {
     "name": "stdout",
     "output_type": "stream",
     "text": [
      "[41.403423, 41.3827, 41.391712, 41.387573, 41.395325, 41.380924, 41.38174, 41.38349, 41.41142, 41.368454, 41.38442, 41.371174, 41.364548, 41.412766, 41.40341, 41.39493, 41.378883, 41.388542, 41.382168, 41.36852, 41.387, 41.37494, 41.4215, 41.39621, 41.41451, 41.385235, 41.384056, 41.37993, 41.38031, 41.38463, 41.422813, 41.39158, 41.421803, 41.386246, 41.4058, 41.363335, 41.38082, 41.391052, 41.38086, 41.37807, 41.387016, 41.37269, 41.397636, 41.43845, 41.40903, 41.37575, 41.38192, 41.38045, 41.38063, 41.3755, 41.38026, 41.37796, 41.38631, 41.380985, 41.385136, 41.38536, 41.375854, 41.4402, 41.388947, 41.37685, 41.3993, 41.40988, 41.38566, 41.383327, 41.38133, 41.391117, 41.37591, 41.35233, 41.39676, 41.38563, 41.382008, 41.38448, 41.387978, 41.404808, 41.38677]\n",
      "[2.174611, 2.177113, 2.164824, 2.175302, 2.161925, 2.122952, 2.171584, 2.18178, 2.174328, 2.153715, 2.17601, 2.151718, 2.165427, 2.131519, 2.15066, 2.16177, 2.17424, 2.18718, 2.172549, 2.159726, 2.17611, 2.14834, 2.1192, 2.161339, 2.152709, 2.180893, 2.17754, 2.17506, 2.17416, 2.18156, 2.119261, 2.16511, 2.119031, 2.178191, 2.15559, 2.166181, 2.180128, 2.180643, 2.185734, 2.1776, 2.170047, 2.17824, 2.114895, 2.148, 2.12652, 2.177805, 2.17186, 2.17033, 2.17362, 2.17674, 2.19343, 2.17369, 2.18536, 2.17341, 2.180325, 2.17042, 2.179365, 2.19831, 2.163636, 2.184366, 2.203403, 2.216376, 2.183822, 2.176435, 2.17768, 2.165385, 2.14988, 2.15496, 2.20834, 2.17183, 2.171915, 2.176674, 2.154285, 2.191822, 2.19773]\n"
     ]
    },
    {
     "name": "stderr",
     "output_type": "stream",
     "text": [
      "Driver [/Users/ericsonmarques/.wdm/drivers/chromedriver/mac64/108.0.5359.71/chromedriver] found in cache\n",
      "\n",
      "\n",
      "====== WebDriver manager ======\n",
      "Current google-chrome version is 108.0.5359\n",
      "Get LATEST chromedriver version for 108.0.5359 google-chrome\n"
     ]
    },
    {
     "name": "stdout",
     "output_type": "stream",
     "text": [
      "[41.403423, 41.3827, 41.391712, 41.387573, 41.395325, 41.380924, 41.38174, 41.38349, 41.41142, 41.368454, 41.38442, 41.371174, 41.364548, 41.412766, 41.40341, 41.39493, 41.378883, 41.388542, 41.382168, 41.36852, 41.387, 41.37494, 41.4215, 41.39621, 41.41451, 41.385235, 41.384056, 41.37993, 41.38031, 41.38463, 41.422813, 41.39158, 41.421803, 41.386246, 41.4058, 41.363335, 41.38082, 41.391052, 41.38086, 41.37807, 41.387016, 41.37269, 41.397636, 41.43845, 41.40903, 41.37575, 41.38192, 41.38045, 41.38063, 41.3755, 41.38026, 41.37796, 41.38631, 41.380985, 41.385136, 41.38536, 41.375854, 41.4402, 41.388947, 41.37685, 41.3993, 41.40988, 41.38566, 41.383327, 41.38133, 41.391117, 41.37591, 41.35233, 41.39676, 41.38563, 41.382008, 41.38448, 41.387978, 41.404808, 41.38677, 41.378754]\n",
      "[2.174611, 2.177113, 2.164824, 2.175302, 2.161925, 2.122952, 2.171584, 2.18178, 2.174328, 2.153715, 2.17601, 2.151718, 2.165427, 2.131519, 2.15066, 2.16177, 2.17424, 2.18718, 2.172549, 2.159726, 2.17611, 2.14834, 2.1192, 2.161339, 2.152709, 2.180893, 2.17754, 2.17506, 2.17416, 2.18156, 2.119261, 2.16511, 2.119031, 2.178191, 2.15559, 2.166181, 2.180128, 2.180643, 2.185734, 2.1776, 2.170047, 2.17824, 2.114895, 2.148, 2.12652, 2.177805, 2.17186, 2.17033, 2.17362, 2.17674, 2.19343, 2.17369, 2.18536, 2.17341, 2.180325, 2.17042, 2.179365, 2.19831, 2.163636, 2.184366, 2.203403, 2.216376, 2.183822, 2.176435, 2.17768, 2.165385, 2.14988, 2.15496, 2.20834, 2.17183, 2.171915, 2.176674, 2.154285, 2.191822, 2.19773, 2.169168]\n"
     ]
    },
    {
     "name": "stderr",
     "output_type": "stream",
     "text": [
      "Driver [/Users/ericsonmarques/.wdm/drivers/chromedriver/mac64/108.0.5359.71/chromedriver] found in cache\n",
      "\n",
      "\n",
      "====== WebDriver manager ======\n",
      "Current google-chrome version is 108.0.5359\n",
      "Get LATEST chromedriver version for 108.0.5359 google-chrome\n"
     ]
    },
    {
     "name": "stdout",
     "output_type": "stream",
     "text": [
      "[41.403423, 41.3827, 41.391712, 41.387573, 41.395325, 41.380924, 41.38174, 41.38349, 41.41142, 41.368454, 41.38442, 41.371174, 41.364548, 41.412766, 41.40341, 41.39493, 41.378883, 41.388542, 41.382168, 41.36852, 41.387, 41.37494, 41.4215, 41.39621, 41.41451, 41.385235, 41.384056, 41.37993, 41.38031, 41.38463, 41.422813, 41.39158, 41.421803, 41.386246, 41.4058, 41.363335, 41.38082, 41.391052, 41.38086, 41.37807, 41.387016, 41.37269, 41.397636, 41.43845, 41.40903, 41.37575, 41.38192, 41.38045, 41.38063, 41.3755, 41.38026, 41.37796, 41.38631, 41.380985, 41.385136, 41.38536, 41.375854, 41.4402, 41.388947, 41.37685, 41.3993, 41.40988, 41.38566, 41.383327, 41.38133, 41.391117, 41.37591, 41.35233, 41.39676, 41.38563, 41.382008, 41.38448, 41.387978, 41.404808, 41.38677, 41.378754, 41.36882]\n",
      "[2.174611, 2.177113, 2.164824, 2.175302, 2.161925, 2.122952, 2.171584, 2.18178, 2.174328, 2.153715, 2.17601, 2.151718, 2.165427, 2.131519, 2.15066, 2.16177, 2.17424, 2.18718, 2.172549, 2.159726, 2.17611, 2.14834, 2.1192, 2.161339, 2.152709, 2.180893, 2.17754, 2.17506, 2.17416, 2.18156, 2.119261, 2.16511, 2.119031, 2.178191, 2.15559, 2.166181, 2.180128, 2.180643, 2.185734, 2.1776, 2.170047, 2.17824, 2.114895, 2.148, 2.12652, 2.177805, 2.17186, 2.17033, 2.17362, 2.17674, 2.19343, 2.17369, 2.18536, 2.17341, 2.180325, 2.17042, 2.179365, 2.19831, 2.163636, 2.184366, 2.203403, 2.216376, 2.183822, 2.176435, 2.17768, 2.165385, 2.14988, 2.15496, 2.20834, 2.17183, 2.171915, 2.176674, 2.154285, 2.191822, 2.19773, 2.169168, 2.16304]\n"
     ]
    },
    {
     "name": "stderr",
     "output_type": "stream",
     "text": [
      "Driver [/Users/ericsonmarques/.wdm/drivers/chromedriver/mac64/108.0.5359.71/chromedriver] found in cache\n",
      "\n",
      "\n",
      "====== WebDriver manager ======\n",
      "Current google-chrome version is 108.0.5359\n",
      "Get LATEST chromedriver version for 108.0.5359 google-chrome\n"
     ]
    },
    {
     "name": "stdout",
     "output_type": "stream",
     "text": [
      "[41.403423, 41.3827, 41.391712, 41.387573, 41.395325, 41.380924, 41.38174, 41.38349, 41.41142, 41.368454, 41.38442, 41.371174, 41.364548, 41.412766, 41.40341, 41.39493, 41.378883, 41.388542, 41.382168, 41.36852, 41.387, 41.37494, 41.4215, 41.39621, 41.41451, 41.385235, 41.384056, 41.37993, 41.38031, 41.38463, 41.422813, 41.39158, 41.421803, 41.386246, 41.4058, 41.363335, 41.38082, 41.391052, 41.38086, 41.37807, 41.387016, 41.37269, 41.397636, 41.43845, 41.40903, 41.37575, 41.38192, 41.38045, 41.38063, 41.3755, 41.38026, 41.37796, 41.38631, 41.380985, 41.385136, 41.38536, 41.375854, 41.4402, 41.388947, 41.37685, 41.3993, 41.40988, 41.38566, 41.383327, 41.38133, 41.391117, 41.37591, 41.35233, 41.39676, 41.38563, 41.382008, 41.38448, 41.387978, 41.404808, 41.38677, 41.378754, 41.36882, 41.38231]\n",
      "[2.174611, 2.177113, 2.164824, 2.175302, 2.161925, 2.122952, 2.171584, 2.18178, 2.174328, 2.153715, 2.17601, 2.151718, 2.165427, 2.131519, 2.15066, 2.16177, 2.17424, 2.18718, 2.172549, 2.159726, 2.17611, 2.14834, 2.1192, 2.161339, 2.152709, 2.180893, 2.17754, 2.17506, 2.17416, 2.18156, 2.119261, 2.16511, 2.119031, 2.178191, 2.15559, 2.166181, 2.180128, 2.180643, 2.185734, 2.1776, 2.170047, 2.17824, 2.114895, 2.148, 2.12652, 2.177805, 2.17186, 2.17033, 2.17362, 2.17674, 2.19343, 2.17369, 2.18536, 2.17341, 2.180325, 2.17042, 2.179365, 2.19831, 2.163636, 2.184366, 2.203403, 2.216376, 2.183822, 2.176435, 2.17768, 2.165385, 2.14988, 2.15496, 2.20834, 2.17183, 2.171915, 2.176674, 2.154285, 2.191822, 2.19773, 2.169168, 2.16304, 2.17377]\n"
     ]
    },
    {
     "name": "stderr",
     "output_type": "stream",
     "text": [
      "Driver [/Users/ericsonmarques/.wdm/drivers/chromedriver/mac64/108.0.5359.71/chromedriver] found in cache\n",
      "\n",
      "\n",
      "====== WebDriver manager ======\n",
      "Current google-chrome version is 108.0.5359\n",
      "Get LATEST chromedriver version for 108.0.5359 google-chrome\n"
     ]
    },
    {
     "name": "stdout",
     "output_type": "stream",
     "text": [
      "[41.403423, 41.3827, 41.391712, 41.387573, 41.395325, 41.380924, 41.38174, 41.38349, 41.41142, 41.368454, 41.38442, 41.371174, 41.364548, 41.412766, 41.40341, 41.39493, 41.378883, 41.388542, 41.382168, 41.36852, 41.387, 41.37494, 41.4215, 41.39621, 41.41451, 41.385235, 41.384056, 41.37993, 41.38031, 41.38463, 41.422813, 41.39158, 41.421803, 41.386246, 41.4058, 41.363335, 41.38082, 41.391052, 41.38086, 41.37807, 41.387016, 41.37269, 41.397636, 41.43845, 41.40903, 41.37575, 41.38192, 41.38045, 41.38063, 41.3755, 41.38026, 41.37796, 41.38631, 41.380985, 41.385136, 41.38536, 41.375854, 41.4402, 41.388947, 41.37685, 41.3993, 41.40988, 41.38566, 41.383327, 41.38133, 41.391117, 41.37591, 41.35233, 41.39676, 41.38563, 41.382008, 41.38448, 41.387978, 41.404808, 41.38677, 41.378754, 41.36882, 41.38231, 41.376358]\n",
      "[2.174611, 2.177113, 2.164824, 2.175302, 2.161925, 2.122952, 2.171584, 2.18178, 2.174328, 2.153715, 2.17601, 2.151718, 2.165427, 2.131519, 2.15066, 2.16177, 2.17424, 2.18718, 2.172549, 2.159726, 2.17611, 2.14834, 2.1192, 2.161339, 2.152709, 2.180893, 2.17754, 2.17506, 2.17416, 2.18156, 2.119261, 2.16511, 2.119031, 2.178191, 2.15559, 2.166181, 2.180128, 2.180643, 2.185734, 2.1776, 2.170047, 2.17824, 2.114895, 2.148, 2.12652, 2.177805, 2.17186, 2.17033, 2.17362, 2.17674, 2.19343, 2.17369, 2.18536, 2.17341, 2.180325, 2.17042, 2.179365, 2.19831, 2.163636, 2.184366, 2.203403, 2.216376, 2.183822, 2.176435, 2.17768, 2.165385, 2.14988, 2.15496, 2.20834, 2.17183, 2.171915, 2.176674, 2.154285, 2.191822, 2.19773, 2.169168, 2.16304, 2.17377, 2.169145]\n"
     ]
    },
    {
     "name": "stderr",
     "output_type": "stream",
     "text": [
      "Driver [/Users/ericsonmarques/.wdm/drivers/chromedriver/mac64/108.0.5359.71/chromedriver] found in cache\n",
      "\n",
      "\n",
      "====== WebDriver manager ======\n",
      "Current google-chrome version is 108.0.5359\n",
      "Get LATEST chromedriver version for 108.0.5359 google-chrome\n"
     ]
    },
    {
     "name": "stdout",
     "output_type": "stream",
     "text": [
      "[41.403423, 41.3827, 41.391712, 41.387573, 41.395325, 41.380924, 41.38174, 41.38349, 41.41142, 41.368454, 41.38442, 41.371174, 41.364548, 41.412766, 41.40341, 41.39493, 41.378883, 41.388542, 41.382168, 41.36852, 41.387, 41.37494, 41.4215, 41.39621, 41.41451, 41.385235, 41.384056, 41.37993, 41.38031, 41.38463, 41.422813, 41.39158, 41.421803, 41.386246, 41.4058, 41.363335, 41.38082, 41.391052, 41.38086, 41.37807, 41.387016, 41.37269, 41.397636, 41.43845, 41.40903, 41.37575, 41.38192, 41.38045, 41.38063, 41.3755, 41.38026, 41.37796, 41.38631, 41.380985, 41.385136, 41.38536, 41.375854, 41.4402, 41.388947, 41.37685, 41.3993, 41.40988, 41.38566, 41.383327, 41.38133, 41.391117, 41.37591, 41.35233, 41.39676, 41.38563, 41.382008, 41.38448, 41.387978, 41.404808, 41.38677, 41.378754, 41.36882, 41.38231, 41.376358, 41.38565]\n",
      "[2.174611, 2.177113, 2.164824, 2.175302, 2.161925, 2.122952, 2.171584, 2.18178, 2.174328, 2.153715, 2.17601, 2.151718, 2.165427, 2.131519, 2.15066, 2.16177, 2.17424, 2.18718, 2.172549, 2.159726, 2.17611, 2.14834, 2.1192, 2.161339, 2.152709, 2.180893, 2.17754, 2.17506, 2.17416, 2.18156, 2.119261, 2.16511, 2.119031, 2.178191, 2.15559, 2.166181, 2.180128, 2.180643, 2.185734, 2.1776, 2.170047, 2.17824, 2.114895, 2.148, 2.12652, 2.177805, 2.17186, 2.17033, 2.17362, 2.17674, 2.19343, 2.17369, 2.18536, 2.17341, 2.180325, 2.17042, 2.179365, 2.19831, 2.163636, 2.184366, 2.203403, 2.216376, 2.183822, 2.176435, 2.17768, 2.165385, 2.14988, 2.15496, 2.20834, 2.17183, 2.171915, 2.176674, 2.154285, 2.191822, 2.19773, 2.169168, 2.16304, 2.17377, 2.169145, 2.18586]\n"
     ]
    },
    {
     "name": "stderr",
     "output_type": "stream",
     "text": [
      "Driver [/Users/ericsonmarques/.wdm/drivers/chromedriver/mac64/108.0.5359.71/chromedriver] found in cache\n",
      "\n",
      "\n",
      "====== WebDriver manager ======\n",
      "Current google-chrome version is 108.0.5359\n",
      "Get LATEST chromedriver version for 108.0.5359 google-chrome\n"
     ]
    },
    {
     "name": "stdout",
     "output_type": "stream",
     "text": [
      "[41.403423, 41.3827, 41.391712, 41.387573, 41.395325, 41.380924, 41.38174, 41.38349, 41.41142, 41.368454, 41.38442, 41.371174, 41.364548, 41.412766, 41.40341, 41.39493, 41.378883, 41.388542, 41.382168, 41.36852, 41.387, 41.37494, 41.4215, 41.39621, 41.41451, 41.385235, 41.384056, 41.37993, 41.38031, 41.38463, 41.422813, 41.39158, 41.421803, 41.386246, 41.4058, 41.363335, 41.38082, 41.391052, 41.38086, 41.37807, 41.387016, 41.37269, 41.397636, 41.43845, 41.40903, 41.37575, 41.38192, 41.38045, 41.38063, 41.3755, 41.38026, 41.37796, 41.38631, 41.380985, 41.385136, 41.38536, 41.375854, 41.4402, 41.388947, 41.37685, 41.3993, 41.40988, 41.38566, 41.383327, 41.38133, 41.391117, 41.37591, 41.35233, 41.39676, 41.38563, 41.382008, 41.38448, 41.387978, 41.404808, 41.38677, 41.378754, 41.36882, 41.38231, 41.376358, 41.38565, 41.40251]\n",
      "[2.174611, 2.177113, 2.164824, 2.175302, 2.161925, 2.122952, 2.171584, 2.18178, 2.174328, 2.153715, 2.17601, 2.151718, 2.165427, 2.131519, 2.15066, 2.16177, 2.17424, 2.18718, 2.172549, 2.159726, 2.17611, 2.14834, 2.1192, 2.161339, 2.152709, 2.180893, 2.17754, 2.17506, 2.17416, 2.18156, 2.119261, 2.16511, 2.119031, 2.178191, 2.15559, 2.166181, 2.180128, 2.180643, 2.185734, 2.1776, 2.170047, 2.17824, 2.114895, 2.148, 2.12652, 2.177805, 2.17186, 2.17033, 2.17362, 2.17674, 2.19343, 2.17369, 2.18536, 2.17341, 2.180325, 2.17042, 2.179365, 2.19831, 2.163636, 2.184366, 2.203403, 2.216376, 2.183822, 2.176435, 2.17768, 2.165385, 2.14988, 2.15496, 2.20834, 2.17183, 2.171915, 2.176674, 2.154285, 2.191822, 2.19773, 2.169168, 2.16304, 2.17377, 2.169145, 2.18586, 2.188178]\n"
     ]
    },
    {
     "name": "stderr",
     "output_type": "stream",
     "text": [
      "Driver [/Users/ericsonmarques/.wdm/drivers/chromedriver/mac64/108.0.5359.71/chromedriver] found in cache\n",
      "\n",
      "\n",
      "====== WebDriver manager ======\n",
      "Current google-chrome version is 108.0.5359\n",
      "Get LATEST chromedriver version for 108.0.5359 google-chrome\n"
     ]
    },
    {
     "name": "stdout",
     "output_type": "stream",
     "text": [
      "[41.403423, 41.3827, 41.391712, 41.387573, 41.395325, 41.380924, 41.38174, 41.38349, 41.41142, 41.368454, 41.38442, 41.371174, 41.364548, 41.412766, 41.40341, 41.39493, 41.378883, 41.388542, 41.382168, 41.36852, 41.387, 41.37494, 41.4215, 41.39621, 41.41451, 41.385235, 41.384056, 41.37993, 41.38031, 41.38463, 41.422813, 41.39158, 41.421803, 41.386246, 41.4058, 41.363335, 41.38082, 41.391052, 41.38086, 41.37807, 41.387016, 41.37269, 41.397636, 41.43845, 41.40903, 41.37575, 41.38192, 41.38045, 41.38063, 41.3755, 41.38026, 41.37796, 41.38631, 41.380985, 41.385136, 41.38536, 41.375854, 41.4402, 41.388947, 41.37685, 41.3993, 41.40988, 41.38566, 41.383327, 41.38133, 41.391117, 41.37591, 41.35233, 41.39676, 41.38563, 41.382008, 41.38448, 41.387978, 41.404808, 41.38677, 41.378754, 41.36882, 41.38231, 41.376358, 41.38565, 41.40251, 41.398346]\n",
      "[2.174611, 2.177113, 2.164824, 2.175302, 2.161925, 2.122952, 2.171584, 2.18178, 2.174328, 2.153715, 2.17601, 2.151718, 2.165427, 2.131519, 2.15066, 2.16177, 2.17424, 2.18718, 2.172549, 2.159726, 2.17611, 2.14834, 2.1192, 2.161339, 2.152709, 2.180893, 2.17754, 2.17506, 2.17416, 2.18156, 2.119261, 2.16511, 2.119031, 2.178191, 2.15559, 2.166181, 2.180128, 2.180643, 2.185734, 2.1776, 2.170047, 2.17824, 2.114895, 2.148, 2.12652, 2.177805, 2.17186, 2.17033, 2.17362, 2.17674, 2.19343, 2.17369, 2.18536, 2.17341, 2.180325, 2.17042, 2.179365, 2.19831, 2.163636, 2.184366, 2.203403, 2.216376, 2.183822, 2.176435, 2.17768, 2.165385, 2.14988, 2.15496, 2.20834, 2.17183, 2.171915, 2.176674, 2.154285, 2.191822, 2.19773, 2.169168, 2.16304, 2.17377, 2.169145, 2.18586, 2.188178, 2.204376]\n"
     ]
    },
    {
     "name": "stderr",
     "output_type": "stream",
     "text": [
      "Driver [/Users/ericsonmarques/.wdm/drivers/chromedriver/mac64/108.0.5359.71/chromedriver] found in cache\n",
      "\n",
      "\n",
      "====== WebDriver manager ======\n",
      "Current google-chrome version is 108.0.5359\n",
      "Get LATEST chromedriver version for 108.0.5359 google-chrome\n"
     ]
    },
    {
     "name": "stdout",
     "output_type": "stream",
     "text": [
      "[41.403423, 41.3827, 41.391712, 41.387573, 41.395325, 41.380924, 41.38174, 41.38349, 41.41142, 41.368454, 41.38442, 41.371174, 41.364548, 41.412766, 41.40341, 41.39493, 41.378883, 41.388542, 41.382168, 41.36852, 41.387, 41.37494, 41.4215, 41.39621, 41.41451, 41.385235, 41.384056, 41.37993, 41.38031, 41.38463, 41.422813, 41.39158, 41.421803, 41.386246, 41.4058, 41.363335, 41.38082, 41.391052, 41.38086, 41.37807, 41.387016, 41.37269, 41.397636, 41.43845, 41.40903, 41.37575, 41.38192, 41.38045, 41.38063, 41.3755, 41.38026, 41.37796, 41.38631, 41.380985, 41.385136, 41.38536, 41.375854, 41.4402, 41.388947, 41.37685, 41.3993, 41.40988, 41.38566, 41.383327, 41.38133, 41.391117, 41.37591, 41.35233, 41.39676, 41.38563, 41.382008, 41.38448, 41.387978, 41.404808, 41.38677, 41.378754, 41.36882, 41.38231, 41.376358, 41.38565, 41.40251, 41.398346, 41.376133]\n",
      "[2.174611, 2.177113, 2.164824, 2.175302, 2.161925, 2.122952, 2.171584, 2.18178, 2.174328, 2.153715, 2.17601, 2.151718, 2.165427, 2.131519, 2.15066, 2.16177, 2.17424, 2.18718, 2.172549, 2.159726, 2.17611, 2.14834, 2.1192, 2.161339, 2.152709, 2.180893, 2.17754, 2.17506, 2.17416, 2.18156, 2.119261, 2.16511, 2.119031, 2.178191, 2.15559, 2.166181, 2.180128, 2.180643, 2.185734, 2.1776, 2.170047, 2.17824, 2.114895, 2.148, 2.12652, 2.177805, 2.17186, 2.17033, 2.17362, 2.17674, 2.19343, 2.17369, 2.18536, 2.17341, 2.180325, 2.17042, 2.179365, 2.19831, 2.163636, 2.184366, 2.203403, 2.216376, 2.183822, 2.176435, 2.17768, 2.165385, 2.14988, 2.15496, 2.20834, 2.17183, 2.171915, 2.176674, 2.154285, 2.191822, 2.19773, 2.169168, 2.16304, 2.17377, 2.169145, 2.18586, 2.188178, 2.204376, 2.148957]\n"
     ]
    },
    {
     "name": "stderr",
     "output_type": "stream",
     "text": [
      "Driver [/Users/ericsonmarques/.wdm/drivers/chromedriver/mac64/108.0.5359.71/chromedriver] found in cache\n",
      "\n",
      "\n",
      "====== WebDriver manager ======\n",
      "Current google-chrome version is 108.0.5359\n",
      "Get LATEST chromedriver version for 108.0.5359 google-chrome\n"
     ]
    },
    {
     "name": "stdout",
     "output_type": "stream",
     "text": [
      "[41.403423, 41.3827, 41.391712, 41.387573, 41.395325, 41.380924, 41.38174, 41.38349, 41.41142, 41.368454, 41.38442, 41.371174, 41.364548, 41.412766, 41.40341, 41.39493, 41.378883, 41.388542, 41.382168, 41.36852, 41.387, 41.37494, 41.4215, 41.39621, 41.41451, 41.385235, 41.384056, 41.37993, 41.38031, 41.38463, 41.422813, 41.39158, 41.421803, 41.386246, 41.4058, 41.363335, 41.38082, 41.391052, 41.38086, 41.37807, 41.387016, 41.37269, 41.397636, 41.43845, 41.40903, 41.37575, 41.38192, 41.38045, 41.38063, 41.3755, 41.38026, 41.37796, 41.38631, 41.380985, 41.385136, 41.38536, 41.375854, 41.4402, 41.388947, 41.37685, 41.3993, 41.40988, 41.38566, 41.383327, 41.38133, 41.391117, 41.37591, 41.35233, 41.39676, 41.38563, 41.382008, 41.38448, 41.387978, 41.404808, 41.38677, 41.378754, 41.36882, 41.38231, 41.376358, 41.38565, 41.40251, 41.398346, 41.376133, 41.36602]\n",
      "[2.174611, 2.177113, 2.164824, 2.175302, 2.161925, 2.122952, 2.171584, 2.18178, 2.174328, 2.153715, 2.17601, 2.151718, 2.165427, 2.131519, 2.15066, 2.16177, 2.17424, 2.18718, 2.172549, 2.159726, 2.17611, 2.14834, 2.1192, 2.161339, 2.152709, 2.180893, 2.17754, 2.17506, 2.17416, 2.18156, 2.119261, 2.16511, 2.119031, 2.178191, 2.15559, 2.166181, 2.180128, 2.180643, 2.185734, 2.1776, 2.170047, 2.17824, 2.114895, 2.148, 2.12652, 2.177805, 2.17186, 2.17033, 2.17362, 2.17674, 2.19343, 2.17369, 2.18536, 2.17341, 2.180325, 2.17042, 2.179365, 2.19831, 2.163636, 2.184366, 2.203403, 2.216376, 2.183822, 2.176435, 2.17768, 2.165385, 2.14988, 2.15496, 2.20834, 2.17183, 2.171915, 2.176674, 2.154285, 2.191822, 2.19773, 2.169168, 2.16304, 2.17377, 2.169145, 2.18586, 2.188178, 2.204376, 2.148957, 2.15415]\n"
     ]
    },
    {
     "name": "stderr",
     "output_type": "stream",
     "text": [
      "Driver [/Users/ericsonmarques/.wdm/drivers/chromedriver/mac64/108.0.5359.71/chromedriver] found in cache\n",
      "\n",
      "\n",
      "====== WebDriver manager ======\n",
      "Current google-chrome version is 108.0.5359\n",
      "Get LATEST chromedriver version for 108.0.5359 google-chrome\n"
     ]
    },
    {
     "name": "stdout",
     "output_type": "stream",
     "text": [
      "[41.403423, 41.3827, 41.391712, 41.387573, 41.395325, 41.380924, 41.38174, 41.38349, 41.41142, 41.368454, 41.38442, 41.371174, 41.364548, 41.412766, 41.40341, 41.39493, 41.378883, 41.388542, 41.382168, 41.36852, 41.387, 41.37494, 41.4215, 41.39621, 41.41451, 41.385235, 41.384056, 41.37993, 41.38031, 41.38463, 41.422813, 41.39158, 41.421803, 41.386246, 41.4058, 41.363335, 41.38082, 41.391052, 41.38086, 41.37807, 41.387016, 41.37269, 41.397636, 41.43845, 41.40903, 41.37575, 41.38192, 41.38045, 41.38063, 41.3755, 41.38026, 41.37796, 41.38631, 41.380985, 41.385136, 41.38536, 41.375854, 41.4402, 41.388947, 41.37685, 41.3993, 41.40988, 41.38566, 41.383327, 41.38133, 41.391117, 41.37591, 41.35233, 41.39676, 41.38563, 41.382008, 41.38448, 41.387978, 41.404808, 41.38677, 41.378754, 41.36882, 41.38231, 41.376358, 41.38565, 41.40251, 41.398346, 41.376133, 41.36602, 41.368874]\n",
      "[2.174611, 2.177113, 2.164824, 2.175302, 2.161925, 2.122952, 2.171584, 2.18178, 2.174328, 2.153715, 2.17601, 2.151718, 2.165427, 2.131519, 2.15066, 2.16177, 2.17424, 2.18718, 2.172549, 2.159726, 2.17611, 2.14834, 2.1192, 2.161339, 2.152709, 2.180893, 2.17754, 2.17506, 2.17416, 2.18156, 2.119261, 2.16511, 2.119031, 2.178191, 2.15559, 2.166181, 2.180128, 2.180643, 2.185734, 2.1776, 2.170047, 2.17824, 2.114895, 2.148, 2.12652, 2.177805, 2.17186, 2.17033, 2.17362, 2.17674, 2.19343, 2.17369, 2.18536, 2.17341, 2.180325, 2.17042, 2.179365, 2.19831, 2.163636, 2.184366, 2.203403, 2.216376, 2.183822, 2.176435, 2.17768, 2.165385, 2.14988, 2.15496, 2.20834, 2.17183, 2.171915, 2.176674, 2.154285, 2.191822, 2.19773, 2.169168, 2.16304, 2.17377, 2.169145, 2.18586, 2.188178, 2.204376, 2.148957, 2.15415, 2.147997]\n"
     ]
    },
    {
     "name": "stderr",
     "output_type": "stream",
     "text": [
      "Driver [/Users/ericsonmarques/.wdm/drivers/chromedriver/mac64/108.0.5359.71/chromedriver] found in cache\n",
      "\n",
      "\n",
      "====== WebDriver manager ======\n",
      "Current google-chrome version is 108.0.5359\n",
      "Get LATEST chromedriver version for 108.0.5359 google-chrome\n"
     ]
    },
    {
     "name": "stdout",
     "output_type": "stream",
     "text": [
      "[41.403423, 41.3827, 41.391712, 41.387573, 41.395325, 41.380924, 41.38174, 41.38349, 41.41142, 41.368454, 41.38442, 41.371174, 41.364548, 41.412766, 41.40341, 41.39493, 41.378883, 41.388542, 41.382168, 41.36852, 41.387, 41.37494, 41.4215, 41.39621, 41.41451, 41.385235, 41.384056, 41.37993, 41.38031, 41.38463, 41.422813, 41.39158, 41.421803, 41.386246, 41.4058, 41.363335, 41.38082, 41.391052, 41.38086, 41.37807, 41.387016, 41.37269, 41.397636, 41.43845, 41.40903, 41.37575, 41.38192, 41.38045, 41.38063, 41.3755, 41.38026, 41.37796, 41.38631, 41.380985, 41.385136, 41.38536, 41.375854, 41.4402, 41.388947, 41.37685, 41.3993, 41.40988, 41.38566, 41.383327, 41.38133, 41.391117, 41.37591, 41.35233, 41.39676, 41.38563, 41.382008, 41.38448, 41.387978, 41.404808, 41.38677, 41.378754, 41.36882, 41.38231, 41.376358, 41.38565, 41.40251, 41.398346, 41.376133, 41.36602, 41.368874, 41.411106]\n",
      "[2.174611, 2.177113, 2.164824, 2.175302, 2.161925, 2.122952, 2.171584, 2.18178, 2.174328, 2.153715, 2.17601, 2.151718, 2.165427, 2.131519, 2.15066, 2.16177, 2.17424, 2.18718, 2.172549, 2.159726, 2.17611, 2.14834, 2.1192, 2.161339, 2.152709, 2.180893, 2.17754, 2.17506, 2.17416, 2.18156, 2.119261, 2.16511, 2.119031, 2.178191, 2.15559, 2.166181, 2.180128, 2.180643, 2.185734, 2.1776, 2.170047, 2.17824, 2.114895, 2.148, 2.12652, 2.177805, 2.17186, 2.17033, 2.17362, 2.17674, 2.19343, 2.17369, 2.18536, 2.17341, 2.180325, 2.17042, 2.179365, 2.19831, 2.163636, 2.184366, 2.203403, 2.216376, 2.183822, 2.176435, 2.17768, 2.165385, 2.14988, 2.15496, 2.20834, 2.17183, 2.171915, 2.176674, 2.154285, 2.191822, 2.19773, 2.169168, 2.16304, 2.17377, 2.169145, 2.18586, 2.188178, 2.204376, 2.148957, 2.15415, 2.147997, 2.220027]\n"
     ]
    },
    {
     "name": "stderr",
     "output_type": "stream",
     "text": [
      "Driver [/Users/ericsonmarques/.wdm/drivers/chromedriver/mac64/108.0.5359.71/chromedriver] found in cache\n",
      "\n",
      "\n",
      "====== WebDriver manager ======\n",
      "Current google-chrome version is 108.0.5359\n",
      "Get LATEST chromedriver version for 108.0.5359 google-chrome\n"
     ]
    },
    {
     "name": "stdout",
     "output_type": "stream",
     "text": [
      "[41.403423, 41.3827, 41.391712, 41.387573, 41.395325, 41.380924, 41.38174, 41.38349, 41.41142, 41.368454, 41.38442, 41.371174, 41.364548, 41.412766, 41.40341, 41.39493, 41.378883, 41.388542, 41.382168, 41.36852, 41.387, 41.37494, 41.4215, 41.39621, 41.41451, 41.385235, 41.384056, 41.37993, 41.38031, 41.38463, 41.422813, 41.39158, 41.421803, 41.386246, 41.4058, 41.363335, 41.38082, 41.391052, 41.38086, 41.37807, 41.387016, 41.37269, 41.397636, 41.43845, 41.40903, 41.37575, 41.38192, 41.38045, 41.38063, 41.3755, 41.38026, 41.37796, 41.38631, 41.380985, 41.385136, 41.38536, 41.375854, 41.4402, 41.388947, 41.37685, 41.3993, 41.40988, 41.38566, 41.383327, 41.38133, 41.391117, 41.37591, 41.35233, 41.39676, 41.38563, 41.382008, 41.38448, 41.387978, 41.404808, 41.38677, 41.378754, 41.36882, 41.38231, 41.376358, 41.38565, 41.40251, 41.398346, 41.376133, 41.36602, 41.368874, 41.411106, 41.40814]\n",
      "[2.174611, 2.177113, 2.164824, 2.175302, 2.161925, 2.122952, 2.171584, 2.18178, 2.174328, 2.153715, 2.17601, 2.151718, 2.165427, 2.131519, 2.15066, 2.16177, 2.17424, 2.18718, 2.172549, 2.159726, 2.17611, 2.14834, 2.1192, 2.161339, 2.152709, 2.180893, 2.17754, 2.17506, 2.17416, 2.18156, 2.119261, 2.16511, 2.119031, 2.178191, 2.15559, 2.166181, 2.180128, 2.180643, 2.185734, 2.1776, 2.170047, 2.17824, 2.114895, 2.148, 2.12652, 2.177805, 2.17186, 2.17033, 2.17362, 2.17674, 2.19343, 2.17369, 2.18536, 2.17341, 2.180325, 2.17042, 2.179365, 2.19831, 2.163636, 2.184366, 2.203403, 2.216376, 2.183822, 2.176435, 2.17768, 2.165385, 2.14988, 2.15496, 2.20834, 2.17183, 2.171915, 2.176674, 2.154285, 2.191822, 2.19773, 2.169168, 2.16304, 2.17377, 2.169145, 2.18586, 2.188178, 2.204376, 2.148957, 2.15415, 2.147997, 2.220027, 2.21948]\n"
     ]
    },
    {
     "name": "stderr",
     "output_type": "stream",
     "text": [
      "Driver [/Users/ericsonmarques/.wdm/drivers/chromedriver/mac64/108.0.5359.71/chromedriver] found in cache\n",
      "\n",
      "\n",
      "====== WebDriver manager ======\n",
      "Current google-chrome version is 108.0.5359\n",
      "Get LATEST chromedriver version for 108.0.5359 google-chrome\n"
     ]
    },
    {
     "name": "stdout",
     "output_type": "stream",
     "text": [
      "[41.403423, 41.3827, 41.391712, 41.387573, 41.395325, 41.380924, 41.38174, 41.38349, 41.41142, 41.368454, 41.38442, 41.371174, 41.364548, 41.412766, 41.40341, 41.39493, 41.378883, 41.388542, 41.382168, 41.36852, 41.387, 41.37494, 41.4215, 41.39621, 41.41451, 41.385235, 41.384056, 41.37993, 41.38031, 41.38463, 41.422813, 41.39158, 41.421803, 41.386246, 41.4058, 41.363335, 41.38082, 41.391052, 41.38086, 41.37807, 41.387016, 41.37269, 41.397636, 41.43845, 41.40903, 41.37575, 41.38192, 41.38045, 41.38063, 41.3755, 41.38026, 41.37796, 41.38631, 41.380985, 41.385136, 41.38536, 41.375854, 41.4402, 41.388947, 41.37685, 41.3993, 41.40988, 41.38566, 41.383327, 41.38133, 41.391117, 41.37591, 41.35233, 41.39676, 41.38563, 41.382008, 41.38448, 41.387978, 41.404808, 41.38677, 41.378754, 41.36882, 41.38231, 41.376358, 41.38565, 41.40251, 41.398346, 41.376133, 41.36602, 41.368874, 41.411106, 41.40814, 41.38246]\n",
      "[2.174611, 2.177113, 2.164824, 2.175302, 2.161925, 2.122952, 2.171584, 2.18178, 2.174328, 2.153715, 2.17601, 2.151718, 2.165427, 2.131519, 2.15066, 2.16177, 2.17424, 2.18718, 2.172549, 2.159726, 2.17611, 2.14834, 2.1192, 2.161339, 2.152709, 2.180893, 2.17754, 2.17506, 2.17416, 2.18156, 2.119261, 2.16511, 2.119031, 2.178191, 2.15559, 2.166181, 2.180128, 2.180643, 2.185734, 2.1776, 2.170047, 2.17824, 2.114895, 2.148, 2.12652, 2.177805, 2.17186, 2.17033, 2.17362, 2.17674, 2.19343, 2.17369, 2.18536, 2.17341, 2.180325, 2.17042, 2.179365, 2.19831, 2.163636, 2.184366, 2.203403, 2.216376, 2.183822, 2.176435, 2.17768, 2.165385, 2.14988, 2.15496, 2.20834, 2.17183, 2.171915, 2.176674, 2.154285, 2.191822, 2.19773, 2.169168, 2.16304, 2.17377, 2.169145, 2.18586, 2.188178, 2.204376, 2.148957, 2.15415, 2.147997, 2.220027, 2.21948, 2.1776]\n"
     ]
    },
    {
     "name": "stderr",
     "output_type": "stream",
     "text": [
      "Driver [/Users/ericsonmarques/.wdm/drivers/chromedriver/mac64/108.0.5359.71/chromedriver] found in cache\n",
      "\n",
      "\n",
      "====== WebDriver manager ======\n",
      "Current google-chrome version is 108.0.5359\n",
      "Get LATEST chromedriver version for 108.0.5359 google-chrome\n"
     ]
    },
    {
     "name": "stdout",
     "output_type": "stream",
     "text": [
      "[41.403423, 41.3827, 41.391712, 41.387573, 41.395325, 41.380924, 41.38174, 41.38349, 41.41142, 41.368454, 41.38442, 41.371174, 41.364548, 41.412766, 41.40341, 41.39493, 41.378883, 41.388542, 41.382168, 41.36852, 41.387, 41.37494, 41.4215, 41.39621, 41.41451, 41.385235, 41.384056, 41.37993, 41.38031, 41.38463, 41.422813, 41.39158, 41.421803, 41.386246, 41.4058, 41.363335, 41.38082, 41.391052, 41.38086, 41.37807, 41.387016, 41.37269, 41.397636, 41.43845, 41.40903, 41.37575, 41.38192, 41.38045, 41.38063, 41.3755, 41.38026, 41.37796, 41.38631, 41.380985, 41.385136, 41.38536, 41.375854, 41.4402, 41.388947, 41.37685, 41.3993, 41.40988, 41.38566, 41.383327, 41.38133, 41.391117, 41.37591, 41.35233, 41.39676, 41.38563, 41.382008, 41.38448, 41.387978, 41.404808, 41.38677, 41.378754, 41.36882, 41.38231, 41.376358, 41.38565, 41.40251, 41.398346, 41.376133, 41.36602, 41.368874, 41.411106, 41.40814, 41.38246, 41.38773]\n",
      "[2.174611, 2.177113, 2.164824, 2.175302, 2.161925, 2.122952, 2.171584, 2.18178, 2.174328, 2.153715, 2.17601, 2.151718, 2.165427, 2.131519, 2.15066, 2.16177, 2.17424, 2.18718, 2.172549, 2.159726, 2.17611, 2.14834, 2.1192, 2.161339, 2.152709, 2.180893, 2.17754, 2.17506, 2.17416, 2.18156, 2.119261, 2.16511, 2.119031, 2.178191, 2.15559, 2.166181, 2.180128, 2.180643, 2.185734, 2.1776, 2.170047, 2.17824, 2.114895, 2.148, 2.12652, 2.177805, 2.17186, 2.17033, 2.17362, 2.17674, 2.19343, 2.17369, 2.18536, 2.17341, 2.180325, 2.17042, 2.179365, 2.19831, 2.163636, 2.184366, 2.203403, 2.216376, 2.183822, 2.176435, 2.17768, 2.165385, 2.14988, 2.15496, 2.20834, 2.17183, 2.171915, 2.176674, 2.154285, 2.191822, 2.19773, 2.169168, 2.16304, 2.17377, 2.169145, 2.18586, 2.188178, 2.204376, 2.148957, 2.15415, 2.147997, 2.220027, 2.21948, 2.1776, 2.17095]\n"
     ]
    },
    {
     "name": "stderr",
     "output_type": "stream",
     "text": [
      "Driver [/Users/ericsonmarques/.wdm/drivers/chromedriver/mac64/108.0.5359.71/chromedriver] found in cache\n",
      "\n",
      "\n",
      "====== WebDriver manager ======\n",
      "Current google-chrome version is 108.0.5359\n",
      "Get LATEST chromedriver version for 108.0.5359 google-chrome\n"
     ]
    },
    {
     "name": "stdout",
     "output_type": "stream",
     "text": [
      "[41.403423, 41.3827, 41.391712, 41.387573, 41.395325, 41.380924, 41.38174, 41.38349, 41.41142, 41.368454, 41.38442, 41.371174, 41.364548, 41.412766, 41.40341, 41.39493, 41.378883, 41.388542, 41.382168, 41.36852, 41.387, 41.37494, 41.4215, 41.39621, 41.41451, 41.385235, 41.384056, 41.37993, 41.38031, 41.38463, 41.422813, 41.39158, 41.421803, 41.386246, 41.4058, 41.363335, 41.38082, 41.391052, 41.38086, 41.37807, 41.387016, 41.37269, 41.397636, 41.43845, 41.40903, 41.37575, 41.38192, 41.38045, 41.38063, 41.3755, 41.38026, 41.37796, 41.38631, 41.380985, 41.385136, 41.38536, 41.375854, 41.4402, 41.388947, 41.37685, 41.3993, 41.40988, 41.38566, 41.383327, 41.38133, 41.391117, 41.37591, 41.35233, 41.39676, 41.38563, 41.382008, 41.38448, 41.387978, 41.404808, 41.38677, 41.378754, 41.36882, 41.38231, 41.376358, 41.38565, 41.40251, 41.398346, 41.376133, 41.36602, 41.368874, 41.411106, 41.40814, 41.38246, 41.38773, 41.37526]\n",
      "[2.174611, 2.177113, 2.164824, 2.175302, 2.161925, 2.122952, 2.171584, 2.18178, 2.174328, 2.153715, 2.17601, 2.151718, 2.165427, 2.131519, 2.15066, 2.16177, 2.17424, 2.18718, 2.172549, 2.159726, 2.17611, 2.14834, 2.1192, 2.161339, 2.152709, 2.180893, 2.17754, 2.17506, 2.17416, 2.18156, 2.119261, 2.16511, 2.119031, 2.178191, 2.15559, 2.166181, 2.180128, 2.180643, 2.185734, 2.1776, 2.170047, 2.17824, 2.114895, 2.148, 2.12652, 2.177805, 2.17186, 2.17033, 2.17362, 2.17674, 2.19343, 2.17369, 2.18536, 2.17341, 2.180325, 2.17042, 2.179365, 2.19831, 2.163636, 2.184366, 2.203403, 2.216376, 2.183822, 2.176435, 2.17768, 2.165385, 2.14988, 2.15496, 2.20834, 2.17183, 2.171915, 2.176674, 2.154285, 2.191822, 2.19773, 2.169168, 2.16304, 2.17377, 2.169145, 2.18586, 2.188178, 2.204376, 2.148957, 2.15415, 2.147997, 2.220027, 2.21948, 2.1776, 2.17095, 2.18363]\n"
     ]
    },
    {
     "name": "stderr",
     "output_type": "stream",
     "text": [
      "Driver [/Users/ericsonmarques/.wdm/drivers/chromedriver/mac64/108.0.5359.71/chromedriver] found in cache\n",
      "\n",
      "\n",
      "====== WebDriver manager ======\n",
      "Current google-chrome version is 108.0.5359\n",
      "Get LATEST chromedriver version for 108.0.5359 google-chrome\n"
     ]
    },
    {
     "name": "stdout",
     "output_type": "stream",
     "text": [
      "[41.403423, 41.3827, 41.391712, 41.387573, 41.395325, 41.380924, 41.38174, 41.38349, 41.41142, 41.368454, 41.38442, 41.371174, 41.364548, 41.412766, 41.40341, 41.39493, 41.378883, 41.388542, 41.382168, 41.36852, 41.387, 41.37494, 41.4215, 41.39621, 41.41451, 41.385235, 41.384056, 41.37993, 41.38031, 41.38463, 41.422813, 41.39158, 41.421803, 41.386246, 41.4058, 41.363335, 41.38082, 41.391052, 41.38086, 41.37807, 41.387016, 41.37269, 41.397636, 41.43845, 41.40903, 41.37575, 41.38192, 41.38045, 41.38063, 41.3755, 41.38026, 41.37796, 41.38631, 41.380985, 41.385136, 41.38536, 41.375854, 41.4402, 41.388947, 41.37685, 41.3993, 41.40988, 41.38566, 41.383327, 41.38133, 41.391117, 41.37591, 41.35233, 41.39676, 41.38563, 41.382008, 41.38448, 41.387978, 41.404808, 41.38677, 41.378754, 41.36882, 41.38231, 41.376358, 41.38565, 41.40251, 41.398346, 41.376133, 41.36602, 41.368874, 41.411106, 41.40814, 41.38246, 41.38773, 41.37526, 41.40355]\n",
      "[2.174611, 2.177113, 2.164824, 2.175302, 2.161925, 2.122952, 2.171584, 2.18178, 2.174328, 2.153715, 2.17601, 2.151718, 2.165427, 2.131519, 2.15066, 2.16177, 2.17424, 2.18718, 2.172549, 2.159726, 2.17611, 2.14834, 2.1192, 2.161339, 2.152709, 2.180893, 2.17754, 2.17506, 2.17416, 2.18156, 2.119261, 2.16511, 2.119031, 2.178191, 2.15559, 2.166181, 2.180128, 2.180643, 2.185734, 2.1776, 2.170047, 2.17824, 2.114895, 2.148, 2.12652, 2.177805, 2.17186, 2.17033, 2.17362, 2.17674, 2.19343, 2.17369, 2.18536, 2.17341, 2.180325, 2.17042, 2.179365, 2.19831, 2.163636, 2.184366, 2.203403, 2.216376, 2.183822, 2.176435, 2.17768, 2.165385, 2.14988, 2.15496, 2.20834, 2.17183, 2.171915, 2.176674, 2.154285, 2.191822, 2.19773, 2.169168, 2.16304, 2.17377, 2.169145, 2.18586, 2.188178, 2.204376, 2.148957, 2.15415, 2.147997, 2.220027, 2.21948, 2.1776, 2.17095, 2.18363, 2.18974]\n"
     ]
    },
    {
     "ename": "ConnectionError",
     "evalue": "('Connection aborted.', RemoteDisconnected('Remote end closed connection without response'))",
     "output_type": "error",
     "traceback": [
      "\u001b[0;31m---------------------------------------------------------------------------\u001b[0m",
      "\u001b[0;31mRemoteDisconnected\u001b[0m                        Traceback (most recent call last)",
      "\u001b[0;32m/opt/anaconda3/envs/rents/lib/python3.9/site-packages/urllib3/connectionpool.py\u001b[0m in \u001b[0;36murlopen\u001b[0;34m(self, method, url, body, headers, retries, redirect, assert_same_host, timeout, pool_timeout, release_conn, chunked, body_pos, **response_kw)\u001b[0m\n\u001b[1;32m    596\u001b[0m             \u001b[0;31m# Make the request on the httplib connection object.\u001b[0m\u001b[0;34m\u001b[0m\u001b[0;34m\u001b[0m\u001b[0m\n\u001b[0;32m--> 597\u001b[0;31m             httplib_response = self._make_request(conn, method, url,\n\u001b[0m\u001b[1;32m    598\u001b[0m                                                   \u001b[0mtimeout\u001b[0m\u001b[0;34m=\u001b[0m\u001b[0mtimeout_obj\u001b[0m\u001b[0;34m,\u001b[0m\u001b[0;34m\u001b[0m\u001b[0;34m\u001b[0m\u001b[0m\n",
      "\u001b[0;32m/opt/anaconda3/envs/rents/lib/python3.9/site-packages/urllib3/connectionpool.py\u001b[0m in \u001b[0;36m_make_request\u001b[0;34m(self, conn, method, url, timeout, chunked, **httplib_request_kw)\u001b[0m\n\u001b[1;32m    383\u001b[0m                     \u001b[0;31m# otherwise it looks like a programming error was the cause.\u001b[0m\u001b[0;34m\u001b[0m\u001b[0;34m\u001b[0m\u001b[0m\n\u001b[0;32m--> 384\u001b[0;31m                     \u001b[0msix\u001b[0m\u001b[0;34m.\u001b[0m\u001b[0mraise_from\u001b[0m\u001b[0;34m(\u001b[0m\u001b[0me\u001b[0m\u001b[0;34m,\u001b[0m \u001b[0;32mNone\u001b[0m\u001b[0;34m)\u001b[0m\u001b[0;34m\u001b[0m\u001b[0;34m\u001b[0m\u001b[0m\n\u001b[0m\u001b[1;32m    385\u001b[0m         \u001b[0;32mexcept\u001b[0m \u001b[0;34m(\u001b[0m\u001b[0mSocketTimeout\u001b[0m\u001b[0;34m,\u001b[0m \u001b[0mBaseSSLError\u001b[0m\u001b[0;34m,\u001b[0m \u001b[0mSocketError\u001b[0m\u001b[0;34m)\u001b[0m \u001b[0;32mas\u001b[0m \u001b[0me\u001b[0m\u001b[0;34m:\u001b[0m\u001b[0;34m\u001b[0m\u001b[0;34m\u001b[0m\u001b[0m\n",
      "\u001b[0;32m/opt/anaconda3/envs/rents/lib/python3.9/site-packages/urllib3/packages/six.py\u001b[0m in \u001b[0;36mraise_from\u001b[0;34m(value, from_value)\u001b[0m\n",
      "\u001b[0;32m/opt/anaconda3/envs/rents/lib/python3.9/site-packages/urllib3/connectionpool.py\u001b[0m in \u001b[0;36m_make_request\u001b[0;34m(self, conn, method, url, timeout, chunked, **httplib_request_kw)\u001b[0m\n\u001b[1;32m    379\u001b[0m                 \u001b[0;32mtry\u001b[0m\u001b[0;34m:\u001b[0m\u001b[0;34m\u001b[0m\u001b[0;34m\u001b[0m\u001b[0m\n\u001b[0;32m--> 380\u001b[0;31m                     \u001b[0mhttplib_response\u001b[0m \u001b[0;34m=\u001b[0m \u001b[0mconn\u001b[0m\u001b[0;34m.\u001b[0m\u001b[0mgetresponse\u001b[0m\u001b[0;34m(\u001b[0m\u001b[0;34m)\u001b[0m\u001b[0;34m\u001b[0m\u001b[0;34m\u001b[0m\u001b[0m\n\u001b[0m\u001b[1;32m    381\u001b[0m                 \u001b[0;32mexcept\u001b[0m \u001b[0mException\u001b[0m \u001b[0;32mas\u001b[0m \u001b[0me\u001b[0m\u001b[0;34m:\u001b[0m\u001b[0;34m\u001b[0m\u001b[0;34m\u001b[0m\u001b[0m\n",
      "\u001b[0;32m/opt/anaconda3/envs/rents/lib/python3.9/http/client.py\u001b[0m in \u001b[0;36mgetresponse\u001b[0;34m(self)\u001b[0m\n\u001b[1;32m   1370\u001b[0m             \u001b[0;32mtry\u001b[0m\u001b[0;34m:\u001b[0m\u001b[0;34m\u001b[0m\u001b[0;34m\u001b[0m\u001b[0m\n\u001b[0;32m-> 1371\u001b[0;31m                 \u001b[0mresponse\u001b[0m\u001b[0;34m.\u001b[0m\u001b[0mbegin\u001b[0m\u001b[0;34m(\u001b[0m\u001b[0;34m)\u001b[0m\u001b[0;34m\u001b[0m\u001b[0;34m\u001b[0m\u001b[0m\n\u001b[0m\u001b[1;32m   1372\u001b[0m             \u001b[0;32mexcept\u001b[0m \u001b[0mConnectionError\u001b[0m\u001b[0;34m:\u001b[0m\u001b[0;34m\u001b[0m\u001b[0;34m\u001b[0m\u001b[0m\n",
      "\u001b[0;32m/opt/anaconda3/envs/rents/lib/python3.9/http/client.py\u001b[0m in \u001b[0;36mbegin\u001b[0;34m(self)\u001b[0m\n\u001b[1;32m    318\u001b[0m         \u001b[0;32mwhile\u001b[0m \u001b[0;32mTrue\u001b[0m\u001b[0;34m:\u001b[0m\u001b[0;34m\u001b[0m\u001b[0;34m\u001b[0m\u001b[0m\n\u001b[0;32m--> 319\u001b[0;31m             \u001b[0mversion\u001b[0m\u001b[0;34m,\u001b[0m \u001b[0mstatus\u001b[0m\u001b[0;34m,\u001b[0m \u001b[0mreason\u001b[0m \u001b[0;34m=\u001b[0m \u001b[0mself\u001b[0m\u001b[0;34m.\u001b[0m\u001b[0m_read_status\u001b[0m\u001b[0;34m(\u001b[0m\u001b[0;34m)\u001b[0m\u001b[0;34m\u001b[0m\u001b[0;34m\u001b[0m\u001b[0m\n\u001b[0m\u001b[1;32m    320\u001b[0m             \u001b[0;32mif\u001b[0m \u001b[0mstatus\u001b[0m \u001b[0;34m!=\u001b[0m \u001b[0mCONTINUE\u001b[0m\u001b[0;34m:\u001b[0m\u001b[0;34m\u001b[0m\u001b[0;34m\u001b[0m\u001b[0m\n",
      "\u001b[0;32m/opt/anaconda3/envs/rents/lib/python3.9/http/client.py\u001b[0m in \u001b[0;36m_read_status\u001b[0;34m(self)\u001b[0m\n\u001b[1;32m    287\u001b[0m             \u001b[0;31m# sending a valid response.\u001b[0m\u001b[0;34m\u001b[0m\u001b[0;34m\u001b[0m\u001b[0m\n\u001b[0;32m--> 288\u001b[0;31m             raise RemoteDisconnected(\"Remote end closed connection without\"\n\u001b[0m\u001b[1;32m    289\u001b[0m                                      \" response\")\n",
      "\u001b[0;31mRemoteDisconnected\u001b[0m: Remote end closed connection without response",
      "\nDuring handling of the above exception, another exception occurred:\n",
      "\u001b[0;31mProtocolError\u001b[0m                             Traceback (most recent call last)",
      "\u001b[0;32m/opt/anaconda3/envs/rents/lib/python3.9/site-packages/requests/adapters.py\u001b[0m in \u001b[0;36msend\u001b[0;34m(self, request, stream, timeout, verify, cert, proxies)\u001b[0m\n\u001b[1;32m    439\u001b[0m             \u001b[0;32mif\u001b[0m \u001b[0;32mnot\u001b[0m \u001b[0mchunked\u001b[0m\u001b[0;34m:\u001b[0m\u001b[0;34m\u001b[0m\u001b[0;34m\u001b[0m\u001b[0m\n\u001b[0;32m--> 440\u001b[0;31m                 resp = conn.urlopen(\n\u001b[0m\u001b[1;32m    441\u001b[0m                     \u001b[0mmethod\u001b[0m\u001b[0;34m=\u001b[0m\u001b[0mrequest\u001b[0m\u001b[0;34m.\u001b[0m\u001b[0mmethod\u001b[0m\u001b[0;34m,\u001b[0m\u001b[0;34m\u001b[0m\u001b[0;34m\u001b[0m\u001b[0m\n",
      "\u001b[0;32m/opt/anaconda3/envs/rents/lib/python3.9/site-packages/urllib3/connectionpool.py\u001b[0m in \u001b[0;36murlopen\u001b[0;34m(self, method, url, body, headers, retries, redirect, assert_same_host, timeout, pool_timeout, release_conn, chunked, body_pos, **response_kw)\u001b[0m\n\u001b[1;32m    636\u001b[0m \u001b[0;34m\u001b[0m\u001b[0m\n\u001b[0;32m--> 637\u001b[0;31m             retries = retries.increment(method, url, error=e, _pool=self,\n\u001b[0m\u001b[1;32m    638\u001b[0m                                         _stacktrace=sys.exc_info()[2])\n",
      "\u001b[0;32m/opt/anaconda3/envs/rents/lib/python3.9/site-packages/urllib3/util/retry.py\u001b[0m in \u001b[0;36mincrement\u001b[0;34m(self, method, url, response, error, _pool, _stacktrace)\u001b[0m\n\u001b[1;32m    367\u001b[0m             \u001b[0;32mif\u001b[0m \u001b[0mread\u001b[0m \u001b[0;32mis\u001b[0m \u001b[0;32mFalse\u001b[0m \u001b[0;32mor\u001b[0m \u001b[0;32mnot\u001b[0m \u001b[0mself\u001b[0m\u001b[0;34m.\u001b[0m\u001b[0m_is_method_retryable\u001b[0m\u001b[0;34m(\u001b[0m\u001b[0mmethod\u001b[0m\u001b[0;34m)\u001b[0m\u001b[0;34m:\u001b[0m\u001b[0;34m\u001b[0m\u001b[0;34m\u001b[0m\u001b[0m\n\u001b[0;32m--> 368\u001b[0;31m                 \u001b[0;32mraise\u001b[0m \u001b[0msix\u001b[0m\u001b[0;34m.\u001b[0m\u001b[0mreraise\u001b[0m\u001b[0;34m(\u001b[0m\u001b[0mtype\u001b[0m\u001b[0;34m(\u001b[0m\u001b[0merror\u001b[0m\u001b[0;34m)\u001b[0m\u001b[0;34m,\u001b[0m \u001b[0merror\u001b[0m\u001b[0;34m,\u001b[0m \u001b[0m_stacktrace\u001b[0m\u001b[0;34m)\u001b[0m\u001b[0;34m\u001b[0m\u001b[0;34m\u001b[0m\u001b[0m\n\u001b[0m\u001b[1;32m    369\u001b[0m             \u001b[0;32melif\u001b[0m \u001b[0mread\u001b[0m \u001b[0;32mis\u001b[0m \u001b[0;32mnot\u001b[0m \u001b[0;32mNone\u001b[0m\u001b[0;34m:\u001b[0m\u001b[0;34m\u001b[0m\u001b[0;34m\u001b[0m\u001b[0m\n",
      "\u001b[0;32m/opt/anaconda3/envs/rents/lib/python3.9/site-packages/urllib3/packages/six.py\u001b[0m in \u001b[0;36mreraise\u001b[0;34m(tp, value, tb)\u001b[0m\n\u001b[1;32m    684\u001b[0m         \u001b[0;32mif\u001b[0m \u001b[0mvalue\u001b[0m\u001b[0;34m.\u001b[0m\u001b[0m__traceback__\u001b[0m \u001b[0;32mis\u001b[0m \u001b[0;32mnot\u001b[0m \u001b[0mtb\u001b[0m\u001b[0;34m:\u001b[0m\u001b[0;34m\u001b[0m\u001b[0;34m\u001b[0m\u001b[0m\n\u001b[0;32m--> 685\u001b[0;31m             \u001b[0;32mraise\u001b[0m \u001b[0mvalue\u001b[0m\u001b[0;34m.\u001b[0m\u001b[0mwith_traceback\u001b[0m\u001b[0;34m(\u001b[0m\u001b[0mtb\u001b[0m\u001b[0;34m)\u001b[0m\u001b[0;34m\u001b[0m\u001b[0;34m\u001b[0m\u001b[0m\n\u001b[0m\u001b[1;32m    686\u001b[0m         \u001b[0;32mraise\u001b[0m \u001b[0mvalue\u001b[0m\u001b[0;34m\u001b[0m\u001b[0;34m\u001b[0m\u001b[0m\n",
      "\u001b[0;32m/opt/anaconda3/envs/rents/lib/python3.9/site-packages/urllib3/connectionpool.py\u001b[0m in \u001b[0;36murlopen\u001b[0;34m(self, method, url, body, headers, retries, redirect, assert_same_host, timeout, pool_timeout, release_conn, chunked, body_pos, **response_kw)\u001b[0m\n\u001b[1;32m    596\u001b[0m             \u001b[0;31m# Make the request on the httplib connection object.\u001b[0m\u001b[0;34m\u001b[0m\u001b[0;34m\u001b[0m\u001b[0m\n\u001b[0;32m--> 597\u001b[0;31m             httplib_response = self._make_request(conn, method, url,\n\u001b[0m\u001b[1;32m    598\u001b[0m                                                   \u001b[0mtimeout\u001b[0m\u001b[0;34m=\u001b[0m\u001b[0mtimeout_obj\u001b[0m\u001b[0;34m,\u001b[0m\u001b[0;34m\u001b[0m\u001b[0;34m\u001b[0m\u001b[0m\n",
      "\u001b[0;32m/opt/anaconda3/envs/rents/lib/python3.9/site-packages/urllib3/connectionpool.py\u001b[0m in \u001b[0;36m_make_request\u001b[0;34m(self, conn, method, url, timeout, chunked, **httplib_request_kw)\u001b[0m\n\u001b[1;32m    383\u001b[0m                     \u001b[0;31m# otherwise it looks like a programming error was the cause.\u001b[0m\u001b[0;34m\u001b[0m\u001b[0;34m\u001b[0m\u001b[0m\n\u001b[0;32m--> 384\u001b[0;31m                     \u001b[0msix\u001b[0m\u001b[0;34m.\u001b[0m\u001b[0mraise_from\u001b[0m\u001b[0;34m(\u001b[0m\u001b[0me\u001b[0m\u001b[0;34m,\u001b[0m \u001b[0;32mNone\u001b[0m\u001b[0;34m)\u001b[0m\u001b[0;34m\u001b[0m\u001b[0;34m\u001b[0m\u001b[0m\n\u001b[0m\u001b[1;32m    385\u001b[0m         \u001b[0;32mexcept\u001b[0m \u001b[0;34m(\u001b[0m\u001b[0mSocketTimeout\u001b[0m\u001b[0;34m,\u001b[0m \u001b[0mBaseSSLError\u001b[0m\u001b[0;34m,\u001b[0m \u001b[0mSocketError\u001b[0m\u001b[0;34m)\u001b[0m \u001b[0;32mas\u001b[0m \u001b[0me\u001b[0m\u001b[0;34m:\u001b[0m\u001b[0;34m\u001b[0m\u001b[0;34m\u001b[0m\u001b[0m\n",
      "\u001b[0;32m/opt/anaconda3/envs/rents/lib/python3.9/site-packages/urllib3/packages/six.py\u001b[0m in \u001b[0;36mraise_from\u001b[0;34m(value, from_value)\u001b[0m\n",
      "\u001b[0;32m/opt/anaconda3/envs/rents/lib/python3.9/site-packages/urllib3/connectionpool.py\u001b[0m in \u001b[0;36m_make_request\u001b[0;34m(self, conn, method, url, timeout, chunked, **httplib_request_kw)\u001b[0m\n\u001b[1;32m    379\u001b[0m                 \u001b[0;32mtry\u001b[0m\u001b[0;34m:\u001b[0m\u001b[0;34m\u001b[0m\u001b[0;34m\u001b[0m\u001b[0m\n\u001b[0;32m--> 380\u001b[0;31m                     \u001b[0mhttplib_response\u001b[0m \u001b[0;34m=\u001b[0m \u001b[0mconn\u001b[0m\u001b[0;34m.\u001b[0m\u001b[0mgetresponse\u001b[0m\u001b[0;34m(\u001b[0m\u001b[0;34m)\u001b[0m\u001b[0;34m\u001b[0m\u001b[0;34m\u001b[0m\u001b[0m\n\u001b[0m\u001b[1;32m    381\u001b[0m                 \u001b[0;32mexcept\u001b[0m \u001b[0mException\u001b[0m \u001b[0;32mas\u001b[0m \u001b[0me\u001b[0m\u001b[0;34m:\u001b[0m\u001b[0;34m\u001b[0m\u001b[0;34m\u001b[0m\u001b[0m\n",
      "\u001b[0;32m/opt/anaconda3/envs/rents/lib/python3.9/http/client.py\u001b[0m in \u001b[0;36mgetresponse\u001b[0;34m(self)\u001b[0m\n\u001b[1;32m   1370\u001b[0m             \u001b[0;32mtry\u001b[0m\u001b[0;34m:\u001b[0m\u001b[0;34m\u001b[0m\u001b[0;34m\u001b[0m\u001b[0m\n\u001b[0;32m-> 1371\u001b[0;31m                 \u001b[0mresponse\u001b[0m\u001b[0;34m.\u001b[0m\u001b[0mbegin\u001b[0m\u001b[0;34m(\u001b[0m\u001b[0;34m)\u001b[0m\u001b[0;34m\u001b[0m\u001b[0;34m\u001b[0m\u001b[0m\n\u001b[0m\u001b[1;32m   1372\u001b[0m             \u001b[0;32mexcept\u001b[0m \u001b[0mConnectionError\u001b[0m\u001b[0;34m:\u001b[0m\u001b[0;34m\u001b[0m\u001b[0;34m\u001b[0m\u001b[0m\n",
      "\u001b[0;32m/opt/anaconda3/envs/rents/lib/python3.9/http/client.py\u001b[0m in \u001b[0;36mbegin\u001b[0;34m(self)\u001b[0m\n\u001b[1;32m    318\u001b[0m         \u001b[0;32mwhile\u001b[0m \u001b[0;32mTrue\u001b[0m\u001b[0;34m:\u001b[0m\u001b[0;34m\u001b[0m\u001b[0;34m\u001b[0m\u001b[0m\n\u001b[0;32m--> 319\u001b[0;31m             \u001b[0mversion\u001b[0m\u001b[0;34m,\u001b[0m \u001b[0mstatus\u001b[0m\u001b[0;34m,\u001b[0m \u001b[0mreason\u001b[0m \u001b[0;34m=\u001b[0m \u001b[0mself\u001b[0m\u001b[0;34m.\u001b[0m\u001b[0m_read_status\u001b[0m\u001b[0;34m(\u001b[0m\u001b[0;34m)\u001b[0m\u001b[0;34m\u001b[0m\u001b[0;34m\u001b[0m\u001b[0m\n\u001b[0m\u001b[1;32m    320\u001b[0m             \u001b[0;32mif\u001b[0m \u001b[0mstatus\u001b[0m \u001b[0;34m!=\u001b[0m \u001b[0mCONTINUE\u001b[0m\u001b[0;34m:\u001b[0m\u001b[0;34m\u001b[0m\u001b[0;34m\u001b[0m\u001b[0m\n",
      "\u001b[0;32m/opt/anaconda3/envs/rents/lib/python3.9/http/client.py\u001b[0m in \u001b[0;36m_read_status\u001b[0;34m(self)\u001b[0m\n\u001b[1;32m    287\u001b[0m             \u001b[0;31m# sending a valid response.\u001b[0m\u001b[0;34m\u001b[0m\u001b[0;34m\u001b[0m\u001b[0m\n\u001b[0;32m--> 288\u001b[0;31m             raise RemoteDisconnected(\"Remote end closed connection without\"\n\u001b[0m\u001b[1;32m    289\u001b[0m                                      \" response\")\n",
      "\u001b[0;31mProtocolError\u001b[0m: ('Connection aborted.', RemoteDisconnected('Remote end closed connection without response'))",
      "\nDuring handling of the above exception, another exception occurred:\n",
      "\u001b[0;31mConnectionError\u001b[0m                           Traceback (most recent call last)",
      "\u001b[0;32m/var/folders/pl/wm7wjyvn1vvflk70yn1b6n6c0000gn/T/ipykernel_2116/2194629066.py\u001b[0m in \u001b[0;36m<module>\u001b[0;34m\u001b[0m\n\u001b[1;32m      1\u001b[0m \u001b[0;32mfor\u001b[0m \u001b[0murl\u001b[0m \u001b[0;32min\u001b[0m \u001b[0;34m(\u001b[0m\u001b[0mlinks\u001b[0m\u001b[0;34m)\u001b[0m\u001b[0;34m:\u001b[0m\u001b[0;34m\u001b[0m\u001b[0;34m\u001b[0m\u001b[0m\n\u001b[1;32m      2\u001b[0m     \u001b[0mtarget_url\u001b[0m \u001b[0;34m=\u001b[0m \u001b[0;34m\"https://www.tripadvisor.com\"\u001b[0m \u001b[0;34m+\u001b[0m \u001b[0murl\u001b[0m\u001b[0;34m\u001b[0m\u001b[0;34m\u001b[0m\u001b[0m\n\u001b[0;32m----> 3\u001b[0;31m     \u001b[0mdriver\u001b[0m \u001b[0;34m=\u001b[0m \u001b[0mwebdriver\u001b[0m\u001b[0;34m.\u001b[0m\u001b[0mChrome\u001b[0m\u001b[0;34m(\u001b[0m\u001b[0mChromeDriverManager\u001b[0m\u001b[0;34m(\u001b[0m\u001b[0;34m)\u001b[0m\u001b[0;34m.\u001b[0m\u001b[0minstall\u001b[0m\u001b[0;34m(\u001b[0m\u001b[0;34m)\u001b[0m\u001b[0;34m)\u001b[0m\u001b[0;34m\u001b[0m\u001b[0;34m\u001b[0m\u001b[0m\n\u001b[0m\u001b[1;32m      4\u001b[0m     \u001b[0mdriver\u001b[0m\u001b[0;34m.\u001b[0m\u001b[0mget\u001b[0m\u001b[0;34m(\u001b[0m\u001b[0mtarget_url\u001b[0m\u001b[0;34m)\u001b[0m\u001b[0;34m\u001b[0m\u001b[0;34m\u001b[0m\u001b[0m\n\u001b[1;32m      5\u001b[0m     \u001b[0mbsobj\u001b[0m \u001b[0;34m=\u001b[0m \u001b[0mBeautifulSoup\u001b[0m\u001b[0;34m(\u001b[0m\u001b[0mdriver\u001b[0m\u001b[0;34m.\u001b[0m\u001b[0mpage_source\u001b[0m\u001b[0;34m,\u001b[0m \u001b[0;34m'html.parser'\u001b[0m\u001b[0;34m)\u001b[0m\u001b[0;34m\u001b[0m\u001b[0;34m\u001b[0m\u001b[0m\n",
      "\u001b[0;32m/opt/anaconda3/envs/rents/lib/python3.9/site-packages/webdriver_manager/chrome.py\u001b[0m in \u001b[0;36minstall\u001b[0;34m(self)\u001b[0m\n\u001b[1;32m     30\u001b[0m \u001b[0;34m\u001b[0m\u001b[0m\n\u001b[1;32m     31\u001b[0m     \u001b[0;32mdef\u001b[0m \u001b[0minstall\u001b[0m\u001b[0;34m(\u001b[0m\u001b[0mself\u001b[0m\u001b[0;34m)\u001b[0m\u001b[0;34m:\u001b[0m\u001b[0;34m\u001b[0m\u001b[0;34m\u001b[0m\u001b[0m\n\u001b[0;32m---> 32\u001b[0;31m         \u001b[0mdriver_path\u001b[0m \u001b[0;34m=\u001b[0m \u001b[0mself\u001b[0m\u001b[0;34m.\u001b[0m\u001b[0m_get_driver_path\u001b[0m\u001b[0;34m(\u001b[0m\u001b[0mself\u001b[0m\u001b[0;34m.\u001b[0m\u001b[0mdriver\u001b[0m\u001b[0;34m)\u001b[0m\u001b[0;34m\u001b[0m\u001b[0;34m\u001b[0m\u001b[0m\n\u001b[0m\u001b[1;32m     33\u001b[0m \u001b[0;34m\u001b[0m\u001b[0m\n\u001b[1;32m     34\u001b[0m         \u001b[0mos\u001b[0m\u001b[0;34m.\u001b[0m\u001b[0mchmod\u001b[0m\u001b[0;34m(\u001b[0m\u001b[0mdriver_path\u001b[0m\u001b[0;34m,\u001b[0m \u001b[0;36m0o755\u001b[0m\u001b[0;34m)\u001b[0m\u001b[0;34m\u001b[0m\u001b[0;34m\u001b[0m\u001b[0m\n",
      "\u001b[0;32m/opt/anaconda3/envs/rents/lib/python3.9/site-packages/webdriver_manager/manager.py\u001b[0m in \u001b[0;36m_get_driver_path\u001b[0;34m(self, driver)\u001b[0m\n\u001b[1;32m     21\u001b[0m         \u001b[0mdriver_name\u001b[0m \u001b[0;34m=\u001b[0m \u001b[0mdriver\u001b[0m\u001b[0;34m.\u001b[0m\u001b[0mget_name\u001b[0m\u001b[0;34m(\u001b[0m\u001b[0;34m)\u001b[0m\u001b[0;34m\u001b[0m\u001b[0;34m\u001b[0m\u001b[0m\n\u001b[1;32m     22\u001b[0m         \u001b[0mos_type\u001b[0m \u001b[0;34m=\u001b[0m \u001b[0mdriver\u001b[0m\u001b[0;34m.\u001b[0m\u001b[0mget_os_type\u001b[0m\u001b[0;34m(\u001b[0m\u001b[0;34m)\u001b[0m\u001b[0;34m\u001b[0m\u001b[0;34m\u001b[0m\u001b[0m\n\u001b[0;32m---> 23\u001b[0;31m         \u001b[0mdriver_version\u001b[0m \u001b[0;34m=\u001b[0m \u001b[0mdriver\u001b[0m\u001b[0;34m.\u001b[0m\u001b[0mget_version\u001b[0m\u001b[0;34m(\u001b[0m\u001b[0;34m)\u001b[0m\u001b[0;34m\u001b[0m\u001b[0;34m\u001b[0m\u001b[0m\n\u001b[0m\u001b[1;32m     24\u001b[0m \u001b[0;34m\u001b[0m\u001b[0m\n\u001b[1;32m     25\u001b[0m         binary_path = self.driver_cache.find_driver(browser_version, driver_name, os_type,\n",
      "\u001b[0;32m/opt/anaconda3/envs/rents/lib/python3.9/site-packages/webdriver_manager/driver.py\u001b[0m in \u001b[0;36mget_version\u001b[0;34m(self)\u001b[0m\n\u001b[1;32m     39\u001b[0m         \u001b[0mdriver_version\u001b[0m \u001b[0;34m=\u001b[0m \u001b[0mself\u001b[0m\u001b[0;34m.\u001b[0m\u001b[0m_version\u001b[0m\u001b[0;34m\u001b[0m\u001b[0;34m\u001b[0m\u001b[0m\n\u001b[1;32m     40\u001b[0m         \u001b[0;32mif\u001b[0m \u001b[0mdriver_version\u001b[0m \u001b[0;34m==\u001b[0m \u001b[0;34m\"latest\"\u001b[0m\u001b[0;34m:\u001b[0m\u001b[0;34m\u001b[0m\u001b[0;34m\u001b[0m\u001b[0m\n\u001b[0;32m---> 41\u001b[0;31m             \u001b[0;32mreturn\u001b[0m \u001b[0mself\u001b[0m\u001b[0;34m.\u001b[0m\u001b[0mget_latest_release_version\u001b[0m\u001b[0;34m(\u001b[0m\u001b[0;34m)\u001b[0m\u001b[0;34m\u001b[0m\u001b[0;34m\u001b[0m\u001b[0m\n\u001b[0m\u001b[1;32m     42\u001b[0m         \u001b[0;32mreturn\u001b[0m \u001b[0mself\u001b[0m\u001b[0;34m.\u001b[0m\u001b[0m_version\u001b[0m\u001b[0;34m\u001b[0m\u001b[0;34m\u001b[0m\u001b[0m\n\u001b[1;32m     43\u001b[0m \u001b[0;34m\u001b[0m\u001b[0m\n",
      "\u001b[0;32m/opt/anaconda3/envs/rents/lib/python3.9/site-packages/webdriver_manager/driver.py\u001b[0m in \u001b[0;36mget_latest_release_version\u001b[0;34m(self)\u001b[0m\n\u001b[1;32m     68\u001b[0m             \u001b[0;32melse\u001b[0m \u001b[0mself\u001b[0m\u001b[0;34m.\u001b[0m\u001b[0m_latest_release_url\u001b[0m\u001b[0;34m\u001b[0m\u001b[0;34m\u001b[0m\u001b[0m\n\u001b[1;32m     69\u001b[0m         )\n\u001b[0;32m---> 70\u001b[0;31m         resp = requests.get(\n\u001b[0m\u001b[1;32m     71\u001b[0m             \u001b[0murl\u001b[0m\u001b[0;34m=\u001b[0m\u001b[0mlatest_release_url\u001b[0m\u001b[0;34m,\u001b[0m\u001b[0;34m\u001b[0m\u001b[0;34m\u001b[0m\u001b[0m\n\u001b[1;32m     72\u001b[0m             \u001b[0mverify\u001b[0m\u001b[0;34m=\u001b[0m\u001b[0mself\u001b[0m\u001b[0;34m.\u001b[0m\u001b[0mssl_verify\u001b[0m\u001b[0;34m\u001b[0m\u001b[0;34m\u001b[0m\u001b[0m\n",
      "\u001b[0;32m/opt/anaconda3/envs/rents/lib/python3.9/site-packages/requests/api.py\u001b[0m in \u001b[0;36mget\u001b[0;34m(url, params, **kwargs)\u001b[0m\n\u001b[1;32m     73\u001b[0m     \"\"\"\n\u001b[1;32m     74\u001b[0m \u001b[0;34m\u001b[0m\u001b[0m\n\u001b[0;32m---> 75\u001b[0;31m     \u001b[0;32mreturn\u001b[0m \u001b[0mrequest\u001b[0m\u001b[0;34m(\u001b[0m\u001b[0;34m'get'\u001b[0m\u001b[0;34m,\u001b[0m \u001b[0murl\u001b[0m\u001b[0;34m,\u001b[0m \u001b[0mparams\u001b[0m\u001b[0;34m=\u001b[0m\u001b[0mparams\u001b[0m\u001b[0;34m,\u001b[0m \u001b[0;34m**\u001b[0m\u001b[0mkwargs\u001b[0m\u001b[0;34m)\u001b[0m\u001b[0;34m\u001b[0m\u001b[0;34m\u001b[0m\u001b[0m\n\u001b[0m\u001b[1;32m     76\u001b[0m \u001b[0;34m\u001b[0m\u001b[0m\n\u001b[1;32m     77\u001b[0m \u001b[0;34m\u001b[0m\u001b[0m\n",
      "\u001b[0;32m/opt/anaconda3/envs/rents/lib/python3.9/site-packages/requests/api.py\u001b[0m in \u001b[0;36mrequest\u001b[0;34m(method, url, **kwargs)\u001b[0m\n\u001b[1;32m     59\u001b[0m     \u001b[0;31m# cases, and look like a memory leak in others.\u001b[0m\u001b[0;34m\u001b[0m\u001b[0;34m\u001b[0m\u001b[0m\n\u001b[1;32m     60\u001b[0m     \u001b[0;32mwith\u001b[0m \u001b[0msessions\u001b[0m\u001b[0;34m.\u001b[0m\u001b[0mSession\u001b[0m\u001b[0;34m(\u001b[0m\u001b[0;34m)\u001b[0m \u001b[0;32mas\u001b[0m \u001b[0msession\u001b[0m\u001b[0;34m:\u001b[0m\u001b[0;34m\u001b[0m\u001b[0;34m\u001b[0m\u001b[0m\n\u001b[0;32m---> 61\u001b[0;31m         \u001b[0;32mreturn\u001b[0m \u001b[0msession\u001b[0m\u001b[0;34m.\u001b[0m\u001b[0mrequest\u001b[0m\u001b[0;34m(\u001b[0m\u001b[0mmethod\u001b[0m\u001b[0;34m=\u001b[0m\u001b[0mmethod\u001b[0m\u001b[0;34m,\u001b[0m \u001b[0murl\u001b[0m\u001b[0;34m=\u001b[0m\u001b[0murl\u001b[0m\u001b[0;34m,\u001b[0m \u001b[0;34m**\u001b[0m\u001b[0mkwargs\u001b[0m\u001b[0;34m)\u001b[0m\u001b[0;34m\u001b[0m\u001b[0;34m\u001b[0m\u001b[0m\n\u001b[0m\u001b[1;32m     62\u001b[0m \u001b[0;34m\u001b[0m\u001b[0m\n\u001b[1;32m     63\u001b[0m \u001b[0;34m\u001b[0m\u001b[0m\n",
      "\u001b[0;32m/opt/anaconda3/envs/rents/lib/python3.9/site-packages/requests/sessions.py\u001b[0m in \u001b[0;36mrequest\u001b[0;34m(self, method, url, params, data, headers, cookies, files, auth, timeout, allow_redirects, proxies, hooks, stream, verify, cert, json)\u001b[0m\n\u001b[1;32m    527\u001b[0m         }\n\u001b[1;32m    528\u001b[0m         \u001b[0msend_kwargs\u001b[0m\u001b[0;34m.\u001b[0m\u001b[0mupdate\u001b[0m\u001b[0;34m(\u001b[0m\u001b[0msettings\u001b[0m\u001b[0;34m)\u001b[0m\u001b[0;34m\u001b[0m\u001b[0;34m\u001b[0m\u001b[0m\n\u001b[0;32m--> 529\u001b[0;31m         \u001b[0mresp\u001b[0m \u001b[0;34m=\u001b[0m \u001b[0mself\u001b[0m\u001b[0;34m.\u001b[0m\u001b[0msend\u001b[0m\u001b[0;34m(\u001b[0m\u001b[0mprep\u001b[0m\u001b[0;34m,\u001b[0m \u001b[0;34m**\u001b[0m\u001b[0msend_kwargs\u001b[0m\u001b[0;34m)\u001b[0m\u001b[0;34m\u001b[0m\u001b[0;34m\u001b[0m\u001b[0m\n\u001b[0m\u001b[1;32m    530\u001b[0m \u001b[0;34m\u001b[0m\u001b[0m\n\u001b[1;32m    531\u001b[0m         \u001b[0;32mreturn\u001b[0m \u001b[0mresp\u001b[0m\u001b[0;34m\u001b[0m\u001b[0;34m\u001b[0m\u001b[0m\n",
      "\u001b[0;32m/opt/anaconda3/envs/rents/lib/python3.9/site-packages/requests/sessions.py\u001b[0m in \u001b[0;36msend\u001b[0;34m(self, request, **kwargs)\u001b[0m\n\u001b[1;32m    643\u001b[0m \u001b[0;34m\u001b[0m\u001b[0m\n\u001b[1;32m    644\u001b[0m         \u001b[0;31m# Send the request\u001b[0m\u001b[0;34m\u001b[0m\u001b[0;34m\u001b[0m\u001b[0m\n\u001b[0;32m--> 645\u001b[0;31m         \u001b[0mr\u001b[0m \u001b[0;34m=\u001b[0m \u001b[0madapter\u001b[0m\u001b[0;34m.\u001b[0m\u001b[0msend\u001b[0m\u001b[0;34m(\u001b[0m\u001b[0mrequest\u001b[0m\u001b[0;34m,\u001b[0m \u001b[0;34m**\u001b[0m\u001b[0mkwargs\u001b[0m\u001b[0;34m)\u001b[0m\u001b[0;34m\u001b[0m\u001b[0;34m\u001b[0m\u001b[0m\n\u001b[0m\u001b[1;32m    646\u001b[0m \u001b[0;34m\u001b[0m\u001b[0m\n\u001b[1;32m    647\u001b[0m         \u001b[0;31m# Total elapsed time of the request (approximately)\u001b[0m\u001b[0;34m\u001b[0m\u001b[0;34m\u001b[0m\u001b[0m\n",
      "\u001b[0;32m/opt/anaconda3/envs/rents/lib/python3.9/site-packages/requests/adapters.py\u001b[0m in \u001b[0;36msend\u001b[0;34m(self, request, stream, timeout, verify, cert, proxies)\u001b[0m\n\u001b[1;32m    499\u001b[0m \u001b[0;34m\u001b[0m\u001b[0m\n\u001b[1;32m    500\u001b[0m         \u001b[0;32mexcept\u001b[0m \u001b[0;34m(\u001b[0m\u001b[0mProtocolError\u001b[0m\u001b[0;34m,\u001b[0m \u001b[0msocket\u001b[0m\u001b[0;34m.\u001b[0m\u001b[0merror\u001b[0m\u001b[0;34m)\u001b[0m \u001b[0;32mas\u001b[0m \u001b[0merr\u001b[0m\u001b[0;34m:\u001b[0m\u001b[0;34m\u001b[0m\u001b[0;34m\u001b[0m\u001b[0m\n\u001b[0;32m--> 501\u001b[0;31m             \u001b[0;32mraise\u001b[0m \u001b[0mConnectionError\u001b[0m\u001b[0;34m(\u001b[0m\u001b[0merr\u001b[0m\u001b[0;34m,\u001b[0m \u001b[0mrequest\u001b[0m\u001b[0;34m=\u001b[0m\u001b[0mrequest\u001b[0m\u001b[0;34m)\u001b[0m\u001b[0;34m\u001b[0m\u001b[0;34m\u001b[0m\u001b[0m\n\u001b[0m\u001b[1;32m    502\u001b[0m \u001b[0;34m\u001b[0m\u001b[0m\n\u001b[1;32m    503\u001b[0m         \u001b[0;32mexcept\u001b[0m \u001b[0mMaxRetryError\u001b[0m \u001b[0;32mas\u001b[0m \u001b[0me\u001b[0m\u001b[0;34m:\u001b[0m\u001b[0;34m\u001b[0m\u001b[0;34m\u001b[0m\u001b[0m\n",
      "\u001b[0;31mConnectionError\u001b[0m: ('Connection aborted.', RemoteDisconnected('Remote end closed connection without response'))"
     ]
    }
   ],
   "source": [
    "for url in (links):\n",
    "    target_url = \"https://www.tripadvisor.com\" + url\n",
    "    driver = webdriver.Chrome(ChromeDriverManager().install())\n",
    "    driver.get(target_url)\n",
    "    bsobj = BeautifulSoup(driver.page_source, 'html.parser')\n",
    "    driver.close()\n",
    "    \n",
    "    coord = str(bsobj.find_all(\"script\"))\n",
    "\n",
    "    latitude = coord.split(\"latitude%5C%5C%5C%22%3A\")\n",
    "    latitude = (latitude[1].split(\"%\")[0])\n",
    "    longitude = coord.split(\"longitude%5C%5C%5C%22%3A\")\n",
    "    longitude = (longitude[1].split(\"%\")[0])\n",
    "\n",
    "    lat.append(float(latitude))\n",
    "    print(lat)\n",
    "\n",
    "    lon.append(float(longitude))\n",
    "    print(lon)"
   ]
  },
  {
   "cell_type": "code",
   "execution_count": 65,
   "id": "6bc99de7",
   "metadata": {},
   "outputs": [
    {
     "data": {
      "text/plain": [
       "91"
      ]
     },
     "execution_count": 65,
     "metadata": {},
     "output_type": "execute_result"
    }
   ],
   "source": [
    "len(lon)"
   ]
  },
  {
   "cell_type": "code",
   "execution_count": 72,
   "id": "e7c1a39f",
   "metadata": {},
   "outputs": [
    {
     "data": {
      "text/html": [
       "<div>\n",
       "<style scoped>\n",
       "    .dataframe tbody tr th:only-of-type {\n",
       "        vertical-align: middle;\n",
       "    }\n",
       "\n",
       "    .dataframe tbody tr th {\n",
       "        vertical-align: top;\n",
       "    }\n",
       "\n",
       "    .dataframe thead th {\n",
       "        text-align: right;\n",
       "    }\n",
       "</style>\n",
       "<table border=\"1\" class=\"dataframe\">\n",
       "  <thead>\n",
       "    <tr style=\"text-align: right;\">\n",
       "      <th></th>\n",
       "      <th>0</th>\n",
       "    </tr>\n",
       "  </thead>\n",
       "  <tbody>\n",
       "    <tr>\n",
       "      <th>/Attraction_Review-g187497-d190166-Reviews-Basilica_de_la_Sagrada_Familia-Barcelona_Catalonia.html</th>\n",
       "      <td>1. Basílica de la Sagrada Familia</td>\n",
       "    </tr>\n",
       "    <tr>\n",
       "      <th>/Attraction_Review-g187497-d190162-Reviews-Gothic_Quarter_Barri_Gotic-Barcelona_Catalonia.html</th>\n",
       "      <td>2. Gothic Quarter (Barri Gotic)</td>\n",
       "    </tr>\n",
       "    <tr>\n",
       "      <th>/Attraction_Review-g187497-d191052-Reviews-Casa_Batllo-Barcelona_Catalonia.html</th>\n",
       "      <td>3. Casa Batlló</td>\n",
       "    </tr>\n",
       "    <tr>\n",
       "      <th>/Attraction_Review-g187497-d190824-Reviews-Palace_of_Catalan_Music-Barcelona_Catalonia.html</th>\n",
       "      <td>4. Palace of Catalan Music</td>\n",
       "    </tr>\n",
       "    <tr>\n",
       "      <th>/Attraction_Review-g187497-d190629-Reviews-Casa_Mila_La_Pedrera-Barcelona_Catalonia.html</th>\n",
       "      <td>5. Casa Milà - La Pedrera</td>\n",
       "    </tr>\n",
       "    <tr>\n",
       "      <th>...</th>\n",
       "      <td>...</td>\n",
       "    </tr>\n",
       "    <tr>\n",
       "      <th>/Attraction_Review-g187497-d3467712-Reviews-Nova_Mar_Bella_Beach-Barcelona_Catalonia.html</th>\n",
       "      <td>87. Nova Mar Bella Beach</td>\n",
       "    </tr>\n",
       "    <tr>\n",
       "      <th>/Attraction_Review-g187497-d254719-Reviews-Passeig_del_Born-Barcelona_Catalonia.html</th>\n",
       "      <td>88. Passeig del Born</td>\n",
       "    </tr>\n",
       "    <tr>\n",
       "      <th>/Attraction_Review-g187497-d8036442-Reviews-El_Corte_Ingles-Barcelona_Catalonia.html</th>\n",
       "      <td>89. El Corte Ingles</td>\n",
       "    </tr>\n",
       "    <tr>\n",
       "      <th>/Attraction_Review-g187497-d2690761-Reviews-Maremagnum-Barcelona_Catalonia.html</th>\n",
       "      <td>90. Maremagnum</td>\n",
       "    </tr>\n",
       "    <tr>\n",
       "      <th>/Attraction_Review-g187497-d2366700-Reviews-Torre_Agbar-Barcelona_Catalonia.html</th>\n",
       "      <td>91. Torre Agbar</td>\n",
       "    </tr>\n",
       "  </tbody>\n",
       "</table>\n",
       "<p>91 rows × 1 columns</p>\n",
       "</div>"
      ],
      "text/plain": [
       "                                                                                    0\n",
       "/Attraction_Review-g187497-d190166-Reviews-Basi...  1. Basílica de la Sagrada Familia\n",
       "/Attraction_Review-g187497-d190162-Reviews-Goth...    2. Gothic Quarter (Barri Gotic)\n",
       "/Attraction_Review-g187497-d191052-Reviews-Casa...                     3. Casa Batlló\n",
       "/Attraction_Review-g187497-d190824-Reviews-Pala...         4. Palace of Catalan Music\n",
       "/Attraction_Review-g187497-d190629-Reviews-Casa...          5. Casa Milà - La Pedrera\n",
       "...                                                                               ...\n",
       "/Attraction_Review-g187497-d3467712-Reviews-Nov...           87. Nova Mar Bella Beach\n",
       "/Attraction_Review-g187497-d254719-Reviews-Pass...               88. Passeig del Born\n",
       "/Attraction_Review-g187497-d8036442-Reviews-El_...                89. El Corte Ingles\n",
       "/Attraction_Review-g187497-d2690761-Reviews-Mar...                     90. Maremagnum\n",
       "/Attraction_Review-g187497-d2366700-Reviews-Tor...                    91. Torre Agbar\n",
       "\n",
       "[91 rows x 1 columns]"
      ]
     },
     "execution_count": 72,
     "metadata": {},
     "output_type": "execute_result"
    }
   ],
   "source": [
    "pd.DataFrame()\n"
   ]
  },
  {
   "cell_type": "code",
   "execution_count": 90,
   "id": "b15af0e2",
   "metadata": {},
   "outputs": [
    {
     "data": {
      "text/plain": [
       "25"
      ]
     },
     "execution_count": 90,
     "metadata": {},
     "output_type": "execute_result"
    }
   ],
   "source": [
    "5*5"
   ]
  },
  {
   "cell_type": "code",
   "execution_count": 102,
   "id": "2596d95e",
   "metadata": {},
   "outputs": [],
   "source": [
    "# Barcelona = pd.DataFrame()\n",
    "# Barcelona[\"lat\"]=lat\n",
    "# Barcelona[\"lng\"]=lon\n",
    "# Barcelona[\"title\"]=names[:91]\n",
    "# Barcelona[\"status\"]=\"ToDo\"\n",
    "# Barcelona[\"All\"]=Barcelona.index\n",
    "# Barcelona = Barcelona.head(25)\n",
    "# Barcelona.to_csv(\"barcelona.csv\")\n",
    "meu_sample = Barcelona.sample(10).reset_index(drop=True)"
   ]
  },
  {
   "cell_type": "code",
   "execution_count": 105,
   "id": "af7d1990",
   "metadata": {},
   "outputs": [
    {
     "data": {
      "text/plain": [
       "[\"19. Erotic Museum of Barcelona (Museu de l'Erotica)\",\n",
       " \"24. L'Eixample District\",\n",
       " \"22. Plaça d'Espanya\",\n",
       " '7. Mercat de la Boqueria',\n",
       " '1. Basílica de la Sagrada Familia',\n",
       " '11. Barcelona Cathedral',\n",
       " '16. Passeig de Gracia',\n",
       " '18. Parc de la Ciutadella',\n",
       " '5. Casa Milà - La Pedrera',\n",
       " '20. Joan Miro Foundation']"
      ]
     },
     "execution_count": 105,
     "metadata": {},
     "output_type": "execute_result"
    }
   ],
   "source": [
    "# Barcelona\n",
    "list(meu_sample['title'])"
   ]
  },
  {
   "cell_type": "code",
   "execution_count": null,
   "id": "9b6b5660",
   "metadata": {},
   "outputs": [],
   "source": []
  }
 ],
 "metadata": {
  "kernelspec": {
   "display_name": "Python 3.9.7 64-bit ('rents': conda)",
   "language": "python",
   "name": "python397jvsc74a57bd08c43a89bee7ad798c71a1da80cbfdd1316c76716f8d7370ae8cd54264cbf2cbb"
  },
  "language_info": {
   "codemirror_mode": {
    "name": "ipython",
    "version": 3
   },
   "file_extension": ".py",
   "mimetype": "text/x-python",
   "name": "python",
   "nbconvert_exporter": "python",
   "pygments_lexer": "ipython3",
   "version": "3.9.7"
  }
 },
 "nbformat": 4,
 "nbformat_minor": 5
}
