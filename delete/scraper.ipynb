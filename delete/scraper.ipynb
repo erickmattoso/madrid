{
 "cells": [
  {
   "cell_type": "code",
   "execution_count": 1,
   "id": "d647a1f7",
   "metadata": {},
   "outputs": [],
   "source": [
    "from bs4 import BeautifulSoup\n",
    "from webdriver_manager.chrome import ChromeDriverManager\n",
    "from time import sleep\n",
    "from selenium import webdriver"
   ]
  },
  {
   "cell_type": "code",
   "execution_count": 2,
   "id": "ce08c743",
   "metadata": {},
   "outputs": [],
   "source": [
    "url = \"https://www.tripadvisor.com/Attractions-g187497-Activities-oaREPLACE-Barcelona_Catalonia.html\""
   ]
  },
  {
   "cell_type": "code",
   "execution_count": 3,
   "id": "66d8e522",
   "metadata": {},
   "outputs": [],
   "source": [
    "names=[]\n",
    "links=[]"
   ]
  },
  {
   "cell_type": "code",
   "execution_count": 12,
   "id": "15e2d2c7",
   "metadata": {},
   "outputs": [],
   "source": [
    "for i in range(0, 60, 30):\n",
    "    target_url = url.replace(\"REPLACE\", str(i))\n",
    "    driver = webdriver.Chrome(ChromeDriverManager().install())\n",
    "    driver.get(target_url)\n",
    "    bsobj = BeautifulSoup(driver.page_source, 'html.parser')    \n",
    "    for l in range(30):\n",
    "        name_place = bsobj.find_all('div', {\"class\": \"XfVdV o AIbhI\"})[l]\n",
    "        name_place = name_place.text.strip()\n",
    "        names.append(name_place)\n",
    "        link_place=bsobj.find_all('div', {\"class\": \"PFVlz\"})[l].find_all('a', {\"BUupS _R w _Z P0 M0 Gm wSSLS\"}, href=True)[0]['href']\n",
    "        links.append(link_place)\n",
    "    driver.close()"
   ]
  },
  {
   "cell_type": "code",
   "execution_count": 57,
   "id": "bf8d7c4a",
   "metadata": {},
   "outputs": [],
   "source": [
    "lat=[]\n",
    "lon=[]"
   ]
  },
  {
   "cell_type": "code",
   "execution_count": 61,
   "id": "4435c076",
   "metadata": {
    "collapsed": true
   },
   "outputs": [
    {
     "name": "stderr",
     "output_type": "stream",
     "text": [
      "\n",
      "\n",
      "====== WebDriver manager ======\n",
      "Current google-chrome version is 108.0.5359\n",
      "Get LATEST chromedriver version for 108.0.5359 google-chrome\n",
      "Driver [/Users/ericsonmarques/.wdm/drivers/chromedriver/mac64/108.0.5359.71/chromedriver] found in cache\n",
      "\n",
      "\n",
      "====== WebDriver manager ======\n",
      "Current google-chrome version is 108.0.5359\n",
      "Get LATEST chromedriver version for 108.0.5359 google-chrome\n"
     ]
    },
    {
     "name": "stdout",
     "output_type": "stream",
     "text": [
      "[41.403423]\n",
      "[2.174611]\n"
     ]
    },
    {
     "name": "stderr",
     "output_type": "stream",
     "text": [
      "Driver [/Users/ericsonmarques/.wdm/drivers/chromedriver/mac64/108.0.5359.71/chromedriver] found in cache\n",
      "\n",
      "\n",
      "====== WebDriver manager ======\n",
      "Current google-chrome version is 108.0.5359\n",
      "Get LATEST chromedriver version for 108.0.5359 google-chrome\n"
     ]
    },
    {
     "name": "stdout",
     "output_type": "stream",
     "text": [
      "[41.403423, 41.3827]\n",
      "[2.174611, 2.177113]\n"
     ]
    },
    {
     "name": "stderr",
     "output_type": "stream",
     "text": [
      "Driver [/Users/ericsonmarques/.wdm/drivers/chromedriver/mac64/108.0.5359.71/chromedriver] found in cache\n",
      "\n",
      "\n",
      "====== WebDriver manager ======\n",
      "Current google-chrome version is 108.0.5359\n",
      "Get LATEST chromedriver version for 108.0.5359 google-chrome\n"
     ]
    },
    {
     "name": "stdout",
     "output_type": "stream",
     "text": [
      "[41.403423, 41.3827, 41.391712]\n",
      "[2.174611, 2.177113, 2.164824]\n"
     ]
    },
    {
     "name": "stderr",
     "output_type": "stream",
     "text": [
      "Driver [/Users/ericsonmarques/.wdm/drivers/chromedriver/mac64/108.0.5359.71/chromedriver] found in cache\n",
      "\n",
      "\n",
      "====== WebDriver manager ======\n",
      "Current google-chrome version is 108.0.5359\n",
      "Get LATEST chromedriver version for 108.0.5359 google-chrome\n"
     ]
    },
    {
     "name": "stdout",
     "output_type": "stream",
     "text": [
      "[41.403423, 41.3827, 41.391712, 41.387573]\n",
      "[2.174611, 2.177113, 2.164824, 2.175302]\n"
     ]
    },
    {
     "name": "stderr",
     "output_type": "stream",
     "text": [
      "Driver [/Users/ericsonmarques/.wdm/drivers/chromedriver/mac64/108.0.5359.71/chromedriver] found in cache\n",
      "\n",
      "\n",
      "====== WebDriver manager ======\n",
      "Current google-chrome version is 108.0.5359\n",
      "Get LATEST chromedriver version for 108.0.5359 google-chrome\n"
     ]
    },
    {
     "name": "stdout",
     "output_type": "stream",
     "text": [
      "[41.403423, 41.3827, 41.391712, 41.387573, 41.395325]\n",
      "[2.174611, 2.177113, 2.164824, 2.175302, 2.161925]\n"
     ]
    },
    {
     "name": "stderr",
     "output_type": "stream",
     "text": [
      "Driver [/Users/ericsonmarques/.wdm/drivers/chromedriver/mac64/108.0.5359.71/chromedriver] found in cache\n",
      "\n",
      "\n",
      "====== WebDriver manager ======\n",
      "Current google-chrome version is 108.0.5359\n",
      "Get LATEST chromedriver version for 108.0.5359 google-chrome\n"
     ]
    },
    {
     "name": "stdout",
     "output_type": "stream",
     "text": [
      "[41.403423, 41.3827, 41.391712, 41.387573, 41.395325, 41.380924]\n",
      "[2.174611, 2.177113, 2.164824, 2.175302, 2.161925, 2.122952]\n"
     ]
    },
    {
     "name": "stderr",
     "output_type": "stream",
     "text": [
      "Driver [/Users/ericsonmarques/.wdm/drivers/chromedriver/mac64/108.0.5359.71/chromedriver] found in cache\n",
      "\n",
      "\n",
      "====== WebDriver manager ======\n",
      "Current google-chrome version is 108.0.5359\n",
      "Get LATEST chromedriver version for 108.0.5359 google-chrome\n"
     ]
    },
    {
     "name": "stdout",
     "output_type": "stream",
     "text": [
      "[41.403423, 41.3827, 41.391712, 41.387573, 41.395325, 41.380924, 41.38174]\n",
      "[2.174611, 2.177113, 2.164824, 2.175302, 2.161925, 2.122952, 2.171584]\n"
     ]
    },
    {
     "name": "stderr",
     "output_type": "stream",
     "text": [
      "Driver [/Users/ericsonmarques/.wdm/drivers/chromedriver/mac64/108.0.5359.71/chromedriver] found in cache\n",
      "\n",
      "\n",
      "====== WebDriver manager ======\n",
      "Current google-chrome version is 108.0.5359\n",
      "Get LATEST chromedriver version for 108.0.5359 google-chrome\n"
     ]
    },
    {
     "name": "stdout",
     "output_type": "stream",
     "text": [
      "[41.403423, 41.3827, 41.391712, 41.387573, 41.395325, 41.380924, 41.38174, 41.38349]\n",
      "[2.174611, 2.177113, 2.164824, 2.175302, 2.161925, 2.122952, 2.171584, 2.18178]\n"
     ]
    },
    {
     "name": "stderr",
     "output_type": "stream",
     "text": [
      "Driver [/Users/ericsonmarques/.wdm/drivers/chromedriver/mac64/108.0.5359.71/chromedriver] found in cache\n",
      "\n",
      "\n",
      "====== WebDriver manager ======\n",
      "Current google-chrome version is 108.0.5359\n",
      "Get LATEST chromedriver version for 108.0.5359 google-chrome\n"
     ]
    },
    {
     "name": "stdout",
     "output_type": "stream",
     "text": [
      "[41.403423, 41.3827, 41.391712, 41.387573, 41.395325, 41.380924, 41.38174, 41.38349, 41.41142]\n",
      "[2.174611, 2.177113, 2.164824, 2.175302, 2.161925, 2.122952, 2.171584, 2.18178, 2.174328]\n"
     ]
    },
    {
     "name": "stderr",
     "output_type": "stream",
     "text": [
      "Driver [/Users/ericsonmarques/.wdm/drivers/chromedriver/mac64/108.0.5359.71/chromedriver] found in cache\n",
      "\n",
      "\n",
      "====== WebDriver manager ======\n",
      "Current google-chrome version is 108.0.5359\n",
      "Get LATEST chromedriver version for 108.0.5359 google-chrome\n"
     ]
    },
    {
     "name": "stdout",
     "output_type": "stream",
     "text": [
      "[41.403423, 41.3827, 41.391712, 41.387573, 41.395325, 41.380924, 41.38174, 41.38349, 41.41142, 41.368454]\n",
      "[2.174611, 2.177113, 2.164824, 2.175302, 2.161925, 2.122952, 2.171584, 2.18178, 2.174328, 2.153715]\n"
     ]
    },
    {
     "name": "stderr",
     "output_type": "stream",
     "text": [
      "Driver [/Users/ericsonmarques/.wdm/drivers/chromedriver/mac64/108.0.5359.71/chromedriver] found in cache\n",
      "\n",
      "\n",
      "====== WebDriver manager ======\n",
      "Current google-chrome version is 108.0.5359\n",
      "Get LATEST chromedriver version for 108.0.5359 google-chrome\n"
     ]
    },
    {
     "name": "stdout",
     "output_type": "stream",
     "text": [
      "[41.403423, 41.3827, 41.391712, 41.387573, 41.395325, 41.380924, 41.38174, 41.38349, 41.41142, 41.368454, 41.38442]\n",
      "[2.174611, 2.177113, 2.164824, 2.175302, 2.161925, 2.122952, 2.171584, 2.18178, 2.174328, 2.153715, 2.17601]\n"
     ]
    },
    {
     "name": "stderr",
     "output_type": "stream",
     "text": [
      "Driver [/Users/ericsonmarques/.wdm/drivers/chromedriver/mac64/108.0.5359.71/chromedriver] found in cache\n",
      "\n",
      "\n",
      "====== WebDriver manager ======\n",
      "Current google-chrome version is 108.0.5359\n",
      "Get LATEST chromedriver version for 108.0.5359 google-chrome\n"
     ]
    },
    {
     "name": "stdout",
     "output_type": "stream",
     "text": [
      "[41.403423, 41.3827, 41.391712, 41.387573, 41.395325, 41.380924, 41.38174, 41.38349, 41.41142, 41.368454, 41.38442, 41.371174]\n",
      "[2.174611, 2.177113, 2.164824, 2.175302, 2.161925, 2.122952, 2.171584, 2.18178, 2.174328, 2.153715, 2.17601, 2.151718]\n"
     ]
    },
    {
     "name": "stderr",
     "output_type": "stream",
     "text": [
      "Driver [/Users/ericsonmarques/.wdm/drivers/chromedriver/mac64/108.0.5359.71/chromedriver] found in cache\n",
      "\n",
      "\n",
      "====== WebDriver manager ======\n",
      "Current google-chrome version is 108.0.5359\n",
      "Get LATEST chromedriver version for 108.0.5359 google-chrome\n"
     ]
    },
    {
     "name": "stdout",
     "output_type": "stream",
     "text": [
      "[41.403423, 41.3827, 41.391712, 41.387573, 41.395325, 41.380924, 41.38174, 41.38349, 41.41142, 41.368454, 41.38442, 41.371174, 41.364548]\n",
      "[2.174611, 2.177113, 2.164824, 2.175302, 2.161925, 2.122952, 2.171584, 2.18178, 2.174328, 2.153715, 2.17601, 2.151718, 2.165427]\n"
     ]
    },
    {
     "name": "stderr",
     "output_type": "stream",
     "text": [
      "Driver [/Users/ericsonmarques/.wdm/drivers/chromedriver/mac64/108.0.5359.71/chromedriver] found in cache\n",
      "\n",
      "\n",
      "====== WebDriver manager ======\n",
      "Current google-chrome version is 108.0.5359\n",
      "Get LATEST chromedriver version for 108.0.5359 google-chrome\n"
     ]
    },
    {
     "name": "stdout",
     "output_type": "stream",
     "text": [
      "[41.403423, 41.3827, 41.391712, 41.387573, 41.395325, 41.380924, 41.38174, 41.38349, 41.41142, 41.368454, 41.38442, 41.371174, 41.364548, 41.412766]\n",
      "[2.174611, 2.177113, 2.164824, 2.175302, 2.161925, 2.122952, 2.171584, 2.18178, 2.174328, 2.153715, 2.17601, 2.151718, 2.165427, 2.131519]\n"
     ]
    },
    {
     "name": "stderr",
     "output_type": "stream",
     "text": [
      "Driver [/Users/ericsonmarques/.wdm/drivers/chromedriver/mac64/108.0.5359.71/chromedriver] found in cache\n",
      "\n",
      "\n",
      "====== WebDriver manager ======\n",
      "Current google-chrome version is 108.0.5359\n",
      "Get LATEST chromedriver version for 108.0.5359 google-chrome\n"
     ]
    },
    {
     "name": "stdout",
     "output_type": "stream",
     "text": [
      "[41.403423, 41.3827, 41.391712, 41.387573, 41.395325, 41.380924, 41.38174, 41.38349, 41.41142, 41.368454, 41.38442, 41.371174, 41.364548, 41.412766, 41.40341]\n",
      "[2.174611, 2.177113, 2.164824, 2.175302, 2.161925, 2.122952, 2.171584, 2.18178, 2.174328, 2.153715, 2.17601, 2.151718, 2.165427, 2.131519, 2.15066]\n"
     ]
    },
    {
     "name": "stderr",
     "output_type": "stream",
     "text": [
      "Driver [/Users/ericsonmarques/.wdm/drivers/chromedriver/mac64/108.0.5359.71/chromedriver] found in cache\n",
      "\n",
      "\n",
      "====== WebDriver manager ======\n",
      "Current google-chrome version is 108.0.5359\n",
      "Get LATEST chromedriver version for 108.0.5359 google-chrome\n"
     ]
    },
    {
     "name": "stdout",
     "output_type": "stream",
     "text": [
      "[41.403423, 41.3827, 41.391712, 41.387573, 41.395325, 41.380924, 41.38174, 41.38349, 41.41142, 41.368454, 41.38442, 41.371174, 41.364548, 41.412766, 41.40341, 41.39493]\n",
      "[2.174611, 2.177113, 2.164824, 2.175302, 2.161925, 2.122952, 2.171584, 2.18178, 2.174328, 2.153715, 2.17601, 2.151718, 2.165427, 2.131519, 2.15066, 2.16177]\n"
     ]
    },
    {
     "name": "stderr",
     "output_type": "stream",
     "text": [
      "Driver [/Users/ericsonmarques/.wdm/drivers/chromedriver/mac64/108.0.5359.71/chromedriver] found in cache\n",
      "\n",
      "\n",
      "====== WebDriver manager ======\n",
      "Current google-chrome version is 108.0.5359\n",
      "Get LATEST chromedriver version for 108.0.5359 google-chrome\n"
     ]
    },
    {
     "name": "stdout",
     "output_type": "stream",
     "text": [
      "[41.403423, 41.3827, 41.391712, 41.387573, 41.395325, 41.380924, 41.38174, 41.38349, 41.41142, 41.368454, 41.38442, 41.371174, 41.364548, 41.412766, 41.40341, 41.39493, 41.378883]\n",
      "[2.174611, 2.177113, 2.164824, 2.175302, 2.161925, 2.122952, 2.171584, 2.18178, 2.174328, 2.153715, 2.17601, 2.151718, 2.165427, 2.131519, 2.15066, 2.16177, 2.17424]\n"
     ]
    },
    {
     "name": "stderr",
     "output_type": "stream",
     "text": [
      "Driver [/Users/ericsonmarques/.wdm/drivers/chromedriver/mac64/108.0.5359.71/chromedriver] found in cache\n",
      "\n",
      "\n",
      "====== WebDriver manager ======\n",
      "Current google-chrome version is 108.0.5359\n",
      "Get LATEST chromedriver version for 108.0.5359 google-chrome\n"
     ]
    },
    {
     "name": "stdout",
     "output_type": "stream",
     "text": [
      "[41.403423, 41.3827, 41.391712, 41.387573, 41.395325, 41.380924, 41.38174, 41.38349, 41.41142, 41.368454, 41.38442, 41.371174, 41.364548, 41.412766, 41.40341, 41.39493, 41.378883, 41.388542]\n",
      "[2.174611, 2.177113, 2.164824, 2.175302, 2.161925, 2.122952, 2.171584, 2.18178, 2.174328, 2.153715, 2.17601, 2.151718, 2.165427, 2.131519, 2.15066, 2.16177, 2.17424, 2.18718]\n"
     ]
    },
    {
     "name": "stderr",
     "output_type": "stream",
     "text": [
      "Driver [/Users/ericsonmarques/.wdm/drivers/chromedriver/mac64/108.0.5359.71/chromedriver] found in cache\n",
      "\n",
      "\n",
      "====== WebDriver manager ======\n",
      "Current google-chrome version is 108.0.5359\n",
      "Get LATEST chromedriver version for 108.0.5359 google-chrome\n"
     ]
    },
    {
     "name": "stdout",
     "output_type": "stream",
     "text": [
      "[41.403423, 41.3827, 41.391712, 41.387573, 41.395325, 41.380924, 41.38174, 41.38349, 41.41142, 41.368454, 41.38442, 41.371174, 41.364548, 41.412766, 41.40341, 41.39493, 41.378883, 41.388542, 41.382168]\n",
      "[2.174611, 2.177113, 2.164824, 2.175302, 2.161925, 2.122952, 2.171584, 2.18178, 2.174328, 2.153715, 2.17601, 2.151718, 2.165427, 2.131519, 2.15066, 2.16177, 2.17424, 2.18718, 2.172549]\n"
     ]
    },
    {
     "name": "stderr",
     "output_type": "stream",
     "text": [
      "Driver [/Users/ericsonmarques/.wdm/drivers/chromedriver/mac64/108.0.5359.71/chromedriver] found in cache\n",
      "\n",
      "\n",
      "====== WebDriver manager ======\n",
      "Current google-chrome version is 108.0.5359\n",
      "Get LATEST chromedriver version for 108.0.5359 google-chrome\n"
     ]
    },
    {
     "name": "stdout",
     "output_type": "stream",
     "text": [
      "[41.403423, 41.3827, 41.391712, 41.387573, 41.395325, 41.380924, 41.38174, 41.38349, 41.41142, 41.368454, 41.38442, 41.371174, 41.364548, 41.412766, 41.40341, 41.39493, 41.378883, 41.388542, 41.382168, 41.36852]\n",
      "[2.174611, 2.177113, 2.164824, 2.175302, 2.161925, 2.122952, 2.171584, 2.18178, 2.174328, 2.153715, 2.17601, 2.151718, 2.165427, 2.131519, 2.15066, 2.16177, 2.17424, 2.18718, 2.172549, 2.159726]\n"
     ]
    },
    {
     "name": "stderr",
     "output_type": "stream",
     "text": [
      "Driver [/Users/ericsonmarques/.wdm/drivers/chromedriver/mac64/108.0.5359.71/chromedriver] found in cache\n",
      "\n",
      "\n",
      "====== WebDriver manager ======\n",
      "Current google-chrome version is 108.0.5359\n",
      "Get LATEST chromedriver version for 108.0.5359 google-chrome\n"
     ]
    },
    {
     "name": "stdout",
     "output_type": "stream",
     "text": [
      "[41.403423, 41.3827, 41.391712, 41.387573, 41.395325, 41.380924, 41.38174, 41.38349, 41.41142, 41.368454, 41.38442, 41.371174, 41.364548, 41.412766, 41.40341, 41.39493, 41.378883, 41.388542, 41.382168, 41.36852, 41.387]\n",
      "[2.174611, 2.177113, 2.164824, 2.175302, 2.161925, 2.122952, 2.171584, 2.18178, 2.174328, 2.153715, 2.17601, 2.151718, 2.165427, 2.131519, 2.15066, 2.16177, 2.17424, 2.18718, 2.172549, 2.159726, 2.17611]\n"
     ]
    },
    {
     "name": "stderr",
     "output_type": "stream",
     "text": [
      "Driver [/Users/ericsonmarques/.wdm/drivers/chromedriver/mac64/108.0.5359.71/chromedriver] found in cache\n",
      "\n",
      "\n",
      "====== WebDriver manager ======\n",
      "Current google-chrome version is 108.0.5359\n",
      "Get LATEST chromedriver version for 108.0.5359 google-chrome\n"
     ]
    },
    {
     "name": "stdout",
     "output_type": "stream",
     "text": [
      "[41.403423, 41.3827, 41.391712, 41.387573, 41.395325, 41.380924, 41.38174, 41.38349, 41.41142, 41.368454, 41.38442, 41.371174, 41.364548, 41.412766, 41.40341, 41.39493, 41.378883, 41.388542, 41.382168, 41.36852, 41.387, 41.37494]\n",
      "[2.174611, 2.177113, 2.164824, 2.175302, 2.161925, 2.122952, 2.171584, 2.18178, 2.174328, 2.153715, 2.17601, 2.151718, 2.165427, 2.131519, 2.15066, 2.16177, 2.17424, 2.18718, 2.172549, 2.159726, 2.17611, 2.14834]\n"
     ]
    },
    {
     "name": "stderr",
     "output_type": "stream",
     "text": [
      "Driver [/Users/ericsonmarques/.wdm/drivers/chromedriver/mac64/108.0.5359.71/chromedriver] found in cache\n",
      "\n",
      "\n",
      "====== WebDriver manager ======\n",
      "Current google-chrome version is 108.0.5359\n",
      "Get LATEST chromedriver version for 108.0.5359 google-chrome\n"
     ]
    },
    {
     "name": "stdout",
     "output_type": "stream",
     "text": [
      "[41.403423, 41.3827, 41.391712, 41.387573, 41.395325, 41.380924, 41.38174, 41.38349, 41.41142, 41.368454, 41.38442, 41.371174, 41.364548, 41.412766, 41.40341, 41.39493, 41.378883, 41.388542, 41.382168, 41.36852, 41.387, 41.37494, 41.4215]\n",
      "[2.174611, 2.177113, 2.164824, 2.175302, 2.161925, 2.122952, 2.171584, 2.18178, 2.174328, 2.153715, 2.17601, 2.151718, 2.165427, 2.131519, 2.15066, 2.16177, 2.17424, 2.18718, 2.172549, 2.159726, 2.17611, 2.14834, 2.1192]\n"
     ]
    },
    {
     "name": "stderr",
     "output_type": "stream",
     "text": [
      "Driver [/Users/ericsonmarques/.wdm/drivers/chromedriver/mac64/108.0.5359.71/chromedriver] found in cache\n",
      "\n",
      "\n",
      "====== WebDriver manager ======\n",
      "Current google-chrome version is 108.0.5359\n",
      "Get LATEST chromedriver version for 108.0.5359 google-chrome\n"
     ]
    },
    {
     "name": "stdout",
     "output_type": "stream",
     "text": [
      "[41.403423, 41.3827, 41.391712, 41.387573, 41.395325, 41.380924, 41.38174, 41.38349, 41.41142, 41.368454, 41.38442, 41.371174, 41.364548, 41.412766, 41.40341, 41.39493, 41.378883, 41.388542, 41.382168, 41.36852, 41.387, 41.37494, 41.4215, 41.39621]\n",
      "[2.174611, 2.177113, 2.164824, 2.175302, 2.161925, 2.122952, 2.171584, 2.18178, 2.174328, 2.153715, 2.17601, 2.151718, 2.165427, 2.131519, 2.15066, 2.16177, 2.17424, 2.18718, 2.172549, 2.159726, 2.17611, 2.14834, 2.1192, 2.161339]\n"
     ]
    },
    {
     "name": "stderr",
     "output_type": "stream",
     "text": [
      "Driver [/Users/ericsonmarques/.wdm/drivers/chromedriver/mac64/108.0.5359.71/chromedriver] found in cache\n",
      "\n",
      "\n",
      "====== WebDriver manager ======\n",
      "Current google-chrome version is 108.0.5359\n",
      "Get LATEST chromedriver version for 108.0.5359 google-chrome\n"
     ]
    },
    {
     "name": "stdout",
     "output_type": "stream",
     "text": [
      "[41.403423, 41.3827, 41.391712, 41.387573, 41.395325, 41.380924, 41.38174, 41.38349, 41.41142, 41.368454, 41.38442, 41.371174, 41.364548, 41.412766, 41.40341, 41.39493, 41.378883, 41.388542, 41.382168, 41.36852, 41.387, 41.37494, 41.4215, 41.39621, 41.41451]\n",
      "[2.174611, 2.177113, 2.164824, 2.175302, 2.161925, 2.122952, 2.171584, 2.18178, 2.174328, 2.153715, 2.17601, 2.151718, 2.165427, 2.131519, 2.15066, 2.16177, 2.17424, 2.18718, 2.172549, 2.159726, 2.17611, 2.14834, 2.1192, 2.161339, 2.152709]\n"
     ]
    },
    {
     "name": "stderr",
     "output_type": "stream",
     "text": [
      "Driver [/Users/ericsonmarques/.wdm/drivers/chromedriver/mac64/108.0.5359.71/chromedriver] found in cache\n",
      "\n",
      "\n",
      "====== WebDriver manager ======\n",
      "Current google-chrome version is 108.0.5359\n",
      "Get LATEST chromedriver version for 108.0.5359 google-chrome\n"
     ]
    },
    {
     "name": "stdout",
     "output_type": "stream",
     "text": [
      "[41.403423, 41.3827, 41.391712, 41.387573, 41.395325, 41.380924, 41.38174, 41.38349, 41.41142, 41.368454, 41.38442, 41.371174, 41.364548, 41.412766, 41.40341, 41.39493, 41.378883, 41.388542, 41.382168, 41.36852, 41.387, 41.37494, 41.4215, 41.39621, 41.41451, 41.385235]\n",
      "[2.174611, 2.177113, 2.164824, 2.175302, 2.161925, 2.122952, 2.171584, 2.18178, 2.174328, 2.153715, 2.17601, 2.151718, 2.165427, 2.131519, 2.15066, 2.16177, 2.17424, 2.18718, 2.172549, 2.159726, 2.17611, 2.14834, 2.1192, 2.161339, 2.152709, 2.180893]\n"
     ]
    },
    {
     "name": "stderr",
     "output_type": "stream",
     "text": [
      "Driver [/Users/ericsonmarques/.wdm/drivers/chromedriver/mac64/108.0.5359.71/chromedriver] found in cache\n",
      "\n",
      "\n",
      "====== WebDriver manager ======\n",
      "Current google-chrome version is 108.0.5359\n",
      "Get LATEST chromedriver version for 108.0.5359 google-chrome\n"
     ]
    },
    {
     "name": "stdout",
     "output_type": "stream",
     "text": [
      "[41.403423, 41.3827, 41.391712, 41.387573, 41.395325, 41.380924, 41.38174, 41.38349, 41.41142, 41.368454, 41.38442, 41.371174, 41.364548, 41.412766, 41.40341, 41.39493, 41.378883, 41.388542, 41.382168, 41.36852, 41.387, 41.37494, 41.4215, 41.39621, 41.41451, 41.385235, 41.384056]\n",
      "[2.174611, 2.177113, 2.164824, 2.175302, 2.161925, 2.122952, 2.171584, 2.18178, 2.174328, 2.153715, 2.17601, 2.151718, 2.165427, 2.131519, 2.15066, 2.16177, 2.17424, 2.18718, 2.172549, 2.159726, 2.17611, 2.14834, 2.1192, 2.161339, 2.152709, 2.180893, 2.17754]\n"
     ]
    },
    {
     "name": "stderr",
     "output_type": "stream",
     "text": [
      "Driver [/Users/ericsonmarques/.wdm/drivers/chromedriver/mac64/108.0.5359.71/chromedriver] found in cache\n",
      "\n",
      "\n",
      "====== WebDriver manager ======\n",
      "Current google-chrome version is 108.0.5359\n",
      "Get LATEST chromedriver version for 108.0.5359 google-chrome\n"
     ]
    },
    {
     "name": "stdout",
     "output_type": "stream",
     "text": [
      "[41.403423, 41.3827, 41.391712, 41.387573, 41.395325, 41.380924, 41.38174, 41.38349, 41.41142, 41.368454, 41.38442, 41.371174, 41.364548, 41.412766, 41.40341, 41.39493, 41.378883, 41.388542, 41.382168, 41.36852, 41.387, 41.37494, 41.4215, 41.39621, 41.41451, 41.385235, 41.384056, 41.37993]\n",
      "[2.174611, 2.177113, 2.164824, 2.175302, 2.161925, 2.122952, 2.171584, 2.18178, 2.174328, 2.153715, 2.17601, 2.151718, 2.165427, 2.131519, 2.15066, 2.16177, 2.17424, 2.18718, 2.172549, 2.159726, 2.17611, 2.14834, 2.1192, 2.161339, 2.152709, 2.180893, 2.17754, 2.17506]\n"
     ]
    },
    {
     "name": "stderr",
     "output_type": "stream",
     "text": [
      "Driver [/Users/ericsonmarques/.wdm/drivers/chromedriver/mac64/108.0.5359.71/chromedriver] found in cache\n",
      "\n",
      "\n",
      "====== WebDriver manager ======\n",
      "Current google-chrome version is 108.0.5359\n",
      "Get LATEST chromedriver version for 108.0.5359 google-chrome\n"
     ]
    },
    {
     "name": "stdout",
     "output_type": "stream",
     "text": [
      "[41.403423, 41.3827, 41.391712, 41.387573, 41.395325, 41.380924, 41.38174, 41.38349, 41.41142, 41.368454, 41.38442, 41.371174, 41.364548, 41.412766, 41.40341, 41.39493, 41.378883, 41.388542, 41.382168, 41.36852, 41.387, 41.37494, 41.4215, 41.39621, 41.41451, 41.385235, 41.384056, 41.37993, 41.38031]\n",
      "[2.174611, 2.177113, 2.164824, 2.175302, 2.161925, 2.122952, 2.171584, 2.18178, 2.174328, 2.153715, 2.17601, 2.151718, 2.165427, 2.131519, 2.15066, 2.16177, 2.17424, 2.18718, 2.172549, 2.159726, 2.17611, 2.14834, 2.1192, 2.161339, 2.152709, 2.180893, 2.17754, 2.17506, 2.17416]\n"
     ]
    },
    {
     "name": "stderr",
     "output_type": "stream",
     "text": [
      "Driver [/Users/ericsonmarques/.wdm/drivers/chromedriver/mac64/108.0.5359.71/chromedriver] found in cache\n",
      "\n",
      "\n",
      "====== WebDriver manager ======\n",
      "Current google-chrome version is 108.0.5359\n",
      "Get LATEST chromedriver version for 108.0.5359 google-chrome\n"
     ]
    },
    {
     "name": "stdout",
     "output_type": "stream",
     "text": [
      "[41.403423, 41.3827, 41.391712, 41.387573, 41.395325, 41.380924, 41.38174, 41.38349, 41.41142, 41.368454, 41.38442, 41.371174, 41.364548, 41.412766, 41.40341, 41.39493, 41.378883, 41.388542, 41.382168, 41.36852, 41.387, 41.37494, 41.4215, 41.39621, 41.41451, 41.385235, 41.384056, 41.37993, 41.38031, 41.38463]\n",
      "[2.174611, 2.177113, 2.164824, 2.175302, 2.161925, 2.122952, 2.171584, 2.18178, 2.174328, 2.153715, 2.17601, 2.151718, 2.165427, 2.131519, 2.15066, 2.16177, 2.17424, 2.18718, 2.172549, 2.159726, 2.17611, 2.14834, 2.1192, 2.161339, 2.152709, 2.180893, 2.17754, 2.17506, 2.17416, 2.18156]\n"
     ]
    },
    {
     "name": "stderr",
     "output_type": "stream",
     "text": [
      "Driver [/Users/ericsonmarques/.wdm/drivers/chromedriver/mac64/108.0.5359.71/chromedriver] found in cache\n",
      "\n",
      "\n",
      "====== WebDriver manager ======\n",
      "Current google-chrome version is 108.0.5359\n",
      "Get LATEST chromedriver version for 108.0.5359 google-chrome\n"
     ]
    },
    {
     "name": "stdout",
     "output_type": "stream",
     "text": [
      "[41.403423, 41.3827, 41.391712, 41.387573, 41.395325, 41.380924, 41.38174, 41.38349, 41.41142, 41.368454, 41.38442, 41.371174, 41.364548, 41.412766, 41.40341, 41.39493, 41.378883, 41.388542, 41.382168, 41.36852, 41.387, 41.37494, 41.4215, 41.39621, 41.41451, 41.385235, 41.384056, 41.37993, 41.38031, 41.38463, 41.422813]\n",
      "[2.174611, 2.177113, 2.164824, 2.175302, 2.161925, 2.122952, 2.171584, 2.18178, 2.174328, 2.153715, 2.17601, 2.151718, 2.165427, 2.131519, 2.15066, 2.16177, 2.17424, 2.18718, 2.172549, 2.159726, 2.17611, 2.14834, 2.1192, 2.161339, 2.152709, 2.180893, 2.17754, 2.17506, 2.17416, 2.18156, 2.119261]\n"
     ]
    },
    {
     "name": "stderr",
     "output_type": "stream",
     "text": [
      "Driver [/Users/ericsonmarques/.wdm/drivers/chromedriver/mac64/108.0.5359.71/chromedriver] found in cache\n",
      "\n",
      "\n",
      "====== WebDriver manager ======\n",
      "Current google-chrome version is 108.0.5359\n",
      "Get LATEST chromedriver version for 108.0.5359 google-chrome\n"
     ]
    },
    {
     "name": "stdout",
     "output_type": "stream",
     "text": [
      "[41.403423, 41.3827, 41.391712, 41.387573, 41.395325, 41.380924, 41.38174, 41.38349, 41.41142, 41.368454, 41.38442, 41.371174, 41.364548, 41.412766, 41.40341, 41.39493, 41.378883, 41.388542, 41.382168, 41.36852, 41.387, 41.37494, 41.4215, 41.39621, 41.41451, 41.385235, 41.384056, 41.37993, 41.38031, 41.38463, 41.422813, 41.39158]\n",
      "[2.174611, 2.177113, 2.164824, 2.175302, 2.161925, 2.122952, 2.171584, 2.18178, 2.174328, 2.153715, 2.17601, 2.151718, 2.165427, 2.131519, 2.15066, 2.16177, 2.17424, 2.18718, 2.172549, 2.159726, 2.17611, 2.14834, 2.1192, 2.161339, 2.152709, 2.180893, 2.17754, 2.17506, 2.17416, 2.18156, 2.119261, 2.16511]\n"
     ]
    },
    {
     "name": "stderr",
     "output_type": "stream",
     "text": [
      "Driver [/Users/ericsonmarques/.wdm/drivers/chromedriver/mac64/108.0.5359.71/chromedriver] found in cache\n",
      "\n",
      "\n",
      "====== WebDriver manager ======\n",
      "Current google-chrome version is 108.0.5359\n",
      "Get LATEST chromedriver version for 108.0.5359 google-chrome\n"
     ]
    },
    {
     "name": "stdout",
     "output_type": "stream",
     "text": [
      "[41.403423, 41.3827, 41.391712, 41.387573, 41.395325, 41.380924, 41.38174, 41.38349, 41.41142, 41.368454, 41.38442, 41.371174, 41.364548, 41.412766, 41.40341, 41.39493, 41.378883, 41.388542, 41.382168, 41.36852, 41.387, 41.37494, 41.4215, 41.39621, 41.41451, 41.385235, 41.384056, 41.37993, 41.38031, 41.38463, 41.422813, 41.39158, 41.421803]\n",
      "[2.174611, 2.177113, 2.164824, 2.175302, 2.161925, 2.122952, 2.171584, 2.18178, 2.174328, 2.153715, 2.17601, 2.151718, 2.165427, 2.131519, 2.15066, 2.16177, 2.17424, 2.18718, 2.172549, 2.159726, 2.17611, 2.14834, 2.1192, 2.161339, 2.152709, 2.180893, 2.17754, 2.17506, 2.17416, 2.18156, 2.119261, 2.16511, 2.119031]\n"
     ]
    },
    {
     "name": "stderr",
     "output_type": "stream",
     "text": [
      "Driver [/Users/ericsonmarques/.wdm/drivers/chromedriver/mac64/108.0.5359.71/chromedriver] found in cache\n",
      "\n",
      "\n",
      "====== WebDriver manager ======\n",
      "Current google-chrome version is 108.0.5359\n",
      "Get LATEST chromedriver version for 108.0.5359 google-chrome\n"
     ]
    },
    {
     "name": "stdout",
     "output_type": "stream",
     "text": [
      "[41.403423, 41.3827, 41.391712, 41.387573, 41.395325, 41.380924, 41.38174, 41.38349, 41.41142, 41.368454, 41.38442, 41.371174, 41.364548, 41.412766, 41.40341, 41.39493, 41.378883, 41.388542, 41.382168, 41.36852, 41.387, 41.37494, 41.4215, 41.39621, 41.41451, 41.385235, 41.384056, 41.37993, 41.38031, 41.38463, 41.422813, 41.39158, 41.421803, 41.386246]\n",
      "[2.174611, 2.177113, 2.164824, 2.175302, 2.161925, 2.122952, 2.171584, 2.18178, 2.174328, 2.153715, 2.17601, 2.151718, 2.165427, 2.131519, 2.15066, 2.16177, 2.17424, 2.18718, 2.172549, 2.159726, 2.17611, 2.14834, 2.1192, 2.161339, 2.152709, 2.180893, 2.17754, 2.17506, 2.17416, 2.18156, 2.119261, 2.16511, 2.119031, 2.178191]\n"
     ]
    },
    {
     "name": "stderr",
     "output_type": "stream",
     "text": [
      "Driver [/Users/ericsonmarques/.wdm/drivers/chromedriver/mac64/108.0.5359.71/chromedriver] found in cache\n",
      "\n",
      "\n",
      "====== WebDriver manager ======\n",
      "Current google-chrome version is 108.0.5359\n",
      "Get LATEST chromedriver version for 108.0.5359 google-chrome\n"
     ]
    },
    {
     "name": "stdout",
     "output_type": "stream",
     "text": [
      "[41.403423, 41.3827, 41.391712, 41.387573, 41.395325, 41.380924, 41.38174, 41.38349, 41.41142, 41.368454, 41.38442, 41.371174, 41.364548, 41.412766, 41.40341, 41.39493, 41.378883, 41.388542, 41.382168, 41.36852, 41.387, 41.37494, 41.4215, 41.39621, 41.41451, 41.385235, 41.384056, 41.37993, 41.38031, 41.38463, 41.422813, 41.39158, 41.421803, 41.386246, 41.4058]\n",
      "[2.174611, 2.177113, 2.164824, 2.175302, 2.161925, 2.122952, 2.171584, 2.18178, 2.174328, 2.153715, 2.17601, 2.151718, 2.165427, 2.131519, 2.15066, 2.16177, 2.17424, 2.18718, 2.172549, 2.159726, 2.17611, 2.14834, 2.1192, 2.161339, 2.152709, 2.180893, 2.17754, 2.17506, 2.17416, 2.18156, 2.119261, 2.16511, 2.119031, 2.178191, 2.15559]\n"
     ]
    },
    {
     "name": "stderr",
     "output_type": "stream",
     "text": [
      "Driver [/Users/ericsonmarques/.wdm/drivers/chromedriver/mac64/108.0.5359.71/chromedriver] found in cache\n",
      "\n",
      "\n",
      "====== WebDriver manager ======\n",
      "Current google-chrome version is 108.0.5359\n",
      "Get LATEST chromedriver version for 108.0.5359 google-chrome\n"
     ]
    },
    {
     "name": "stdout",
     "output_type": "stream",
     "text": [
      "[41.403423, 41.3827, 41.391712, 41.387573, 41.395325, 41.380924, 41.38174, 41.38349, 41.41142, 41.368454, 41.38442, 41.371174, 41.364548, 41.412766, 41.40341, 41.39493, 41.378883, 41.388542, 41.382168, 41.36852, 41.387, 41.37494, 41.4215, 41.39621, 41.41451, 41.385235, 41.384056, 41.37993, 41.38031, 41.38463, 41.422813, 41.39158, 41.421803, 41.386246, 41.4058, 41.363335]\n",
      "[2.174611, 2.177113, 2.164824, 2.175302, 2.161925, 2.122952, 2.171584, 2.18178, 2.174328, 2.153715, 2.17601, 2.151718, 2.165427, 2.131519, 2.15066, 2.16177, 2.17424, 2.18718, 2.172549, 2.159726, 2.17611, 2.14834, 2.1192, 2.161339, 2.152709, 2.180893, 2.17754, 2.17506, 2.17416, 2.18156, 2.119261, 2.16511, 2.119031, 2.178191, 2.15559, 2.166181]\n"
     ]
    },
    {
     "name": "stderr",
     "output_type": "stream",
     "text": [
      "Driver [/Users/ericsonmarques/.wdm/drivers/chromedriver/mac64/108.0.5359.71/chromedriver] found in cache\n",
      "\n",
      "\n",
      "====== WebDriver manager ======\n",
      "Current google-chrome version is 108.0.5359\n",
      "Get LATEST chromedriver version for 108.0.5359 google-chrome\n"
     ]
    },
    {
     "name": "stdout",
     "output_type": "stream",
     "text": [
      "[41.403423, 41.3827, 41.391712, 41.387573, 41.395325, 41.380924, 41.38174, 41.38349, 41.41142, 41.368454, 41.38442, 41.371174, 41.364548, 41.412766, 41.40341, 41.39493, 41.378883, 41.388542, 41.382168, 41.36852, 41.387, 41.37494, 41.4215, 41.39621, 41.41451, 41.385235, 41.384056, 41.37993, 41.38031, 41.38463, 41.422813, 41.39158, 41.421803, 41.386246, 41.4058, 41.363335, 41.38082]\n",
      "[2.174611, 2.177113, 2.164824, 2.175302, 2.161925, 2.122952, 2.171584, 2.18178, 2.174328, 2.153715, 2.17601, 2.151718, 2.165427, 2.131519, 2.15066, 2.16177, 2.17424, 2.18718, 2.172549, 2.159726, 2.17611, 2.14834, 2.1192, 2.161339, 2.152709, 2.180893, 2.17754, 2.17506, 2.17416, 2.18156, 2.119261, 2.16511, 2.119031, 2.178191, 2.15559, 2.166181, 2.180128]\n"
     ]
    },
    {
     "name": "stderr",
     "output_type": "stream",
     "text": [
      "Driver [/Users/ericsonmarques/.wdm/drivers/chromedriver/mac64/108.0.5359.71/chromedriver] found in cache\n",
      "\n",
      "\n",
      "====== WebDriver manager ======\n",
      "Current google-chrome version is 108.0.5359\n",
      "Get LATEST chromedriver version for 108.0.5359 google-chrome\n"
     ]
    },
    {
     "name": "stdout",
     "output_type": "stream",
     "text": [
      "[41.403423, 41.3827, 41.391712, 41.387573, 41.395325, 41.380924, 41.38174, 41.38349, 41.41142, 41.368454, 41.38442, 41.371174, 41.364548, 41.412766, 41.40341, 41.39493, 41.378883, 41.388542, 41.382168, 41.36852, 41.387, 41.37494, 41.4215, 41.39621, 41.41451, 41.385235, 41.384056, 41.37993, 41.38031, 41.38463, 41.422813, 41.39158, 41.421803, 41.386246, 41.4058, 41.363335, 41.38082, 41.391052]\n",
      "[2.174611, 2.177113, 2.164824, 2.175302, 2.161925, 2.122952, 2.171584, 2.18178, 2.174328, 2.153715, 2.17601, 2.151718, 2.165427, 2.131519, 2.15066, 2.16177, 2.17424, 2.18718, 2.172549, 2.159726, 2.17611, 2.14834, 2.1192, 2.161339, 2.152709, 2.180893, 2.17754, 2.17506, 2.17416, 2.18156, 2.119261, 2.16511, 2.119031, 2.178191, 2.15559, 2.166181, 2.180128, 2.180643]\n"
     ]
    },
    {
     "name": "stderr",
     "output_type": "stream",
     "text": [
      "Driver [/Users/ericsonmarques/.wdm/drivers/chromedriver/mac64/108.0.5359.71/chromedriver] found in cache\n",
      "\n",
      "\n",
      "====== WebDriver manager ======\n",
      "Current google-chrome version is 108.0.5359\n",
      "Get LATEST chromedriver version for 108.0.5359 google-chrome\n"
     ]
    },
    {
     "name": "stdout",
     "output_type": "stream",
     "text": [
      "[41.403423, 41.3827, 41.391712, 41.387573, 41.395325, 41.380924, 41.38174, 41.38349, 41.41142, 41.368454, 41.38442, 41.371174, 41.364548, 41.412766, 41.40341, 41.39493, 41.378883, 41.388542, 41.382168, 41.36852, 41.387, 41.37494, 41.4215, 41.39621, 41.41451, 41.385235, 41.384056, 41.37993, 41.38031, 41.38463, 41.422813, 41.39158, 41.421803, 41.386246, 41.4058, 41.363335, 41.38082, 41.391052, 41.38086]\n",
      "[2.174611, 2.177113, 2.164824, 2.175302, 2.161925, 2.122952, 2.171584, 2.18178, 2.174328, 2.153715, 2.17601, 2.151718, 2.165427, 2.131519, 2.15066, 2.16177, 2.17424, 2.18718, 2.172549, 2.159726, 2.17611, 2.14834, 2.1192, 2.161339, 2.152709, 2.180893, 2.17754, 2.17506, 2.17416, 2.18156, 2.119261, 2.16511, 2.119031, 2.178191, 2.15559, 2.166181, 2.180128, 2.180643, 2.185734]\n"
     ]
    },
    {
     "name": "stderr",
     "output_type": "stream",
     "text": [
      "Driver [/Users/ericsonmarques/.wdm/drivers/chromedriver/mac64/108.0.5359.71/chromedriver] found in cache\n",
      "\n",
      "\n",
      "====== WebDriver manager ======\n",
      "Current google-chrome version is 108.0.5359\n",
      "Get LATEST chromedriver version for 108.0.5359 google-chrome\n"
     ]
    },
    {
     "name": "stdout",
     "output_type": "stream",
     "text": [
      "[41.403423, 41.3827, 41.391712, 41.387573, 41.395325, 41.380924, 41.38174, 41.38349, 41.41142, 41.368454, 41.38442, 41.371174, 41.364548, 41.412766, 41.40341, 41.39493, 41.378883, 41.388542, 41.382168, 41.36852, 41.387, 41.37494, 41.4215, 41.39621, 41.41451, 41.385235, 41.384056, 41.37993, 41.38031, 41.38463, 41.422813, 41.39158, 41.421803, 41.386246, 41.4058, 41.363335, 41.38082, 41.391052, 41.38086, 41.37807]\n",
      "[2.174611, 2.177113, 2.164824, 2.175302, 2.161925, 2.122952, 2.171584, 2.18178, 2.174328, 2.153715, 2.17601, 2.151718, 2.165427, 2.131519, 2.15066, 2.16177, 2.17424, 2.18718, 2.172549, 2.159726, 2.17611, 2.14834, 2.1192, 2.161339, 2.152709, 2.180893, 2.17754, 2.17506, 2.17416, 2.18156, 2.119261, 2.16511, 2.119031, 2.178191, 2.15559, 2.166181, 2.180128, 2.180643, 2.185734, 2.1776]\n"
     ]
    },
    {
     "name": "stderr",
     "output_type": "stream",
     "text": [
      "Driver [/Users/ericsonmarques/.wdm/drivers/chromedriver/mac64/108.0.5359.71/chromedriver] found in cache\n",
      "\n",
      "\n",
      "====== WebDriver manager ======\n",
      "Current google-chrome version is 108.0.5359\n",
      "Get LATEST chromedriver version for 108.0.5359 google-chrome\n"
     ]
    },
    {
     "name": "stdout",
     "output_type": "stream",
     "text": [
      "[41.403423, 41.3827, 41.391712, 41.387573, 41.395325, 41.380924, 41.38174, 41.38349, 41.41142, 41.368454, 41.38442, 41.371174, 41.364548, 41.412766, 41.40341, 41.39493, 41.378883, 41.388542, 41.382168, 41.36852, 41.387, 41.37494, 41.4215, 41.39621, 41.41451, 41.385235, 41.384056, 41.37993, 41.38031, 41.38463, 41.422813, 41.39158, 41.421803, 41.386246, 41.4058, 41.363335, 41.38082, 41.391052, 41.38086, 41.37807, 41.387016]\n",
      "[2.174611, 2.177113, 2.164824, 2.175302, 2.161925, 2.122952, 2.171584, 2.18178, 2.174328, 2.153715, 2.17601, 2.151718, 2.165427, 2.131519, 2.15066, 2.16177, 2.17424, 2.18718, 2.172549, 2.159726, 2.17611, 2.14834, 2.1192, 2.161339, 2.152709, 2.180893, 2.17754, 2.17506, 2.17416, 2.18156, 2.119261, 2.16511, 2.119031, 2.178191, 2.15559, 2.166181, 2.180128, 2.180643, 2.185734, 2.1776, 2.170047]\n"
     ]
    },
    {
     "name": "stderr",
     "output_type": "stream",
     "text": [
      "Driver [/Users/ericsonmarques/.wdm/drivers/chromedriver/mac64/108.0.5359.71/chromedriver] found in cache\n",
      "\n",
      "\n",
      "====== WebDriver manager ======\n",
      "Current google-chrome version is 108.0.5359\n",
      "Get LATEST chromedriver version for 108.0.5359 google-chrome\n"
     ]
    },
    {
     "name": "stdout",
     "output_type": "stream",
     "text": [
      "[41.403423, 41.3827, 41.391712, 41.387573, 41.395325, 41.380924, 41.38174, 41.38349, 41.41142, 41.368454, 41.38442, 41.371174, 41.364548, 41.412766, 41.40341, 41.39493, 41.378883, 41.388542, 41.382168, 41.36852, 41.387, 41.37494, 41.4215, 41.39621, 41.41451, 41.385235, 41.384056, 41.37993, 41.38031, 41.38463, 41.422813, 41.39158, 41.421803, 41.386246, 41.4058, 41.363335, 41.38082, 41.391052, 41.38086, 41.37807, 41.387016, 41.37269]\n",
      "[2.174611, 2.177113, 2.164824, 2.175302, 2.161925, 2.122952, 2.171584, 2.18178, 2.174328, 2.153715, 2.17601, 2.151718, 2.165427, 2.131519, 2.15066, 2.16177, 2.17424, 2.18718, 2.172549, 2.159726, 2.17611, 2.14834, 2.1192, 2.161339, 2.152709, 2.180893, 2.17754, 2.17506, 2.17416, 2.18156, 2.119261, 2.16511, 2.119031, 2.178191, 2.15559, 2.166181, 2.180128, 2.180643, 2.185734, 2.1776, 2.170047, 2.17824]\n"
     ]
    },
    {
     "name": "stderr",
     "output_type": "stream",
     "text": [
      "Driver [/Users/ericsonmarques/.wdm/drivers/chromedriver/mac64/108.0.5359.71/chromedriver] found in cache\n",
      "\n",
      "\n",
      "====== WebDriver manager ======\n",
      "Current google-chrome version is 108.0.5359\n",
      "Get LATEST chromedriver version for 108.0.5359 google-chrome\n"
     ]
    },
    {
     "name": "stdout",
     "output_type": "stream",
     "text": [
      "[41.403423, 41.3827, 41.391712, 41.387573, 41.395325, 41.380924, 41.38174, 41.38349, 41.41142, 41.368454, 41.38442, 41.371174, 41.364548, 41.412766, 41.40341, 41.39493, 41.378883, 41.388542, 41.382168, 41.36852, 41.387, 41.37494, 41.4215, 41.39621, 41.41451, 41.385235, 41.384056, 41.37993, 41.38031, 41.38463, 41.422813, 41.39158, 41.421803, 41.386246, 41.4058, 41.363335, 41.38082, 41.391052, 41.38086, 41.37807, 41.387016, 41.37269, 41.397636]\n",
      "[2.174611, 2.177113, 2.164824, 2.175302, 2.161925, 2.122952, 2.171584, 2.18178, 2.174328, 2.153715, 2.17601, 2.151718, 2.165427, 2.131519, 2.15066, 2.16177, 2.17424, 2.18718, 2.172549, 2.159726, 2.17611, 2.14834, 2.1192, 2.161339, 2.152709, 2.180893, 2.17754, 2.17506, 2.17416, 2.18156, 2.119261, 2.16511, 2.119031, 2.178191, 2.15559, 2.166181, 2.180128, 2.180643, 2.185734, 2.1776, 2.170047, 2.17824, 2.114895]\n"
     ]
    },
    {
     "name": "stderr",
     "output_type": "stream",
     "text": [
      "Driver [/Users/ericsonmarques/.wdm/drivers/chromedriver/mac64/108.0.5359.71/chromedriver] found in cache\n",
      "\n",
      "\n",
      "====== WebDriver manager ======\n",
      "Current google-chrome version is 108.0.5359\n",
      "Get LATEST chromedriver version for 108.0.5359 google-chrome\n"
     ]
    },
    {
     "name": "stdout",
     "output_type": "stream",
     "text": [
      "[41.403423, 41.3827, 41.391712, 41.387573, 41.395325, 41.380924, 41.38174, 41.38349, 41.41142, 41.368454, 41.38442, 41.371174, 41.364548, 41.412766, 41.40341, 41.39493, 41.378883, 41.388542, 41.382168, 41.36852, 41.387, 41.37494, 41.4215, 41.39621, 41.41451, 41.385235, 41.384056, 41.37993, 41.38031, 41.38463, 41.422813, 41.39158, 41.421803, 41.386246, 41.4058, 41.363335, 41.38082, 41.391052, 41.38086, 41.37807, 41.387016, 41.37269, 41.397636, 41.43845]\n",
      "[2.174611, 2.177113, 2.164824, 2.175302, 2.161925, 2.122952, 2.171584, 2.18178, 2.174328, 2.153715, 2.17601, 2.151718, 2.165427, 2.131519, 2.15066, 2.16177, 2.17424, 2.18718, 2.172549, 2.159726, 2.17611, 2.14834, 2.1192, 2.161339, 2.152709, 2.180893, 2.17754, 2.17506, 2.17416, 2.18156, 2.119261, 2.16511, 2.119031, 2.178191, 2.15559, 2.166181, 2.180128, 2.180643, 2.185734, 2.1776, 2.170047, 2.17824, 2.114895, 2.148]\n"
     ]
    },
    {
     "name": "stderr",
     "output_type": "stream",
     "text": [
      "Driver [/Users/ericsonmarques/.wdm/drivers/chromedriver/mac64/108.0.5359.71/chromedriver] found in cache\n",
      "\n",
      "\n",
      "====== WebDriver manager ======\n",
      "Current google-chrome version is 108.0.5359\n",
      "Get LATEST chromedriver version for 108.0.5359 google-chrome\n"
     ]
    },
    {
     "name": "stdout",
     "output_type": "stream",
     "text": [
      "[41.403423, 41.3827, 41.391712, 41.387573, 41.395325, 41.380924, 41.38174, 41.38349, 41.41142, 41.368454, 41.38442, 41.371174, 41.364548, 41.412766, 41.40341, 41.39493, 41.378883, 41.388542, 41.382168, 41.36852, 41.387, 41.37494, 41.4215, 41.39621, 41.41451, 41.385235, 41.384056, 41.37993, 41.38031, 41.38463, 41.422813, 41.39158, 41.421803, 41.386246, 41.4058, 41.363335, 41.38082, 41.391052, 41.38086, 41.37807, 41.387016, 41.37269, 41.397636, 41.43845, 41.40903]\n",
      "[2.174611, 2.177113, 2.164824, 2.175302, 2.161925, 2.122952, 2.171584, 2.18178, 2.174328, 2.153715, 2.17601, 2.151718, 2.165427, 2.131519, 2.15066, 2.16177, 2.17424, 2.18718, 2.172549, 2.159726, 2.17611, 2.14834, 2.1192, 2.161339, 2.152709, 2.180893, 2.17754, 2.17506, 2.17416, 2.18156, 2.119261, 2.16511, 2.119031, 2.178191, 2.15559, 2.166181, 2.180128, 2.180643, 2.185734, 2.1776, 2.170047, 2.17824, 2.114895, 2.148, 2.12652]\n"
     ]
    },
    {
     "name": "stderr",
     "output_type": "stream",
     "text": [
      "Driver [/Users/ericsonmarques/.wdm/drivers/chromedriver/mac64/108.0.5359.71/chromedriver] found in cache\n",
      "\n",
      "\n",
      "====== WebDriver manager ======\n",
      "Current google-chrome version is 108.0.5359\n",
      "Get LATEST chromedriver version for 108.0.5359 google-chrome\n"
     ]
    },
    {
     "name": "stdout",
     "output_type": "stream",
     "text": [
      "[41.403423, 41.3827, 41.391712, 41.387573, 41.395325, 41.380924, 41.38174, 41.38349, 41.41142, 41.368454, 41.38442, 41.371174, 41.364548, 41.412766, 41.40341, 41.39493, 41.378883, 41.388542, 41.382168, 41.36852, 41.387, 41.37494, 41.4215, 41.39621, 41.41451, 41.385235, 41.384056, 41.37993, 41.38031, 41.38463, 41.422813, 41.39158, 41.421803, 41.386246, 41.4058, 41.363335, 41.38082, 41.391052, 41.38086, 41.37807, 41.387016, 41.37269, 41.397636, 41.43845, 41.40903, 41.37575]\n",
      "[2.174611, 2.177113, 2.164824, 2.175302, 2.161925, 2.122952, 2.171584, 2.18178, 2.174328, 2.153715, 2.17601, 2.151718, 2.165427, 2.131519, 2.15066, 2.16177, 2.17424, 2.18718, 2.172549, 2.159726, 2.17611, 2.14834, 2.1192, 2.161339, 2.152709, 2.180893, 2.17754, 2.17506, 2.17416, 2.18156, 2.119261, 2.16511, 2.119031, 2.178191, 2.15559, 2.166181, 2.180128, 2.180643, 2.185734, 2.1776, 2.170047, 2.17824, 2.114895, 2.148, 2.12652, 2.177805]\n"
     ]
    },
    {
     "name": "stderr",
     "output_type": "stream",
     "text": [
      "Driver [/Users/ericsonmarques/.wdm/drivers/chromedriver/mac64/108.0.5359.71/chromedriver] found in cache\n",
      "\n",
      "\n",
      "====== WebDriver manager ======\n",
      "Current google-chrome version is 108.0.5359\n",
      "Get LATEST chromedriver version for 108.0.5359 google-chrome\n"
     ]
    },
    {
     "name": "stdout",
     "output_type": "stream",
     "text": [
      "[41.403423, 41.3827, 41.391712, 41.387573, 41.395325, 41.380924, 41.38174, 41.38349, 41.41142, 41.368454, 41.38442, 41.371174, 41.364548, 41.412766, 41.40341, 41.39493, 41.378883, 41.388542, 41.382168, 41.36852, 41.387, 41.37494, 41.4215, 41.39621, 41.41451, 41.385235, 41.384056, 41.37993, 41.38031, 41.38463, 41.422813, 41.39158, 41.421803, 41.386246, 41.4058, 41.363335, 41.38082, 41.391052, 41.38086, 41.37807, 41.387016, 41.37269, 41.397636, 41.43845, 41.40903, 41.37575, 41.38192]\n",
      "[2.174611, 2.177113, 2.164824, 2.175302, 2.161925, 2.122952, 2.171584, 2.18178, 2.174328, 2.153715, 2.17601, 2.151718, 2.165427, 2.131519, 2.15066, 2.16177, 2.17424, 2.18718, 2.172549, 2.159726, 2.17611, 2.14834, 2.1192, 2.161339, 2.152709, 2.180893, 2.17754, 2.17506, 2.17416, 2.18156, 2.119261, 2.16511, 2.119031, 2.178191, 2.15559, 2.166181, 2.180128, 2.180643, 2.185734, 2.1776, 2.170047, 2.17824, 2.114895, 2.148, 2.12652, 2.177805, 2.17186]\n"
     ]
    },
    {
     "name": "stderr",
     "output_type": "stream",
     "text": [
      "Driver [/Users/ericsonmarques/.wdm/drivers/chromedriver/mac64/108.0.5359.71/chromedriver] found in cache\n",
      "\n",
      "\n",
      "====== WebDriver manager ======\n",
      "Current google-chrome version is 108.0.5359\n",
      "Get LATEST chromedriver version for 108.0.5359 google-chrome\n"
     ]
    },
    {
     "name": "stdout",
     "output_type": "stream",
     "text": [
      "[41.403423, 41.3827, 41.391712, 41.387573, 41.395325, 41.380924, 41.38174, 41.38349, 41.41142, 41.368454, 41.38442, 41.371174, 41.364548, 41.412766, 41.40341, 41.39493, 41.378883, 41.388542, 41.382168, 41.36852, 41.387, 41.37494, 41.4215, 41.39621, 41.41451, 41.385235, 41.384056, 41.37993, 41.38031, 41.38463, 41.422813, 41.39158, 41.421803, 41.386246, 41.4058, 41.363335, 41.38082, 41.391052, 41.38086, 41.37807, 41.387016, 41.37269, 41.397636, 41.43845, 41.40903, 41.37575, 41.38192, 41.38045]\n",
      "[2.174611, 2.177113, 2.164824, 2.175302, 2.161925, 2.122952, 2.171584, 2.18178, 2.174328, 2.153715, 2.17601, 2.151718, 2.165427, 2.131519, 2.15066, 2.16177, 2.17424, 2.18718, 2.172549, 2.159726, 2.17611, 2.14834, 2.1192, 2.161339, 2.152709, 2.180893, 2.17754, 2.17506, 2.17416, 2.18156, 2.119261, 2.16511, 2.119031, 2.178191, 2.15559, 2.166181, 2.180128, 2.180643, 2.185734, 2.1776, 2.170047, 2.17824, 2.114895, 2.148, 2.12652, 2.177805, 2.17186, 2.17033]\n"
     ]
    },
    {
     "name": "stderr",
     "output_type": "stream",
     "text": [
      "Driver [/Users/ericsonmarques/.wdm/drivers/chromedriver/mac64/108.0.5359.71/chromedriver] found in cache\n",
      "\n",
      "\n",
      "====== WebDriver manager ======\n",
      "Current google-chrome version is 108.0.5359\n",
      "Get LATEST chromedriver version for 108.0.5359 google-chrome\n"
     ]
    },
    {
     "name": "stdout",
     "output_type": "stream",
     "text": [
      "[41.403423, 41.3827, 41.391712, 41.387573, 41.395325, 41.380924, 41.38174, 41.38349, 41.41142, 41.368454, 41.38442, 41.371174, 41.364548, 41.412766, 41.40341, 41.39493, 41.378883, 41.388542, 41.382168, 41.36852, 41.387, 41.37494, 41.4215, 41.39621, 41.41451, 41.385235, 41.384056, 41.37993, 41.38031, 41.38463, 41.422813, 41.39158, 41.421803, 41.386246, 41.4058, 41.363335, 41.38082, 41.391052, 41.38086, 41.37807, 41.387016, 41.37269, 41.397636, 41.43845, 41.40903, 41.37575, 41.38192, 41.38045, 41.38063]\n",
      "[2.174611, 2.177113, 2.164824, 2.175302, 2.161925, 2.122952, 2.171584, 2.18178, 2.174328, 2.153715, 2.17601, 2.151718, 2.165427, 2.131519, 2.15066, 2.16177, 2.17424, 2.18718, 2.172549, 2.159726, 2.17611, 2.14834, 2.1192, 2.161339, 2.152709, 2.180893, 2.17754, 2.17506, 2.17416, 2.18156, 2.119261, 2.16511, 2.119031, 2.178191, 2.15559, 2.166181, 2.180128, 2.180643, 2.185734, 2.1776, 2.170047, 2.17824, 2.114895, 2.148, 2.12652, 2.177805, 2.17186, 2.17033, 2.17362]\n"
     ]
    },
    {
     "name": "stderr",
     "output_type": "stream",
     "text": [
      "Driver [/Users/ericsonmarques/.wdm/drivers/chromedriver/mac64/108.0.5359.71/chromedriver] found in cache\n",
      "\n",
      "\n",
      "====== WebDriver manager ======\n",
      "Current google-chrome version is 108.0.5359\n",
      "Get LATEST chromedriver version for 108.0.5359 google-chrome\n"
     ]
    },
    {
     "name": "stdout",
     "output_type": "stream",
     "text": [
      "[41.403423, 41.3827, 41.391712, 41.387573, 41.395325, 41.380924, 41.38174, 41.38349, 41.41142, 41.368454, 41.38442, 41.371174, 41.364548, 41.412766, 41.40341, 41.39493, 41.378883, 41.388542, 41.382168, 41.36852, 41.387, 41.37494, 41.4215, 41.39621, 41.41451, 41.385235, 41.384056, 41.37993, 41.38031, 41.38463, 41.422813, 41.39158, 41.421803, 41.386246, 41.4058, 41.363335, 41.38082, 41.391052, 41.38086, 41.37807, 41.387016, 41.37269, 41.397636, 41.43845, 41.40903, 41.37575, 41.38192, 41.38045, 41.38063, 41.3755]\n",
      "[2.174611, 2.177113, 2.164824, 2.175302, 2.161925, 2.122952, 2.171584, 2.18178, 2.174328, 2.153715, 2.17601, 2.151718, 2.165427, 2.131519, 2.15066, 2.16177, 2.17424, 2.18718, 2.172549, 2.159726, 2.17611, 2.14834, 2.1192, 2.161339, 2.152709, 2.180893, 2.17754, 2.17506, 2.17416, 2.18156, 2.119261, 2.16511, 2.119031, 2.178191, 2.15559, 2.166181, 2.180128, 2.180643, 2.185734, 2.1776, 2.170047, 2.17824, 2.114895, 2.148, 2.12652, 2.177805, 2.17186, 2.17033, 2.17362, 2.17674]\n"
     ]
    },
    {
     "name": "stderr",
     "output_type": "stream",
     "text": [
      "Driver [/Users/ericsonmarques/.wdm/drivers/chromedriver/mac64/108.0.5359.71/chromedriver] found in cache\n",
      "\n",
      "\n",
      "====== WebDriver manager ======\n",
      "Current google-chrome version is 108.0.5359\n",
      "Get LATEST chromedriver version for 108.0.5359 google-chrome\n"
     ]
    },
    {
     "name": "stdout",
     "output_type": "stream",
     "text": [
      "[41.403423, 41.3827, 41.391712, 41.387573, 41.395325, 41.380924, 41.38174, 41.38349, 41.41142, 41.368454, 41.38442, 41.371174, 41.364548, 41.412766, 41.40341, 41.39493, 41.378883, 41.388542, 41.382168, 41.36852, 41.387, 41.37494, 41.4215, 41.39621, 41.41451, 41.385235, 41.384056, 41.37993, 41.38031, 41.38463, 41.422813, 41.39158, 41.421803, 41.386246, 41.4058, 41.363335, 41.38082, 41.391052, 41.38086, 41.37807, 41.387016, 41.37269, 41.397636, 41.43845, 41.40903, 41.37575, 41.38192, 41.38045, 41.38063, 41.3755, 41.38026]\n",
      "[2.174611, 2.177113, 2.164824, 2.175302, 2.161925, 2.122952, 2.171584, 2.18178, 2.174328, 2.153715, 2.17601, 2.151718, 2.165427, 2.131519, 2.15066, 2.16177, 2.17424, 2.18718, 2.172549, 2.159726, 2.17611, 2.14834, 2.1192, 2.161339, 2.152709, 2.180893, 2.17754, 2.17506, 2.17416, 2.18156, 2.119261, 2.16511, 2.119031, 2.178191, 2.15559, 2.166181, 2.180128, 2.180643, 2.185734, 2.1776, 2.170047, 2.17824, 2.114895, 2.148, 2.12652, 2.177805, 2.17186, 2.17033, 2.17362, 2.17674, 2.19343]\n"
     ]
    },
    {
     "name": "stderr",
     "output_type": "stream",
     "text": [
      "Driver [/Users/ericsonmarques/.wdm/drivers/chromedriver/mac64/108.0.5359.71/chromedriver] found in cache\n",
      "\n",
      "\n",
      "====== WebDriver manager ======\n",
      "Current google-chrome version is 108.0.5359\n",
      "Get LATEST chromedriver version for 108.0.5359 google-chrome\n"
     ]
    },
    {
     "name": "stdout",
     "output_type": "stream",
     "text": [
      "[41.403423, 41.3827, 41.391712, 41.387573, 41.395325, 41.380924, 41.38174, 41.38349, 41.41142, 41.368454, 41.38442, 41.371174, 41.364548, 41.412766, 41.40341, 41.39493, 41.378883, 41.388542, 41.382168, 41.36852, 41.387, 41.37494, 41.4215, 41.39621, 41.41451, 41.385235, 41.384056, 41.37993, 41.38031, 41.38463, 41.422813, 41.39158, 41.421803, 41.386246, 41.4058, 41.363335, 41.38082, 41.391052, 41.38086, 41.37807, 41.387016, 41.37269, 41.397636, 41.43845, 41.40903, 41.37575, 41.38192, 41.38045, 41.38063, 41.3755, 41.38026, 41.37796]\n",
      "[2.174611, 2.177113, 2.164824, 2.175302, 2.161925, 2.122952, 2.171584, 2.18178, 2.174328, 2.153715, 2.17601, 2.151718, 2.165427, 2.131519, 2.15066, 2.16177, 2.17424, 2.18718, 2.172549, 2.159726, 2.17611, 2.14834, 2.1192, 2.161339, 2.152709, 2.180893, 2.17754, 2.17506, 2.17416, 2.18156, 2.119261, 2.16511, 2.119031, 2.178191, 2.15559, 2.166181, 2.180128, 2.180643, 2.185734, 2.1776, 2.170047, 2.17824, 2.114895, 2.148, 2.12652, 2.177805, 2.17186, 2.17033, 2.17362, 2.17674, 2.19343, 2.17369]\n"
     ]
    },
    {
     "name": "stderr",
     "output_type": "stream",
     "text": [
      "Driver [/Users/ericsonmarques/.wdm/drivers/chromedriver/mac64/108.0.5359.71/chromedriver] found in cache\n",
      "\n",
      "\n",
      "====== WebDriver manager ======\n",
      "Current google-chrome version is 108.0.5359\n",
      "Get LATEST chromedriver version for 108.0.5359 google-chrome\n"
     ]
    },
    {
     "name": "stdout",
     "output_type": "stream",
     "text": [
      "[41.403423, 41.3827, 41.391712, 41.387573, 41.395325, 41.380924, 41.38174, 41.38349, 41.41142, 41.368454, 41.38442, 41.371174, 41.364548, 41.412766, 41.40341, 41.39493, 41.378883, 41.388542, 41.382168, 41.36852, 41.387, 41.37494, 41.4215, 41.39621, 41.41451, 41.385235, 41.384056, 41.37993, 41.38031, 41.38463, 41.422813, 41.39158, 41.421803, 41.386246, 41.4058, 41.363335, 41.38082, 41.391052, 41.38086, 41.37807, 41.387016, 41.37269, 41.397636, 41.43845, 41.40903, 41.37575, 41.38192, 41.38045, 41.38063, 41.3755, 41.38026, 41.37796, 41.38631]\n",
      "[2.174611, 2.177113, 2.164824, 2.175302, 2.161925, 2.122952, 2.171584, 2.18178, 2.174328, 2.153715, 2.17601, 2.151718, 2.165427, 2.131519, 2.15066, 2.16177, 2.17424, 2.18718, 2.172549, 2.159726, 2.17611, 2.14834, 2.1192, 2.161339, 2.152709, 2.180893, 2.17754, 2.17506, 2.17416, 2.18156, 2.119261, 2.16511, 2.119031, 2.178191, 2.15559, 2.166181, 2.180128, 2.180643, 2.185734, 2.1776, 2.170047, 2.17824, 2.114895, 2.148, 2.12652, 2.177805, 2.17186, 2.17033, 2.17362, 2.17674, 2.19343, 2.17369, 2.18536]\n"
     ]
    },
    {
     "name": "stderr",
     "output_type": "stream",
     "text": [
      "Driver [/Users/ericsonmarques/.wdm/drivers/chromedriver/mac64/108.0.5359.71/chromedriver] found in cache\n",
      "\n",
      "\n",
      "====== WebDriver manager ======\n",
      "Current google-chrome version is 108.0.5359\n",
      "Get LATEST chromedriver version for 108.0.5359 google-chrome\n"
     ]
    },
    {
     "name": "stdout",
     "output_type": "stream",
     "text": [
      "[41.403423, 41.3827, 41.391712, 41.387573, 41.395325, 41.380924, 41.38174, 41.38349, 41.41142, 41.368454, 41.38442, 41.371174, 41.364548, 41.412766, 41.40341, 41.39493, 41.378883, 41.388542, 41.382168, 41.36852, 41.387, 41.37494, 41.4215, 41.39621, 41.41451, 41.385235, 41.384056, 41.37993, 41.38031, 41.38463, 41.422813, 41.39158, 41.421803, 41.386246, 41.4058, 41.363335, 41.38082, 41.391052, 41.38086, 41.37807, 41.387016, 41.37269, 41.397636, 41.43845, 41.40903, 41.37575, 41.38192, 41.38045, 41.38063, 41.3755, 41.38026, 41.37796, 41.38631, 41.380985]\n",
      "[2.174611, 2.177113, 2.164824, 2.175302, 2.161925, 2.122952, 2.171584, 2.18178, 2.174328, 2.153715, 2.17601, 2.151718, 2.165427, 2.131519, 2.15066, 2.16177, 2.17424, 2.18718, 2.172549, 2.159726, 2.17611, 2.14834, 2.1192, 2.161339, 2.152709, 2.180893, 2.17754, 2.17506, 2.17416, 2.18156, 2.119261, 2.16511, 2.119031, 2.178191, 2.15559, 2.166181, 2.180128, 2.180643, 2.185734, 2.1776, 2.170047, 2.17824, 2.114895, 2.148, 2.12652, 2.177805, 2.17186, 2.17033, 2.17362, 2.17674, 2.19343, 2.17369, 2.18536, 2.17341]\n"
     ]
    },
    {
     "name": "stderr",
     "output_type": "stream",
     "text": [
      "Driver [/Users/ericsonmarques/.wdm/drivers/chromedriver/mac64/108.0.5359.71/chromedriver] found in cache\n",
      "\n",
      "\n",
      "====== WebDriver manager ======\n",
      "Current google-chrome version is 108.0.5359\n",
      "Get LATEST chromedriver version for 108.0.5359 google-chrome\n"
     ]
    },
    {
     "name": "stdout",
     "output_type": "stream",
     "text": [
      "[41.403423, 41.3827, 41.391712, 41.387573, 41.395325, 41.380924, 41.38174, 41.38349, 41.41142, 41.368454, 41.38442, 41.371174, 41.364548, 41.412766, 41.40341, 41.39493, 41.378883, 41.388542, 41.382168, 41.36852, 41.387, 41.37494, 41.4215, 41.39621, 41.41451, 41.385235, 41.384056, 41.37993, 41.38031, 41.38463, 41.422813, 41.39158, 41.421803, 41.386246, 41.4058, 41.363335, 41.38082, 41.391052, 41.38086, 41.37807, 41.387016, 41.37269, 41.397636, 41.43845, 41.40903, 41.37575, 41.38192, 41.38045, 41.38063, 41.3755, 41.38026, 41.37796, 41.38631, 41.380985, 41.385136]\n",
      "[2.174611, 2.177113, 2.164824, 2.175302, 2.161925, 2.122952, 2.171584, 2.18178, 2.174328, 2.153715, 2.17601, 2.151718, 2.165427, 2.131519, 2.15066, 2.16177, 2.17424, 2.18718, 2.172549, 2.159726, 2.17611, 2.14834, 2.1192, 2.161339, 2.152709, 2.180893, 2.17754, 2.17506, 2.17416, 2.18156, 2.119261, 2.16511, 2.119031, 2.178191, 2.15559, 2.166181, 2.180128, 2.180643, 2.185734, 2.1776, 2.170047, 2.17824, 2.114895, 2.148, 2.12652, 2.177805, 2.17186, 2.17033, 2.17362, 2.17674, 2.19343, 2.17369, 2.18536, 2.17341, 2.180325]\n"
     ]
    },
    {
     "name": "stderr",
     "output_type": "stream",
     "text": [
      "Driver [/Users/ericsonmarques/.wdm/drivers/chromedriver/mac64/108.0.5359.71/chromedriver] found in cache\n",
      "\n",
      "\n",
      "====== WebDriver manager ======\n",
      "Current google-chrome version is 108.0.5359\n",
      "Get LATEST chromedriver version for 108.0.5359 google-chrome\n"
     ]
    },
    {
     "name": "stdout",
     "output_type": "stream",
     "text": [
      "[41.403423, 41.3827, 41.391712, 41.387573, 41.395325, 41.380924, 41.38174, 41.38349, 41.41142, 41.368454, 41.38442, 41.371174, 41.364548, 41.412766, 41.40341, 41.39493, 41.378883, 41.388542, 41.382168, 41.36852, 41.387, 41.37494, 41.4215, 41.39621, 41.41451, 41.385235, 41.384056, 41.37993, 41.38031, 41.38463, 41.422813, 41.39158, 41.421803, 41.386246, 41.4058, 41.363335, 41.38082, 41.391052, 41.38086, 41.37807, 41.387016, 41.37269, 41.397636, 41.43845, 41.40903, 41.37575, 41.38192, 41.38045, 41.38063, 41.3755, 41.38026, 41.37796, 41.38631, 41.380985, 41.385136, 41.38536]\n",
      "[2.174611, 2.177113, 2.164824, 2.175302, 2.161925, 2.122952, 2.171584, 2.18178, 2.174328, 2.153715, 2.17601, 2.151718, 2.165427, 2.131519, 2.15066, 2.16177, 2.17424, 2.18718, 2.172549, 2.159726, 2.17611, 2.14834, 2.1192, 2.161339, 2.152709, 2.180893, 2.17754, 2.17506, 2.17416, 2.18156, 2.119261, 2.16511, 2.119031, 2.178191, 2.15559, 2.166181, 2.180128, 2.180643, 2.185734, 2.1776, 2.170047, 2.17824, 2.114895, 2.148, 2.12652, 2.177805, 2.17186, 2.17033, 2.17362, 2.17674, 2.19343, 2.17369, 2.18536, 2.17341, 2.180325, 2.17042]\n"
     ]
    },
    {
     "name": "stderr",
     "output_type": "stream",
     "text": [
      "Driver [/Users/ericsonmarques/.wdm/drivers/chromedriver/mac64/108.0.5359.71/chromedriver] found in cache\n",
      "\n",
      "\n",
      "====== WebDriver manager ======\n",
      "Current google-chrome version is 108.0.5359\n",
      "Get LATEST chromedriver version for 108.0.5359 google-chrome\n"
     ]
    },
    {
     "name": "stdout",
     "output_type": "stream",
     "text": [
      "[41.403423, 41.3827, 41.391712, 41.387573, 41.395325, 41.380924, 41.38174, 41.38349, 41.41142, 41.368454, 41.38442, 41.371174, 41.364548, 41.412766, 41.40341, 41.39493, 41.378883, 41.388542, 41.382168, 41.36852, 41.387, 41.37494, 41.4215, 41.39621, 41.41451, 41.385235, 41.384056, 41.37993, 41.38031, 41.38463, 41.422813, 41.39158, 41.421803, 41.386246, 41.4058, 41.363335, 41.38082, 41.391052, 41.38086, 41.37807, 41.387016, 41.37269, 41.397636, 41.43845, 41.40903, 41.37575, 41.38192, 41.38045, 41.38063, 41.3755, 41.38026, 41.37796, 41.38631, 41.380985, 41.385136, 41.38536, 41.375854]\n",
      "[2.174611, 2.177113, 2.164824, 2.175302, 2.161925, 2.122952, 2.171584, 2.18178, 2.174328, 2.153715, 2.17601, 2.151718, 2.165427, 2.131519, 2.15066, 2.16177, 2.17424, 2.18718, 2.172549, 2.159726, 2.17611, 2.14834, 2.1192, 2.161339, 2.152709, 2.180893, 2.17754, 2.17506, 2.17416, 2.18156, 2.119261, 2.16511, 2.119031, 2.178191, 2.15559, 2.166181, 2.180128, 2.180643, 2.185734, 2.1776, 2.170047, 2.17824, 2.114895, 2.148, 2.12652, 2.177805, 2.17186, 2.17033, 2.17362, 2.17674, 2.19343, 2.17369, 2.18536, 2.17341, 2.180325, 2.17042, 2.179365]\n"
     ]
    },
    {
     "name": "stderr",
     "output_type": "stream",
     "text": [
      "Driver [/Users/ericsonmarques/.wdm/drivers/chromedriver/mac64/108.0.5359.71/chromedriver] found in cache\n",
      "\n",
      "\n",
      "====== WebDriver manager ======\n",
      "Current google-chrome version is 108.0.5359\n",
      "Get LATEST chromedriver version for 108.0.5359 google-chrome\n"
     ]
    },
    {
     "name": "stdout",
     "output_type": "stream",
     "text": [
      "[41.403423, 41.3827, 41.391712, 41.387573, 41.395325, 41.380924, 41.38174, 41.38349, 41.41142, 41.368454, 41.38442, 41.371174, 41.364548, 41.412766, 41.40341, 41.39493, 41.378883, 41.388542, 41.382168, 41.36852, 41.387, 41.37494, 41.4215, 41.39621, 41.41451, 41.385235, 41.384056, 41.37993, 41.38031, 41.38463, 41.422813, 41.39158, 41.421803, 41.386246, 41.4058, 41.363335, 41.38082, 41.391052, 41.38086, 41.37807, 41.387016, 41.37269, 41.397636, 41.43845, 41.40903, 41.37575, 41.38192, 41.38045, 41.38063, 41.3755, 41.38026, 41.37796, 41.38631, 41.380985, 41.385136, 41.38536, 41.375854, 41.4402]\n",
      "[2.174611, 2.177113, 2.164824, 2.175302, 2.161925, 2.122952, 2.171584, 2.18178, 2.174328, 2.153715, 2.17601, 2.151718, 2.165427, 2.131519, 2.15066, 2.16177, 2.17424, 2.18718, 2.172549, 2.159726, 2.17611, 2.14834, 2.1192, 2.161339, 2.152709, 2.180893, 2.17754, 2.17506, 2.17416, 2.18156, 2.119261, 2.16511, 2.119031, 2.178191, 2.15559, 2.166181, 2.180128, 2.180643, 2.185734, 2.1776, 2.170047, 2.17824, 2.114895, 2.148, 2.12652, 2.177805, 2.17186, 2.17033, 2.17362, 2.17674, 2.19343, 2.17369, 2.18536, 2.17341, 2.180325, 2.17042, 2.179365, 2.19831]\n"
     ]
    },
    {
     "name": "stderr",
     "output_type": "stream",
     "text": [
      "Driver [/Users/ericsonmarques/.wdm/drivers/chromedriver/mac64/108.0.5359.71/chromedriver] found in cache\n",
      "\n",
      "\n",
      "====== WebDriver manager ======\n",
      "Current google-chrome version is 108.0.5359\n",
      "Get LATEST chromedriver version for 108.0.5359 google-chrome\n"
     ]
    },
    {
     "name": "stdout",
     "output_type": "stream",
     "text": [
      "[41.403423, 41.3827, 41.391712, 41.387573, 41.395325, 41.380924, 41.38174, 41.38349, 41.41142, 41.368454, 41.38442, 41.371174, 41.364548, 41.412766, 41.40341, 41.39493, 41.378883, 41.388542, 41.382168, 41.36852, 41.387, 41.37494, 41.4215, 41.39621, 41.41451, 41.385235, 41.384056, 41.37993, 41.38031, 41.38463, 41.422813, 41.39158, 41.421803, 41.386246, 41.4058, 41.363335, 41.38082, 41.391052, 41.38086, 41.37807, 41.387016, 41.37269, 41.397636, 41.43845, 41.40903, 41.37575, 41.38192, 41.38045, 41.38063, 41.3755, 41.38026, 41.37796, 41.38631, 41.380985, 41.385136, 41.38536, 41.375854, 41.4402, 41.388947]\n",
      "[2.174611, 2.177113, 2.164824, 2.175302, 2.161925, 2.122952, 2.171584, 2.18178, 2.174328, 2.153715, 2.17601, 2.151718, 2.165427, 2.131519, 2.15066, 2.16177, 2.17424, 2.18718, 2.172549, 2.159726, 2.17611, 2.14834, 2.1192, 2.161339, 2.152709, 2.180893, 2.17754, 2.17506, 2.17416, 2.18156, 2.119261, 2.16511, 2.119031, 2.178191, 2.15559, 2.166181, 2.180128, 2.180643, 2.185734, 2.1776, 2.170047, 2.17824, 2.114895, 2.148, 2.12652, 2.177805, 2.17186, 2.17033, 2.17362, 2.17674, 2.19343, 2.17369, 2.18536, 2.17341, 2.180325, 2.17042, 2.179365, 2.19831, 2.163636]\n"
     ]
    },
    {
     "name": "stderr",
     "output_type": "stream",
     "text": [
      "Driver [/Users/ericsonmarques/.wdm/drivers/chromedriver/mac64/108.0.5359.71/chromedriver] found in cache\n",
      "\n",
      "\n",
      "====== WebDriver manager ======\n",
      "Current google-chrome version is 108.0.5359\n",
      "Get LATEST chromedriver version for 108.0.5359 google-chrome\n"
     ]
    },
    {
     "name": "stdout",
     "output_type": "stream",
     "text": [
      "[41.403423, 41.3827, 41.391712, 41.387573, 41.395325, 41.380924, 41.38174, 41.38349, 41.41142, 41.368454, 41.38442, 41.371174, 41.364548, 41.412766, 41.40341, 41.39493, 41.378883, 41.388542, 41.382168, 41.36852, 41.387, 41.37494, 41.4215, 41.39621, 41.41451, 41.385235, 41.384056, 41.37993, 41.38031, 41.38463, 41.422813, 41.39158, 41.421803, 41.386246, 41.4058, 41.363335, 41.38082, 41.391052, 41.38086, 41.37807, 41.387016, 41.37269, 41.397636, 41.43845, 41.40903, 41.37575, 41.38192, 41.38045, 41.38063, 41.3755, 41.38026, 41.37796, 41.38631, 41.380985, 41.385136, 41.38536, 41.375854, 41.4402, 41.388947, 41.37685]\n",
      "[2.174611, 2.177113, 2.164824, 2.175302, 2.161925, 2.122952, 2.171584, 2.18178, 2.174328, 2.153715, 2.17601, 2.151718, 2.165427, 2.131519, 2.15066, 2.16177, 2.17424, 2.18718, 2.172549, 2.159726, 2.17611, 2.14834, 2.1192, 2.161339, 2.152709, 2.180893, 2.17754, 2.17506, 2.17416, 2.18156, 2.119261, 2.16511, 2.119031, 2.178191, 2.15559, 2.166181, 2.180128, 2.180643, 2.185734, 2.1776, 2.170047, 2.17824, 2.114895, 2.148, 2.12652, 2.177805, 2.17186, 2.17033, 2.17362, 2.17674, 2.19343, 2.17369, 2.18536, 2.17341, 2.180325, 2.17042, 2.179365, 2.19831, 2.163636, 2.184366]\n"
     ]
    },
    {
     "name": "stderr",
     "output_type": "stream",
     "text": [
      "Driver [/Users/ericsonmarques/.wdm/drivers/chromedriver/mac64/108.0.5359.71/chromedriver] found in cache\n",
      "\n",
      "\n",
      "====== WebDriver manager ======\n",
      "Current google-chrome version is 108.0.5359\n",
      "Get LATEST chromedriver version for 108.0.5359 google-chrome\n"
     ]
    },
    {
     "name": "stdout",
     "output_type": "stream",
     "text": [
      "[41.403423, 41.3827, 41.391712, 41.387573, 41.395325, 41.380924, 41.38174, 41.38349, 41.41142, 41.368454, 41.38442, 41.371174, 41.364548, 41.412766, 41.40341, 41.39493, 41.378883, 41.388542, 41.382168, 41.36852, 41.387, 41.37494, 41.4215, 41.39621, 41.41451, 41.385235, 41.384056, 41.37993, 41.38031, 41.38463, 41.422813, 41.39158, 41.421803, 41.386246, 41.4058, 41.363335, 41.38082, 41.391052, 41.38086, 41.37807, 41.387016, 41.37269, 41.397636, 41.43845, 41.40903, 41.37575, 41.38192, 41.38045, 41.38063, 41.3755, 41.38026, 41.37796, 41.38631, 41.380985, 41.385136, 41.38536, 41.375854, 41.4402, 41.388947, 41.37685, 41.3993]\n",
      "[2.174611, 2.177113, 2.164824, 2.175302, 2.161925, 2.122952, 2.171584, 2.18178, 2.174328, 2.153715, 2.17601, 2.151718, 2.165427, 2.131519, 2.15066, 2.16177, 2.17424, 2.18718, 2.172549, 2.159726, 2.17611, 2.14834, 2.1192, 2.161339, 2.152709, 2.180893, 2.17754, 2.17506, 2.17416, 2.18156, 2.119261, 2.16511, 2.119031, 2.178191, 2.15559, 2.166181, 2.180128, 2.180643, 2.185734, 2.1776, 2.170047, 2.17824, 2.114895, 2.148, 2.12652, 2.177805, 2.17186, 2.17033, 2.17362, 2.17674, 2.19343, 2.17369, 2.18536, 2.17341, 2.180325, 2.17042, 2.179365, 2.19831, 2.163636, 2.184366, 2.203403]\n"
     ]
    },
    {
     "name": "stderr",
     "output_type": "stream",
     "text": [
      "Driver [/Users/ericsonmarques/.wdm/drivers/chromedriver/mac64/108.0.5359.71/chromedriver] found in cache\n",
      "\n",
      "\n",
      "====== WebDriver manager ======\n",
      "Current google-chrome version is 108.0.5359\n",
      "Get LATEST chromedriver version for 108.0.5359 google-chrome\n"
     ]
    },
    {
     "name": "stdout",
     "output_type": "stream",
     "text": [
      "[41.403423, 41.3827, 41.391712, 41.387573, 41.395325, 41.380924, 41.38174, 41.38349, 41.41142, 41.368454, 41.38442, 41.371174, 41.364548, 41.412766, 41.40341, 41.39493, 41.378883, 41.388542, 41.382168, 41.36852, 41.387, 41.37494, 41.4215, 41.39621, 41.41451, 41.385235, 41.384056, 41.37993, 41.38031, 41.38463, 41.422813, 41.39158, 41.421803, 41.386246, 41.4058, 41.363335, 41.38082, 41.391052, 41.38086, 41.37807, 41.387016, 41.37269, 41.397636, 41.43845, 41.40903, 41.37575, 41.38192, 41.38045, 41.38063, 41.3755, 41.38026, 41.37796, 41.38631, 41.380985, 41.385136, 41.38536, 41.375854, 41.4402, 41.388947, 41.37685, 41.3993, 41.40988]\n",
      "[2.174611, 2.177113, 2.164824, 2.175302, 2.161925, 2.122952, 2.171584, 2.18178, 2.174328, 2.153715, 2.17601, 2.151718, 2.165427, 2.131519, 2.15066, 2.16177, 2.17424, 2.18718, 2.172549, 2.159726, 2.17611, 2.14834, 2.1192, 2.161339, 2.152709, 2.180893, 2.17754, 2.17506, 2.17416, 2.18156, 2.119261, 2.16511, 2.119031, 2.178191, 2.15559, 2.166181, 2.180128, 2.180643, 2.185734, 2.1776, 2.170047, 2.17824, 2.114895, 2.148, 2.12652, 2.177805, 2.17186, 2.17033, 2.17362, 2.17674, 2.19343, 2.17369, 2.18536, 2.17341, 2.180325, 2.17042, 2.179365, 2.19831, 2.163636, 2.184366, 2.203403, 2.216376]\n"
     ]
    },
    {
     "name": "stderr",
     "output_type": "stream",
     "text": [
      "Driver [/Users/ericsonmarques/.wdm/drivers/chromedriver/mac64/108.0.5359.71/chromedriver] found in cache\n",
      "\n",
      "\n",
      "====== WebDriver manager ======\n",
      "Current google-chrome version is 108.0.5359\n",
      "Get LATEST chromedriver version for 108.0.5359 google-chrome\n"
     ]
    },
    {
     "name": "stdout",
     "output_type": "stream",
     "text": [
      "[41.403423, 41.3827, 41.391712, 41.387573, 41.395325, 41.380924, 41.38174, 41.38349, 41.41142, 41.368454, 41.38442, 41.371174, 41.364548, 41.412766, 41.40341, 41.39493, 41.378883, 41.388542, 41.382168, 41.36852, 41.387, 41.37494, 41.4215, 41.39621, 41.41451, 41.385235, 41.384056, 41.37993, 41.38031, 41.38463, 41.422813, 41.39158, 41.421803, 41.386246, 41.4058, 41.363335, 41.38082, 41.391052, 41.38086, 41.37807, 41.387016, 41.37269, 41.397636, 41.43845, 41.40903, 41.37575, 41.38192, 41.38045, 41.38063, 41.3755, 41.38026, 41.37796, 41.38631, 41.380985, 41.385136, 41.38536, 41.375854, 41.4402, 41.388947, 41.37685, 41.3993, 41.40988, 41.38566]\n",
      "[2.174611, 2.177113, 2.164824, 2.175302, 2.161925, 2.122952, 2.171584, 2.18178, 2.174328, 2.153715, 2.17601, 2.151718, 2.165427, 2.131519, 2.15066, 2.16177, 2.17424, 2.18718, 2.172549, 2.159726, 2.17611, 2.14834, 2.1192, 2.161339, 2.152709, 2.180893, 2.17754, 2.17506, 2.17416, 2.18156, 2.119261, 2.16511, 2.119031, 2.178191, 2.15559, 2.166181, 2.180128, 2.180643, 2.185734, 2.1776, 2.170047, 2.17824, 2.114895, 2.148, 2.12652, 2.177805, 2.17186, 2.17033, 2.17362, 2.17674, 2.19343, 2.17369, 2.18536, 2.17341, 2.180325, 2.17042, 2.179365, 2.19831, 2.163636, 2.184366, 2.203403, 2.216376, 2.183822]\n"
     ]
    },
    {
     "name": "stderr",
     "output_type": "stream",
     "text": [
      "Driver [/Users/ericsonmarques/.wdm/drivers/chromedriver/mac64/108.0.5359.71/chromedriver] found in cache\n",
      "\n",
      "\n",
      "====== WebDriver manager ======\n",
      "Current google-chrome version is 108.0.5359\n",
      "Get LATEST chromedriver version for 108.0.5359 google-chrome\n"
     ]
    },
    {
     "name": "stdout",
     "output_type": "stream",
     "text": [
      "[41.403423, 41.3827, 41.391712, 41.387573, 41.395325, 41.380924, 41.38174, 41.38349, 41.41142, 41.368454, 41.38442, 41.371174, 41.364548, 41.412766, 41.40341, 41.39493, 41.378883, 41.388542, 41.382168, 41.36852, 41.387, 41.37494, 41.4215, 41.39621, 41.41451, 41.385235, 41.384056, 41.37993, 41.38031, 41.38463, 41.422813, 41.39158, 41.421803, 41.386246, 41.4058, 41.363335, 41.38082, 41.391052, 41.38086, 41.37807, 41.387016, 41.37269, 41.397636, 41.43845, 41.40903, 41.37575, 41.38192, 41.38045, 41.38063, 41.3755, 41.38026, 41.37796, 41.38631, 41.380985, 41.385136, 41.38536, 41.375854, 41.4402, 41.388947, 41.37685, 41.3993, 41.40988, 41.38566, 41.383327]\n",
      "[2.174611, 2.177113, 2.164824, 2.175302, 2.161925, 2.122952, 2.171584, 2.18178, 2.174328, 2.153715, 2.17601, 2.151718, 2.165427, 2.131519, 2.15066, 2.16177, 2.17424, 2.18718, 2.172549, 2.159726, 2.17611, 2.14834, 2.1192, 2.161339, 2.152709, 2.180893, 2.17754, 2.17506, 2.17416, 2.18156, 2.119261, 2.16511, 2.119031, 2.178191, 2.15559, 2.166181, 2.180128, 2.180643, 2.185734, 2.1776, 2.170047, 2.17824, 2.114895, 2.148, 2.12652, 2.177805, 2.17186, 2.17033, 2.17362, 2.17674, 2.19343, 2.17369, 2.18536, 2.17341, 2.180325, 2.17042, 2.179365, 2.19831, 2.163636, 2.184366, 2.203403, 2.216376, 2.183822, 2.176435]\n"
     ]
    },
    {
     "name": "stderr",
     "output_type": "stream",
     "text": [
      "Driver [/Users/ericsonmarques/.wdm/drivers/chromedriver/mac64/108.0.5359.71/chromedriver] found in cache\n",
      "\n",
      "\n",
      "====== WebDriver manager ======\n",
      "Current google-chrome version is 108.0.5359\n",
      "Get LATEST chromedriver version for 108.0.5359 google-chrome\n"
     ]
    },
    {
     "name": "stdout",
     "output_type": "stream",
     "text": [
      "[41.403423, 41.3827, 41.391712, 41.387573, 41.395325, 41.380924, 41.38174, 41.38349, 41.41142, 41.368454, 41.38442, 41.371174, 41.364548, 41.412766, 41.40341, 41.39493, 41.378883, 41.388542, 41.382168, 41.36852, 41.387, 41.37494, 41.4215, 41.39621, 41.41451, 41.385235, 41.384056, 41.37993, 41.38031, 41.38463, 41.422813, 41.39158, 41.421803, 41.386246, 41.4058, 41.363335, 41.38082, 41.391052, 41.38086, 41.37807, 41.387016, 41.37269, 41.397636, 41.43845, 41.40903, 41.37575, 41.38192, 41.38045, 41.38063, 41.3755, 41.38026, 41.37796, 41.38631, 41.380985, 41.385136, 41.38536, 41.375854, 41.4402, 41.388947, 41.37685, 41.3993, 41.40988, 41.38566, 41.383327, 41.38133]\n",
      "[2.174611, 2.177113, 2.164824, 2.175302, 2.161925, 2.122952, 2.171584, 2.18178, 2.174328, 2.153715, 2.17601, 2.151718, 2.165427, 2.131519, 2.15066, 2.16177, 2.17424, 2.18718, 2.172549, 2.159726, 2.17611, 2.14834, 2.1192, 2.161339, 2.152709, 2.180893, 2.17754, 2.17506, 2.17416, 2.18156, 2.119261, 2.16511, 2.119031, 2.178191, 2.15559, 2.166181, 2.180128, 2.180643, 2.185734, 2.1776, 2.170047, 2.17824, 2.114895, 2.148, 2.12652, 2.177805, 2.17186, 2.17033, 2.17362, 2.17674, 2.19343, 2.17369, 2.18536, 2.17341, 2.180325, 2.17042, 2.179365, 2.19831, 2.163636, 2.184366, 2.203403, 2.216376, 2.183822, 2.176435, 2.17768]\n"
     ]
    },
    {
     "name": "stderr",
     "output_type": "stream",
     "text": [
      "Driver [/Users/ericsonmarques/.wdm/drivers/chromedriver/mac64/108.0.5359.71/chromedriver] found in cache\n",
      "\n",
      "\n",
      "====== WebDriver manager ======\n",
      "Current google-chrome version is 108.0.5359\n",
      "Get LATEST chromedriver version for 108.0.5359 google-chrome\n"
     ]
    },
    {
     "name": "stdout",
     "output_type": "stream",
     "text": [
      "[41.403423, 41.3827, 41.391712, 41.387573, 41.395325, 41.380924, 41.38174, 41.38349, 41.41142, 41.368454, 41.38442, 41.371174, 41.364548, 41.412766, 41.40341, 41.39493, 41.378883, 41.388542, 41.382168, 41.36852, 41.387, 41.37494, 41.4215, 41.39621, 41.41451, 41.385235, 41.384056, 41.37993, 41.38031, 41.38463, 41.422813, 41.39158, 41.421803, 41.386246, 41.4058, 41.363335, 41.38082, 41.391052, 41.38086, 41.37807, 41.387016, 41.37269, 41.397636, 41.43845, 41.40903, 41.37575, 41.38192, 41.38045, 41.38063, 41.3755, 41.38026, 41.37796, 41.38631, 41.380985, 41.385136, 41.38536, 41.375854, 41.4402, 41.388947, 41.37685, 41.3993, 41.40988, 41.38566, 41.383327, 41.38133, 41.391117]\n",
      "[2.174611, 2.177113, 2.164824, 2.175302, 2.161925, 2.122952, 2.171584, 2.18178, 2.174328, 2.153715, 2.17601, 2.151718, 2.165427, 2.131519, 2.15066, 2.16177, 2.17424, 2.18718, 2.172549, 2.159726, 2.17611, 2.14834, 2.1192, 2.161339, 2.152709, 2.180893, 2.17754, 2.17506, 2.17416, 2.18156, 2.119261, 2.16511, 2.119031, 2.178191, 2.15559, 2.166181, 2.180128, 2.180643, 2.185734, 2.1776, 2.170047, 2.17824, 2.114895, 2.148, 2.12652, 2.177805, 2.17186, 2.17033, 2.17362, 2.17674, 2.19343, 2.17369, 2.18536, 2.17341, 2.180325, 2.17042, 2.179365, 2.19831, 2.163636, 2.184366, 2.203403, 2.216376, 2.183822, 2.176435, 2.17768, 2.165385]\n"
     ]
    },
    {
     "name": "stderr",
     "output_type": "stream",
     "text": [
      "Driver [/Users/ericsonmarques/.wdm/drivers/chromedriver/mac64/108.0.5359.71/chromedriver] found in cache\n",
      "\n",
      "\n",
      "====== WebDriver manager ======\n",
      "Current google-chrome version is 108.0.5359\n",
      "Get LATEST chromedriver version for 108.0.5359 google-chrome\n"
     ]
    },
    {
     "name": "stdout",
     "output_type": "stream",
     "text": [
      "[41.403423, 41.3827, 41.391712, 41.387573, 41.395325, 41.380924, 41.38174, 41.38349, 41.41142, 41.368454, 41.38442, 41.371174, 41.364548, 41.412766, 41.40341, 41.39493, 41.378883, 41.388542, 41.382168, 41.36852, 41.387, 41.37494, 41.4215, 41.39621, 41.41451, 41.385235, 41.384056, 41.37993, 41.38031, 41.38463, 41.422813, 41.39158, 41.421803, 41.386246, 41.4058, 41.363335, 41.38082, 41.391052, 41.38086, 41.37807, 41.387016, 41.37269, 41.397636, 41.43845, 41.40903, 41.37575, 41.38192, 41.38045, 41.38063, 41.3755, 41.38026, 41.37796, 41.38631, 41.380985, 41.385136, 41.38536, 41.375854, 41.4402, 41.388947, 41.37685, 41.3993, 41.40988, 41.38566, 41.383327, 41.38133, 41.391117, 41.37591]\n",
      "[2.174611, 2.177113, 2.164824, 2.175302, 2.161925, 2.122952, 2.171584, 2.18178, 2.174328, 2.153715, 2.17601, 2.151718, 2.165427, 2.131519, 2.15066, 2.16177, 2.17424, 2.18718, 2.172549, 2.159726, 2.17611, 2.14834, 2.1192, 2.161339, 2.152709, 2.180893, 2.17754, 2.17506, 2.17416, 2.18156, 2.119261, 2.16511, 2.119031, 2.178191, 2.15559, 2.166181, 2.180128, 2.180643, 2.185734, 2.1776, 2.170047, 2.17824, 2.114895, 2.148, 2.12652, 2.177805, 2.17186, 2.17033, 2.17362, 2.17674, 2.19343, 2.17369, 2.18536, 2.17341, 2.180325, 2.17042, 2.179365, 2.19831, 2.163636, 2.184366, 2.203403, 2.216376, 2.183822, 2.176435, 2.17768, 2.165385, 2.14988]\n"
     ]
    },
    {
     "name": "stderr",
     "output_type": "stream",
     "text": [
      "Driver [/Users/ericsonmarques/.wdm/drivers/chromedriver/mac64/108.0.5359.71/chromedriver] found in cache\n",
      "\n",
      "\n",
      "====== WebDriver manager ======\n",
      "Current google-chrome version is 108.0.5359\n",
      "Get LATEST chromedriver version for 108.0.5359 google-chrome\n"
     ]
    },
    {
     "name": "stdout",
     "output_type": "stream",
     "text": [
      "[41.403423, 41.3827, 41.391712, 41.387573, 41.395325, 41.380924, 41.38174, 41.38349, 41.41142, 41.368454, 41.38442, 41.371174, 41.364548, 41.412766, 41.40341, 41.39493, 41.378883, 41.388542, 41.382168, 41.36852, 41.387, 41.37494, 41.4215, 41.39621, 41.41451, 41.385235, 41.384056, 41.37993, 41.38031, 41.38463, 41.422813, 41.39158, 41.421803, 41.386246, 41.4058, 41.363335, 41.38082, 41.391052, 41.38086, 41.37807, 41.387016, 41.37269, 41.397636, 41.43845, 41.40903, 41.37575, 41.38192, 41.38045, 41.38063, 41.3755, 41.38026, 41.37796, 41.38631, 41.380985, 41.385136, 41.38536, 41.375854, 41.4402, 41.388947, 41.37685, 41.3993, 41.40988, 41.38566, 41.383327, 41.38133, 41.391117, 41.37591, 41.35233]\n",
      "[2.174611, 2.177113, 2.164824, 2.175302, 2.161925, 2.122952, 2.171584, 2.18178, 2.174328, 2.153715, 2.17601, 2.151718, 2.165427, 2.131519, 2.15066, 2.16177, 2.17424, 2.18718, 2.172549, 2.159726, 2.17611, 2.14834, 2.1192, 2.161339, 2.152709, 2.180893, 2.17754, 2.17506, 2.17416, 2.18156, 2.119261, 2.16511, 2.119031, 2.178191, 2.15559, 2.166181, 2.180128, 2.180643, 2.185734, 2.1776, 2.170047, 2.17824, 2.114895, 2.148, 2.12652, 2.177805, 2.17186, 2.17033, 2.17362, 2.17674, 2.19343, 2.17369, 2.18536, 2.17341, 2.180325, 2.17042, 2.179365, 2.19831, 2.163636, 2.184366, 2.203403, 2.216376, 2.183822, 2.176435, 2.17768, 2.165385, 2.14988, 2.15496]\n"
     ]
    },
    {
     "name": "stderr",
     "output_type": "stream",
     "text": [
      "Driver [/Users/ericsonmarques/.wdm/drivers/chromedriver/mac64/108.0.5359.71/chromedriver] found in cache\n",
      "\n",
      "\n",
      "====== WebDriver manager ======\n",
      "Current google-chrome version is 108.0.5359\n",
      "Get LATEST chromedriver version for 108.0.5359 google-chrome\n"
     ]
    },
    {
     "name": "stdout",
     "output_type": "stream",
     "text": [
      "[41.403423, 41.3827, 41.391712, 41.387573, 41.395325, 41.380924, 41.38174, 41.38349, 41.41142, 41.368454, 41.38442, 41.371174, 41.364548, 41.412766, 41.40341, 41.39493, 41.378883, 41.388542, 41.382168, 41.36852, 41.387, 41.37494, 41.4215, 41.39621, 41.41451, 41.385235, 41.384056, 41.37993, 41.38031, 41.38463, 41.422813, 41.39158, 41.421803, 41.386246, 41.4058, 41.363335, 41.38082, 41.391052, 41.38086, 41.37807, 41.387016, 41.37269, 41.397636, 41.43845, 41.40903, 41.37575, 41.38192, 41.38045, 41.38063, 41.3755, 41.38026, 41.37796, 41.38631, 41.380985, 41.385136, 41.38536, 41.375854, 41.4402, 41.388947, 41.37685, 41.3993, 41.40988, 41.38566, 41.383327, 41.38133, 41.391117, 41.37591, 41.35233, 41.39676]\n",
      "[2.174611, 2.177113, 2.164824, 2.175302, 2.161925, 2.122952, 2.171584, 2.18178, 2.174328, 2.153715, 2.17601, 2.151718, 2.165427, 2.131519, 2.15066, 2.16177, 2.17424, 2.18718, 2.172549, 2.159726, 2.17611, 2.14834, 2.1192, 2.161339, 2.152709, 2.180893, 2.17754, 2.17506, 2.17416, 2.18156, 2.119261, 2.16511, 2.119031, 2.178191, 2.15559, 2.166181, 2.180128, 2.180643, 2.185734, 2.1776, 2.170047, 2.17824, 2.114895, 2.148, 2.12652, 2.177805, 2.17186, 2.17033, 2.17362, 2.17674, 2.19343, 2.17369, 2.18536, 2.17341, 2.180325, 2.17042, 2.179365, 2.19831, 2.163636, 2.184366, 2.203403, 2.216376, 2.183822, 2.176435, 2.17768, 2.165385, 2.14988, 2.15496, 2.20834]\n"
     ]
    },
    {
     "name": "stderr",
     "output_type": "stream",
     "text": [
      "Driver [/Users/ericsonmarques/.wdm/drivers/chromedriver/mac64/108.0.5359.71/chromedriver] found in cache\n",
      "\n",
      "\n",
      "====== WebDriver manager ======\n",
      "Current google-chrome version is 108.0.5359\n",
      "Get LATEST chromedriver version for 108.0.5359 google-chrome\n"
     ]
    },
    {
     "name": "stdout",
     "output_type": "stream",
     "text": [
      "[41.403423, 41.3827, 41.391712, 41.387573, 41.395325, 41.380924, 41.38174, 41.38349, 41.41142, 41.368454, 41.38442, 41.371174, 41.364548, 41.412766, 41.40341, 41.39493, 41.378883, 41.388542, 41.382168, 41.36852, 41.387, 41.37494, 41.4215, 41.39621, 41.41451, 41.385235, 41.384056, 41.37993, 41.38031, 41.38463, 41.422813, 41.39158, 41.421803, 41.386246, 41.4058, 41.363335, 41.38082, 41.391052, 41.38086, 41.37807, 41.387016, 41.37269, 41.397636, 41.43845, 41.40903, 41.37575, 41.38192, 41.38045, 41.38063, 41.3755, 41.38026, 41.37796, 41.38631, 41.380985, 41.385136, 41.38536, 41.375854, 41.4402, 41.388947, 41.37685, 41.3993, 41.40988, 41.38566, 41.383327, 41.38133, 41.391117, 41.37591, 41.35233, 41.39676, 41.38563]\n",
      "[2.174611, 2.177113, 2.164824, 2.175302, 2.161925, 2.122952, 2.171584, 2.18178, 2.174328, 2.153715, 2.17601, 2.151718, 2.165427, 2.131519, 2.15066, 2.16177, 2.17424, 2.18718, 2.172549, 2.159726, 2.17611, 2.14834, 2.1192, 2.161339, 2.152709, 2.180893, 2.17754, 2.17506, 2.17416, 2.18156, 2.119261, 2.16511, 2.119031, 2.178191, 2.15559, 2.166181, 2.180128, 2.180643, 2.185734, 2.1776, 2.170047, 2.17824, 2.114895, 2.148, 2.12652, 2.177805, 2.17186, 2.17033, 2.17362, 2.17674, 2.19343, 2.17369, 2.18536, 2.17341, 2.180325, 2.17042, 2.179365, 2.19831, 2.163636, 2.184366, 2.203403, 2.216376, 2.183822, 2.176435, 2.17768, 2.165385, 2.14988, 2.15496, 2.20834, 2.17183]\n"
     ]
    },
    {
     "name": "stderr",
     "output_type": "stream",
     "text": [
      "Driver [/Users/ericsonmarques/.wdm/drivers/chromedriver/mac64/108.0.5359.71/chromedriver] found in cache\n",
      "\n",
      "\n",
      "====== WebDriver manager ======\n",
      "Current google-chrome version is 108.0.5359\n",
      "Get LATEST chromedriver version for 108.0.5359 google-chrome\n"
     ]
    },
    {
     "name": "stdout",
     "output_type": "stream",
     "text": [
      "[41.403423, 41.3827, 41.391712, 41.387573, 41.395325, 41.380924, 41.38174, 41.38349, 41.41142, 41.368454, 41.38442, 41.371174, 41.364548, 41.412766, 41.40341, 41.39493, 41.378883, 41.388542, 41.382168, 41.36852, 41.387, 41.37494, 41.4215, 41.39621, 41.41451, 41.385235, 41.384056, 41.37993, 41.38031, 41.38463, 41.422813, 41.39158, 41.421803, 41.386246, 41.4058, 41.363335, 41.38082, 41.391052, 41.38086, 41.37807, 41.387016, 41.37269, 41.397636, 41.43845, 41.40903, 41.37575, 41.38192, 41.38045, 41.38063, 41.3755, 41.38026, 41.37796, 41.38631, 41.380985, 41.385136, 41.38536, 41.375854, 41.4402, 41.388947, 41.37685, 41.3993, 41.40988, 41.38566, 41.383327, 41.38133, 41.391117, 41.37591, 41.35233, 41.39676, 41.38563, 41.382008]\n",
      "[2.174611, 2.177113, 2.164824, 2.175302, 2.161925, 2.122952, 2.171584, 2.18178, 2.174328, 2.153715, 2.17601, 2.151718, 2.165427, 2.131519, 2.15066, 2.16177, 2.17424, 2.18718, 2.172549, 2.159726, 2.17611, 2.14834, 2.1192, 2.161339, 2.152709, 2.180893, 2.17754, 2.17506, 2.17416, 2.18156, 2.119261, 2.16511, 2.119031, 2.178191, 2.15559, 2.166181, 2.180128, 2.180643, 2.185734, 2.1776, 2.170047, 2.17824, 2.114895, 2.148, 2.12652, 2.177805, 2.17186, 2.17033, 2.17362, 2.17674, 2.19343, 2.17369, 2.18536, 2.17341, 2.180325, 2.17042, 2.179365, 2.19831, 2.163636, 2.184366, 2.203403, 2.216376, 2.183822, 2.176435, 2.17768, 2.165385, 2.14988, 2.15496, 2.20834, 2.17183, 2.171915]\n"
     ]
    },
    {
     "name": "stderr",
     "output_type": "stream",
     "text": [
      "Driver [/Users/ericsonmarques/.wdm/drivers/chromedriver/mac64/108.0.5359.71/chromedriver] found in cache\n",
      "\n",
      "\n",
      "====== WebDriver manager ======\n",
      "Current google-chrome version is 108.0.5359\n",
      "Get LATEST chromedriver version for 108.0.5359 google-chrome\n"
     ]
    },
    {
     "name": "stdout",
     "output_type": "stream",
     "text": [
      "[41.403423, 41.3827, 41.391712, 41.387573, 41.395325, 41.380924, 41.38174, 41.38349, 41.41142, 41.368454, 41.38442, 41.371174, 41.364548, 41.412766, 41.40341, 41.39493, 41.378883, 41.388542, 41.382168, 41.36852, 41.387, 41.37494, 41.4215, 41.39621, 41.41451, 41.385235, 41.384056, 41.37993, 41.38031, 41.38463, 41.422813, 41.39158, 41.421803, 41.386246, 41.4058, 41.363335, 41.38082, 41.391052, 41.38086, 41.37807, 41.387016, 41.37269, 41.397636, 41.43845, 41.40903, 41.37575, 41.38192, 41.38045, 41.38063, 41.3755, 41.38026, 41.37796, 41.38631, 41.380985, 41.385136, 41.38536, 41.375854, 41.4402, 41.388947, 41.37685, 41.3993, 41.40988, 41.38566, 41.383327, 41.38133, 41.391117, 41.37591, 41.35233, 41.39676, 41.38563, 41.382008, 41.38448]\n",
      "[2.174611, 2.177113, 2.164824, 2.175302, 2.161925, 2.122952, 2.171584, 2.18178, 2.174328, 2.153715, 2.17601, 2.151718, 2.165427, 2.131519, 2.15066, 2.16177, 2.17424, 2.18718, 2.172549, 2.159726, 2.17611, 2.14834, 2.1192, 2.161339, 2.152709, 2.180893, 2.17754, 2.17506, 2.17416, 2.18156, 2.119261, 2.16511, 2.119031, 2.178191, 2.15559, 2.166181, 2.180128, 2.180643, 2.185734, 2.1776, 2.170047, 2.17824, 2.114895, 2.148, 2.12652, 2.177805, 2.17186, 2.17033, 2.17362, 2.17674, 2.19343, 2.17369, 2.18536, 2.17341, 2.180325, 2.17042, 2.179365, 2.19831, 2.163636, 2.184366, 2.203403, 2.216376, 2.183822, 2.176435, 2.17768, 2.165385, 2.14988, 2.15496, 2.20834, 2.17183, 2.171915, 2.176674]\n"
     ]
    },
    {
     "name": "stderr",
     "output_type": "stream",
     "text": [
      "Driver [/Users/ericsonmarques/.wdm/drivers/chromedriver/mac64/108.0.5359.71/chromedriver] found in cache\n",
      "\n",
      "\n",
      "====== WebDriver manager ======\n",
      "Current google-chrome version is 108.0.5359\n",
      "Get LATEST chromedriver version for 108.0.5359 google-chrome\n"
     ]
    },
    {
     "name": "stdout",
     "output_type": "stream",
     "text": [
      "[41.403423, 41.3827, 41.391712, 41.387573, 41.395325, 41.380924, 41.38174, 41.38349, 41.41142, 41.368454, 41.38442, 41.371174, 41.364548, 41.412766, 41.40341, 41.39493, 41.378883, 41.388542, 41.382168, 41.36852, 41.387, 41.37494, 41.4215, 41.39621, 41.41451, 41.385235, 41.384056, 41.37993, 41.38031, 41.38463, 41.422813, 41.39158, 41.421803, 41.386246, 41.4058, 41.363335, 41.38082, 41.391052, 41.38086, 41.37807, 41.387016, 41.37269, 41.397636, 41.43845, 41.40903, 41.37575, 41.38192, 41.38045, 41.38063, 41.3755, 41.38026, 41.37796, 41.38631, 41.380985, 41.385136, 41.38536, 41.375854, 41.4402, 41.388947, 41.37685, 41.3993, 41.40988, 41.38566, 41.383327, 41.38133, 41.391117, 41.37591, 41.35233, 41.39676, 41.38563, 41.382008, 41.38448, 41.387978]\n",
      "[2.174611, 2.177113, 2.164824, 2.175302, 2.161925, 2.122952, 2.171584, 2.18178, 2.174328, 2.153715, 2.17601, 2.151718, 2.165427, 2.131519, 2.15066, 2.16177, 2.17424, 2.18718, 2.172549, 2.159726, 2.17611, 2.14834, 2.1192, 2.161339, 2.152709, 2.180893, 2.17754, 2.17506, 2.17416, 2.18156, 2.119261, 2.16511, 2.119031, 2.178191, 2.15559, 2.166181, 2.180128, 2.180643, 2.185734, 2.1776, 2.170047, 2.17824, 2.114895, 2.148, 2.12652, 2.177805, 2.17186, 2.17033, 2.17362, 2.17674, 2.19343, 2.17369, 2.18536, 2.17341, 2.180325, 2.17042, 2.179365, 2.19831, 2.163636, 2.184366, 2.203403, 2.216376, 2.183822, 2.176435, 2.17768, 2.165385, 2.14988, 2.15496, 2.20834, 2.17183, 2.171915, 2.176674, 2.154285]\n"
     ]
    },
    {
     "name": "stderr",
     "output_type": "stream",
     "text": [
      "Driver [/Users/ericsonmarques/.wdm/drivers/chromedriver/mac64/108.0.5359.71/chromedriver] found in cache\n",
      "\n",
      "\n",
      "====== WebDriver manager ======\n",
      "Current google-chrome version is 108.0.5359\n",
      "Get LATEST chromedriver version for 108.0.5359 google-chrome\n"
     ]
    },
    {
     "name": "stdout",
     "output_type": "stream",
     "text": [
      "[41.403423, 41.3827, 41.391712, 41.387573, 41.395325, 41.380924, 41.38174, 41.38349, 41.41142, 41.368454, 41.38442, 41.371174, 41.364548, 41.412766, 41.40341, 41.39493, 41.378883, 41.388542, 41.382168, 41.36852, 41.387, 41.37494, 41.4215, 41.39621, 41.41451, 41.385235, 41.384056, 41.37993, 41.38031, 41.38463, 41.422813, 41.39158, 41.421803, 41.386246, 41.4058, 41.363335, 41.38082, 41.391052, 41.38086, 41.37807, 41.387016, 41.37269, 41.397636, 41.43845, 41.40903, 41.37575, 41.38192, 41.38045, 41.38063, 41.3755, 41.38026, 41.37796, 41.38631, 41.380985, 41.385136, 41.38536, 41.375854, 41.4402, 41.388947, 41.37685, 41.3993, 41.40988, 41.38566, 41.383327, 41.38133, 41.391117, 41.37591, 41.35233, 41.39676, 41.38563, 41.382008, 41.38448, 41.387978, 41.404808]\n",
      "[2.174611, 2.177113, 2.164824, 2.175302, 2.161925, 2.122952, 2.171584, 2.18178, 2.174328, 2.153715, 2.17601, 2.151718, 2.165427, 2.131519, 2.15066, 2.16177, 2.17424, 2.18718, 2.172549, 2.159726, 2.17611, 2.14834, 2.1192, 2.161339, 2.152709, 2.180893, 2.17754, 2.17506, 2.17416, 2.18156, 2.119261, 2.16511, 2.119031, 2.178191, 2.15559, 2.166181, 2.180128, 2.180643, 2.185734, 2.1776, 2.170047, 2.17824, 2.114895, 2.148, 2.12652, 2.177805, 2.17186, 2.17033, 2.17362, 2.17674, 2.19343, 2.17369, 2.18536, 2.17341, 2.180325, 2.17042, 2.179365, 2.19831, 2.163636, 2.184366, 2.203403, 2.216376, 2.183822, 2.176435, 2.17768, 2.165385, 2.14988, 2.15496, 2.20834, 2.17183, 2.171915, 2.176674, 2.154285, 2.191822]\n"
     ]
    },
    {
     "name": "stderr",
     "output_type": "stream",
     "text": [
      "Driver [/Users/ericsonmarques/.wdm/drivers/chromedriver/mac64/108.0.5359.71/chromedriver] found in cache\n",
      "\n",
      "\n",
      "====== WebDriver manager ======\n",
      "Current google-chrome version is 108.0.5359\n",
      "Get LATEST chromedriver version for 108.0.5359 google-chrome\n"
     ]
    },
    {
     "name": "stdout",
     "output_type": "stream",
     "text": [
      "[41.403423, 41.3827, 41.391712, 41.387573, 41.395325, 41.380924, 41.38174, 41.38349, 41.41142, 41.368454, 41.38442, 41.371174, 41.364548, 41.412766, 41.40341, 41.39493, 41.378883, 41.388542, 41.382168, 41.36852, 41.387, 41.37494, 41.4215, 41.39621, 41.41451, 41.385235, 41.384056, 41.37993, 41.38031, 41.38463, 41.422813, 41.39158, 41.421803, 41.386246, 41.4058, 41.363335, 41.38082, 41.391052, 41.38086, 41.37807, 41.387016, 41.37269, 41.397636, 41.43845, 41.40903, 41.37575, 41.38192, 41.38045, 41.38063, 41.3755, 41.38026, 41.37796, 41.38631, 41.380985, 41.385136, 41.38536, 41.375854, 41.4402, 41.388947, 41.37685, 41.3993, 41.40988, 41.38566, 41.383327, 41.38133, 41.391117, 41.37591, 41.35233, 41.39676, 41.38563, 41.382008, 41.38448, 41.387978, 41.404808, 41.38677]\n",
      "[2.174611, 2.177113, 2.164824, 2.175302, 2.161925, 2.122952, 2.171584, 2.18178, 2.174328, 2.153715, 2.17601, 2.151718, 2.165427, 2.131519, 2.15066, 2.16177, 2.17424, 2.18718, 2.172549, 2.159726, 2.17611, 2.14834, 2.1192, 2.161339, 2.152709, 2.180893, 2.17754, 2.17506, 2.17416, 2.18156, 2.119261, 2.16511, 2.119031, 2.178191, 2.15559, 2.166181, 2.180128, 2.180643, 2.185734, 2.1776, 2.170047, 2.17824, 2.114895, 2.148, 2.12652, 2.177805, 2.17186, 2.17033, 2.17362, 2.17674, 2.19343, 2.17369, 2.18536, 2.17341, 2.180325, 2.17042, 2.179365, 2.19831, 2.163636, 2.184366, 2.203403, 2.216376, 2.183822, 2.176435, 2.17768, 2.165385, 2.14988, 2.15496, 2.20834, 2.17183, 2.171915, 2.176674, 2.154285, 2.191822, 2.19773]\n"
     ]
    },
    {
     "name": "stderr",
     "output_type": "stream",
     "text": [
      "Driver [/Users/ericsonmarques/.wdm/drivers/chromedriver/mac64/108.0.5359.71/chromedriver] found in cache\n",
      "\n",
      "\n",
      "====== WebDriver manager ======\n",
      "Current google-chrome version is 108.0.5359\n",
      "Get LATEST chromedriver version for 108.0.5359 google-chrome\n"
     ]
    },
    {
     "name": "stdout",
     "output_type": "stream",
     "text": [
      "[41.403423, 41.3827, 41.391712, 41.387573, 41.395325, 41.380924, 41.38174, 41.38349, 41.41142, 41.368454, 41.38442, 41.371174, 41.364548, 41.412766, 41.40341, 41.39493, 41.378883, 41.388542, 41.382168, 41.36852, 41.387, 41.37494, 41.4215, 41.39621, 41.41451, 41.385235, 41.384056, 41.37993, 41.38031, 41.38463, 41.422813, 41.39158, 41.421803, 41.386246, 41.4058, 41.363335, 41.38082, 41.391052, 41.38086, 41.37807, 41.387016, 41.37269, 41.397636, 41.43845, 41.40903, 41.37575, 41.38192, 41.38045, 41.38063, 41.3755, 41.38026, 41.37796, 41.38631, 41.380985, 41.385136, 41.38536, 41.375854, 41.4402, 41.388947, 41.37685, 41.3993, 41.40988, 41.38566, 41.383327, 41.38133, 41.391117, 41.37591, 41.35233, 41.39676, 41.38563, 41.382008, 41.38448, 41.387978, 41.404808, 41.38677, 41.378754]\n",
      "[2.174611, 2.177113, 2.164824, 2.175302, 2.161925, 2.122952, 2.171584, 2.18178, 2.174328, 2.153715, 2.17601, 2.151718, 2.165427, 2.131519, 2.15066, 2.16177, 2.17424, 2.18718, 2.172549, 2.159726, 2.17611, 2.14834, 2.1192, 2.161339, 2.152709, 2.180893, 2.17754, 2.17506, 2.17416, 2.18156, 2.119261, 2.16511, 2.119031, 2.178191, 2.15559, 2.166181, 2.180128, 2.180643, 2.185734, 2.1776, 2.170047, 2.17824, 2.114895, 2.148, 2.12652, 2.177805, 2.17186, 2.17033, 2.17362, 2.17674, 2.19343, 2.17369, 2.18536, 2.17341, 2.180325, 2.17042, 2.179365, 2.19831, 2.163636, 2.184366, 2.203403, 2.216376, 2.183822, 2.176435, 2.17768, 2.165385, 2.14988, 2.15496, 2.20834, 2.17183, 2.171915, 2.176674, 2.154285, 2.191822, 2.19773, 2.169168]\n"
     ]
    },
    {
     "name": "stderr",
     "output_type": "stream",
     "text": [
      "Driver [/Users/ericsonmarques/.wdm/drivers/chromedriver/mac64/108.0.5359.71/chromedriver] found in cache\n",
      "\n",
      "\n",
      "====== WebDriver manager ======\n",
      "Current google-chrome version is 108.0.5359\n",
      "Get LATEST chromedriver version for 108.0.5359 google-chrome\n"
     ]
    },
    {
     "name": "stdout",
     "output_type": "stream",
     "text": [
      "[41.403423, 41.3827, 41.391712, 41.387573, 41.395325, 41.380924, 41.38174, 41.38349, 41.41142, 41.368454, 41.38442, 41.371174, 41.364548, 41.412766, 41.40341, 41.39493, 41.378883, 41.388542, 41.382168, 41.36852, 41.387, 41.37494, 41.4215, 41.39621, 41.41451, 41.385235, 41.384056, 41.37993, 41.38031, 41.38463, 41.422813, 41.39158, 41.421803, 41.386246, 41.4058, 41.363335, 41.38082, 41.391052, 41.38086, 41.37807, 41.387016, 41.37269, 41.397636, 41.43845, 41.40903, 41.37575, 41.38192, 41.38045, 41.38063, 41.3755, 41.38026, 41.37796, 41.38631, 41.380985, 41.385136, 41.38536, 41.375854, 41.4402, 41.388947, 41.37685, 41.3993, 41.40988, 41.38566, 41.383327, 41.38133, 41.391117, 41.37591, 41.35233, 41.39676, 41.38563, 41.382008, 41.38448, 41.387978, 41.404808, 41.38677, 41.378754, 41.36882]\n",
      "[2.174611, 2.177113, 2.164824, 2.175302, 2.161925, 2.122952, 2.171584, 2.18178, 2.174328, 2.153715, 2.17601, 2.151718, 2.165427, 2.131519, 2.15066, 2.16177, 2.17424, 2.18718, 2.172549, 2.159726, 2.17611, 2.14834, 2.1192, 2.161339, 2.152709, 2.180893, 2.17754, 2.17506, 2.17416, 2.18156, 2.119261, 2.16511, 2.119031, 2.178191, 2.15559, 2.166181, 2.180128, 2.180643, 2.185734, 2.1776, 2.170047, 2.17824, 2.114895, 2.148, 2.12652, 2.177805, 2.17186, 2.17033, 2.17362, 2.17674, 2.19343, 2.17369, 2.18536, 2.17341, 2.180325, 2.17042, 2.179365, 2.19831, 2.163636, 2.184366, 2.203403, 2.216376, 2.183822, 2.176435, 2.17768, 2.165385, 2.14988, 2.15496, 2.20834, 2.17183, 2.171915, 2.176674, 2.154285, 2.191822, 2.19773, 2.169168, 2.16304]\n"
     ]
    },
    {
     "name": "stderr",
     "output_type": "stream",
     "text": [
      "Driver [/Users/ericsonmarques/.wdm/drivers/chromedriver/mac64/108.0.5359.71/chromedriver] found in cache\n",
      "\n",
      "\n",
      "====== WebDriver manager ======\n",
      "Current google-chrome version is 108.0.5359\n",
      "Get LATEST chromedriver version for 108.0.5359 google-chrome\n"
     ]
    },
    {
     "name": "stdout",
     "output_type": "stream",
     "text": [
      "[41.403423, 41.3827, 41.391712, 41.387573, 41.395325, 41.380924, 41.38174, 41.38349, 41.41142, 41.368454, 41.38442, 41.371174, 41.364548, 41.412766, 41.40341, 41.39493, 41.378883, 41.388542, 41.382168, 41.36852, 41.387, 41.37494, 41.4215, 41.39621, 41.41451, 41.385235, 41.384056, 41.37993, 41.38031, 41.38463, 41.422813, 41.39158, 41.421803, 41.386246, 41.4058, 41.363335, 41.38082, 41.391052, 41.38086, 41.37807, 41.387016, 41.37269, 41.397636, 41.43845, 41.40903, 41.37575, 41.38192, 41.38045, 41.38063, 41.3755, 41.38026, 41.37796, 41.38631, 41.380985, 41.385136, 41.38536, 41.375854, 41.4402, 41.388947, 41.37685, 41.3993, 41.40988, 41.38566, 41.383327, 41.38133, 41.391117, 41.37591, 41.35233, 41.39676, 41.38563, 41.382008, 41.38448, 41.387978, 41.404808, 41.38677, 41.378754, 41.36882, 41.38231]\n",
      "[2.174611, 2.177113, 2.164824, 2.175302, 2.161925, 2.122952, 2.171584, 2.18178, 2.174328, 2.153715, 2.17601, 2.151718, 2.165427, 2.131519, 2.15066, 2.16177, 2.17424, 2.18718, 2.172549, 2.159726, 2.17611, 2.14834, 2.1192, 2.161339, 2.152709, 2.180893, 2.17754, 2.17506, 2.17416, 2.18156, 2.119261, 2.16511, 2.119031, 2.178191, 2.15559, 2.166181, 2.180128, 2.180643, 2.185734, 2.1776, 2.170047, 2.17824, 2.114895, 2.148, 2.12652, 2.177805, 2.17186, 2.17033, 2.17362, 2.17674, 2.19343, 2.17369, 2.18536, 2.17341, 2.180325, 2.17042, 2.179365, 2.19831, 2.163636, 2.184366, 2.203403, 2.216376, 2.183822, 2.176435, 2.17768, 2.165385, 2.14988, 2.15496, 2.20834, 2.17183, 2.171915, 2.176674, 2.154285, 2.191822, 2.19773, 2.169168, 2.16304, 2.17377]\n"
     ]
    },
    {
     "name": "stderr",
     "output_type": "stream",
     "text": [
      "Driver [/Users/ericsonmarques/.wdm/drivers/chromedriver/mac64/108.0.5359.71/chromedriver] found in cache\n",
      "\n",
      "\n",
      "====== WebDriver manager ======\n",
      "Current google-chrome version is 108.0.5359\n",
      "Get LATEST chromedriver version for 108.0.5359 google-chrome\n"
     ]
    },
    {
     "name": "stdout",
     "output_type": "stream",
     "text": [
      "[41.403423, 41.3827, 41.391712, 41.387573, 41.395325, 41.380924, 41.38174, 41.38349, 41.41142, 41.368454, 41.38442, 41.371174, 41.364548, 41.412766, 41.40341, 41.39493, 41.378883, 41.388542, 41.382168, 41.36852, 41.387, 41.37494, 41.4215, 41.39621, 41.41451, 41.385235, 41.384056, 41.37993, 41.38031, 41.38463, 41.422813, 41.39158, 41.421803, 41.386246, 41.4058, 41.363335, 41.38082, 41.391052, 41.38086, 41.37807, 41.387016, 41.37269, 41.397636, 41.43845, 41.40903, 41.37575, 41.38192, 41.38045, 41.38063, 41.3755, 41.38026, 41.37796, 41.38631, 41.380985, 41.385136, 41.38536, 41.375854, 41.4402, 41.388947, 41.37685, 41.3993, 41.40988, 41.38566, 41.383327, 41.38133, 41.391117, 41.37591, 41.35233, 41.39676, 41.38563, 41.382008, 41.38448, 41.387978, 41.404808, 41.38677, 41.378754, 41.36882, 41.38231, 41.376358]\n",
      "[2.174611, 2.177113, 2.164824, 2.175302, 2.161925, 2.122952, 2.171584, 2.18178, 2.174328, 2.153715, 2.17601, 2.151718, 2.165427, 2.131519, 2.15066, 2.16177, 2.17424, 2.18718, 2.172549, 2.159726, 2.17611, 2.14834, 2.1192, 2.161339, 2.152709, 2.180893, 2.17754, 2.17506, 2.17416, 2.18156, 2.119261, 2.16511, 2.119031, 2.178191, 2.15559, 2.166181, 2.180128, 2.180643, 2.185734, 2.1776, 2.170047, 2.17824, 2.114895, 2.148, 2.12652, 2.177805, 2.17186, 2.17033, 2.17362, 2.17674, 2.19343, 2.17369, 2.18536, 2.17341, 2.180325, 2.17042, 2.179365, 2.19831, 2.163636, 2.184366, 2.203403, 2.216376, 2.183822, 2.176435, 2.17768, 2.165385, 2.14988, 2.15496, 2.20834, 2.17183, 2.171915, 2.176674, 2.154285, 2.191822, 2.19773, 2.169168, 2.16304, 2.17377, 2.169145]\n"
     ]
    },
    {
     "name": "stderr",
     "output_type": "stream",
     "text": [
      "Driver [/Users/ericsonmarques/.wdm/drivers/chromedriver/mac64/108.0.5359.71/chromedriver] found in cache\n",
      "\n",
      "\n",
      "====== WebDriver manager ======\n",
      "Current google-chrome version is 108.0.5359\n",
      "Get LATEST chromedriver version for 108.0.5359 google-chrome\n"
     ]
    },
    {
     "name": "stdout",
     "output_type": "stream",
     "text": [
      "[41.403423, 41.3827, 41.391712, 41.387573, 41.395325, 41.380924, 41.38174, 41.38349, 41.41142, 41.368454, 41.38442, 41.371174, 41.364548, 41.412766, 41.40341, 41.39493, 41.378883, 41.388542, 41.382168, 41.36852, 41.387, 41.37494, 41.4215, 41.39621, 41.41451, 41.385235, 41.384056, 41.37993, 41.38031, 41.38463, 41.422813, 41.39158, 41.421803, 41.386246, 41.4058, 41.363335, 41.38082, 41.391052, 41.38086, 41.37807, 41.387016, 41.37269, 41.397636, 41.43845, 41.40903, 41.37575, 41.38192, 41.38045, 41.38063, 41.3755, 41.38026, 41.37796, 41.38631, 41.380985, 41.385136, 41.38536, 41.375854, 41.4402, 41.388947, 41.37685, 41.3993, 41.40988, 41.38566, 41.383327, 41.38133, 41.391117, 41.37591, 41.35233, 41.39676, 41.38563, 41.382008, 41.38448, 41.387978, 41.404808, 41.38677, 41.378754, 41.36882, 41.38231, 41.376358, 41.38565]\n",
      "[2.174611, 2.177113, 2.164824, 2.175302, 2.161925, 2.122952, 2.171584, 2.18178, 2.174328, 2.153715, 2.17601, 2.151718, 2.165427, 2.131519, 2.15066, 2.16177, 2.17424, 2.18718, 2.172549, 2.159726, 2.17611, 2.14834, 2.1192, 2.161339, 2.152709, 2.180893, 2.17754, 2.17506, 2.17416, 2.18156, 2.119261, 2.16511, 2.119031, 2.178191, 2.15559, 2.166181, 2.180128, 2.180643, 2.185734, 2.1776, 2.170047, 2.17824, 2.114895, 2.148, 2.12652, 2.177805, 2.17186, 2.17033, 2.17362, 2.17674, 2.19343, 2.17369, 2.18536, 2.17341, 2.180325, 2.17042, 2.179365, 2.19831, 2.163636, 2.184366, 2.203403, 2.216376, 2.183822, 2.176435, 2.17768, 2.165385, 2.14988, 2.15496, 2.20834, 2.17183, 2.171915, 2.176674, 2.154285, 2.191822, 2.19773, 2.169168, 2.16304, 2.17377, 2.169145, 2.18586]\n"
     ]
    },
    {
     "name": "stderr",
     "output_type": "stream",
     "text": [
      "Driver [/Users/ericsonmarques/.wdm/drivers/chromedriver/mac64/108.0.5359.71/chromedriver] found in cache\n",
      "\n",
      "\n",
      "====== WebDriver manager ======\n",
      "Current google-chrome version is 108.0.5359\n",
      "Get LATEST chromedriver version for 108.0.5359 google-chrome\n"
     ]
    },
    {
     "name": "stdout",
     "output_type": "stream",
     "text": [
      "[41.403423, 41.3827, 41.391712, 41.387573, 41.395325, 41.380924, 41.38174, 41.38349, 41.41142, 41.368454, 41.38442, 41.371174, 41.364548, 41.412766, 41.40341, 41.39493, 41.378883, 41.388542, 41.382168, 41.36852, 41.387, 41.37494, 41.4215, 41.39621, 41.41451, 41.385235, 41.384056, 41.37993, 41.38031, 41.38463, 41.422813, 41.39158, 41.421803, 41.386246, 41.4058, 41.363335, 41.38082, 41.391052, 41.38086, 41.37807, 41.387016, 41.37269, 41.397636, 41.43845, 41.40903, 41.37575, 41.38192, 41.38045, 41.38063, 41.3755, 41.38026, 41.37796, 41.38631, 41.380985, 41.385136, 41.38536, 41.375854, 41.4402, 41.388947, 41.37685, 41.3993, 41.40988, 41.38566, 41.383327, 41.38133, 41.391117, 41.37591, 41.35233, 41.39676, 41.38563, 41.382008, 41.38448, 41.387978, 41.404808, 41.38677, 41.378754, 41.36882, 41.38231, 41.376358, 41.38565, 41.40251]\n",
      "[2.174611, 2.177113, 2.164824, 2.175302, 2.161925, 2.122952, 2.171584, 2.18178, 2.174328, 2.153715, 2.17601, 2.151718, 2.165427, 2.131519, 2.15066, 2.16177, 2.17424, 2.18718, 2.172549, 2.159726, 2.17611, 2.14834, 2.1192, 2.161339, 2.152709, 2.180893, 2.17754, 2.17506, 2.17416, 2.18156, 2.119261, 2.16511, 2.119031, 2.178191, 2.15559, 2.166181, 2.180128, 2.180643, 2.185734, 2.1776, 2.170047, 2.17824, 2.114895, 2.148, 2.12652, 2.177805, 2.17186, 2.17033, 2.17362, 2.17674, 2.19343, 2.17369, 2.18536, 2.17341, 2.180325, 2.17042, 2.179365, 2.19831, 2.163636, 2.184366, 2.203403, 2.216376, 2.183822, 2.176435, 2.17768, 2.165385, 2.14988, 2.15496, 2.20834, 2.17183, 2.171915, 2.176674, 2.154285, 2.191822, 2.19773, 2.169168, 2.16304, 2.17377, 2.169145, 2.18586, 2.188178]\n"
     ]
    },
    {
     "name": "stderr",
     "output_type": "stream",
     "text": [
      "Driver [/Users/ericsonmarques/.wdm/drivers/chromedriver/mac64/108.0.5359.71/chromedriver] found in cache\n",
      "\n",
      "\n",
      "====== WebDriver manager ======\n",
      "Current google-chrome version is 108.0.5359\n",
      "Get LATEST chromedriver version for 108.0.5359 google-chrome\n"
     ]
    },
    {
     "name": "stdout",
     "output_type": "stream",
     "text": [
      "[41.403423, 41.3827, 41.391712, 41.387573, 41.395325, 41.380924, 41.38174, 41.38349, 41.41142, 41.368454, 41.38442, 41.371174, 41.364548, 41.412766, 41.40341, 41.39493, 41.378883, 41.388542, 41.382168, 41.36852, 41.387, 41.37494, 41.4215, 41.39621, 41.41451, 41.385235, 41.384056, 41.37993, 41.38031, 41.38463, 41.422813, 41.39158, 41.421803, 41.386246, 41.4058, 41.363335, 41.38082, 41.391052, 41.38086, 41.37807, 41.387016, 41.37269, 41.397636, 41.43845, 41.40903, 41.37575, 41.38192, 41.38045, 41.38063, 41.3755, 41.38026, 41.37796, 41.38631, 41.380985, 41.385136, 41.38536, 41.375854, 41.4402, 41.388947, 41.37685, 41.3993, 41.40988, 41.38566, 41.383327, 41.38133, 41.391117, 41.37591, 41.35233, 41.39676, 41.38563, 41.382008, 41.38448, 41.387978, 41.404808, 41.38677, 41.378754, 41.36882, 41.38231, 41.376358, 41.38565, 41.40251, 41.398346]\n",
      "[2.174611, 2.177113, 2.164824, 2.175302, 2.161925, 2.122952, 2.171584, 2.18178, 2.174328, 2.153715, 2.17601, 2.151718, 2.165427, 2.131519, 2.15066, 2.16177, 2.17424, 2.18718, 2.172549, 2.159726, 2.17611, 2.14834, 2.1192, 2.161339, 2.152709, 2.180893, 2.17754, 2.17506, 2.17416, 2.18156, 2.119261, 2.16511, 2.119031, 2.178191, 2.15559, 2.166181, 2.180128, 2.180643, 2.185734, 2.1776, 2.170047, 2.17824, 2.114895, 2.148, 2.12652, 2.177805, 2.17186, 2.17033, 2.17362, 2.17674, 2.19343, 2.17369, 2.18536, 2.17341, 2.180325, 2.17042, 2.179365, 2.19831, 2.163636, 2.184366, 2.203403, 2.216376, 2.183822, 2.176435, 2.17768, 2.165385, 2.14988, 2.15496, 2.20834, 2.17183, 2.171915, 2.176674, 2.154285, 2.191822, 2.19773, 2.169168, 2.16304, 2.17377, 2.169145, 2.18586, 2.188178, 2.204376]\n"
     ]
    },
    {
     "name": "stderr",
     "output_type": "stream",
     "text": [
      "Driver [/Users/ericsonmarques/.wdm/drivers/chromedriver/mac64/108.0.5359.71/chromedriver] found in cache\n",
      "\n",
      "\n",
      "====== WebDriver manager ======\n",
      "Current google-chrome version is 108.0.5359\n",
      "Get LATEST chromedriver version for 108.0.5359 google-chrome\n"
     ]
    },
    {
     "name": "stdout",
     "output_type": "stream",
     "text": [
      "[41.403423, 41.3827, 41.391712, 41.387573, 41.395325, 41.380924, 41.38174, 41.38349, 41.41142, 41.368454, 41.38442, 41.371174, 41.364548, 41.412766, 41.40341, 41.39493, 41.378883, 41.388542, 41.382168, 41.36852, 41.387, 41.37494, 41.4215, 41.39621, 41.41451, 41.385235, 41.384056, 41.37993, 41.38031, 41.38463, 41.422813, 41.39158, 41.421803, 41.386246, 41.4058, 41.363335, 41.38082, 41.391052, 41.38086, 41.37807, 41.387016, 41.37269, 41.397636, 41.43845, 41.40903, 41.37575, 41.38192, 41.38045, 41.38063, 41.3755, 41.38026, 41.37796, 41.38631, 41.380985, 41.385136, 41.38536, 41.375854, 41.4402, 41.388947, 41.37685, 41.3993, 41.40988, 41.38566, 41.383327, 41.38133, 41.391117, 41.37591, 41.35233, 41.39676, 41.38563, 41.382008, 41.38448, 41.387978, 41.404808, 41.38677, 41.378754, 41.36882, 41.38231, 41.376358, 41.38565, 41.40251, 41.398346, 41.376133]\n",
      "[2.174611, 2.177113, 2.164824, 2.175302, 2.161925, 2.122952, 2.171584, 2.18178, 2.174328, 2.153715, 2.17601, 2.151718, 2.165427, 2.131519, 2.15066, 2.16177, 2.17424, 2.18718, 2.172549, 2.159726, 2.17611, 2.14834, 2.1192, 2.161339, 2.152709, 2.180893, 2.17754, 2.17506, 2.17416, 2.18156, 2.119261, 2.16511, 2.119031, 2.178191, 2.15559, 2.166181, 2.180128, 2.180643, 2.185734, 2.1776, 2.170047, 2.17824, 2.114895, 2.148, 2.12652, 2.177805, 2.17186, 2.17033, 2.17362, 2.17674, 2.19343, 2.17369, 2.18536, 2.17341, 2.180325, 2.17042, 2.179365, 2.19831, 2.163636, 2.184366, 2.203403, 2.216376, 2.183822, 2.176435, 2.17768, 2.165385, 2.14988, 2.15496, 2.20834, 2.17183, 2.171915, 2.176674, 2.154285, 2.191822, 2.19773, 2.169168, 2.16304, 2.17377, 2.169145, 2.18586, 2.188178, 2.204376, 2.148957]\n"
     ]
    },
    {
     "name": "stderr",
     "output_type": "stream",
     "text": [
      "Driver [/Users/ericsonmarques/.wdm/drivers/chromedriver/mac64/108.0.5359.71/chromedriver] found in cache\n",
      "\n",
      "\n",
      "====== WebDriver manager ======\n",
      "Current google-chrome version is 108.0.5359\n",
      "Get LATEST chromedriver version for 108.0.5359 google-chrome\n"
     ]
    },
    {
     "name": "stdout",
     "output_type": "stream",
     "text": [
      "[41.403423, 41.3827, 41.391712, 41.387573, 41.395325, 41.380924, 41.38174, 41.38349, 41.41142, 41.368454, 41.38442, 41.371174, 41.364548, 41.412766, 41.40341, 41.39493, 41.378883, 41.388542, 41.382168, 41.36852, 41.387, 41.37494, 41.4215, 41.39621, 41.41451, 41.385235, 41.384056, 41.37993, 41.38031, 41.38463, 41.422813, 41.39158, 41.421803, 41.386246, 41.4058, 41.363335, 41.38082, 41.391052, 41.38086, 41.37807, 41.387016, 41.37269, 41.397636, 41.43845, 41.40903, 41.37575, 41.38192, 41.38045, 41.38063, 41.3755, 41.38026, 41.37796, 41.38631, 41.380985, 41.385136, 41.38536, 41.375854, 41.4402, 41.388947, 41.37685, 41.3993, 41.40988, 41.38566, 41.383327, 41.38133, 41.391117, 41.37591, 41.35233, 41.39676, 41.38563, 41.382008, 41.38448, 41.387978, 41.404808, 41.38677, 41.378754, 41.36882, 41.38231, 41.376358, 41.38565, 41.40251, 41.398346, 41.376133, 41.36602]\n",
      "[2.174611, 2.177113, 2.164824, 2.175302, 2.161925, 2.122952, 2.171584, 2.18178, 2.174328, 2.153715, 2.17601, 2.151718, 2.165427, 2.131519, 2.15066, 2.16177, 2.17424, 2.18718, 2.172549, 2.159726, 2.17611, 2.14834, 2.1192, 2.161339, 2.152709, 2.180893, 2.17754, 2.17506, 2.17416, 2.18156, 2.119261, 2.16511, 2.119031, 2.178191, 2.15559, 2.166181, 2.180128, 2.180643, 2.185734, 2.1776, 2.170047, 2.17824, 2.114895, 2.148, 2.12652, 2.177805, 2.17186, 2.17033, 2.17362, 2.17674, 2.19343, 2.17369, 2.18536, 2.17341, 2.180325, 2.17042, 2.179365, 2.19831, 2.163636, 2.184366, 2.203403, 2.216376, 2.183822, 2.176435, 2.17768, 2.165385, 2.14988, 2.15496, 2.20834, 2.17183, 2.171915, 2.176674, 2.154285, 2.191822, 2.19773, 2.169168, 2.16304, 2.17377, 2.169145, 2.18586, 2.188178, 2.204376, 2.148957, 2.15415]\n"
     ]
    },
    {
     "name": "stderr",
     "output_type": "stream",
     "text": [
      "Driver [/Users/ericsonmarques/.wdm/drivers/chromedriver/mac64/108.0.5359.71/chromedriver] found in cache\n",
      "\n",
      "\n",
      "====== WebDriver manager ======\n",
      "Current google-chrome version is 108.0.5359\n",
      "Get LATEST chromedriver version for 108.0.5359 google-chrome\n"
     ]
    },
    {
     "name": "stdout",
     "output_type": "stream",
     "text": [
      "[41.403423, 41.3827, 41.391712, 41.387573, 41.395325, 41.380924, 41.38174, 41.38349, 41.41142, 41.368454, 41.38442, 41.371174, 41.364548, 41.412766, 41.40341, 41.39493, 41.378883, 41.388542, 41.382168, 41.36852, 41.387, 41.37494, 41.4215, 41.39621, 41.41451, 41.385235, 41.384056, 41.37993, 41.38031, 41.38463, 41.422813, 41.39158, 41.421803, 41.386246, 41.4058, 41.363335, 41.38082, 41.391052, 41.38086, 41.37807, 41.387016, 41.37269, 41.397636, 41.43845, 41.40903, 41.37575, 41.38192, 41.38045, 41.38063, 41.3755, 41.38026, 41.37796, 41.38631, 41.380985, 41.385136, 41.38536, 41.375854, 41.4402, 41.388947, 41.37685, 41.3993, 41.40988, 41.38566, 41.383327, 41.38133, 41.391117, 41.37591, 41.35233, 41.39676, 41.38563, 41.382008, 41.38448, 41.387978, 41.404808, 41.38677, 41.378754, 41.36882, 41.38231, 41.376358, 41.38565, 41.40251, 41.398346, 41.376133, 41.36602, 41.368874]\n",
      "[2.174611, 2.177113, 2.164824, 2.175302, 2.161925, 2.122952, 2.171584, 2.18178, 2.174328, 2.153715, 2.17601, 2.151718, 2.165427, 2.131519, 2.15066, 2.16177, 2.17424, 2.18718, 2.172549, 2.159726, 2.17611, 2.14834, 2.1192, 2.161339, 2.152709, 2.180893, 2.17754, 2.17506, 2.17416, 2.18156, 2.119261, 2.16511, 2.119031, 2.178191, 2.15559, 2.166181, 2.180128, 2.180643, 2.185734, 2.1776, 2.170047, 2.17824, 2.114895, 2.148, 2.12652, 2.177805, 2.17186, 2.17033, 2.17362, 2.17674, 2.19343, 2.17369, 2.18536, 2.17341, 2.180325, 2.17042, 2.179365, 2.19831, 2.163636, 2.184366, 2.203403, 2.216376, 2.183822, 2.176435, 2.17768, 2.165385, 2.14988, 2.15496, 2.20834, 2.17183, 2.171915, 2.176674, 2.154285, 2.191822, 2.19773, 2.169168, 2.16304, 2.17377, 2.169145, 2.18586, 2.188178, 2.204376, 2.148957, 2.15415, 2.147997]\n"
     ]
    },
    {
     "name": "stderr",
     "output_type": "stream",
     "text": [
      "Driver [/Users/ericsonmarques/.wdm/drivers/chromedriver/mac64/108.0.5359.71/chromedriver] found in cache\n",
      "\n",
      "\n",
      "====== WebDriver manager ======\n",
      "Current google-chrome version is 108.0.5359\n",
      "Get LATEST chromedriver version for 108.0.5359 google-chrome\n"
     ]
    },
    {
     "name": "stdout",
     "output_type": "stream",
     "text": [
      "[41.403423, 41.3827, 41.391712, 41.387573, 41.395325, 41.380924, 41.38174, 41.38349, 41.41142, 41.368454, 41.38442, 41.371174, 41.364548, 41.412766, 41.40341, 41.39493, 41.378883, 41.388542, 41.382168, 41.36852, 41.387, 41.37494, 41.4215, 41.39621, 41.41451, 41.385235, 41.384056, 41.37993, 41.38031, 41.38463, 41.422813, 41.39158, 41.421803, 41.386246, 41.4058, 41.363335, 41.38082, 41.391052, 41.38086, 41.37807, 41.387016, 41.37269, 41.397636, 41.43845, 41.40903, 41.37575, 41.38192, 41.38045, 41.38063, 41.3755, 41.38026, 41.37796, 41.38631, 41.380985, 41.385136, 41.38536, 41.375854, 41.4402, 41.388947, 41.37685, 41.3993, 41.40988, 41.38566, 41.383327, 41.38133, 41.391117, 41.37591, 41.35233, 41.39676, 41.38563, 41.382008, 41.38448, 41.387978, 41.404808, 41.38677, 41.378754, 41.36882, 41.38231, 41.376358, 41.38565, 41.40251, 41.398346, 41.376133, 41.36602, 41.368874, 41.411106]\n",
      "[2.174611, 2.177113, 2.164824, 2.175302, 2.161925, 2.122952, 2.171584, 2.18178, 2.174328, 2.153715, 2.17601, 2.151718, 2.165427, 2.131519, 2.15066, 2.16177, 2.17424, 2.18718, 2.172549, 2.159726, 2.17611, 2.14834, 2.1192, 2.161339, 2.152709, 2.180893, 2.17754, 2.17506, 2.17416, 2.18156, 2.119261, 2.16511, 2.119031, 2.178191, 2.15559, 2.166181, 2.180128, 2.180643, 2.185734, 2.1776, 2.170047, 2.17824, 2.114895, 2.148, 2.12652, 2.177805, 2.17186, 2.17033, 2.17362, 2.17674, 2.19343, 2.17369, 2.18536, 2.17341, 2.180325, 2.17042, 2.179365, 2.19831, 2.163636, 2.184366, 2.203403, 2.216376, 2.183822, 2.176435, 2.17768, 2.165385, 2.14988, 2.15496, 2.20834, 2.17183, 2.171915, 2.176674, 2.154285, 2.191822, 2.19773, 2.169168, 2.16304, 2.17377, 2.169145, 2.18586, 2.188178, 2.204376, 2.148957, 2.15415, 2.147997, 2.220027]\n"
     ]
    },
    {
     "name": "stderr",
     "output_type": "stream",
     "text": [
      "Driver [/Users/ericsonmarques/.wdm/drivers/chromedriver/mac64/108.0.5359.71/chromedriver] found in cache\n",
      "\n",
      "\n",
      "====== WebDriver manager ======\n",
      "Current google-chrome version is 108.0.5359\n",
      "Get LATEST chromedriver version for 108.0.5359 google-chrome\n"
     ]
    },
    {
     "name": "stdout",
     "output_type": "stream",
     "text": [
      "[41.403423, 41.3827, 41.391712, 41.387573, 41.395325, 41.380924, 41.38174, 41.38349, 41.41142, 41.368454, 41.38442, 41.371174, 41.364548, 41.412766, 41.40341, 41.39493, 41.378883, 41.388542, 41.382168, 41.36852, 41.387, 41.37494, 41.4215, 41.39621, 41.41451, 41.385235, 41.384056, 41.37993, 41.38031, 41.38463, 41.422813, 41.39158, 41.421803, 41.386246, 41.4058, 41.363335, 41.38082, 41.391052, 41.38086, 41.37807, 41.387016, 41.37269, 41.397636, 41.43845, 41.40903, 41.37575, 41.38192, 41.38045, 41.38063, 41.3755, 41.38026, 41.37796, 41.38631, 41.380985, 41.385136, 41.38536, 41.375854, 41.4402, 41.388947, 41.37685, 41.3993, 41.40988, 41.38566, 41.383327, 41.38133, 41.391117, 41.37591, 41.35233, 41.39676, 41.38563, 41.382008, 41.38448, 41.387978, 41.404808, 41.38677, 41.378754, 41.36882, 41.38231, 41.376358, 41.38565, 41.40251, 41.398346, 41.376133, 41.36602, 41.368874, 41.411106, 41.40814]\n",
      "[2.174611, 2.177113, 2.164824, 2.175302, 2.161925, 2.122952, 2.171584, 2.18178, 2.174328, 2.153715, 2.17601, 2.151718, 2.165427, 2.131519, 2.15066, 2.16177, 2.17424, 2.18718, 2.172549, 2.159726, 2.17611, 2.14834, 2.1192, 2.161339, 2.152709, 2.180893, 2.17754, 2.17506, 2.17416, 2.18156, 2.119261, 2.16511, 2.119031, 2.178191, 2.15559, 2.166181, 2.180128, 2.180643, 2.185734, 2.1776, 2.170047, 2.17824, 2.114895, 2.148, 2.12652, 2.177805, 2.17186, 2.17033, 2.17362, 2.17674, 2.19343, 2.17369, 2.18536, 2.17341, 2.180325, 2.17042, 2.179365, 2.19831, 2.163636, 2.184366, 2.203403, 2.216376, 2.183822, 2.176435, 2.17768, 2.165385, 2.14988, 2.15496, 2.20834, 2.17183, 2.171915, 2.176674, 2.154285, 2.191822, 2.19773, 2.169168, 2.16304, 2.17377, 2.169145, 2.18586, 2.188178, 2.204376, 2.148957, 2.15415, 2.147997, 2.220027, 2.21948]\n"
     ]
    },
    {
     "name": "stderr",
     "output_type": "stream",
     "text": [
      "Driver [/Users/ericsonmarques/.wdm/drivers/chromedriver/mac64/108.0.5359.71/chromedriver] found in cache\n",
      "\n",
      "\n",
      "====== WebDriver manager ======\n",
      "Current google-chrome version is 108.0.5359\n",
      "Get LATEST chromedriver version for 108.0.5359 google-chrome\n"
     ]
    },
    {
     "name": "stdout",
     "output_type": "stream",
     "text": [
      "[41.403423, 41.3827, 41.391712, 41.387573, 41.395325, 41.380924, 41.38174, 41.38349, 41.41142, 41.368454, 41.38442, 41.371174, 41.364548, 41.412766, 41.40341, 41.39493, 41.378883, 41.388542, 41.382168, 41.36852, 41.387, 41.37494, 41.4215, 41.39621, 41.41451, 41.385235, 41.384056, 41.37993, 41.38031, 41.38463, 41.422813, 41.39158, 41.421803, 41.386246, 41.4058, 41.363335, 41.38082, 41.391052, 41.38086, 41.37807, 41.387016, 41.37269, 41.397636, 41.43845, 41.40903, 41.37575, 41.38192, 41.38045, 41.38063, 41.3755, 41.38026, 41.37796, 41.38631, 41.380985, 41.385136, 41.38536, 41.375854, 41.4402, 41.388947, 41.37685, 41.3993, 41.40988, 41.38566, 41.383327, 41.38133, 41.391117, 41.37591, 41.35233, 41.39676, 41.38563, 41.382008, 41.38448, 41.387978, 41.404808, 41.38677, 41.378754, 41.36882, 41.38231, 41.376358, 41.38565, 41.40251, 41.398346, 41.376133, 41.36602, 41.368874, 41.411106, 41.40814, 41.38246]\n",
      "[2.174611, 2.177113, 2.164824, 2.175302, 2.161925, 2.122952, 2.171584, 2.18178, 2.174328, 2.153715, 2.17601, 2.151718, 2.165427, 2.131519, 2.15066, 2.16177, 2.17424, 2.18718, 2.172549, 2.159726, 2.17611, 2.14834, 2.1192, 2.161339, 2.152709, 2.180893, 2.17754, 2.17506, 2.17416, 2.18156, 2.119261, 2.16511, 2.119031, 2.178191, 2.15559, 2.166181, 2.180128, 2.180643, 2.185734, 2.1776, 2.170047, 2.17824, 2.114895, 2.148, 2.12652, 2.177805, 2.17186, 2.17033, 2.17362, 2.17674, 2.19343, 2.17369, 2.18536, 2.17341, 2.180325, 2.17042, 2.179365, 2.19831, 2.163636, 2.184366, 2.203403, 2.216376, 2.183822, 2.176435, 2.17768, 2.165385, 2.14988, 2.15496, 2.20834, 2.17183, 2.171915, 2.176674, 2.154285, 2.191822, 2.19773, 2.169168, 2.16304, 2.17377, 2.169145, 2.18586, 2.188178, 2.204376, 2.148957, 2.15415, 2.147997, 2.220027, 2.21948, 2.1776]\n"
     ]
    },
    {
     "name": "stderr",
     "output_type": "stream",
     "text": [
      "Driver [/Users/ericsonmarques/.wdm/drivers/chromedriver/mac64/108.0.5359.71/chromedriver] found in cache\n",
      "\n",
      "\n",
      "====== WebDriver manager ======\n",
      "Current google-chrome version is 108.0.5359\n",
      "Get LATEST chromedriver version for 108.0.5359 google-chrome\n"
     ]
    },
    {
     "name": "stdout",
     "output_type": "stream",
     "text": [
      "[41.403423, 41.3827, 41.391712, 41.387573, 41.395325, 41.380924, 41.38174, 41.38349, 41.41142, 41.368454, 41.38442, 41.371174, 41.364548, 41.412766, 41.40341, 41.39493, 41.378883, 41.388542, 41.382168, 41.36852, 41.387, 41.37494, 41.4215, 41.39621, 41.41451, 41.385235, 41.384056, 41.37993, 41.38031, 41.38463, 41.422813, 41.39158, 41.421803, 41.386246, 41.4058, 41.363335, 41.38082, 41.391052, 41.38086, 41.37807, 41.387016, 41.37269, 41.397636, 41.43845, 41.40903, 41.37575, 41.38192, 41.38045, 41.38063, 41.3755, 41.38026, 41.37796, 41.38631, 41.380985, 41.385136, 41.38536, 41.375854, 41.4402, 41.388947, 41.37685, 41.3993, 41.40988, 41.38566, 41.383327, 41.38133, 41.391117, 41.37591, 41.35233, 41.39676, 41.38563, 41.382008, 41.38448, 41.387978, 41.404808, 41.38677, 41.378754, 41.36882, 41.38231, 41.376358, 41.38565, 41.40251, 41.398346, 41.376133, 41.36602, 41.368874, 41.411106, 41.40814, 41.38246, 41.38773]\n",
      "[2.174611, 2.177113, 2.164824, 2.175302, 2.161925, 2.122952, 2.171584, 2.18178, 2.174328, 2.153715, 2.17601, 2.151718, 2.165427, 2.131519, 2.15066, 2.16177, 2.17424, 2.18718, 2.172549, 2.159726, 2.17611, 2.14834, 2.1192, 2.161339, 2.152709, 2.180893, 2.17754, 2.17506, 2.17416, 2.18156, 2.119261, 2.16511, 2.119031, 2.178191, 2.15559, 2.166181, 2.180128, 2.180643, 2.185734, 2.1776, 2.170047, 2.17824, 2.114895, 2.148, 2.12652, 2.177805, 2.17186, 2.17033, 2.17362, 2.17674, 2.19343, 2.17369, 2.18536, 2.17341, 2.180325, 2.17042, 2.179365, 2.19831, 2.163636, 2.184366, 2.203403, 2.216376, 2.183822, 2.176435, 2.17768, 2.165385, 2.14988, 2.15496, 2.20834, 2.17183, 2.171915, 2.176674, 2.154285, 2.191822, 2.19773, 2.169168, 2.16304, 2.17377, 2.169145, 2.18586, 2.188178, 2.204376, 2.148957, 2.15415, 2.147997, 2.220027, 2.21948, 2.1776, 2.17095]\n"
     ]
    },
    {
     "name": "stderr",
     "output_type": "stream",
     "text": [
      "Driver [/Users/ericsonmarques/.wdm/drivers/chromedriver/mac64/108.0.5359.71/chromedriver] found in cache\n",
      "\n",
      "\n",
      "====== WebDriver manager ======\n",
      "Current google-chrome version is 108.0.5359\n",
      "Get LATEST chromedriver version for 108.0.5359 google-chrome\n"
     ]
    },
    {
     "name": "stdout",
     "output_type": "stream",
     "text": [
      "[41.403423, 41.3827, 41.391712, 41.387573, 41.395325, 41.380924, 41.38174, 41.38349, 41.41142, 41.368454, 41.38442, 41.371174, 41.364548, 41.412766, 41.40341, 41.39493, 41.378883, 41.388542, 41.382168, 41.36852, 41.387, 41.37494, 41.4215, 41.39621, 41.41451, 41.385235, 41.384056, 41.37993, 41.38031, 41.38463, 41.422813, 41.39158, 41.421803, 41.386246, 41.4058, 41.363335, 41.38082, 41.391052, 41.38086, 41.37807, 41.387016, 41.37269, 41.397636, 41.43845, 41.40903, 41.37575, 41.38192, 41.38045, 41.38063, 41.3755, 41.38026, 41.37796, 41.38631, 41.380985, 41.385136, 41.38536, 41.375854, 41.4402, 41.388947, 41.37685, 41.3993, 41.40988, 41.38566, 41.383327, 41.38133, 41.391117, 41.37591, 41.35233, 41.39676, 41.38563, 41.382008, 41.38448, 41.387978, 41.404808, 41.38677, 41.378754, 41.36882, 41.38231, 41.376358, 41.38565, 41.40251, 41.398346, 41.376133, 41.36602, 41.368874, 41.411106, 41.40814, 41.38246, 41.38773, 41.37526]\n",
      "[2.174611, 2.177113, 2.164824, 2.175302, 2.161925, 2.122952, 2.171584, 2.18178, 2.174328, 2.153715, 2.17601, 2.151718, 2.165427, 2.131519, 2.15066, 2.16177, 2.17424, 2.18718, 2.172549, 2.159726, 2.17611, 2.14834, 2.1192, 2.161339, 2.152709, 2.180893, 2.17754, 2.17506, 2.17416, 2.18156, 2.119261, 2.16511, 2.119031, 2.178191, 2.15559, 2.166181, 2.180128, 2.180643, 2.185734, 2.1776, 2.170047, 2.17824, 2.114895, 2.148, 2.12652, 2.177805, 2.17186, 2.17033, 2.17362, 2.17674, 2.19343, 2.17369, 2.18536, 2.17341, 2.180325, 2.17042, 2.179365, 2.19831, 2.163636, 2.184366, 2.203403, 2.216376, 2.183822, 2.176435, 2.17768, 2.165385, 2.14988, 2.15496, 2.20834, 2.17183, 2.171915, 2.176674, 2.154285, 2.191822, 2.19773, 2.169168, 2.16304, 2.17377, 2.169145, 2.18586, 2.188178, 2.204376, 2.148957, 2.15415, 2.147997, 2.220027, 2.21948, 2.1776, 2.17095, 2.18363]\n"
     ]
    },
    {
     "name": "stderr",
     "output_type": "stream",
     "text": [
      "Driver [/Users/ericsonmarques/.wdm/drivers/chromedriver/mac64/108.0.5359.71/chromedriver] found in cache\n",
      "\n",
      "\n",
      "====== WebDriver manager ======\n",
      "Current google-chrome version is 108.0.5359\n",
      "Get LATEST chromedriver version for 108.0.5359 google-chrome\n"
     ]
    },
    {
     "name": "stdout",
     "output_type": "stream",
     "text": [
      "[41.403423, 41.3827, 41.391712, 41.387573, 41.395325, 41.380924, 41.38174, 41.38349, 41.41142, 41.368454, 41.38442, 41.371174, 41.364548, 41.412766, 41.40341, 41.39493, 41.378883, 41.388542, 41.382168, 41.36852, 41.387, 41.37494, 41.4215, 41.39621, 41.41451, 41.385235, 41.384056, 41.37993, 41.38031, 41.38463, 41.422813, 41.39158, 41.421803, 41.386246, 41.4058, 41.363335, 41.38082, 41.391052, 41.38086, 41.37807, 41.387016, 41.37269, 41.397636, 41.43845, 41.40903, 41.37575, 41.38192, 41.38045, 41.38063, 41.3755, 41.38026, 41.37796, 41.38631, 41.380985, 41.385136, 41.38536, 41.375854, 41.4402, 41.388947, 41.37685, 41.3993, 41.40988, 41.38566, 41.383327, 41.38133, 41.391117, 41.37591, 41.35233, 41.39676, 41.38563, 41.382008, 41.38448, 41.387978, 41.404808, 41.38677, 41.378754, 41.36882, 41.38231, 41.376358, 41.38565, 41.40251, 41.398346, 41.376133, 41.36602, 41.368874, 41.411106, 41.40814, 41.38246, 41.38773, 41.37526, 41.40355]\n",
      "[2.174611, 2.177113, 2.164824, 2.175302, 2.161925, 2.122952, 2.171584, 2.18178, 2.174328, 2.153715, 2.17601, 2.151718, 2.165427, 2.131519, 2.15066, 2.16177, 2.17424, 2.18718, 2.172549, 2.159726, 2.17611, 2.14834, 2.1192, 2.161339, 2.152709, 2.180893, 2.17754, 2.17506, 2.17416, 2.18156, 2.119261, 2.16511, 2.119031, 2.178191, 2.15559, 2.166181, 2.180128, 2.180643, 2.185734, 2.1776, 2.170047, 2.17824, 2.114895, 2.148, 2.12652, 2.177805, 2.17186, 2.17033, 2.17362, 2.17674, 2.19343, 2.17369, 2.18536, 2.17341, 2.180325, 2.17042, 2.179365, 2.19831, 2.163636, 2.184366, 2.203403, 2.216376, 2.183822, 2.176435, 2.17768, 2.165385, 2.14988, 2.15496, 2.20834, 2.17183, 2.171915, 2.176674, 2.154285, 2.191822, 2.19773, 2.169168, 2.16304, 2.17377, 2.169145, 2.18586, 2.188178, 2.204376, 2.148957, 2.15415, 2.147997, 2.220027, 2.21948, 2.1776, 2.17095, 2.18363, 2.18974]\n"
     ]
    },
    {
     "ename": "ConnectionError",
     "evalue": "('Connection aborted.', RemoteDisconnected('Remote end closed connection without response'))",
     "output_type": "error",
     "traceback": [
      "\u001b[0;31m---------------------------------------------------------------------------\u001b[0m",
      "\u001b[0;31mRemoteDisconnected\u001b[0m                        Traceback (most recent call last)",
      "\u001b[0;32m/opt/anaconda3/envs/rents/lib/python3.9/site-packages/urllib3/connectionpool.py\u001b[0m in \u001b[0;36murlopen\u001b[0;34m(self, method, url, body, headers, retries, redirect, assert_same_host, timeout, pool_timeout, release_conn, chunked, body_pos, **response_kw)\u001b[0m\n\u001b[1;32m    596\u001b[0m             \u001b[0;31m# Make the request on the httplib connection object.\u001b[0m\u001b[0;34m\u001b[0m\u001b[0;34m\u001b[0m\u001b[0m\n\u001b[0;32m--> 597\u001b[0;31m             httplib_response = self._make_request(conn, method, url,\n\u001b[0m\u001b[1;32m    598\u001b[0m                                                   \u001b[0mtimeout\u001b[0m\u001b[0;34m=\u001b[0m\u001b[0mtimeout_obj\u001b[0m\u001b[0;34m,\u001b[0m\u001b[0;34m\u001b[0m\u001b[0;34m\u001b[0m\u001b[0m\n",
      "\u001b[0;32m/opt/anaconda3/envs/rents/lib/python3.9/site-packages/urllib3/connectionpool.py\u001b[0m in \u001b[0;36m_make_request\u001b[0;34m(self, conn, method, url, timeout, chunked, **httplib_request_kw)\u001b[0m\n\u001b[1;32m    383\u001b[0m                     \u001b[0;31m# otherwise it looks like a programming error was the cause.\u001b[0m\u001b[0;34m\u001b[0m\u001b[0;34m\u001b[0m\u001b[0m\n\u001b[0;32m--> 384\u001b[0;31m                     \u001b[0msix\u001b[0m\u001b[0;34m.\u001b[0m\u001b[0mraise_from\u001b[0m\u001b[0;34m(\u001b[0m\u001b[0me\u001b[0m\u001b[0;34m,\u001b[0m \u001b[0;32mNone\u001b[0m\u001b[0;34m)\u001b[0m\u001b[0;34m\u001b[0m\u001b[0;34m\u001b[0m\u001b[0m\n\u001b[0m\u001b[1;32m    385\u001b[0m         \u001b[0;32mexcept\u001b[0m \u001b[0;34m(\u001b[0m\u001b[0mSocketTimeout\u001b[0m\u001b[0;34m,\u001b[0m \u001b[0mBaseSSLError\u001b[0m\u001b[0;34m,\u001b[0m \u001b[0mSocketError\u001b[0m\u001b[0;34m)\u001b[0m \u001b[0;32mas\u001b[0m \u001b[0me\u001b[0m\u001b[0;34m:\u001b[0m\u001b[0;34m\u001b[0m\u001b[0;34m\u001b[0m\u001b[0m\n",
      "\u001b[0;32m/opt/anaconda3/envs/rents/lib/python3.9/site-packages/urllib3/packages/six.py\u001b[0m in \u001b[0;36mraise_from\u001b[0;34m(value, from_value)\u001b[0m\n",
      "\u001b[0;32m/opt/anaconda3/envs/rents/lib/python3.9/site-packages/urllib3/connectionpool.py\u001b[0m in \u001b[0;36m_make_request\u001b[0;34m(self, conn, method, url, timeout, chunked, **httplib_request_kw)\u001b[0m\n\u001b[1;32m    379\u001b[0m                 \u001b[0;32mtry\u001b[0m\u001b[0;34m:\u001b[0m\u001b[0;34m\u001b[0m\u001b[0;34m\u001b[0m\u001b[0m\n\u001b[0;32m--> 380\u001b[0;31m                     \u001b[0mhttplib_response\u001b[0m \u001b[0;34m=\u001b[0m \u001b[0mconn\u001b[0m\u001b[0;34m.\u001b[0m\u001b[0mgetresponse\u001b[0m\u001b[0;34m(\u001b[0m\u001b[0;34m)\u001b[0m\u001b[0;34m\u001b[0m\u001b[0;34m\u001b[0m\u001b[0m\n\u001b[0m\u001b[1;32m    381\u001b[0m                 \u001b[0;32mexcept\u001b[0m \u001b[0mException\u001b[0m \u001b[0;32mas\u001b[0m \u001b[0me\u001b[0m\u001b[0;34m:\u001b[0m\u001b[0;34m\u001b[0m\u001b[0;34m\u001b[0m\u001b[0m\n",
      "\u001b[0;32m/opt/anaconda3/envs/rents/lib/python3.9/http/client.py\u001b[0m in \u001b[0;36mgetresponse\u001b[0;34m(self)\u001b[0m\n\u001b[1;32m   1370\u001b[0m             \u001b[0;32mtry\u001b[0m\u001b[0;34m:\u001b[0m\u001b[0;34m\u001b[0m\u001b[0;34m\u001b[0m\u001b[0m\n\u001b[0;32m-> 1371\u001b[0;31m                 \u001b[0mresponse\u001b[0m\u001b[0;34m.\u001b[0m\u001b[0mbegin\u001b[0m\u001b[0;34m(\u001b[0m\u001b[0;34m)\u001b[0m\u001b[0;34m\u001b[0m\u001b[0;34m\u001b[0m\u001b[0m\n\u001b[0m\u001b[1;32m   1372\u001b[0m             \u001b[0;32mexcept\u001b[0m \u001b[0mConnectionError\u001b[0m\u001b[0;34m:\u001b[0m\u001b[0;34m\u001b[0m\u001b[0;34m\u001b[0m\u001b[0m\n",
      "\u001b[0;32m/opt/anaconda3/envs/rents/lib/python3.9/http/client.py\u001b[0m in \u001b[0;36mbegin\u001b[0;34m(self)\u001b[0m\n\u001b[1;32m    318\u001b[0m         \u001b[0;32mwhile\u001b[0m \u001b[0;32mTrue\u001b[0m\u001b[0;34m:\u001b[0m\u001b[0;34m\u001b[0m\u001b[0;34m\u001b[0m\u001b[0m\n\u001b[0;32m--> 319\u001b[0;31m             \u001b[0mversion\u001b[0m\u001b[0;34m,\u001b[0m \u001b[0mstatus\u001b[0m\u001b[0;34m,\u001b[0m \u001b[0mreason\u001b[0m \u001b[0;34m=\u001b[0m \u001b[0mself\u001b[0m\u001b[0;34m.\u001b[0m\u001b[0m_read_status\u001b[0m\u001b[0;34m(\u001b[0m\u001b[0;34m)\u001b[0m\u001b[0;34m\u001b[0m\u001b[0;34m\u001b[0m\u001b[0m\n\u001b[0m\u001b[1;32m    320\u001b[0m             \u001b[0;32mif\u001b[0m \u001b[0mstatus\u001b[0m \u001b[0;34m!=\u001b[0m \u001b[0mCONTINUE\u001b[0m\u001b[0;34m:\u001b[0m\u001b[0;34m\u001b[0m\u001b[0;34m\u001b[0m\u001b[0m\n",
      "\u001b[0;32m/opt/anaconda3/envs/rents/lib/python3.9/http/client.py\u001b[0m in \u001b[0;36m_read_status\u001b[0;34m(self)\u001b[0m\n\u001b[1;32m    287\u001b[0m             \u001b[0;31m# sending a valid response.\u001b[0m\u001b[0;34m\u001b[0m\u001b[0;34m\u001b[0m\u001b[0m\n\u001b[0;32m--> 288\u001b[0;31m             raise RemoteDisconnected(\"Remote end closed connection without\"\n\u001b[0m\u001b[1;32m    289\u001b[0m                                      \" response\")\n",
      "\u001b[0;31mRemoteDisconnected\u001b[0m: Remote end closed connection without response",
      "\nDuring handling of the above exception, another exception occurred:\n",
      "\u001b[0;31mProtocolError\u001b[0m                             Traceback (most recent call last)",
      "\u001b[0;32m/opt/anaconda3/envs/rents/lib/python3.9/site-packages/requests/adapters.py\u001b[0m in \u001b[0;36msend\u001b[0;34m(self, request, stream, timeout, verify, cert, proxies)\u001b[0m\n\u001b[1;32m    439\u001b[0m             \u001b[0;32mif\u001b[0m \u001b[0;32mnot\u001b[0m \u001b[0mchunked\u001b[0m\u001b[0;34m:\u001b[0m\u001b[0;34m\u001b[0m\u001b[0;34m\u001b[0m\u001b[0m\n\u001b[0;32m--> 440\u001b[0;31m                 resp = conn.urlopen(\n\u001b[0m\u001b[1;32m    441\u001b[0m                     \u001b[0mmethod\u001b[0m\u001b[0;34m=\u001b[0m\u001b[0mrequest\u001b[0m\u001b[0;34m.\u001b[0m\u001b[0mmethod\u001b[0m\u001b[0;34m,\u001b[0m\u001b[0;34m\u001b[0m\u001b[0;34m\u001b[0m\u001b[0m\n",
      "\u001b[0;32m/opt/anaconda3/envs/rents/lib/python3.9/site-packages/urllib3/connectionpool.py\u001b[0m in \u001b[0;36murlopen\u001b[0;34m(self, method, url, body, headers, retries, redirect, assert_same_host, timeout, pool_timeout, release_conn, chunked, body_pos, **response_kw)\u001b[0m\n\u001b[1;32m    636\u001b[0m \u001b[0;34m\u001b[0m\u001b[0m\n\u001b[0;32m--> 637\u001b[0;31m             retries = retries.increment(method, url, error=e, _pool=self,\n\u001b[0m\u001b[1;32m    638\u001b[0m                                         _stacktrace=sys.exc_info()[2])\n",
      "\u001b[0;32m/opt/anaconda3/envs/rents/lib/python3.9/site-packages/urllib3/util/retry.py\u001b[0m in \u001b[0;36mincrement\u001b[0;34m(self, method, url, response, error, _pool, _stacktrace)\u001b[0m\n\u001b[1;32m    367\u001b[0m             \u001b[0;32mif\u001b[0m \u001b[0mread\u001b[0m \u001b[0;32mis\u001b[0m \u001b[0;32mFalse\u001b[0m \u001b[0;32mor\u001b[0m \u001b[0;32mnot\u001b[0m \u001b[0mself\u001b[0m\u001b[0;34m.\u001b[0m\u001b[0m_is_method_retryable\u001b[0m\u001b[0;34m(\u001b[0m\u001b[0mmethod\u001b[0m\u001b[0;34m)\u001b[0m\u001b[0;34m:\u001b[0m\u001b[0;34m\u001b[0m\u001b[0;34m\u001b[0m\u001b[0m\n\u001b[0;32m--> 368\u001b[0;31m                 \u001b[0;32mraise\u001b[0m \u001b[0msix\u001b[0m\u001b[0;34m.\u001b[0m\u001b[0mreraise\u001b[0m\u001b[0;34m(\u001b[0m\u001b[0mtype\u001b[0m\u001b[0;34m(\u001b[0m\u001b[0merror\u001b[0m\u001b[0;34m)\u001b[0m\u001b[0;34m,\u001b[0m \u001b[0merror\u001b[0m\u001b[0;34m,\u001b[0m \u001b[0m_stacktrace\u001b[0m\u001b[0;34m)\u001b[0m\u001b[0;34m\u001b[0m\u001b[0;34m\u001b[0m\u001b[0m\n\u001b[0m\u001b[1;32m    369\u001b[0m             \u001b[0;32melif\u001b[0m \u001b[0mread\u001b[0m \u001b[0;32mis\u001b[0m \u001b[0;32mnot\u001b[0m \u001b[0;32mNone\u001b[0m\u001b[0;34m:\u001b[0m\u001b[0;34m\u001b[0m\u001b[0;34m\u001b[0m\u001b[0m\n",
      "\u001b[0;32m/opt/anaconda3/envs/rents/lib/python3.9/site-packages/urllib3/packages/six.py\u001b[0m in \u001b[0;36mreraise\u001b[0;34m(tp, value, tb)\u001b[0m\n\u001b[1;32m    684\u001b[0m         \u001b[0;32mif\u001b[0m \u001b[0mvalue\u001b[0m\u001b[0;34m.\u001b[0m\u001b[0m__traceback__\u001b[0m \u001b[0;32mis\u001b[0m \u001b[0;32mnot\u001b[0m \u001b[0mtb\u001b[0m\u001b[0;34m:\u001b[0m\u001b[0;34m\u001b[0m\u001b[0;34m\u001b[0m\u001b[0m\n\u001b[0;32m--> 685\u001b[0;31m             \u001b[0;32mraise\u001b[0m \u001b[0mvalue\u001b[0m\u001b[0;34m.\u001b[0m\u001b[0mwith_traceback\u001b[0m\u001b[0;34m(\u001b[0m\u001b[0mtb\u001b[0m\u001b[0;34m)\u001b[0m\u001b[0;34m\u001b[0m\u001b[0;34m\u001b[0m\u001b[0m\n\u001b[0m\u001b[1;32m    686\u001b[0m         \u001b[0;32mraise\u001b[0m \u001b[0mvalue\u001b[0m\u001b[0;34m\u001b[0m\u001b[0;34m\u001b[0m\u001b[0m\n",
      "\u001b[0;32m/opt/anaconda3/envs/rents/lib/python3.9/site-packages/urllib3/connectionpool.py\u001b[0m in \u001b[0;36murlopen\u001b[0;34m(self, method, url, body, headers, retries, redirect, assert_same_host, timeout, pool_timeout, release_conn, chunked, body_pos, **response_kw)\u001b[0m\n\u001b[1;32m    596\u001b[0m             \u001b[0;31m# Make the request on the httplib connection object.\u001b[0m\u001b[0;34m\u001b[0m\u001b[0;34m\u001b[0m\u001b[0m\n\u001b[0;32m--> 597\u001b[0;31m             httplib_response = self._make_request(conn, method, url,\n\u001b[0m\u001b[1;32m    598\u001b[0m                                                   \u001b[0mtimeout\u001b[0m\u001b[0;34m=\u001b[0m\u001b[0mtimeout_obj\u001b[0m\u001b[0;34m,\u001b[0m\u001b[0;34m\u001b[0m\u001b[0;34m\u001b[0m\u001b[0m\n",
      "\u001b[0;32m/opt/anaconda3/envs/rents/lib/python3.9/site-packages/urllib3/connectionpool.py\u001b[0m in \u001b[0;36m_make_request\u001b[0;34m(self, conn, method, url, timeout, chunked, **httplib_request_kw)\u001b[0m\n\u001b[1;32m    383\u001b[0m                     \u001b[0;31m# otherwise it looks like a programming error was the cause.\u001b[0m\u001b[0;34m\u001b[0m\u001b[0;34m\u001b[0m\u001b[0m\n\u001b[0;32m--> 384\u001b[0;31m                     \u001b[0msix\u001b[0m\u001b[0;34m.\u001b[0m\u001b[0mraise_from\u001b[0m\u001b[0;34m(\u001b[0m\u001b[0me\u001b[0m\u001b[0;34m,\u001b[0m \u001b[0;32mNone\u001b[0m\u001b[0;34m)\u001b[0m\u001b[0;34m\u001b[0m\u001b[0;34m\u001b[0m\u001b[0m\n\u001b[0m\u001b[1;32m    385\u001b[0m         \u001b[0;32mexcept\u001b[0m \u001b[0;34m(\u001b[0m\u001b[0mSocketTimeout\u001b[0m\u001b[0;34m,\u001b[0m \u001b[0mBaseSSLError\u001b[0m\u001b[0;34m,\u001b[0m \u001b[0mSocketError\u001b[0m\u001b[0;34m)\u001b[0m \u001b[0;32mas\u001b[0m \u001b[0me\u001b[0m\u001b[0;34m:\u001b[0m\u001b[0;34m\u001b[0m\u001b[0;34m\u001b[0m\u001b[0m\n",
      "\u001b[0;32m/opt/anaconda3/envs/rents/lib/python3.9/site-packages/urllib3/packages/six.py\u001b[0m in \u001b[0;36mraise_from\u001b[0;34m(value, from_value)\u001b[0m\n",
      "\u001b[0;32m/opt/anaconda3/envs/rents/lib/python3.9/site-packages/urllib3/connectionpool.py\u001b[0m in \u001b[0;36m_make_request\u001b[0;34m(self, conn, method, url, timeout, chunked, **httplib_request_kw)\u001b[0m\n\u001b[1;32m    379\u001b[0m                 \u001b[0;32mtry\u001b[0m\u001b[0;34m:\u001b[0m\u001b[0;34m\u001b[0m\u001b[0;34m\u001b[0m\u001b[0m\n\u001b[0;32m--> 380\u001b[0;31m                     \u001b[0mhttplib_response\u001b[0m \u001b[0;34m=\u001b[0m \u001b[0mconn\u001b[0m\u001b[0;34m.\u001b[0m\u001b[0mgetresponse\u001b[0m\u001b[0;34m(\u001b[0m\u001b[0;34m)\u001b[0m\u001b[0;34m\u001b[0m\u001b[0;34m\u001b[0m\u001b[0m\n\u001b[0m\u001b[1;32m    381\u001b[0m                 \u001b[0;32mexcept\u001b[0m \u001b[0mException\u001b[0m \u001b[0;32mas\u001b[0m \u001b[0me\u001b[0m\u001b[0;34m:\u001b[0m\u001b[0;34m\u001b[0m\u001b[0;34m\u001b[0m\u001b[0m\n",
      "\u001b[0;32m/opt/anaconda3/envs/rents/lib/python3.9/http/client.py\u001b[0m in \u001b[0;36mgetresponse\u001b[0;34m(self)\u001b[0m\n\u001b[1;32m   1370\u001b[0m             \u001b[0;32mtry\u001b[0m\u001b[0;34m:\u001b[0m\u001b[0;34m\u001b[0m\u001b[0;34m\u001b[0m\u001b[0m\n\u001b[0;32m-> 1371\u001b[0;31m                 \u001b[0mresponse\u001b[0m\u001b[0;34m.\u001b[0m\u001b[0mbegin\u001b[0m\u001b[0;34m(\u001b[0m\u001b[0;34m)\u001b[0m\u001b[0;34m\u001b[0m\u001b[0;34m\u001b[0m\u001b[0m\n\u001b[0m\u001b[1;32m   1372\u001b[0m             \u001b[0;32mexcept\u001b[0m \u001b[0mConnectionError\u001b[0m\u001b[0;34m:\u001b[0m\u001b[0;34m\u001b[0m\u001b[0;34m\u001b[0m\u001b[0m\n",
      "\u001b[0;32m/opt/anaconda3/envs/rents/lib/python3.9/http/client.py\u001b[0m in \u001b[0;36mbegin\u001b[0;34m(self)\u001b[0m\n\u001b[1;32m    318\u001b[0m         \u001b[0;32mwhile\u001b[0m \u001b[0;32mTrue\u001b[0m\u001b[0;34m:\u001b[0m\u001b[0;34m\u001b[0m\u001b[0;34m\u001b[0m\u001b[0m\n\u001b[0;32m--> 319\u001b[0;31m             \u001b[0mversion\u001b[0m\u001b[0;34m,\u001b[0m \u001b[0mstatus\u001b[0m\u001b[0;34m,\u001b[0m \u001b[0mreason\u001b[0m \u001b[0;34m=\u001b[0m \u001b[0mself\u001b[0m\u001b[0;34m.\u001b[0m\u001b[0m_read_status\u001b[0m\u001b[0;34m(\u001b[0m\u001b[0;34m)\u001b[0m\u001b[0;34m\u001b[0m\u001b[0;34m\u001b[0m\u001b[0m\n\u001b[0m\u001b[1;32m    320\u001b[0m             \u001b[0;32mif\u001b[0m \u001b[0mstatus\u001b[0m \u001b[0;34m!=\u001b[0m \u001b[0mCONTINUE\u001b[0m\u001b[0;34m:\u001b[0m\u001b[0;34m\u001b[0m\u001b[0;34m\u001b[0m\u001b[0m\n",
      "\u001b[0;32m/opt/anaconda3/envs/rents/lib/python3.9/http/client.py\u001b[0m in \u001b[0;36m_read_status\u001b[0;34m(self)\u001b[0m\n\u001b[1;32m    287\u001b[0m             \u001b[0;31m# sending a valid response.\u001b[0m\u001b[0;34m\u001b[0m\u001b[0;34m\u001b[0m\u001b[0m\n\u001b[0;32m--> 288\u001b[0;31m             raise RemoteDisconnected(\"Remote end closed connection without\"\n\u001b[0m\u001b[1;32m    289\u001b[0m                                      \" response\")\n",
      "\u001b[0;31mProtocolError\u001b[0m: ('Connection aborted.', RemoteDisconnected('Remote end closed connection without response'))",
      "\nDuring handling of the above exception, another exception occurred:\n",
      "\u001b[0;31mConnectionError\u001b[0m                           Traceback (most recent call last)",
      "\u001b[0;32m/var/folders/pl/wm7wjyvn1vvflk70yn1b6n6c0000gn/T/ipykernel_2116/2194629066.py\u001b[0m in \u001b[0;36m<module>\u001b[0;34m\u001b[0m\n\u001b[1;32m      1\u001b[0m \u001b[0;32mfor\u001b[0m \u001b[0murl\u001b[0m \u001b[0;32min\u001b[0m \u001b[0;34m(\u001b[0m\u001b[0mlinks\u001b[0m\u001b[0;34m)\u001b[0m\u001b[0;34m:\u001b[0m\u001b[0;34m\u001b[0m\u001b[0;34m\u001b[0m\u001b[0m\n\u001b[1;32m      2\u001b[0m     \u001b[0mtarget_url\u001b[0m \u001b[0;34m=\u001b[0m \u001b[0;34m\"https://www.tripadvisor.com\"\u001b[0m \u001b[0;34m+\u001b[0m \u001b[0murl\u001b[0m\u001b[0;34m\u001b[0m\u001b[0;34m\u001b[0m\u001b[0m\n\u001b[0;32m----> 3\u001b[0;31m     \u001b[0mdriver\u001b[0m \u001b[0;34m=\u001b[0m \u001b[0mwebdriver\u001b[0m\u001b[0;34m.\u001b[0m\u001b[0mChrome\u001b[0m\u001b[0;34m(\u001b[0m\u001b[0mChromeDriverManager\u001b[0m\u001b[0;34m(\u001b[0m\u001b[0;34m)\u001b[0m\u001b[0;34m.\u001b[0m\u001b[0minstall\u001b[0m\u001b[0;34m(\u001b[0m\u001b[0;34m)\u001b[0m\u001b[0;34m)\u001b[0m\u001b[0;34m\u001b[0m\u001b[0;34m\u001b[0m\u001b[0m\n\u001b[0m\u001b[1;32m      4\u001b[0m     \u001b[0mdriver\u001b[0m\u001b[0;34m.\u001b[0m\u001b[0mget\u001b[0m\u001b[0;34m(\u001b[0m\u001b[0mtarget_url\u001b[0m\u001b[0;34m)\u001b[0m\u001b[0;34m\u001b[0m\u001b[0;34m\u001b[0m\u001b[0m\n\u001b[1;32m      5\u001b[0m     \u001b[0mbsobj\u001b[0m \u001b[0;34m=\u001b[0m \u001b[0mBeautifulSoup\u001b[0m\u001b[0;34m(\u001b[0m\u001b[0mdriver\u001b[0m\u001b[0;34m.\u001b[0m\u001b[0mpage_source\u001b[0m\u001b[0;34m,\u001b[0m \u001b[0;34m'html.parser'\u001b[0m\u001b[0;34m)\u001b[0m\u001b[0;34m\u001b[0m\u001b[0;34m\u001b[0m\u001b[0m\n",
      "\u001b[0;32m/opt/anaconda3/envs/rents/lib/python3.9/site-packages/webdriver_manager/chrome.py\u001b[0m in \u001b[0;36minstall\u001b[0;34m(self)\u001b[0m\n\u001b[1;32m     30\u001b[0m \u001b[0;34m\u001b[0m\u001b[0m\n\u001b[1;32m     31\u001b[0m     \u001b[0;32mdef\u001b[0m \u001b[0minstall\u001b[0m\u001b[0;34m(\u001b[0m\u001b[0mself\u001b[0m\u001b[0;34m)\u001b[0m\u001b[0;34m:\u001b[0m\u001b[0;34m\u001b[0m\u001b[0;34m\u001b[0m\u001b[0m\n\u001b[0;32m---> 32\u001b[0;31m         \u001b[0mdriver_path\u001b[0m \u001b[0;34m=\u001b[0m \u001b[0mself\u001b[0m\u001b[0;34m.\u001b[0m\u001b[0m_get_driver_path\u001b[0m\u001b[0;34m(\u001b[0m\u001b[0mself\u001b[0m\u001b[0;34m.\u001b[0m\u001b[0mdriver\u001b[0m\u001b[0;34m)\u001b[0m\u001b[0;34m\u001b[0m\u001b[0;34m\u001b[0m\u001b[0m\n\u001b[0m\u001b[1;32m     33\u001b[0m \u001b[0;34m\u001b[0m\u001b[0m\n\u001b[1;32m     34\u001b[0m         \u001b[0mos\u001b[0m\u001b[0;34m.\u001b[0m\u001b[0mchmod\u001b[0m\u001b[0;34m(\u001b[0m\u001b[0mdriver_path\u001b[0m\u001b[0;34m,\u001b[0m \u001b[0;36m0o755\u001b[0m\u001b[0;34m)\u001b[0m\u001b[0;34m\u001b[0m\u001b[0;34m\u001b[0m\u001b[0m\n",
      "\u001b[0;32m/opt/anaconda3/envs/rents/lib/python3.9/site-packages/webdriver_manager/manager.py\u001b[0m in \u001b[0;36m_get_driver_path\u001b[0;34m(self, driver)\u001b[0m\n\u001b[1;32m     21\u001b[0m         \u001b[0mdriver_name\u001b[0m \u001b[0;34m=\u001b[0m \u001b[0mdriver\u001b[0m\u001b[0;34m.\u001b[0m\u001b[0mget_name\u001b[0m\u001b[0;34m(\u001b[0m\u001b[0;34m)\u001b[0m\u001b[0;34m\u001b[0m\u001b[0;34m\u001b[0m\u001b[0m\n\u001b[1;32m     22\u001b[0m         \u001b[0mos_type\u001b[0m \u001b[0;34m=\u001b[0m \u001b[0mdriver\u001b[0m\u001b[0;34m.\u001b[0m\u001b[0mget_os_type\u001b[0m\u001b[0;34m(\u001b[0m\u001b[0;34m)\u001b[0m\u001b[0;34m\u001b[0m\u001b[0;34m\u001b[0m\u001b[0m\n\u001b[0;32m---> 23\u001b[0;31m         \u001b[0mdriver_version\u001b[0m \u001b[0;34m=\u001b[0m \u001b[0mdriver\u001b[0m\u001b[0;34m.\u001b[0m\u001b[0mget_version\u001b[0m\u001b[0;34m(\u001b[0m\u001b[0;34m)\u001b[0m\u001b[0;34m\u001b[0m\u001b[0;34m\u001b[0m\u001b[0m\n\u001b[0m\u001b[1;32m     24\u001b[0m \u001b[0;34m\u001b[0m\u001b[0m\n\u001b[1;32m     25\u001b[0m         binary_path = self.driver_cache.find_driver(browser_version, driver_name, os_type,\n",
      "\u001b[0;32m/opt/anaconda3/envs/rents/lib/python3.9/site-packages/webdriver_manager/driver.py\u001b[0m in \u001b[0;36mget_version\u001b[0;34m(self)\u001b[0m\n\u001b[1;32m     39\u001b[0m         \u001b[0mdriver_version\u001b[0m \u001b[0;34m=\u001b[0m \u001b[0mself\u001b[0m\u001b[0;34m.\u001b[0m\u001b[0m_version\u001b[0m\u001b[0;34m\u001b[0m\u001b[0;34m\u001b[0m\u001b[0m\n\u001b[1;32m     40\u001b[0m         \u001b[0;32mif\u001b[0m \u001b[0mdriver_version\u001b[0m \u001b[0;34m==\u001b[0m \u001b[0;34m\"latest\"\u001b[0m\u001b[0;34m:\u001b[0m\u001b[0;34m\u001b[0m\u001b[0;34m\u001b[0m\u001b[0m\n\u001b[0;32m---> 41\u001b[0;31m             \u001b[0;32mreturn\u001b[0m \u001b[0mself\u001b[0m\u001b[0;34m.\u001b[0m\u001b[0mget_latest_release_version\u001b[0m\u001b[0;34m(\u001b[0m\u001b[0;34m)\u001b[0m\u001b[0;34m\u001b[0m\u001b[0;34m\u001b[0m\u001b[0m\n\u001b[0m\u001b[1;32m     42\u001b[0m         \u001b[0;32mreturn\u001b[0m \u001b[0mself\u001b[0m\u001b[0;34m.\u001b[0m\u001b[0m_version\u001b[0m\u001b[0;34m\u001b[0m\u001b[0;34m\u001b[0m\u001b[0m\n\u001b[1;32m     43\u001b[0m \u001b[0;34m\u001b[0m\u001b[0m\n",
      "\u001b[0;32m/opt/anaconda3/envs/rents/lib/python3.9/site-packages/webdriver_manager/driver.py\u001b[0m in \u001b[0;36mget_latest_release_version\u001b[0;34m(self)\u001b[0m\n\u001b[1;32m     68\u001b[0m             \u001b[0;32melse\u001b[0m \u001b[0mself\u001b[0m\u001b[0;34m.\u001b[0m\u001b[0m_latest_release_url\u001b[0m\u001b[0;34m\u001b[0m\u001b[0;34m\u001b[0m\u001b[0m\n\u001b[1;32m     69\u001b[0m         )\n\u001b[0;32m---> 70\u001b[0;31m         resp = requests.get(\n\u001b[0m\u001b[1;32m     71\u001b[0m             \u001b[0murl\u001b[0m\u001b[0;34m=\u001b[0m\u001b[0mlatest_release_url\u001b[0m\u001b[0;34m,\u001b[0m\u001b[0;34m\u001b[0m\u001b[0;34m\u001b[0m\u001b[0m\n\u001b[1;32m     72\u001b[0m             \u001b[0mverify\u001b[0m\u001b[0;34m=\u001b[0m\u001b[0mself\u001b[0m\u001b[0;34m.\u001b[0m\u001b[0mssl_verify\u001b[0m\u001b[0;34m\u001b[0m\u001b[0;34m\u001b[0m\u001b[0m\n",
      "\u001b[0;32m/opt/anaconda3/envs/rents/lib/python3.9/site-packages/requests/api.py\u001b[0m in \u001b[0;36mget\u001b[0;34m(url, params, **kwargs)\u001b[0m\n\u001b[1;32m     73\u001b[0m     \"\"\"\n\u001b[1;32m     74\u001b[0m \u001b[0;34m\u001b[0m\u001b[0m\n\u001b[0;32m---> 75\u001b[0;31m     \u001b[0;32mreturn\u001b[0m \u001b[0mrequest\u001b[0m\u001b[0;34m(\u001b[0m\u001b[0;34m'get'\u001b[0m\u001b[0;34m,\u001b[0m \u001b[0murl\u001b[0m\u001b[0;34m,\u001b[0m \u001b[0mparams\u001b[0m\u001b[0;34m=\u001b[0m\u001b[0mparams\u001b[0m\u001b[0;34m,\u001b[0m \u001b[0;34m**\u001b[0m\u001b[0mkwargs\u001b[0m\u001b[0;34m)\u001b[0m\u001b[0;34m\u001b[0m\u001b[0;34m\u001b[0m\u001b[0m\n\u001b[0m\u001b[1;32m     76\u001b[0m \u001b[0;34m\u001b[0m\u001b[0m\n\u001b[1;32m     77\u001b[0m \u001b[0;34m\u001b[0m\u001b[0m\n",
      "\u001b[0;32m/opt/anaconda3/envs/rents/lib/python3.9/site-packages/requests/api.py\u001b[0m in \u001b[0;36mrequest\u001b[0;34m(method, url, **kwargs)\u001b[0m\n\u001b[1;32m     59\u001b[0m     \u001b[0;31m# cases, and look like a memory leak in others.\u001b[0m\u001b[0;34m\u001b[0m\u001b[0;34m\u001b[0m\u001b[0m\n\u001b[1;32m     60\u001b[0m     \u001b[0;32mwith\u001b[0m \u001b[0msessions\u001b[0m\u001b[0;34m.\u001b[0m\u001b[0mSession\u001b[0m\u001b[0;34m(\u001b[0m\u001b[0;34m)\u001b[0m \u001b[0;32mas\u001b[0m \u001b[0msession\u001b[0m\u001b[0;34m:\u001b[0m\u001b[0;34m\u001b[0m\u001b[0;34m\u001b[0m\u001b[0m\n\u001b[0;32m---> 61\u001b[0;31m         \u001b[0;32mreturn\u001b[0m \u001b[0msession\u001b[0m\u001b[0;34m.\u001b[0m\u001b[0mrequest\u001b[0m\u001b[0;34m(\u001b[0m\u001b[0mmethod\u001b[0m\u001b[0;34m=\u001b[0m\u001b[0mmethod\u001b[0m\u001b[0;34m,\u001b[0m \u001b[0murl\u001b[0m\u001b[0;34m=\u001b[0m\u001b[0murl\u001b[0m\u001b[0;34m,\u001b[0m \u001b[0;34m**\u001b[0m\u001b[0mkwargs\u001b[0m\u001b[0;34m)\u001b[0m\u001b[0;34m\u001b[0m\u001b[0;34m\u001b[0m\u001b[0m\n\u001b[0m\u001b[1;32m     62\u001b[0m \u001b[0;34m\u001b[0m\u001b[0m\n\u001b[1;32m     63\u001b[0m \u001b[0;34m\u001b[0m\u001b[0m\n",
      "\u001b[0;32m/opt/anaconda3/envs/rents/lib/python3.9/site-packages/requests/sessions.py\u001b[0m in \u001b[0;36mrequest\u001b[0;34m(self, method, url, params, data, headers, cookies, files, auth, timeout, allow_redirects, proxies, hooks, stream, verify, cert, json)\u001b[0m\n\u001b[1;32m    527\u001b[0m         }\n\u001b[1;32m    528\u001b[0m         \u001b[0msend_kwargs\u001b[0m\u001b[0;34m.\u001b[0m\u001b[0mupdate\u001b[0m\u001b[0;34m(\u001b[0m\u001b[0msettings\u001b[0m\u001b[0;34m)\u001b[0m\u001b[0;34m\u001b[0m\u001b[0;34m\u001b[0m\u001b[0m\n\u001b[0;32m--> 529\u001b[0;31m         \u001b[0mresp\u001b[0m \u001b[0;34m=\u001b[0m \u001b[0mself\u001b[0m\u001b[0;34m.\u001b[0m\u001b[0msend\u001b[0m\u001b[0;34m(\u001b[0m\u001b[0mprep\u001b[0m\u001b[0;34m,\u001b[0m \u001b[0;34m**\u001b[0m\u001b[0msend_kwargs\u001b[0m\u001b[0;34m)\u001b[0m\u001b[0;34m\u001b[0m\u001b[0;34m\u001b[0m\u001b[0m\n\u001b[0m\u001b[1;32m    530\u001b[0m \u001b[0;34m\u001b[0m\u001b[0m\n\u001b[1;32m    531\u001b[0m         \u001b[0;32mreturn\u001b[0m \u001b[0mresp\u001b[0m\u001b[0;34m\u001b[0m\u001b[0;34m\u001b[0m\u001b[0m\n",
      "\u001b[0;32m/opt/anaconda3/envs/rents/lib/python3.9/site-packages/requests/sessions.py\u001b[0m in \u001b[0;36msend\u001b[0;34m(self, request, **kwargs)\u001b[0m\n\u001b[1;32m    643\u001b[0m \u001b[0;34m\u001b[0m\u001b[0m\n\u001b[1;32m    644\u001b[0m         \u001b[0;31m# Send the request\u001b[0m\u001b[0;34m\u001b[0m\u001b[0;34m\u001b[0m\u001b[0m\n\u001b[0;32m--> 645\u001b[0;31m         \u001b[0mr\u001b[0m \u001b[0;34m=\u001b[0m \u001b[0madapter\u001b[0m\u001b[0;34m.\u001b[0m\u001b[0msend\u001b[0m\u001b[0;34m(\u001b[0m\u001b[0mrequest\u001b[0m\u001b[0;34m,\u001b[0m \u001b[0;34m**\u001b[0m\u001b[0mkwargs\u001b[0m\u001b[0;34m)\u001b[0m\u001b[0;34m\u001b[0m\u001b[0;34m\u001b[0m\u001b[0m\n\u001b[0m\u001b[1;32m    646\u001b[0m \u001b[0;34m\u001b[0m\u001b[0m\n\u001b[1;32m    647\u001b[0m         \u001b[0;31m# Total elapsed time of the request (approximately)\u001b[0m\u001b[0;34m\u001b[0m\u001b[0;34m\u001b[0m\u001b[0m\n",
      "\u001b[0;32m/opt/anaconda3/envs/rents/lib/python3.9/site-packages/requests/adapters.py\u001b[0m in \u001b[0;36msend\u001b[0;34m(self, request, stream, timeout, verify, cert, proxies)\u001b[0m\n\u001b[1;32m    499\u001b[0m \u001b[0;34m\u001b[0m\u001b[0m\n\u001b[1;32m    500\u001b[0m         \u001b[0;32mexcept\u001b[0m \u001b[0;34m(\u001b[0m\u001b[0mProtocolError\u001b[0m\u001b[0;34m,\u001b[0m \u001b[0msocket\u001b[0m\u001b[0;34m.\u001b[0m\u001b[0merror\u001b[0m\u001b[0;34m)\u001b[0m \u001b[0;32mas\u001b[0m \u001b[0merr\u001b[0m\u001b[0;34m:\u001b[0m\u001b[0;34m\u001b[0m\u001b[0;34m\u001b[0m\u001b[0m\n\u001b[0;32m--> 501\u001b[0;31m             \u001b[0;32mraise\u001b[0m \u001b[0mConnectionError\u001b[0m\u001b[0;34m(\u001b[0m\u001b[0merr\u001b[0m\u001b[0;34m,\u001b[0m \u001b[0mrequest\u001b[0m\u001b[0;34m=\u001b[0m\u001b[0mrequest\u001b[0m\u001b[0;34m)\u001b[0m\u001b[0;34m\u001b[0m\u001b[0;34m\u001b[0m\u001b[0m\n\u001b[0m\u001b[1;32m    502\u001b[0m \u001b[0;34m\u001b[0m\u001b[0m\n\u001b[1;32m    503\u001b[0m         \u001b[0;32mexcept\u001b[0m \u001b[0mMaxRetryError\u001b[0m \u001b[0;32mas\u001b[0m \u001b[0me\u001b[0m\u001b[0;34m:\u001b[0m\u001b[0;34m\u001b[0m\u001b[0;34m\u001b[0m\u001b[0m\n",
      "\u001b[0;31mConnectionError\u001b[0m: ('Connection aborted.', RemoteDisconnected('Remote end closed connection without response'))"
     ]
    }
   ],
   "source": [
    "for url in (links):\n",
    "    target_url = \"https://www.tripadvisor.com\" + url\n",
    "    driver = webdriver.Chrome(ChromeDriverManager().install())\n",
    "    driver.get(target_url)\n",
    "    bsobj = BeautifulSoup(driver.page_source, 'html.parser')\n",
    "    driver.close()\n",
    "    \n",
    "    coord = str(bsobj.find_all(\"script\"))\n",
    "\n",
    "    latitude = coord.split(\"latitude%5C%5C%5C%22%3A\")\n",
    "    latitude = (latitude[1].split(\"%\")[0])\n",
    "    longitude = coord.split(\"longitude%5C%5C%5C%22%3A\")\n",
    "    longitude = (longitude[1].split(\"%\")[0])\n",
    "\n",
    "    lat.append(float(latitude))\n",
    "    print(lat)\n",
    "\n",
    "    lon.append(float(longitude))\n",
    "    print(lon)"
   ]
  },
  {
   "cell_type": "code",
   "execution_count": 175,
   "id": "940df7f6",
   "metadata": {},
   "outputs": [
    {
     "data": {
      "text/html": [
       "<div>\n",
       "<style scoped>\n",
       "    .dataframe tbody tr th:only-of-type {\n",
       "        vertical-align: middle;\n",
       "    }\n",
       "\n",
       "    .dataframe tbody tr th {\n",
       "        vertical-align: top;\n",
       "    }\n",
       "\n",
       "    .dataframe thead th {\n",
       "        text-align: right;\n",
       "    }\n",
       "</style>\n",
       "<table border=\"1\" class=\"dataframe\">\n",
       "  <thead>\n",
       "    <tr style=\"text-align: right;\">\n",
       "      <th></th>\n",
       "      <th>lat</th>\n",
       "      <th>lng</th>\n",
       "      <th>title</th>\n",
       "      <th>status</th>\n",
       "      <th>Trip</th>\n",
       "    </tr>\n",
       "  </thead>\n",
       "  <tbody>\n",
       "    <tr>\n",
       "      <th>0</th>\n",
       "      <td>41.403423</td>\n",
       "      <td>2.174611</td>\n",
       "      <td>1. Basílica de la Sagrada Familia</td>\n",
       "      <td>ToDo</td>\n",
       "      <td>0</td>\n",
       "    </tr>\n",
       "    <tr>\n",
       "      <th>1</th>\n",
       "      <td>41.382700</td>\n",
       "      <td>2.177113</td>\n",
       "      <td>2. Gothic Quarter (Barri Gotic)</td>\n",
       "      <td>ToDo</td>\n",
       "      <td>1</td>\n",
       "    </tr>\n",
       "    <tr>\n",
       "      <th>2</th>\n",
       "      <td>41.391712</td>\n",
       "      <td>2.164824</td>\n",
       "      <td>3. Casa Batlló</td>\n",
       "      <td>ToDo</td>\n",
       "      <td>2</td>\n",
       "    </tr>\n",
       "    <tr>\n",
       "      <th>3</th>\n",
       "      <td>41.387573</td>\n",
       "      <td>2.175302</td>\n",
       "      <td>4. Palace of Catalan Music</td>\n",
       "      <td>ToDo</td>\n",
       "      <td>3</td>\n",
       "    </tr>\n",
       "    <tr>\n",
       "      <th>4</th>\n",
       "      <td>41.395325</td>\n",
       "      <td>2.161925</td>\n",
       "      <td>5. Casa Milà - La Pedrera</td>\n",
       "      <td>ToDo</td>\n",
       "      <td>4</td>\n",
       "    </tr>\n",
       "    <tr>\n",
       "      <th>5</th>\n",
       "      <td>41.380924</td>\n",
       "      <td>2.122952</td>\n",
       "      <td>6. Camp Nou</td>\n",
       "      <td>ToDo</td>\n",
       "      <td>5</td>\n",
       "    </tr>\n",
       "    <tr>\n",
       "      <th>6</th>\n",
       "      <td>41.381740</td>\n",
       "      <td>2.171584</td>\n",
       "      <td>7. Mercat de la Boqueria</td>\n",
       "      <td>ToDo</td>\n",
       "      <td>6</td>\n",
       "    </tr>\n",
       "    <tr>\n",
       "      <th>7</th>\n",
       "      <td>41.383490</td>\n",
       "      <td>2.181780</td>\n",
       "      <td>8. Basílica de Santa Maria del Mar</td>\n",
       "      <td>ToDo</td>\n",
       "      <td>7</td>\n",
       "    </tr>\n",
       "    <tr>\n",
       "      <th>8</th>\n",
       "      <td>41.411420</td>\n",
       "      <td>2.174328</td>\n",
       "      <td>9. Recinte Modernista de Sant Pau</td>\n",
       "      <td>ToDo</td>\n",
       "      <td>8</td>\n",
       "    </tr>\n",
       "    <tr>\n",
       "      <th>9</th>\n",
       "      <td>41.368454</td>\n",
       "      <td>2.153715</td>\n",
       "      <td>10. Museu Nacional d'Art de Catalunya - MNAC</td>\n",
       "      <td>ToDo</td>\n",
       "      <td>9</td>\n",
       "    </tr>\n",
       "    <tr>\n",
       "      <th>10</th>\n",
       "      <td>41.384420</td>\n",
       "      <td>2.176010</td>\n",
       "      <td>11. Barcelona Cathedral</td>\n",
       "      <td>ToDo</td>\n",
       "      <td>10</td>\n",
       "    </tr>\n",
       "    <tr>\n",
       "      <th>11</th>\n",
       "      <td>41.371174</td>\n",
       "      <td>2.151718</td>\n",
       "      <td>12. The Magic Fountain</td>\n",
       "      <td>ToDo</td>\n",
       "      <td>11</td>\n",
       "    </tr>\n",
       "    <tr>\n",
       "      <th>12</th>\n",
       "      <td>41.364548</td>\n",
       "      <td>2.165427</td>\n",
       "      <td>13. Parc de Montjuic</td>\n",
       "      <td>ToDo</td>\n",
       "      <td>12</td>\n",
       "    </tr>\n",
       "    <tr>\n",
       "      <th>13</th>\n",
       "      <td>41.412766</td>\n",
       "      <td>2.131519</td>\n",
       "      <td>14. CosmoCaixa</td>\n",
       "      <td>ToDo</td>\n",
       "      <td>13</td>\n",
       "    </tr>\n",
       "    <tr>\n",
       "      <th>14</th>\n",
       "      <td>41.403410</td>\n",
       "      <td>2.150660</td>\n",
       "      <td>15. Casa Vicens</td>\n",
       "      <td>ToDo</td>\n",
       "      <td>14</td>\n",
       "    </tr>\n",
       "    <tr>\n",
       "      <th>15</th>\n",
       "      <td>41.394930</td>\n",
       "      <td>2.161770</td>\n",
       "      <td>16. Passeig de Gracia</td>\n",
       "      <td>ToDo</td>\n",
       "      <td>15</td>\n",
       "    </tr>\n",
       "    <tr>\n",
       "      <th>16</th>\n",
       "      <td>41.378883</td>\n",
       "      <td>2.174240</td>\n",
       "      <td>17. Palau Güell</td>\n",
       "      <td>ToDo</td>\n",
       "      <td>16</td>\n",
       "    </tr>\n",
       "    <tr>\n",
       "      <th>17</th>\n",
       "      <td>41.388542</td>\n",
       "      <td>2.187180</td>\n",
       "      <td>18. Parc de la Ciutadella</td>\n",
       "      <td>ToDo</td>\n",
       "      <td>17</td>\n",
       "    </tr>\n",
       "    <tr>\n",
       "      <th>18</th>\n",
       "      <td>41.382168</td>\n",
       "      <td>2.172549</td>\n",
       "      <td>19. Erotic Museum of Barcelona (Museu de l'Ero...</td>\n",
       "      <td>ToDo</td>\n",
       "      <td>18</td>\n",
       "    </tr>\n",
       "    <tr>\n",
       "      <th>19</th>\n",
       "      <td>41.368520</td>\n",
       "      <td>2.159726</td>\n",
       "      <td>20. Joan Miro Foundation</td>\n",
       "      <td>ToDo</td>\n",
       "      <td>19</td>\n",
       "    </tr>\n",
       "    <tr>\n",
       "      <th>20</th>\n",
       "      <td>41.387000</td>\n",
       "      <td>2.176110</td>\n",
       "      <td>21. El Born</td>\n",
       "      <td>ToDo</td>\n",
       "      <td>20</td>\n",
       "    </tr>\n",
       "    <tr>\n",
       "      <th>21</th>\n",
       "      <td>41.374940</td>\n",
       "      <td>2.148340</td>\n",
       "      <td>22. Plaça d'Espanya</td>\n",
       "      <td>ToDo</td>\n",
       "      <td>21</td>\n",
       "    </tr>\n",
       "    <tr>\n",
       "      <th>22</th>\n",
       "      <td>41.421500</td>\n",
       "      <td>2.119200</td>\n",
       "      <td>23. Templo del Sagrado Corazon de Jesus</td>\n",
       "      <td>ToDo</td>\n",
       "      <td>22</td>\n",
       "    </tr>\n",
       "    <tr>\n",
       "      <th>23</th>\n",
       "      <td>41.396210</td>\n",
       "      <td>2.161339</td>\n",
       "      <td>24. L'Eixample District</td>\n",
       "      <td>ToDo</td>\n",
       "      <td>23</td>\n",
       "    </tr>\n",
       "    <tr>\n",
       "      <th>24</th>\n",
       "      <td>41.414510</td>\n",
       "      <td>2.152709</td>\n",
       "      <td>25. Parc Guell</td>\n",
       "      <td>ToDo</td>\n",
       "      <td>24</td>\n",
       "    </tr>\n",
       "  </tbody>\n",
       "</table>\n",
       "</div>"
      ],
      "text/plain": [
       "          lat       lng                                              title  \\\n",
       "0   41.403423  2.174611                  1. Basílica de la Sagrada Familia   \n",
       "1   41.382700  2.177113                    2. Gothic Quarter (Barri Gotic)   \n",
       "2   41.391712  2.164824                                     3. Casa Batlló   \n",
       "3   41.387573  2.175302                         4. Palace of Catalan Music   \n",
       "4   41.395325  2.161925                          5. Casa Milà - La Pedrera   \n",
       "5   41.380924  2.122952                                        6. Camp Nou   \n",
       "6   41.381740  2.171584                           7. Mercat de la Boqueria   \n",
       "7   41.383490  2.181780                 8. Basílica de Santa Maria del Mar   \n",
       "8   41.411420  2.174328                  9. Recinte Modernista de Sant Pau   \n",
       "9   41.368454  2.153715       10. Museu Nacional d'Art de Catalunya - MNAC   \n",
       "10  41.384420  2.176010                            11. Barcelona Cathedral   \n",
       "11  41.371174  2.151718                             12. The Magic Fountain   \n",
       "12  41.364548  2.165427                               13. Parc de Montjuic   \n",
       "13  41.412766  2.131519                                     14. CosmoCaixa   \n",
       "14  41.403410  2.150660                                    15. Casa Vicens   \n",
       "15  41.394930  2.161770                              16. Passeig de Gracia   \n",
       "16  41.378883  2.174240                                    17. Palau Güell   \n",
       "17  41.388542  2.187180                          18. Parc de la Ciutadella   \n",
       "18  41.382168  2.172549  19. Erotic Museum of Barcelona (Museu de l'Ero...   \n",
       "19  41.368520  2.159726                           20. Joan Miro Foundation   \n",
       "20  41.387000  2.176110                                        21. El Born   \n",
       "21  41.374940  2.148340                                22. Plaça d'Espanya   \n",
       "22  41.421500  2.119200            23. Templo del Sagrado Corazon de Jesus   \n",
       "23  41.396210  2.161339                            24. L'Eixample District   \n",
       "24  41.414510  2.152709                                     25. Parc Guell   \n",
       "\n",
       "   status  Trip  \n",
       "0    ToDo     0  \n",
       "1    ToDo     1  \n",
       "2    ToDo     2  \n",
       "3    ToDo     3  \n",
       "4    ToDo     4  \n",
       "5    ToDo     5  \n",
       "6    ToDo     6  \n",
       "7    ToDo     7  \n",
       "8    ToDo     8  \n",
       "9    ToDo     9  \n",
       "10   ToDo    10  \n",
       "11   ToDo    11  \n",
       "12   ToDo    12  \n",
       "13   ToDo    13  \n",
       "14   ToDo    14  \n",
       "15   ToDo    15  \n",
       "16   ToDo    16  \n",
       "17   ToDo    17  \n",
       "18   ToDo    18  \n",
       "19   ToDo    19  \n",
       "20   ToDo    20  \n",
       "21   ToDo    21  \n",
       "22   ToDo    22  \n",
       "23   ToDo    23  \n",
       "24   ToDo    24  "
      ]
     },
     "execution_count": 175,
     "metadata": {},
     "output_type": "execute_result"
    }
   ],
   "source": [
    "Barcelona = pd.DataFrame()\n",
    "Barcelona[\"lat\"]=lat\n",
    "Barcelona[\"lng\"]=lon\n",
    "Barcelona[\"title\"]=names[:91]\n",
    "Barcelona[\"status\"]=\"ToDo\"\n",
    "Barcelona[\"Trip\"]=Barcelona.index\n",
    "Barcelona = Barcelona.head(25)\n",
    "Barcelona#.to_csv(\"barcelona.csv\")"
   ]
  },
  {
   "cell_type": "code",
   "execution_count": 183,
   "id": "f61af82d",
   "metadata": {},
   "outputs": [
    {
     "data": {
      "text/html": [
       "<div>\n",
       "<style scoped>\n",
       "    .dataframe tbody tr th:only-of-type {\n",
       "        vertical-align: middle;\n",
       "    }\n",
       "\n",
       "    .dataframe tbody tr th {\n",
       "        vertical-align: top;\n",
       "    }\n",
       "\n",
       "    .dataframe thead th {\n",
       "        text-align: right;\n",
       "    }\n",
       "</style>\n",
       "<table border=\"1\" class=\"dataframe\">\n",
       "  <thead>\n",
       "    <tr style=\"text-align: right;\">\n",
       "      <th></th>\n",
       "      <th>lat</th>\n",
       "      <th>lng</th>\n",
       "      <th>title</th>\n",
       "      <th>status</th>\n",
       "      <th>Trip</th>\n",
       "      <th>All</th>\n",
       "      <th>5tops1</th>\n",
       "      <th>5tops2</th>\n",
       "    </tr>\n",
       "  </thead>\n",
       "  <tbody>\n",
       "    <tr>\n",
       "      <th>0</th>\n",
       "      <td>41.403423</td>\n",
       "      <td>2.174611</td>\n",
       "      <td>1. Basílica de la Sagrada Familia</td>\n",
       "      <td>ToDo</td>\n",
       "      <td>0</td>\n",
       "      <td>24</td>\n",
       "      <td>1.0</td>\n",
       "      <td>NaN</td>\n",
       "    </tr>\n",
       "    <tr>\n",
       "      <th>1</th>\n",
       "      <td>41.382700</td>\n",
       "      <td>2.177113</td>\n",
       "      <td>2. Gothic Quarter (Barri Gotic)</td>\n",
       "      <td>ToDo</td>\n",
       "      <td>1</td>\n",
       "      <td>21</td>\n",
       "      <td>3.0</td>\n",
       "      <td>NaN</td>\n",
       "    </tr>\n",
       "    <tr>\n",
       "      <th>2</th>\n",
       "      <td>41.391712</td>\n",
       "      <td>2.164824</td>\n",
       "      <td>3. Casa Batlló</td>\n",
       "      <td>ToDo</td>\n",
       "      <td>2</td>\n",
       "      <td>1</td>\n",
       "      <td>4.0</td>\n",
       "      <td>NaN</td>\n",
       "    </tr>\n",
       "    <tr>\n",
       "      <th>3</th>\n",
       "      <td>41.387573</td>\n",
       "      <td>2.175302</td>\n",
       "      <td>4. Palace of Catalan Music</td>\n",
       "      <td>ToDo</td>\n",
       "      <td>3</td>\n",
       "      <td>18</td>\n",
       "      <td>2.0</td>\n",
       "      <td>NaN</td>\n",
       "    </tr>\n",
       "    <tr>\n",
       "      <th>4</th>\n",
       "      <td>41.395325</td>\n",
       "      <td>2.161925</td>\n",
       "      <td>5. Casa Milà - La Pedrera</td>\n",
       "      <td>ToDo</td>\n",
       "      <td>4</td>\n",
       "      <td>3</td>\n",
       "      <td>0.0</td>\n",
       "      <td>NaN</td>\n",
       "    </tr>\n",
       "    <tr>\n",
       "      <th>5</th>\n",
       "      <td>41.380924</td>\n",
       "      <td>2.122952</td>\n",
       "      <td>6. Camp Nou</td>\n",
       "      <td>ToDo</td>\n",
       "      <td>5</td>\n",
       "      <td>9</td>\n",
       "      <td>NaN</td>\n",
       "      <td>4.0</td>\n",
       "    </tr>\n",
       "    <tr>\n",
       "      <th>6</th>\n",
       "      <td>41.381740</td>\n",
       "      <td>2.171584</td>\n",
       "      <td>7. Mercat de la Boqueria</td>\n",
       "      <td>ToDo</td>\n",
       "      <td>6</td>\n",
       "      <td>16</td>\n",
       "      <td>NaN</td>\n",
       "      <td>1.0</td>\n",
       "    </tr>\n",
       "    <tr>\n",
       "      <th>7</th>\n",
       "      <td>41.383490</td>\n",
       "      <td>2.181780</td>\n",
       "      <td>8. Basílica de Santa Maria del Mar</td>\n",
       "      <td>ToDo</td>\n",
       "      <td>7</td>\n",
       "      <td>22</td>\n",
       "      <td>NaN</td>\n",
       "      <td>2.0</td>\n",
       "    </tr>\n",
       "    <tr>\n",
       "      <th>8</th>\n",
       "      <td>41.411420</td>\n",
       "      <td>2.174328</td>\n",
       "      <td>9. Recinte Modernista de Sant Pau</td>\n",
       "      <td>ToDo</td>\n",
       "      <td>8</td>\n",
       "      <td>0</td>\n",
       "      <td>NaN</td>\n",
       "      <td>3.0</td>\n",
       "    </tr>\n",
       "    <tr>\n",
       "      <th>9</th>\n",
       "      <td>41.368454</td>\n",
       "      <td>2.153715</td>\n",
       "      <td>10. Museu Nacional d'Art de Catalunya - MNAC</td>\n",
       "      <td>ToDo</td>\n",
       "      <td>9</td>\n",
       "      <td>12</td>\n",
       "      <td>NaN</td>\n",
       "      <td>0.0</td>\n",
       "    </tr>\n",
       "    <tr>\n",
       "      <th>10</th>\n",
       "      <td>41.384420</td>\n",
       "      <td>2.176010</td>\n",
       "      <td>11. Barcelona Cathedral</td>\n",
       "      <td>ToDo</td>\n",
       "      <td>10</td>\n",
       "      <td>20</td>\n",
       "      <td>NaN</td>\n",
       "      <td>NaN</td>\n",
       "    </tr>\n",
       "    <tr>\n",
       "      <th>11</th>\n",
       "      <td>41.371174</td>\n",
       "      <td>2.151718</td>\n",
       "      <td>12. The Magic Fountain</td>\n",
       "      <td>ToDo</td>\n",
       "      <td>11</td>\n",
       "      <td>11</td>\n",
       "      <td>NaN</td>\n",
       "      <td>NaN</td>\n",
       "    </tr>\n",
       "    <tr>\n",
       "      <th>12</th>\n",
       "      <td>41.364548</td>\n",
       "      <td>2.165427</td>\n",
       "      <td>13. Parc de Montjuic</td>\n",
       "      <td>ToDo</td>\n",
       "      <td>12</td>\n",
       "      <td>14</td>\n",
       "      <td>NaN</td>\n",
       "      <td>NaN</td>\n",
       "    </tr>\n",
       "    <tr>\n",
       "      <th>13</th>\n",
       "      <td>41.412766</td>\n",
       "      <td>2.131519</td>\n",
       "      <td>14. CosmoCaixa</td>\n",
       "      <td>ToDo</td>\n",
       "      <td>13</td>\n",
       "      <td>7</td>\n",
       "      <td>NaN</td>\n",
       "      <td>NaN</td>\n",
       "    </tr>\n",
       "    <tr>\n",
       "      <th>14</th>\n",
       "      <td>41.403410</td>\n",
       "      <td>2.150660</td>\n",
       "      <td>15. Casa Vicens</td>\n",
       "      <td>ToDo</td>\n",
       "      <td>14</td>\n",
       "      <td>5</td>\n",
       "      <td>NaN</td>\n",
       "      <td>NaN</td>\n",
       "    </tr>\n",
       "    <tr>\n",
       "      <th>15</th>\n",
       "      <td>41.394930</td>\n",
       "      <td>2.161770</td>\n",
       "      <td>16. Passeig de Gracia</td>\n",
       "      <td>ToDo</td>\n",
       "      <td>15</td>\n",
       "      <td>2</td>\n",
       "      <td>NaN</td>\n",
       "      <td>NaN</td>\n",
       "    </tr>\n",
       "    <tr>\n",
       "      <th>16</th>\n",
       "      <td>41.378883</td>\n",
       "      <td>2.174240</td>\n",
       "      <td>17. Palau Güell</td>\n",
       "      <td>ToDo</td>\n",
       "      <td>16</td>\n",
       "      <td>15</td>\n",
       "      <td>NaN</td>\n",
       "      <td>NaN</td>\n",
       "    </tr>\n",
       "    <tr>\n",
       "      <th>17</th>\n",
       "      <td>41.388542</td>\n",
       "      <td>2.187180</td>\n",
       "      <td>18. Parc de la Ciutadella</td>\n",
       "      <td>ToDo</td>\n",
       "      <td>17</td>\n",
       "      <td>23</td>\n",
       "      <td>NaN</td>\n",
       "      <td>NaN</td>\n",
       "    </tr>\n",
       "    <tr>\n",
       "      <th>18</th>\n",
       "      <td>41.382168</td>\n",
       "      <td>2.172549</td>\n",
       "      <td>19. Erotic Museum of Barcelona (Museu de l'Ero...</td>\n",
       "      <td>ToDo</td>\n",
       "      <td>18</td>\n",
       "      <td>17</td>\n",
       "      <td>NaN</td>\n",
       "      <td>NaN</td>\n",
       "    </tr>\n",
       "    <tr>\n",
       "      <th>19</th>\n",
       "      <td>41.368520</td>\n",
       "      <td>2.159726</td>\n",
       "      <td>20. Joan Miro Foundation</td>\n",
       "      <td>ToDo</td>\n",
       "      <td>19</td>\n",
       "      <td>13</td>\n",
       "      <td>NaN</td>\n",
       "      <td>NaN</td>\n",
       "    </tr>\n",
       "    <tr>\n",
       "      <th>20</th>\n",
       "      <td>41.387000</td>\n",
       "      <td>2.176110</td>\n",
       "      <td>21. El Born</td>\n",
       "      <td>ToDo</td>\n",
       "      <td>20</td>\n",
       "      <td>19</td>\n",
       "      <td>NaN</td>\n",
       "      <td>NaN</td>\n",
       "    </tr>\n",
       "    <tr>\n",
       "      <th>21</th>\n",
       "      <td>41.374940</td>\n",
       "      <td>2.148340</td>\n",
       "      <td>22. Plaça d'Espanya</td>\n",
       "      <td>ToDo</td>\n",
       "      <td>21</td>\n",
       "      <td>10</td>\n",
       "      <td>NaN</td>\n",
       "      <td>NaN</td>\n",
       "    </tr>\n",
       "    <tr>\n",
       "      <th>22</th>\n",
       "      <td>41.421500</td>\n",
       "      <td>2.119200</td>\n",
       "      <td>23. Templo del Sagrado Corazon de Jesus</td>\n",
       "      <td>ToDo</td>\n",
       "      <td>22</td>\n",
       "      <td>8</td>\n",
       "      <td>NaN</td>\n",
       "      <td>NaN</td>\n",
       "    </tr>\n",
       "    <tr>\n",
       "      <th>23</th>\n",
       "      <td>41.396210</td>\n",
       "      <td>2.161339</td>\n",
       "      <td>24. L'Eixample District</td>\n",
       "      <td>ToDo</td>\n",
       "      <td>23</td>\n",
       "      <td>4</td>\n",
       "      <td>NaN</td>\n",
       "      <td>NaN</td>\n",
       "    </tr>\n",
       "    <tr>\n",
       "      <th>24</th>\n",
       "      <td>41.414510</td>\n",
       "      <td>2.152709</td>\n",
       "      <td>25. Parc Guell</td>\n",
       "      <td>ToDo</td>\n",
       "      <td>24</td>\n",
       "      <td>6</td>\n",
       "      <td>NaN</td>\n",
       "      <td>NaN</td>\n",
       "    </tr>\n",
       "  </tbody>\n",
       "</table>\n",
       "</div>"
      ],
      "text/plain": [
       "          lat       lng                                              title  \\\n",
       "0   41.403423  2.174611                  1. Basílica de la Sagrada Familia   \n",
       "1   41.382700  2.177113                    2. Gothic Quarter (Barri Gotic)   \n",
       "2   41.391712  2.164824                                     3. Casa Batlló   \n",
       "3   41.387573  2.175302                         4. Palace of Catalan Music   \n",
       "4   41.395325  2.161925                          5. Casa Milà - La Pedrera   \n",
       "5   41.380924  2.122952                                        6. Camp Nou   \n",
       "6   41.381740  2.171584                           7. Mercat de la Boqueria   \n",
       "7   41.383490  2.181780                 8. Basílica de Santa Maria del Mar   \n",
       "8   41.411420  2.174328                  9. Recinte Modernista de Sant Pau   \n",
       "9   41.368454  2.153715       10. Museu Nacional d'Art de Catalunya - MNAC   \n",
       "10  41.384420  2.176010                            11. Barcelona Cathedral   \n",
       "11  41.371174  2.151718                             12. The Magic Fountain   \n",
       "12  41.364548  2.165427                               13. Parc de Montjuic   \n",
       "13  41.412766  2.131519                                     14. CosmoCaixa   \n",
       "14  41.403410  2.150660                                    15. Casa Vicens   \n",
       "15  41.394930  2.161770                              16. Passeig de Gracia   \n",
       "16  41.378883  2.174240                                    17. Palau Güell   \n",
       "17  41.388542  2.187180                          18. Parc de la Ciutadella   \n",
       "18  41.382168  2.172549  19. Erotic Museum of Barcelona (Museu de l'Ero...   \n",
       "19  41.368520  2.159726                           20. Joan Miro Foundation   \n",
       "20  41.387000  2.176110                                        21. El Born   \n",
       "21  41.374940  2.148340                                22. Plaça d'Espanya   \n",
       "22  41.421500  2.119200            23. Templo del Sagrado Corazon de Jesus   \n",
       "23  41.396210  2.161339                            24. L'Eixample District   \n",
       "24  41.414510  2.152709                                     25. Parc Guell   \n",
       "\n",
       "   status  Trip  All  5tops1  5tops2  \n",
       "0    ToDo     0   24     1.0     NaN  \n",
       "1    ToDo     1   21     3.0     NaN  \n",
       "2    ToDo     2    1     4.0     NaN  \n",
       "3    ToDo     3   18     2.0     NaN  \n",
       "4    ToDo     4    3     0.0     NaN  \n",
       "5    ToDo     5    9     NaN     4.0  \n",
       "6    ToDo     6   16     NaN     1.0  \n",
       "7    ToDo     7   22     NaN     2.0  \n",
       "8    ToDo     8    0     NaN     3.0  \n",
       "9    ToDo     9   12     NaN     0.0  \n",
       "10   ToDo    10   20     NaN     NaN  \n",
       "11   ToDo    11   11     NaN     NaN  \n",
       "12   ToDo    12   14     NaN     NaN  \n",
       "13   ToDo    13    7     NaN     NaN  \n",
       "14   ToDo    14    5     NaN     NaN  \n",
       "15   ToDo    15    2     NaN     NaN  \n",
       "16   ToDo    16   15     NaN     NaN  \n",
       "17   ToDo    17   23     NaN     NaN  \n",
       "18   ToDo    18   17     NaN     NaN  \n",
       "19   ToDo    19   13     NaN     NaN  \n",
       "20   ToDo    20   19     NaN     NaN  \n",
       "21   ToDo    21   10     NaN     NaN  \n",
       "22   ToDo    22    8     NaN     NaN  \n",
       "23   ToDo    23    4     NaN     NaN  \n",
       "24   ToDo    24    6     NaN     NaN  "
      ]
     },
     "execution_count": 183,
     "metadata": {},
     "output_type": "execute_result"
    }
   ],
   "source": [
    "# Sunotel+Junior\n",
    "# \n",
    "#  \n",
    "# \n",
    "Barcelona = pd.read_csv('barcelona.csv', index_col=[0])\n",
    "# Barcelona = Barcelona.append(dict(zip(df.columns,[,'Hotel', ])), ignore_index=True)\n",
    "Barcelona"
   ]
  },
  {
   "cell_type": "code",
   "execution_count": 168,
   "id": "3d8e4ca8",
   "metadata": {},
   "outputs": [
    {
     "name": "stdout",
     "output_type": "stream",
     "text": [
      "sd\n"
     ]
    }
   ],
   "source": [
    "# df_entrada =  Barcelona.sample(10).reset_index()\n",
    "# new = df_entrada[[\"title\",\"index\"]]\n",
    "\n",
    "# # new.columns = \"title\",\"column\"\n",
    "# if \"lat\" in Barcelona.columns:\n",
    "#     print(\"sd\")\n",
    "# # df_original = pd.merge(Barcelona,new,on=\"title\",how=\"left\")\n",
    "# # # # df_original.to_csv(\"barcelona.csv\", index=[0])\n",
    "# # # df_original\n",
    "# # df_original"
   ]
  },
  {
   "cell_type": "code",
   "execution_count": null,
   "id": "75858134",
   "metadata": {},
   "outputs": [],
   "source": []
  }
 ],
 "metadata": {
  "kernelspec": {
   "display_name": "Python 3.9.7 64-bit ('rents': conda)",
   "language": "python",
   "name": "python397jvsc74a57bd08c43a89bee7ad798c71a1da80cbfdd1316c76716f8d7370ae8cd54264cbf2cbb"
  },
  "language_info": {
   "codemirror_mode": {
    "name": "ipython",
    "version": 3
   },
   "file_extension": ".py",
   "mimetype": "text/x-python",
   "name": "python",
   "nbconvert_exporter": "python",
   "pygments_lexer": "ipython3",
   "version": "3.9.7"
  }
 },
 "nbformat": 4,
 "nbformat_minor": 5
}
